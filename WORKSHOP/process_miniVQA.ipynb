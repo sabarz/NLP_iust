{
  "cells": [
    {
      "cell_type": "markdown",
      "metadata": {
        "id": "TbzBKP0AnSmu"
      },
      "source": [
        "<center><b><h1>MiniVQA</h1></b></center>\n",
        "\n",
        "\n",
        "**MiniVQA** is based on the VQA dataset [1] using microsoft COCO images [2]\n",
        "\n",
        "[1] Goyal, Y., Khot, T., Summers-Stay, D., Batra, D., & Parikh, D. (2017). Making the v in vqa matter: Elevating the role of image understanding in visual question answering. In Proceedings of the IEEE Conference on Computer Vision and Pattern Recognition (pp. 6904-6913).\n",
        "\n",
        "[2] Lin, T. Y., Maire, M., Belongie, S., Hays, J., Perona, P., Ramanan, D., ... & Zitnick, C. L. (2014, September). Microsoft coco: Common objects in context. In European conference on computer vision (pp. 740-755). Springer, Cham.\n",
        "\n",
        "**Python 3.7.10**"
      ]
    },
    {
      "cell_type": "markdown",
      "metadata": {
        "id": "84Xbs7q_oEXk"
      },
      "source": [
        "# Step 1. Downloading VQA annotations (questions and answers)"
      ]
    },
    {
      "cell_type": "code",
      "execution_count": null,
      "metadata": {
        "colab": {
          "base_uri": "https://localhost:8080/"
        },
        "id": "WcQqgNzAVBQY",
        "outputId": "5d43ce16-65d3-4200-e83e-ecdcecbbd49a"
      },
      "outputs": [
        {
          "output_type": "stream",
          "name": "stdout",
          "text": [
            "--2023-05-01 06:16:58--  https://s3.amazonaws.com/cvmlp/vqa/mscoco/vqa/v2_Annotations_Train_mscoco.zip\n",
            "Resolving s3.amazonaws.com (s3.amazonaws.com)... 54.231.171.72, 52.216.208.48, 54.231.129.16, ...\n",
            "Connecting to s3.amazonaws.com (s3.amazonaws.com)|54.231.171.72|:443... connected.\n",
            "HTTP request sent, awaiting response... 200 OK\n",
            "Length: 21708861 (21M) [application/zip]\n",
            "Saving to: ‘v2_Annotations_Train_mscoco.zip’\n",
            "\n",
            "v2_Annotations_Trai 100%[===================>]  20.70M  20.8MB/s    in 1.0s    \n",
            "\n",
            "2023-05-01 06:17:00 (20.8 MB/s) - ‘v2_Annotations_Train_mscoco.zip’ saved [21708861/21708861]\n",
            "\n",
            "Archive:  v2_Annotations_Train_mscoco.zip\n",
            "  inflating: v2_mscoco_train2014_annotations.json  \n",
            "--2023-05-01 06:17:03--  https://s3.amazonaws.com/cvmlp/vqa/mscoco/vqa/v2_Questions_Train_mscoco.zip\n",
            "Resolving s3.amazonaws.com (s3.amazonaws.com)... 52.216.209.72, 52.217.0.37, 52.217.107.222, ...\n",
            "Connecting to s3.amazonaws.com (s3.amazonaws.com)|52.216.209.72|:443... connected.\n",
            "HTTP request sent, awaiting response... 200 OK\n",
            "Length: 7239401 (6.9M) [application/zip]\n",
            "Saving to: ‘v2_Questions_Train_mscoco.zip’\n",
            "\n",
            "v2_Questions_Train_ 100%[===================>]   6.90M  13.2MB/s    in 0.5s    \n",
            "\n",
            "2023-05-01 06:17:04 (13.2 MB/s) - ‘v2_Questions_Train_mscoco.zip’ saved [7239401/7239401]\n",
            "\n",
            "Archive:  v2_Questions_Train_mscoco.zip\n",
            "  inflating: v2_OpenEnded_mscoco_train2014_questions.json  \n"
          ]
        }
      ],
      "source": [
        "!wget https://s3.amazonaws.com/cvmlp/vqa/mscoco/vqa/v2_Annotations_Train_mscoco.zip && unzip v2_Annotations_Train_mscoco && \\\n",
        "wget https://s3.amazonaws.com/cvmlp/vqa/mscoco/vqa/v2_Questions_Train_mscoco.zip && unzip v2_Questions_Train_mscoco"
      ]
    },
    {
      "cell_type": "code",
      "execution_count": null,
      "metadata": {
        "id": "JepKGixXrVka"
      },
      "outputs": [],
      "source": [
        "import os\n",
        "import ssl\n",
        "ssl._create_default_https_context = ssl._create_unverified_context\n",
        "import json\n",
        "import copy\n",
        "import glob\n",
        "import torch\n",
        "import random\n",
        "import operator\n",
        "import numpy as np\n",
        "import urllib.request\n",
        "import matplotlib.pyplot as plt\n",
        "\n",
        "\n",
        "from PIL import Image\n",
        "from tqdm import tqdm\n",
        "from google.colab import files\n",
        "from numpy.random import choice\n",
        "from sklearn.manifold import TSNE\n",
        "from collections import Counter, defaultdict\n"
      ]
    },
    {
      "cell_type": "markdown",
      "metadata": {
        "id": "4t2LIzxhoLXs"
      },
      "source": [
        "# Step 2. Unpacking questions"
      ]
    },
    {
      "cell_type": "code",
      "execution_count": null,
      "metadata": {
        "id": "0Kd8EWtYVaB5"
      },
      "outputs": [],
      "source": [
        "annotations = json.load(open(\"v2_mscoco_train2014_annotations.json\"))\n",
        "questions = json.load(open(\"v2_OpenEnded_mscoco_train2014_questions.json\"))"
      ]
    },
    {
      "cell_type": "code",
      "execution_count": null,
      "metadata": {
        "id": "0kg0q57XVtyd"
      },
      "outputs": [],
      "source": [
        "annotations"
      ]
    },
    {
      "cell_type": "code",
      "execution_count": null,
      "metadata": {
        "id": "Yek4a13_V09U"
      },
      "outputs": [],
      "source": [
        "questions"
      ]
    },
    {
      "cell_type": "code",
      "execution_count": null,
      "metadata": {
        "colab": {
          "base_uri": "https://localhost:8080/"
        },
        "id": "MXDmIBqLVklD",
        "outputId": "9497f860-1533-4f6e-dda0-382e11b8f0d4"
      },
      "outputs": [
        {
          "output_type": "stream",
          "name": "stdout",
          "text": [
            "443757 questions available\n"
          ]
        }
      ],
      "source": [
        "annotations = annotations['annotations']\n",
        "questions_id = {q['question_id']: q['question'] for q in questions['questions']} # mapping question_id to questions\n",
        "\n",
        "assert len(annotations) == len(questions_id)\n",
        "print(len(questions_id), 'questions available')"
      ]
    },
    {
      "cell_type": "code",
      "execution_count": null,
      "metadata": {
        "colab": {
          "base_uri": "https://localhost:8080/"
        },
        "id": "6MRWyqxrmFth",
        "outputId": "72bdf5ff-5566-4aad-b680-86ddffc5c895"
      },
      "outputs": [
        {
          "output_type": "execute_result",
          "data": {
            "text/plain": [
              "{'question_type': 'what is this',\n",
              " 'multiple_choice_answer': 'net',\n",
              " 'answers': [{'answer': 'net', 'answer_confidence': 'maybe', 'answer_id': 1},\n",
              "  {'answer': 'net', 'answer_confidence': 'yes', 'answer_id': 2},\n",
              "  {'answer': 'net', 'answer_confidence': 'yes', 'answer_id': 3},\n",
              "  {'answer': 'netting', 'answer_confidence': 'yes', 'answer_id': 4},\n",
              "  {'answer': 'net', 'answer_confidence': 'yes', 'answer_id': 5},\n",
              "  {'answer': 'net', 'answer_confidence': 'yes', 'answer_id': 6},\n",
              "  {'answer': 'mesh', 'answer_confidence': 'maybe', 'answer_id': 7},\n",
              "  {'answer': 'net', 'answer_confidence': 'yes', 'answer_id': 8},\n",
              "  {'answer': 'net', 'answer_confidence': 'yes', 'answer_id': 9},\n",
              "  {'answer': 'net', 'answer_confidence': 'yes', 'answer_id': 10}],\n",
              " 'image_id': 458752,\n",
              " 'answer_type': 'other',\n",
              " 'question_id': 458752000}"
            ]
          },
          "metadata": {},
          "execution_count": 7
        }
      ],
      "source": [
        "annotations[0]"
      ]
    },
    {
      "cell_type": "code",
      "execution_count": null,
      "metadata": {
        "id": "20J_ZmcXmXcq"
      },
      "outputs": [],
      "source": [
        "questions_id"
      ]
    },
    {
      "cell_type": "code",
      "execution_count": null,
      "metadata": {
        "colab": {
          "base_uri": "https://localhost:8080/",
          "height": 491
        },
        "id": "MIQyQctYGl13",
        "outputId": "485da382-e083-4b48-e492-729e3fdb0cb3"
      },
      "outputs": [
        {
          "output_type": "stream",
          "name": "stdout",
          "text": [
            "[{'answer': 'no', 'answer_confidence': 'yes', 'answer_id': 1}, {'answer': 'no', 'answer_confidence': 'yes', 'answer_id': 2}, {'answer': 'no', 'answer_confidence': 'yes', 'answer_id': 3}, {'answer': 'no', 'answer_confidence': 'yes', 'answer_id': 4}, {'answer': 'no', 'answer_confidence': 'yes', 'answer_id': 5}, {'answer': 'no', 'answer_confidence': 'yes', 'answer_id': 6}, {'answer': 'no', 'answer_confidence': 'yes', 'answer_id': 7}, {'answer': 'no', 'answer_confidence': 'yes', 'answer_id': 8}, {'answer': 'no', 'answer_confidence': 'yes', 'answer_id': 9}, {'answer': 'no', 'answer_confidence': 'yes', 'answer_id': 10}]\n",
            "[{'answer': 'potato', 'answer_confidence': 'maybe', 'answer_id': 1}, {'answer': 'american', 'answer_confidence': 'maybe', 'answer_id': 2}, {'answer': 'fresh cut', 'answer_confidence': 'yes', 'answer_id': 3}, {'answer': 'large fries', 'answer_confidence': 'yes', 'answer_id': 4}, {'answer': 'regular', 'answer_confidence': 'maybe', 'answer_id': 5}, {'answer': 'steak fries', 'answer_confidence': 'maybe', 'answer_id': 6}, {'answer': 'steak fries', 'answer_confidence': 'maybe', 'answer_id': 7}, {'answer': 'straight', 'answer_confidence': 'yes', 'answer_id': 8}, {'answer': 'standard', 'answer_confidence': 'yes', 'answer_id': 9}, {'answer': 'normal ones', 'answer_confidence': 'yes', 'answer_id': 10}]\n",
            "[{'answer': 'no', 'answer_confidence': 'yes', 'answer_id': 1}, {'answer': 'no', 'answer_confidence': 'maybe', 'answer_id': 2}, {'answer': 'no', 'answer_confidence': 'yes', 'answer_id': 3}, {'answer': 'no', 'answer_confidence': 'yes', 'answer_id': 4}, {'answer': 'no', 'answer_confidence': 'maybe', 'answer_id': 5}, {'answer': 'no', 'answer_confidence': 'yes', 'answer_id': 6}, {'answer': 'yes', 'answer_confidence': 'maybe', 'answer_id': 7}, {'answer': 'yes', 'answer_confidence': 'maybe', 'answer_id': 8}, {'answer': 'yes', 'answer_confidence': 'maybe', 'answer_id': 9}, {'answer': 'no', 'answer_confidence': 'maybe', 'answer_id': 10}]\n",
            "[{'answer': '2', 'answer_confidence': 'yes', 'answer_id': 1}, {'answer': '2', 'answer_confidence': 'yes', 'answer_id': 2}, {'answer': '2', 'answer_confidence': 'yes', 'answer_id': 3}, {'answer': '2', 'answer_confidence': 'yes', 'answer_id': 4}, {'answer': '2', 'answer_confidence': 'yes', 'answer_id': 5}, {'answer': '2', 'answer_confidence': 'yes', 'answer_id': 6}, {'answer': '2', 'answer_confidence': 'yes', 'answer_id': 7}, {'answer': '2', 'answer_confidence': 'yes', 'answer_id': 8}, {'answer': '2', 'answer_confidence': 'yes', 'answer_id': 9}, {'answer': '2', 'answer_confidence': 'yes', 'answer_id': 10}]\n",
            "[{'answer': 'no', 'answer_confidence': 'yes', 'answer_id': 1}, {'answer': 'yes', 'answer_confidence': 'yes', 'answer_id': 2}, {'answer': 'no', 'answer_confidence': 'yes', 'answer_id': 3}, {'answer': 'no', 'answer_confidence': 'yes', 'answer_id': 4}, {'answer': 'no', 'answer_confidence': 'yes', 'answer_id': 5}, {'answer': 'no', 'answer_confidence': 'yes', 'answer_id': 6}, {'answer': 'no', 'answer_confidence': 'yes', 'answer_id': 7}, {'answer': 'no', 'answer_confidence': 'yes', 'answer_id': 8}, {'answer': 'no', 'answer_confidence': 'yes', 'answer_id': 9}, {'answer': 'yes', 'answer_confidence': 'yes', 'answer_id': 10}]\n"
          ]
        },
        {
          "output_type": "display_data",
          "data": {
            "text/plain": [
              "<Figure size 3000x2000 with 5 Axes>"
            ],
            "image/png": "[encoded data removed]"
          },
          "metadata": {}
        }
      ],
      "source": [
        "# Printing 5 random examples \n",
        "plt.figure(figsize=([30, 20]))\n",
        "for i in range(5):\n",
        "  plt.subplot(1, 5, i+1)\n",
        "  ann = random.choice(list(annotations)) # choosing randomly one of annotations (10 answers to 1 question)\n",
        "  filename = 'COCO_train2014_'+ str(ann['image_id']).zfill(12) + '.jpg' # finding its corresponding image\n",
        "  src = os.path.join('https://vqa_mscoco_images.s3.amazonaws.com/train2014/', filename)\n",
        "  trg = os.path.join('/tmp', filename)\n",
        "  if not os.path.exists(trg):\n",
        "    urllib.request.urlretrieve(src, trg)\n",
        "  print(ann['answers'])\n",
        "  plt.imshow(Image.open(trg).resize((128,128)))\n",
        "  plt.xlabel('image_id: '+ str(ann['image_id']))\n",
        "  plt.title(questions_id[ann['question_id']])"
      ]
    },
    {
      "cell_type": "markdown",
      "metadata": {
        "id": "RRsjbN-iokaJ"
      },
      "source": [
        "# Step 3. Group questions by answers "
      ]
    },
    {
      "cell_type": "code",
      "execution_count": null,
      "metadata": {
        "id": "NvPOKU4XVtU2",
        "colab": {
          "base_uri": "https://localhost:8080/"
        },
        "outputId": "edee1529-40a1-4f85-cdf0-56327110084d"
      },
      "outputs": [
        {
          "output_type": "stream",
          "name": "stderr",
          "text": [
            "100%|██████████| 443757/443757 [00:05<00:00, 75511.13it/s] "
          ]
        },
        {
          "output_type": "stream",
          "name": "stdout",
          "text": [
            "\n",
            " 4547 unique answers\n"
          ]
        },
        {
          "output_type": "stream",
          "name": "stderr",
          "text": [
            "\n"
          ]
        }
      ],
      "source": [
        "questions_by_answer_type = defaultdict(list)\n",
        "\n",
        "# Get most frequent answer amongst annotators \n",
        "def get_top_answer(answers):\n",
        "#   count_answers = Counter([answer['answer'] for answer in annotation['answers']])\n",
        "  count_answers = Counter([answer['answer'] for answer in answers])\n",
        "  top_answer, _ = count_answers.most_common()[0]\n",
        "  return top_answer\n",
        "\n",
        "# Iterate through annotations\n",
        "# Stack questions\n",
        "for annotation in tqdm(annotations, position=0, leave=True):\n",
        "  question_id =  annotation['question_id']\n",
        "  image_id =  annotation['image_id']\n",
        "  top_answer = get_top_answer(annotation['answers'])\n",
        "  questions_by_answer_type[top_answer].append([questions_id[question_id], int(image_id), int(question_id)])\n",
        "\n",
        "# we discard answers with less than 3 samples. We want at least one sample per slip (train,val,test)\n",
        "answers_population = Counter({a:len(q) for a, q in questions_by_answer_type.items() if len(q) > 3})\n",
        "num_unique_answers = len(answers_population)\n",
        "print('\\n', num_unique_answers, 'unique answers')"
      ]
    },
    {
      "cell_type": "code",
      "execution_count": null,
      "metadata": {
        "id": "JZQyjaoLoznH"
      },
      "outputs": [],
      "source": [
        "questions_by_answer_type"
      ]
    },
    {
      "cell_type": "code",
      "execution_count": null,
      "metadata": {
        "id": "HnN3h7wkou4Q"
      },
      "outputs": [],
      "source": [
        "answers_population"
      ]
    },
    {
      "cell_type": "markdown",
      "metadata": {
        "id": "TVchlixMoqGl"
      },
      "source": [
        "# Step 4. Decide the volume of your dataset\n",
        "\n",
        "1. select **num_answers**, the number of possible different answers (i.e. how many classes)\n",
        "2. select the **sampling_type** to choose answers (\"top\" to get the '*num_answers*' most common answers, or \"random\")  \n",
        "3. you can choose to exclude the n most popular answers with **sampling_exclude_top** (the most popular answers is \"no\" and contains 80.000 questions). You can do the same, for bottom answers, with **sampling_exclude_bottom**.\n",
        "4. if *sampling_type* is random, you can choose a minimum and maximum number of questions with **min_samples** and **max_samples**"
      ]
    },
    {
      "cell_type": "code",
      "execution_count": null,
      "metadata": {
        "id": "optref5vw8vt"
      },
      "outputs": [],
      "source": [
        "num_answers = 10\n",
        "sampling_type = \"top\" # choose between top or random\n",
        "sampling_exclude_top = 50\n",
        "sampling_exclude_bottom = 50\n",
        "min_samples = 3000\n",
        "max_samples = 4000"
      ]
    },
    {
      "cell_type": "markdown",
      "metadata": {
        "id": "kKIqa2tMw9i-"
      },
      "source": [
        "After adjusting parameters, run the following cell to display the results.\n",
        "Restart the cell to generate new results."
      ]
    },
    {
      "cell_type": "code",
      "execution_count": null,
      "metadata": {
        "colab": {
          "base_uri": "https://localhost:8080/"
        },
        "id": "Qe-2wilCsr2h",
        "outputId": "0d8eba4a-83e2-4c0c-c019-5be242f9cbd8"
      },
      "outputs": [
        {
          "output_type": "stream",
          "name": "stdout",
          "text": [
            "[('no', 84572), ('yes', 82981), ('2', 12514), ('1', 12257), ('white', 9018), ('3', 6269), ('red', 5352), ('blue', 5200), ('black', 5176), ('0', 5001), ('4', 4370), ('green', 3774), ('brown', 3595), ('yellow', 2834), ('5', 2341), ('gray', 1990), ('nothing', 1860), ('left', 1684), ('right', 1668), ('frisbee', 1642), ('6', 1623), ('baseball', 1607), ('tennis', 1496), ('wood', 1470), ('orange', 1408), ('none', 1316), ('bathroom', 1219), ('pizza', 1218), ('pink', 1128), ('kitchen', 1113), ('7', 990), ('8', 966), ('man', 951), ('cat', 937), ('grass', 904), ('skateboarding', 897), ('dog', 895), ('water', 884), ('skiing', 882), ('silver', 821), ('black and white', 817), ('10', 801), ('kite', 790), ('surfing', 747), ('horse', 704), ('skateboard', 696), ('living room', 689), ('phone', 656), ('snow', 643), ('wii', 642), ('giraffe', 638), ('surfboard', 624), ('woman', 607), ('cake', 605), ('sunny', 594), ('broccoli', 590), ('eating', 587), ('table', 584), ('hat', 576), ('apple', 576), ('stop', 562), ('food', 549), ('elephant', 543), ('laptop', 542), ('purple', 537), ('standing', 537), ('9', 521), ('beach', 519), ('12', 512), ('snowboarding', 509), ('train', 508), ('sheep', 498), ('motorcycle', 497), ('banana', 484), ('soccer', 481), ('trees', 474), ('bus', 467), ('male', 453), ('cow', 450), ('wine', 446), ('flowers', 445), ('tan', 442), ('umbrella', 440), ('winter', 435), ('bear', 430), ('camera', 428), ('walking', 423), ('sitting', 418), ('metal', 417), ('female', 416), ('tile', 409), ('20', 405), ('brick', 400), ('outside', 395), ('plane', 387), ('car', 380), ('clear', 379), ('night', 371), ('cloudy', 362), ('donut', 356), ('bed', 353), ('many', 352), ('summer', 347), ('bananas', 345), ('zebra', 345), ('bird', 344), ('bench', 343), ('sandwich', 339), ('down', 335), ('hot dog', 334), ('wall', 330), ('bedroom', 329), ('kites', 327), ('fence', 310), ('bat', 308), ('boat', 305), ('15', 304), ('tv', 301), ('afternoon', 300), ('tree', 299), ('sand', 298), ('fork', 298), ('people', 298), ('helmet', 294), ('birthday', 291), ('beer', 290), ('tennis racket', 290), ('couch', 288), ('cheese', 287), ('skis', 285), ('chair', 285), ('plate', 284), ('cows', 284), ('up', 279), ('street', 277), ('horses', 277), ('truck', 275), ('11', 274), ('red and white', 264), ('bike', 264), ('suitcase', 264), ('coffee', 260), ('dirt', 259), ('round', 256), ('ground', 256), ('zoo', 256), ('airport', 255), ('snowboard', 253), ('floor', 253), ('nike', 248), ('stripes', 247), ('ocean', 247), ('glass', 247), ('square', 245), ('fruit', 245), ('usa', 244), ('no one', 242), ('concrete', 241), ('knife', 239), ('playing wii', 233), ('blue and white', 230), ('girl', 229), ('cell phone', 227), ('plastic', 227), ('christmas', 224), ('english', 224), ('teddy bear', 224), ('boy', 224), ('glasses', 221), ('tie', 220), ('13', 217), ('carrots', 216), ('sidewalk', 216), ('ball', 216), ('blonde', 216), ('fall', 214), ('airplane', 213), ('wii remote', 213), ('30', 211), ('chicken', 210), ('flying kite', 210), ('open', 208), ('scissors', 206), ('cold', 205), ('day', 205), ('paper', 204), ('toilet', 204), ('nowhere', 203), ('building', 201), ('breakfast', 199), ('toothbrush', 198), ('oak', 198), ('50', 197), ('old', 197), ('donuts', 196), ('city', 196), ('dell', 194), ('africa', 192), ('overcast', 191), ('chinese', 191), ('clock', 190), ('14', 190), ('mirror', 190), ('lot', 189), ('chocolate', 188), ('cooking', 186), ('park', 185), ('window', 185), ('lettuce', 184), ('remote', 184), ('plaid', 184), ('100', 183), ('rectangle', 182), ('palm', 182), ('apples', 182), ('light', 177), ('daytime', 176), ('spoon', 175), ('happy', 175), ('clouds', 173), ('sun', 173), ('elephants', 173), ('vegetables', 173), ('office', 172), ('restaurant', 172), ('ski poles', 172), ('stone', 172), ('sleeping', 171), ('carpet', 170), ('computer', 170), ('mountains', 169), ('field', 168), ('unknown', 168), ('birds', 167), ('sunglasses', 167), ('16', 167), ('25', 166), ('solid', 165), ('person', 165), ('shirt', 164), ('wedding', 164), ('fire hydrant', 164), ('on table', 162), ('short', 161), ('brown and white', 160), ('small', 160), ('closed', 160), ('sky', 159), ('mountain', 159), ('wetsuit', 157), ('oranges', 156), ('tomato', 155), ('fish', 154), ('road', 154), ('desk', 153), ('shorts', 152), ('american', 151), ('picture', 151), ('counter', 151), ('sign', 150), ('playing', 150), ('evening', 148), ('dinner', 148), ('asian', 147), ('morning', 146), ('leaves', 145), ('england', 144), ('beige', 143), ('home', 143), ('milk', 141), ('salad', 140), ('backpack', 140), ('bicycle', 140), ('microwave', 140), ('house', 138), ('inside', 137), ('carrot', 137), ('sink', 137), ('london', 137), ('safety', 137), ('pepperoni', 137), ('pine', 136), ('jeans', 136), ('glove', 135), ('bowl', 135), ('luggage', 135), ('police', 134), ('vase', 132), ('graffiti', 132), ('color', 132), ('wii controller', 132), ('refrigerator', 131), ('zebras', 129), ('books', 129), ('catcher', 128), ('giraffes', 128), ('gold', 128), ('brushing teeth', 127), ('towel', 127), ('playing tennis', 127), ('bread', 127), ('noon', 126), ('hair', 126), ('spinach', 125), ('bag', 125), ('very', 125), ('talking on phone', 125), ('rain', 125), ('child', 125), ('floral', 124), ('middle', 124), ('background', 123), ('circle', 123), ('soup', 123), ('watch', 122), ('passenger', 122), ('hay', 121), ('baby', 119), ('neither', 117), ('china', 117), ('drinking', 116), ('flower', 114), ('motorcycles', 113), ('rocks', 113), ('blanket', 112), ('rainbow', 112), ('smiling', 112), ('18', 111), ('lights', 111), ('church', 111), ('new york', 111), ('real', 110), ('both', 110), ('spring', 110), ('flying', 109), ('sneakers', 108), ('adidas', 108), ('windows', 107), ('jacket', 107), ('striped', 106), ('book', 105), ('hand', 104), ('ketchup', 104), ('kite flying', 104), ('keyboard', 103), ('wilson', 102), ('grazing', 102), ('roses', 102), ('electric', 102), ('on', 102), ('pole', 101), ('clothes', 101), ('racket', 101), ('shoes', 100), ('rainy', 100), ('mouse', 100), ('box', 100), ('collar', 99), ('cars', 99), ('gas', 99), ('umbrellas', 99), ('leather', 99), ('batter', 98), ('shadow', 97), ('lab', 97), ('sandals', 97), ('checkered', 96), ('lunch', 95), ('bridge', 95), ('posing', 95), ('lamp', 95), ('front', 95), ('sunset', 95), ('texting', 94), ('forward', 94), ('triangle', 94), ('young', 94), ('40', 94), ('hot dogs', 93), ('seagull', 93), ('coca cola', 93), ('resting', 92), ('pitcher', 91), ('peppers', 91), ('in air', 90), ('on wall', 90), ('umpire', 90), ('rope', 90), ('soda', 89), ('talking', 89), ('17', 89), ('stove', 89), ('purse', 88), ('reading', 88), ('rock', 88), ('tabby', 88), ('goggles', 88), ('train station', 87), ('surfboards', 87), ('oven', 87), ('heart', 86), ('dessert', 86), ('24', 85), ('off', 85), ('jumping', 85), ('controller', 85), ('wire', 85), ('large', 84), ('tracks', 84), ('on ground', 84), ('double decker', 83), ('tomatoes', 83), ('lake', 83), ('river', 82), ('parking', 82), ('bears', 82), ('branch', 82), ('shade', 82), ('taking off', 82), ('photographer', 82), ('clean', 81), ('taking picture', 80), ('white and blue', 80), ('tennis court', 80), ('warm', 80), ('on plate', 80), ('long', 80), ('straight', 80), ('playing frisbee', 80), ('rug', 79), ('good', 79), ('electricity', 79), ('laying down', 79), ('basket', 78), ('boots', 78), ('gloves', 78), ('door', 78), ('calm', 78), ('shelf', 78), ('toilet paper', 78), ('plant', 78), ('pictures', 77), ('downhill', 77), ('paint', 77), ('running', 76), ('canada', 76), ('adult', 76), ('ceramic', 76), ('meat', 75), ('top', 75), ('cup', 75), ('head', 75), ('landing', 75), ('ford', 74), ('delta', 74), ('olives', 74), ('hotel', 74), ('lemon', 74), ('rice', 73), ('parking meter', 73), ('wind', 73), ('jet', 73), ('indoors', 73), ('riding', 72), ('oval', 72), ('batting', 72), ('skate park', 72), ('white and black', 72), ('dining room', 72), ('new', 72), ('parking lot', 71), ('red and blue', 71), ('cutting board', 70), ('store', 70), ('in water', 70), ('van', 70), ('water skiing', 70), ('steam', 70), ('hot', 70), ('red and yellow', 69), ('rose', 69), ('green and white', 69), ('beef', 68), ('fishing', 68), ('daisy', 68), ('flag', 68), ('smoke', 67), ('decoration', 67), ('scarf', 67), ('boats', 67), ('modern', 66), ('ponytail', 66), ('blinds', 66), ('swimming', 66), ('air', 66), ('tennis ball', 66), ('mustard', 65), ('playing baseball', 65), ('wild', 65), ('planes', 65), ('strawberries', 65), ('clay', 65), ('stop sign', 65), ('outdoors', 65), ('away', 65), ('pillow', 65), ('headband', 65), ('vanilla', 64), ('blue and yellow', 64), ('fries', 64), ('back', 64), ('ham', 64), ('trash can', 64), ('orange juice', 64), ('tower', 64), ('21', 64), ('united', 64), ('bikes', 64), ('blender', 63), ('bottom', 62), ('bottle', 62), ('work', 62), ('22', 62), ('guitar', 62), ('protection', 62), ('terrier', 62), ('pepsi', 61), ('tea', 61), ('school', 61), ('23', 61), ('red and black', 61), ('watching', 61), ('men', 61), ('poles', 60), ('asphalt', 60), ('35', 60), ('human', 60), ('go', 60), ('dogs', 60), ('ice cream', 60), ('necklace', 59), ('star', 59), ('dusk', 59), ('flying kites', 59), ('on desk', 59), ('19', 59), ('north', 58), ('one way', 58), ('ceiling', 58), ('strawberry', 58), ('suit', 58), ('clock tower', 58), ('ramp', 58), ('onions', 57), ('dirty', 57), ('skateboarder', 57), ('fan', 57), ('samsung', 57), ('wine glass', 57), ('above', 57), ('military', 57), ('granite', 57), ('sausage', 56), ('yellow and blue', 56), ('bracelet', 56), ('polo', 56), ('ski', 56), ('india', 56), ('trash', 56), ('marble', 56), ('carriage', 56), ('cargo', 55), ('urban', 55), ('cotton', 55), ('sugar', 55), ('helmets', 55), ('fire', 55), ('hit ball', 55), ('toy', 55), ('market', 55), ('big', 54), ('fridge', 54), ('slow', 54), ('bacon', 54), ('party', 53), ('cutting', 53), ('plain', 53), ('turkey', 53), ('octagon', 53), ('america', 53), ('hats', 53), ('white and red', 53), ('dress', 52), ('wooden', 52), ('smile', 52), ('mercedes', 52), ('duck', 52), ('cabinet', 52), ('orange and white', 51), ('skateboards', 51), ('catching', 51), ('dunkin donuts', 51), ('east', 51), ('28', 51), ('no parking', 50), ('sweater', 50), ('p', 50), ('gray and white', 50), ('grapes', 50), ('station', 50), ('waves', 50), ('flip flops', 50), ('tulips', 50), ('cloth', 49), ('surfer', 49), ('full', 49), ('game', 49), ('farm', 49), ('ducks', 49), ('diamond', 49), ('sparrow', 49), ('harley', 49), ('parasailing', 48), ('beard', 48), ('raining', 48), ('parked', 48), ('candles', 48), ('handle', 48), ('pasta', 48), ('apartment', 48), ('balance', 48), ('hands', 48), ('shower', 47), ('fork and knife', 47), ('african', 47), ('soap', 47), ('napkin', 47), ('public', 47), ('united states', 47), ('chairs', 47), ('2 feet', 47), ('3 feet', 47), ('headphones', 47), ('cutting cake', 47), ('pen', 47), ('sauce', 47), ('collie', 47), ('cross', 46), ('parrot', 46), ('honda', 46), ('maple', 46), ('south', 46), ('pan', 46), ('low', 46), ('polar', 46), ('moving', 46), ('painting', 46), ('a', 45), ('twin', 45), ('stainless steel', 45), ('ski lift', 45), ('dry', 45), ('stuffed animal', 45), ('stairs', 44), ('w', 44), ('bow', 44), ('france', 44), ('pants', 44), ('parade', 44), ('sad', 44), ('polar bear', 44), ('sandwiches', 44), ('dodgers', 44), ('cowboy', 44), ('fedora', 44), ('cart', 44), (\"don't know\", 43), ('football', 43), ('business', 43), ('bmw', 43), ('forest', 43), ('coke', 43), ('soccer ball', 43), ('boston', 43), ('at camera', 43), ('seagulls', 43), ('27', 43), ('parsley', 43), ('high', 43), ('fedex', 43), ('cleaning', 43), ('dock', 42), ('eggs', 42), ('red and green', 42), ('typing', 42), ('cement', 42), ('big ben', 42), ('sunlight', 42), ('basketball', 42), ('german', 42), ('bakery', 42), ('face', 42), ('straw', 42), ('california', 42), ('pot', 42), ('plants', 42), ('desert', 42), ('on bed', 42), ('bowling', 42), ('waiting', 42), ('butter', 41), ('ring', 41), ('one on right', 41), ('laying', 41), ('chain link', 41), ('pug', 41), ('jump', 41), ('b', 41), ('mushrooms', 41), ('tray', 41), ('fire truck', 41), ('on right', 41), ('downtown', 41), ('cats', 41), ('hydrant', 41), ('yellow and red', 41), ('curtain', 41), ('bricks', 41), ('crosswalk', 40), ('green and yellow', 40), ('reflection', 40), ('commercial', 40), ('steel', 40), ('not possible', 40), ('magnets', 40), ('asia', 40), (\"can't tell\", 40), ('38', 40), ('owl', 40), ('traffic', 40), ('chef', 39), ('tag', 39), ('on building', 39), ('pepper', 39), ('chopsticks', 39), ('air canada', 39), ('german shepherd', 39), ('suv', 39), ('scooter', 39), ('italian', 39), ('egg', 39), ('55', 38), ('potatoes', 38), ('sprinkles', 38), ('women', 38), ('swan', 38), ('bandana', 38), ('towels', 38), ('walk', 38), ('kia', 38), ('pigeon', 38), ('fun', 38), ('frosting', 38), ('behind', 38), ('transportation', 37), ('toyota', 37), ('italy', 37), ('steak', 37), ('japan', 37), ('dark', 37), ('roof', 37), ('tall', 37), ('runway', 37), ('goat', 37), ('wool', 37), ('pickle', 37), ('bicycles', 37), ('fireplace', 37), ('sony', 37), ('calico', 37), ('fake', 37), ('all', 37), ('hungry', 37), ('buildings', 37), ('skirt', 36), ('juice', 36), ('bus stop', 36), ('mozzarella', 36), ('nighttime', 36), ('10 feet', 36), ('cigarette', 36), ('lighthouse', 36), ('fast', 36), ('out', 36), ('serve', 36), ('golden retriever', 36), (\"mcdonald's\", 36), ('catching frisbee', 36), ('paddle', 36), ('visor', 36), ('west', 36), ('crane', 36), ('cumulus', 35), ('on counter', 35), ('red sox', 35), ('yellow and black', 35), ('phones', 35), ('indian', 35), ('baseball field', 35), ('skier', 35), ('germany', 35), ('bar', 35), ('playing game', 35), ('french fries', 35), ('basil', 35), ('starbucks', 35), ('surf', 35), ('net', 34), ('bun', 34), ('signs', 34), ('stick', 34), ('cucumber', 34), ('200', 34), ('serving', 34), ('34', 34), ('mutt', 34), ('desktop', 34), ('drywall', 34), ('finch', 34), ('2010', 34), ('natural', 34), ('queen', 34), ('c', 34), ('art', 34), ('chicago', 34), ('roman', 34), ('north america', 34), ('shoe', 34), ('krispy kreme', 34), ('spanish', 33), ('words', 33), ('watermelon', 33), ('curtains', 33), ('logo', 33), ('driving', 33), ('candle', 33), ('not sure', 33), ('rural', 33), ('29', 33), ('san francisco', 33), ('softball', 33), ('gravel', 33), ('wet', 33), ('regular', 33), ('cleats', 33), ('blue and red', 33), ('sailboat', 33), ('children', 32), ('tennis rackets', 32), ('poodle', 32), ('microphone', 32), ('squares', 32), ('halloween', 32), ('porcelain', 32), ('little', 32), ('empty', 32), ('working', 32), ('animals', 32), ('giants', 32), ('emirates', 32), ('butterfly', 32), (\"it's not\", 32), ('statue', 32), ('flags', 32), ('on left', 32), ('smoothie', 32), ('suitcases', 32), ('navy', 32), ('tennis player', 32), ('brush', 32), ('orioles', 32), ('railing', 31), ('propeller', 31), ('on tracks', 31), ('candy', 31), ('white and brown', 31), ('monkey', 31), ('beans', 31), ('45', 31), ('medium', 31), ('main', 31), ('60', 31), ('pineapple', 31), ('vest', 31), ('32', 31), ('corner', 31), ('newspaper', 31), ('french', 31), ('t', 31), ('chips', 31), ('looking', 31), ('green beans', 31), ('10:20', 31), ('bucket', 31), ('lufthansa', 31), ('yankees', 30), ('vertical', 30), ('racing', 30), ('kiwi', 30), ('shrimp', 30), ('black and red', 30), ('boxes', 30), ('museum', 30), ('private', 30), ('corn', 30), ('pizza cutter', 30), ('washington', 30), ('pitbull', 30), ('pie', 30), ('bell', 30), ('red white and blue', 30), ('first', 30), ('harness', 30), ('baseball bat', 30), ('subway', 30), ('saddle', 30), ('jeep', 30), ('bulldog', 30), ('tiger', 29), ('boating', 29), ('plates', 29), ('hello kitty', 29), ('watching tv', 29), ('daisies', 29), ('2012', 29), ('casual', 29), ('wagon', 29), ('fur', 29), ('eagle', 29), ('swinging', 29), ('half', 29), ('harley davidson', 29), ('monitor', 29), ('not very', 29), ('husky', 29), ('foggy', 29), ('in bowl', 29), ('wave', 29), ('drink', 29), ('cone', 29), ('army', 29), ('tank top', 29), ('pork', 29), ('library', 29), ('log', 28), ('outdoor', 28), ('baseball cap', 28), ('friend', 28), ('gothic', 28), ('window sill', 28), ('fabric', 28), ('cherry', 28), ('mask', 28), ('garbage', 28), ('country', 28), ('nobody', 28), ('20 feet', 28), ('s', 28), ('dresser', 28), ('horns', 28), ('broken', 28), ('bottles', 28), ('friends', 28), ('beanie', 28), ('snowy', 28), ('family', 28), ('bull', 28), ('obama', 28), ('camouflage', 28), ('nokia', 28), ('lily', 28), ('on pole', 28), ('yellow and white', 27), ('teddy bears', 27), ('hair dryer', 27), ('apron', 27), ('bathtub', 27), ('grill', 27), ('white and green', 27), ('tennis shoes', 27), ('stuffed animals', 27), ('cream', 27), ('on street', 27), ('lap', 27), ('ladder', 27), ('cones', 27), ('tired', 27), ('traveling', 27), ('cross country', 27), ('tattoo', 27), ('pier', 27), ('washington dc', 27), ('roman numerals', 27), ('dishes', 27), ('toys', 27), ('garage', 27), ('peace', 27), ('peas', 27), ('cook', 27), ('bush', 27), ('belt', 27), ('laptops', 27), ('e', 26), ('black and yellow', 26), ('barn', 26), ('toothbrushes', 26), ('hp', 26), ('air force', 26), ('houses', 26), ('shallow', 26), ('construction', 26), ('cardboard', 26), ('dugout', 26), ('arm', 26), ('siamese', 26), ('freight', 26), ('chihuahua', 26), ('pots', 26), ('thin', 26), ('blue and green', 26), ('glazed', 26), ('messy', 26), ('stool', 26), ('pillows', 26), ('leash', 26), ('uphill', 26), ('3:00', 26), ('bags', 26), ('pink and white', 26), ('multi', 26), ('cookies', 26), ('26', 26), ('bank of america', 26), ('can', 25), ('caution', 25), ('mushroom', 25), ('fell', 25), ('volleyball', 25), ('santa', 25), ('oil', 25), ('rack', 25), ('wicker', 25), ('12:00', 25), ('white and gray', 25), ('33', 25), ('yamaha', 25), ('television', 25), ('storage', 25), ('in front', 25), ('5 feet', 25), ('setting', 25), ('woods', 25), ('several', 25), ('reins', 25), ('on shelf', 25), ('wheat', 25), ('pelican', 25), ('string', 25), ('wii controllers', 25), ('vegetable', 25), ('t-shirt', 25), ('rail', 25), ('deer', 25), ('kayaking', 25), ('sweet', 24), ('ski pole', 24), ('eyes', 24), ('1 foot', 24), ('windsurfing', 24), ('eat', 24), ('horizontal', 24), ('spatula', 24), ('pickles', 24), ('cabbage', 24), ('travel', 24), ('water bottle', 24), ('pitching', 24), ('towards', 24), ('chandelier', 24), ('pigeons', 24), ('beagle', 24), ('2016', 24), ('stand', 24), ('foil', 24), ('on grass', 24), ('vases', 24), ('bikini', 24), ('backhand', 24), ('taxi', 24), ('no dog', 24), ('boxing', 24), ('electronics', 24), ('lion', 24), ('tail', 24), ('on floor', 24), ('tow truck', 24), ('bushes', 24), ('hill', 24), ('nintendo', 24), ('weeds', 24), ('pig', 23), ('panda', 23), ('toaster oven', 23), ('warning', 23), ('toaster', 23), ('barbed wire', 23), ('44', 23), ('british airways', 23), ('cups', 23), ('noodles', 23), ('street sign', 23), ('girls', 23), ('on tower', 23), ('motorola', 23), ('ferry', 23), ('brown and black', 23), ('screen', 23), ('coal', 23), ('x', 23), ('m', 23), ('cereal', 23), ('tractor', 23), ('blurry', 23), ('mug', 23), ('traffic light', 23), ('falling', 23), ('owner', 23), ('biking', 23), ('grizzly', 23), ('gas station', 23), ('wristband', 23), ('selfie', 23), ('squash', 23), ('circles', 23), ('stripe', 23), ('man on left', 23), ('icing', 23), ('pavement', 23), ('socks', 22), ('riding bike', 22), ('passengers', 22), ('playing soccer', 22), ('trailer', 22), ('celery', 22), ('multicolored', 22), ('australia', 22), ('chain', 22), ('side', 22), ('video game', 22), ('wires', 22), ('stickers', 22), ('500', 22), ('power lines', 22), ('trunk', 22), ('onion', 22), ('mouth', 22), ('stars', 22), ('man on right', 22), ('design', 22), ('bob', 22), ('size', 22), ('yield', 22), ('kitten', 22), ('letters', 22), ('boogie board', 22), ('mexican', 22), ('us', 22), ('cardinals', 22), ('2011', 22), ('tusks', 22), ('lots', 22), ('vent', 21), ('teddy', 21), ('ice', 21), ('polka dot', 21), ('31', 21), ('los angeles', 21), ('air france', 21), ('boys', 21), ('1000', 21), ('free', 21), ('plaster', 21), ('cell phones', 21), ('stroller', 21), ('on road', 21), ('japanese', 21), ('tags', 21), ('wii remotes', 21), ('hospital', 21), ('toast', 21), ('easter', 21), ('uniform', 21), ('time', 21), ('ship', 21), ('green and red', 21), ('lines', 21), ('pastries', 21), ('legs', 21), ('goats', 21), ('mustache', 21), ('sleep', 21), (\"i don't know\", 21), ('to left', 21), ('above sink', 21), ('coat', 21), ('motocross', 21), ('one on left', 21), ('windy', 21), ('land', 21), ('dishwasher', 21), ('2013', 21), ('hawk', 21), ('lilies', 21), ('white and orange', 21), ('speaker', 21), ('mac', 21), ('bib', 21), ('cupcakes', 21), ('cheesecake', 21), ('europe', 21), ('below', 21), ('ribbon', 21), ('blue and black', 21), ('geese', 21), ('cubs', 21), ('ostrich', 21), ('sushi', 21), ('do not enter', 21), ('1:05', 21), ('highway', 20), ('kids', 20), ('happy birthday', 20), ('throwing', 20), ('vans', 20), ('british', 20), ('snowboarder', 20), ('moss', 20), ('in car', 20), ('12:30', 20), ('relaxing', 20), ('center', 20), ('t shirt', 20), ('piano', 20), ('tire', 20), ('snowboards', 20), ('staring', 20), ('grilled', 20), ('aluminum', 20), ('school bus', 20), ('pool', 20), ('mom', 20), ('soft', 20), ('curly', 20), ('rodeo', 20), ('bud light', 20), ('yellow and green', 20), ('motor', 20), ('arabic', 20), ('salmon', 20), ('behind fence', 20), ('directions', 20), ('skull', 20), ('sunflower', 20), ('arrow', 20), ('casserole', 20), ('very tall', 20), ('kayak', 20), ('polka dots', 20), ('love', 20), ('hoodie', 20), ('feet', 20), ('adults', 20), ('buses', 20), ('iron', 20), ('radiator', 20), ('chase', 20), ('elm', 19), ('abstract', 19), ('cupcake', 19), ('identification', 19), ('3:55', 19), ('2000', 19), ('bad', 19), ('on sidewalk', 19), ('on couch', 19), ('12:15', 19), ('rabbit', 19), ('avocado', 19), ('goalie', 19), ('toward', 19), ('chiquita', 19), ('37', 19), ('clothing', 19), ('papers', 19), ('theater', 19), ('volkswagen', 19), ('shelves', 19), ('shearing', 19), ('tongue', 19), ('berries', 19), ('roast beef', 19), ('khaki', 19), ('42', 19), ('fly kite', 19), ('seat', 19), ('neck', 19), ('foot', 19), ('bow tie', 19), ('43', 19), ('lg', 19), ('music', 19), ('drinks', 19), ('ibm', 19), ('potato', 19), ('steps', 19), ('cap', 19), ('pancakes', 19), ('horse racing', 19), ('pm', 19), ('12:55', 18), ('dots', 18), ('magazines', 18), ('deep', 18), ('fluorescent', 18), ('bats', 18), ('veggie', 18), ('engine', 18), ('bright', 18), ('blueberries', 18), ('greyhound', 18), ('36', 18), ('petting', 18), ('bleachers', 18), ('christmas tree', 18), ('on top', 18), ('happiness', 18), ('computers', 18), ('club', 18), ('going', 18), ('paddle boarding', 18), ('orange and black', 18), ('hood', 18), ('peach', 18), ('gatorade', 18), ('grapefruit', 18), ('6 inches', 18), ('pilot', 18), ('tablecloth', 18), ('bamboo', 18), ('cut', 18), ('above stove', 18), ('dalmatian', 18), ('bathing', 18), ('throwing frisbee', 18), ('taking pictures', 18), ('lexus', 18), ('ivy', 18), ('pointing', 18), ('nuts', 18), ('maroon', 18), ('north face', 18), ('lamb', 18), ('toothpaste', 18), ('tissues', 18), ('seattle', 18), ('nose', 18), ('sedan', 18), ('ties', 18), ('privacy', 18), ('menu', 18), ('game controller', 18), ('l', 18), ('knee pads', 18), ('tokyo', 18), ('overalls', 18), ('utensils', 18), ('camo', 18), ('trucks', 18), ('5:40', 18), ('southwest', 17), ('strap', 17), ('sliced', 17), ('klm', 17), ('70', 17), ('board', 17), ('movie', 17), ('china airlines', 17), ('top left', 17), ('bridle', 17), ('writing', 17), ('race', 17), ('asparagus', 17), ('relish', 17), ('doughnut', 17), ('diamonds', 17), ('top right', 17), ('map', 17), ('53', 17), ('fruits', 17), ('heels', 17), ('tent', 17), ('swing', 17), ('robin', 17), ('pc', 17), ('accident', 17), ('listening', 17), ('mexico', 17), ('10:00', 17), ('tablet', 17), ('formal', 17), (\"man's\", 17), ('handicap', 17), ('riding horse', 17), ('xbox', 17), ('goose', 17), ('8 feet', 17), ('fog', 17), ('hanging', 17), ('arch', 17), ('teeth', 17), ('lanyard', 17), ('jetblue', 17), ('blue and gray', 17), ('garden', 17), ('80', 17), ('41', 17), ('6:00', 17), ('lime', 17), ('stopped', 17), ('lid', 17), ('tools', 17), ('advertisement', 17), ('dirt bike', 17), ('leaving', 17), ('driveway', 17), ('fried', 17), ('tulip', 17), ('suzuki', 17), ('crow', 16), ('48', 16), ('iphone', 16), ('costume', 16), ('kettle', 16), ('raw', 16), ('flat', 16), ('cookie', 16), ('thanksgiving', 16), ('in sky', 16), ('no number', 16), ('denim', 16), ('f', 16), ('waving', 16), ('ride', 16), ('1:30', 16), ('supreme', 16), ('fresh', 16), ('red bull', 16), ('coffee maker', 16), ('2:35', 16), ('ears', 16), ('to right', 16), ('in vase', 16), ('ipod', 16), ('toothpick', 16), ('blinders', 16), ('chevrolet', 16), ('jockey', 16), ('texas', 16), ('no idea', 16), ('across street', 16), ('colgate', 16), ('tuna', 16), ('sunflowers', 16), ('for sale', 16), ('fern', 16), ('phillies', 16), ('farmer', 16), ('doubles', 16), ('wiimote', 16), ('labrador', 16), ('fighting', 16), ('shower curtain', 16), ('not', 16), ('on train', 16), ('peacock', 16), ('dragon', 16), ('helicopter', 16), ('mud', 16), ('wallpaper', 16), ('news', 16), ('pajamas', 16), ('350', 16), ('towing', 16), ('furniture', 16), ('hazy', 16), ('1:55', 16), ('ram', 16), ('octopus', 16), ('broadway', 16), ('maple leaf', 16), ('google', 16), ('10:10', 16), ('holding', 16), ('4 feet', 16), ('apartments', 16), ('sweatshirt', 16), ('thick', 15), ('herding', 15), ('rackets', 15), ('court', 15), ('66', 15), ('cirrus', 15), ('rugby', 15), ('semi', 15), ('track', 15), ('very high', 15), ('lady', 15), ('in', 15), ('on bench', 15), ('9:30', 15), ('croissant', 15), ('radio', 15), ('far', 15), ('faucet', 15), ('angels', 15), ('leaf', 15), ('fisheye', 15), ('skating', 15), ('hummingbird', 15), ('cabinets', 15), ('foreground', 15), ('safari', 15), ('moon', 15), ('bowtie', 15), ('cobblestone', 15), ('canopy', 15), ('in box', 15), ('blackberry', 15), ('coming', 15), ('magazine', 15), ('cord', 15), ('wine glasses', 15), ('pumpkin', 15), ('rocky', 15), ('logs', 15), ('doll', 15), ('ear', 15), ('indoor', 15), ('flour', 15), ('1 hour', 15), ('nissan', 15), ('climbing', 15), ('r', 15), ('hills', 15), ('gravy', 15), ('bookshelf', 15), ('urinal', 15), ('exit', 15), ('britain', 15), ('american flag', 15), ('calendar', 15), ('hamburger', 15), ('dole', 15), ('mohawk', 15), ('hard', 15), ('photography', 15), ('salt', 15), ('money', 15), ('lemons', 15), ('singles', 15), ('playing video game', 15), ('foam', 15), ('older', 15), ('wetsuits', 15), ('black and gray', 15), ('10 years', 14), ('pink and yellow', 14), ('in field', 14), ('ski resort', 14), ('motel', 14), ('tape', 14), ('weather vane', 14), ('dinosaur', 14), ('cane', 14), ('play', 14), ('pond', 14), ('6 feet', 14), ('forks', 14), ('festival', 14), ('rust', 14), ('right side', 14), ('nature', 14), ('power', 14), ('green and orange', 14), ('olympics', 14), ('driver', 14), ('bottom right', 14), ('on chair', 14), ('buoy', 14), ('no hat', 14), ('mercedes-benz', 14), ('platform', 14), ('10:05', 14), ('knives', 14), ('yogurt', 14), ('sweat', 14), ('hearts', 14), ('transport', 14), ('over', 14), ('sweatband', 14), ('kickstand', 14), ('tongs', 14), ('1950', 14), ('curb', 14), ('caucasian', 14), ('alaska', 14), ('smartphone', 14), (\"men's\", 14), ('on sink', 14), ('pastry', 14), ('against wall', 14), ('play tennis', 14), ('trains', 14), ('riding motorcycle', 14), (\"valentine's day\", 14), ('baseball glove', 14), ('balls', 14), ('rooster', 14), ('kitesurfing', 14), ('prom', 14), ('2:25', 14), ('awake', 14), ('continental', 14), ('detroit', 14), ('to eat', 14), ('mouse pad', 14), ('canoe', 14), ('dead end', 14), ('coach', 14), ('cooked', 14), ('dead', 14), ('in background', 14), ('smooth', 14), ('5:00', 14), ('tub', 14), ('out of focus', 14), ('photo', 14), ('crown', 14), ('mound', 14), ('2:15', 14), ('florida', 14), ('looking out window', 14), ('hiking', 14), ('pizza hut', 14), ('bone', 14), ('above toilet', 14), ('spoons', 14), ('hitting ball', 14), ('backwards', 14), ('curious', 14), ('to see', 14), ('pocket', 14), ('leopard', 14), ('peeing', 14), ('dad', 14), ('harbor', 14), ('hammer time', 14), ('crib', 14), ('budweiser', 14), ('chili', 14), ('red, white and blue', 14), ('captivity', 14), ('gone', 14), ('n', 14), ('toilets', 14), ('globe', 14), ('5:05', 14), ('shore', 14), ('100 feet', 14), ('traffic lights', 14), ('1:15', 14), ('comcast', 14), ('1:50', 13), ('knife and fork', 13), ('spectators', 13), ('jackets', 13), ('street light', 13), ('microsoft', 13), ('pasture', 13), ('protest', 13), ('visibility', 13), ('flickr', 13), ('homemade', 13), ('4:30', 13), ('on his head', 13), ('ping pong', 13), ('laughing', 13), ('shut', 13), ('on sign', 13), ('burton', 13), ('handlebars', 13), ('war', 13), ('curved', 13), ('brace', 13), ('11:30', 13), ('in grass', 13), ('analog', 13), ('pony', 13), ('9:20', 13), ('leg', 13), ('burger', 13), ('h', 13), ('landscape', 13), ('green and blue', 13), ('sailboats', 13), ('black and blue', 13), ('paris', 13), ('unsure', 13), ('smoking', 13), ('earrings', 13), ('arriving', 13), ('balloon', 13), ('catch frisbee', 13), ('grocery', 13), ('12:05', 13), ('rough', 13), ('king', 13), ('index', 13), ('strike', 13), ('frog', 13), ('clocks', 13), ('75', 13), ('52', 13), ('styrofoam', 13), ('sail', 13), ('shirts', 13), ('powdered sugar', 13), ('39', 13), ('crossing', 13), ('red and gray', 13), ('in back', 13), ('2009', 13), ('g', 13), ('no smoking', 13), ('shadows', 13), ('home plate', 13), ('police officer', 13), ('catch ball', 13), ('wheelchair', 13), ('paisley', 13), ('logitech', 13), ('106', 13), ('10:55', 13), ('delivery', 13), ('ski slope', 13), ('crocs', 13), ('no 1', 13), ('penguin', 13), ('post', 13), ('jets', 13), ('sailing', 13), ('ge', 13), ('residential', 13), ('uk', 13), ('black and brown', 13), ('amtrak', 13), ('2:50', 13), ('shopping', 13), ('legos', 13), ('meter', 13), ('skiers', 13), ('pitch', 13), ('monster', 13), ('smiley face', 13), ('end', 13), ('ketchup and mustard', 13), ('macaroni', 13), ('donkey', 13), ('4:50', 13), ('license plate', 13), ('us airways', 13), ('joshua', 13), ('nightstand', 12), ('brushing', 12), ('town', 12), ('never', 12), ('2:20', 12), ('motion', 12), ('12 feet', 12), ('tissue', 12), ('corona', 12), ('poster', 12), ('toshiba', 12), ('lighting', 12), ('circus', 12), ('300', 12), ('cactus', 12), ('vegetarian', 12), ('tarp', 12), ('tiles', 12), ('for fun', 12), ('raspberry', 12), ('squatting', 12), ('pirates', 12), ('stopping', 12), ('pedestal', 12), ('poor', 12), ('cat and dog', 12), ('frisbees', 12), ('white and pink', 12), ('train tracks', 12), ('numbers', 12), ('benches', 12), ('toilet brush', 12), ('remotes', 12), ('desserts', 12), ('footprints', 12), ('blood', 12), ('still', 12), ('sepia', 12), ('hawaiian', 12), ('on car', 12), ('pedestrians', 12), ('taking selfie', 12), (\"he isn't\", 12), ('k', 12), ('hundreds', 12), ('spray paint', 12), ('surprise', 12), ('blankets', 12), ('colorado', 12), ('grind', 12), ('shell', 12), ('robe', 12), ('on skateboard', 12), ('palm tree', 12), ('branches', 12), ('cloud', 12), ('rowing', 12), ('seeds', 12), ('frame', 12), ('persian', 12), ('swim trunks', 12), ('hugging', 12), ('picnic', 12), ('5 years', 12), ('sticker', 12), ('himself', 12), ('san diego', 12), ('5:15', 12), ('brand', 12), ('bunk', 12), ('coleslaw', 12), ('closet', 12), ('cafe', 12), ('teal', 12), ('bike rack', 12), ('ladybug', 12), ('couple', 12), ('46', 12), ('tropical', 12), ('3:10', 12), ('windsor', 12), ('base', 12), ('white and yellow', 12), ('main street', 12), ('pink and blue', 12), ('brushing hair', 12), ('evergreen', 12), ('coats', 12), ('2 hours', 12), ('coins', 12), ('sled', 12), ('heat', 12), ('in hand', 12), ('d', 12), ('hawaii', 12), ('throw frisbee', 12), ('guitar hero', 12), ('choppy', 12), ('47', 12), (\"he's not\", 12), ('siblings', 12), ('wireless', 12), ('behind man', 12), ('uniforms', 12), ('haircut', 12), ('smaller', 12), ('controllers', 12), ('101', 12), ('flip', 12), ('orchid', 12), ('tie dye', 12), ('life jacket', 12), ('keys', 12), ('city bus', 12), ('singing', 12), ('on bus', 12), ('hsbc', 12), ('db', 12), ('stadium', 12), ('drain', 12), ('westjet', 12), ('futon', 12), ('49', 12), ('referee', 11), ('backyard', 11), ('hot sauce', 11), ('syrup', 11), ('biplane', 11), ('carnation', 11), ('cantaloupe', 11), ('holding it', 11), ('hose', 11), ('photograph', 11), ('scania', 11), ('cage', 11), ('kissing', 11), ('steering wheel', 11), ('air conditioner', 11), ('goatee', 11), ('barrel', 11), ('7:25', 11), ('us airways express', 11), ('buffalo', 11), ('sliding', 11), ('2 years', 11), ('1st', 11), ('in middle', 11), ('crafts', 11), ('thumb', 11), ('speakers', 11), ('pickup', 11), ('braves', 11), ('thai', 11), ('2:00', 11), ('mountain dew', 11), ('9:45', 11), ('lamps', 11), ('movement', 11), ('kiting', 11), ('display', 11), ('shoulder', 11), ('rubber', 11), ('3:20', 11), ('fly', 11), ('feeding giraffe', 11), ('glaze', 11), ('looking at phone', 11), ('food truck', 11), ('riding horses', 11), ('chains', 11), ('mixer', 11), ('conference', 11), ('stuffed', 11), ('sunbathing', 11), ('yarn', 11), ('7 eleven', 11), ('camping', 11), ('loading', 11), ('barber shop', 11), ('healthy', 11), ('all of them', 11), ('westin', 11), ('horseback riding', 11), ('left and right', 11), ('sports', 11), ('honey', 11), ('oars', 11), ('multi colored', 11), ('graduation', 11), ('cauliflower', 11), ('victoria', 11), ('zucchini', 11), ('feta', 11), ('baking', 11), ('4:15', 11), ('11:00', 11), ('golden gate', 11), ('antique', 11), ('chalk', 11), ('red white blue', 11), ('cucumbers', 11), ('serious', 11), ('aa', 11), ('tires', 11), ('tarmac', 11), ('kawasaki', 11), ('switzerland', 11), ('coaster', 11), ('1:20', 11), ('4:20', 11), ('90', 11), ('thumbs up', 11), ('pacifier', 11), ('bagel', 11), ('drawing', 11), ('one in front', 11), ('bank', 11), ('kneeling', 11), ('concert', 11), ('baseball game', 11), ('canon', 11), ('2:10', 11), ('converse', 11), ('spiderman', 11), ('gray and black', 11), ('flat screen', 11), ('snowsuit', 11), ('direction', 11), ('cameras', 11), ('sprite', 11), ('emergency', 11), ('intersection', 11), ('ottoman', 11), ('wine tasting', 11), ('tigers', 11), (\"don't walk\", 11), ('classroom', 11), ('11:10', 11), ('dodge', 11), ('on laptop', 11), ('batman', 11), ('cherries', 11), ('miami', 11), ('hello', 11), ('right one', 11), ('in basket', 11), ('flip phone', 11), ('gun', 11), ('forehand', 11), ('64', 11), ('65', 11), ('burrito', 11), ('diesel', 11), ('skate', 11), ('pens', 11), ('jar', 11), ('raspberries', 11), ('space needle', 11), ('sunrise', 11), ('shih tzu', 11), ('drying', 11), ('soon', 11), ('very big', 10), ('11:55', 10), ('second', 10), ('turn', 10), ('alive', 10), ('water skis', 10), ('camel', 10), ('savannah', 10), ('pipe', 10), ('produce', 10), ('mickey mouse', 10), ('shepherd', 10), ('print', 10), (\"women's\", 10), ('very deep', 10), ('green and black', 10), ('on toilet', 10), ('sub', 10), ('2008', 10), ('single', 10), ('ollie', 10), ('quilt', 10), ('printer', 10), ('rear', 10), ('boxer', 10), ('9:50', 10), ('asleep', 10), ('9:25', 10), ('blue jay', 10), ('napkins', 10), ('website', 10), ('4:00', 10), ('balloons', 10), ('drawer', 10), ('island', 10), ('tennis racquet', 10), ('busy', 10), ('hotel room', 10), ('virgin', 10), ('feathers', 10), ('airplanes', 10), ('russian', 10), ('5:25', 10), ('wallet', 10), ('heater', 10), ('student', 10), ('clams', 10), ('seafood', 10), ('lizard', 10), ('ana', 10), ('mother', 10), ('fast food', 10), ('muffin', 10), (\"nathan's\", 10), ('yard', 10), ('chimney', 10), ('1:00', 10), ('rye', 10), ('caramel', 10), ('mat', 10), ('vacation', 10), ('trick', 10), ('on napkin', 10), ('high chair', 10), ('lifeguard', 10), ('mac and cheese', 10), ('mirrors', 10), ('biker', 10), ('daffodils', 10), ('wheels', 10), ('2007', 10), ('51', 10), ('chevy', 10), ('under armour', 10), ('telling time', 10), ('castle', 10), ('mattress', 10), ('eaten', 10), ('cheddar', 10), ('11:40', 10), ('whole', 10), ('baseball player', 10), ('boarding', 10), ('painted', 10), ('orange and yellow', 10), ('pedestrian', 10), ('shark', 10), ('hit', 10), ('cartoon', 10), ('jp morgan', 10), ('spaghetti', 10), ('tropicana', 10), ('different teams', 10), ('sesame', 10), ('clydesdale', 10), ('concentration', 10), ('almonds', 10), ('millions', 10), ('mother and child', 10), ('fancy', 10), ('dr pepper', 10), ('telephone', 10), ('nursing', 10), ('railroad crossing', 10), ('feeder', 10), ('mint', 10), ('10:30', 10), ('mitt', 10), ('conductor', 10), ('farmers market', 10), ('under table', 10), ('marina', 10), ('sidecar', 10), ('notebook', 10), ('no cat', 10), ('baskets', 10), ('partly cloudy', 10), ('sony ericsson', 10), ('jelly', 10), ('shaking hands', 10), ('lace', 10), ('dancing', 10), ('wavy', 10), ('thomas', 10), ('golf', 10), ('volvo', 10), ('orange and blue', 10), ('v', 10), ('kid', 10), ('tying tie', 10), ('cool', 10), ('870', 10), ('scale', 10), ('drinking water', 10), ('spiral', 10), ('steamed', 10), ('baker', 10), ('model', 10), ('hammock', 10), ('sheet', 10), ('3:30', 10), ('egg salad', 10), ('7:35', 10), ('horizontally', 10), ('plunger', 10), ('briefcase', 10), ('heineken', 10), ('7:00', 10), ('crest', 10), ('take off', 10), ('baked', 10), ('meatballs', 10), ('badminton', 10), ('purple and white', 10), ('each other', 10), ('tinkerbell', 10), ('space', 10), ('skatepark', 10), ('1980', 10), ('no left turn', 10), ('broke', 10), ('on plane', 10), ('triumph', 10), ('2nd', 10), ('close', 10), ('sniffing', 10), ('hiding', 10), ('nest', 10), ('roundabout', 10), ('us air force', 10), ('raft', 9), ('mayonnaise', 9), ('camera flash', 9), ('container', 9), ('night time', 9), ('entertainment', 9), ('steeple', 9), ('tank', 9), ('2.00', 9), ('whale', 9), ('on track', 9), ('cutting hair', 9), ('4:35', 9), ('veggies', 9), ('cat food', 9), ('comfort', 9), ('no man', 9), ('atv', 9), ('swimsuit', 9), ('on bridge', 9), ('stands', 9), ('gmc', 9), ('wrist', 9), ('next to toilet', 9), ('name tag', 9), ('domestic', 9), ('makeup', 9), ('5:55', 9), ('spots', 9), ('yacht', 9), ('sauerkraut', 9), ('fountain', 9), ('gym', 9), ('gaming', 9), ('security', 9), ('baltimore', 9), ('1920', 9), ('on fridge', 9), ('confused', 9), ('earring', 9), ('broom', 9), ('tunnel', 9), ('1990', 9), ('remote control', 9), ('charging', 9), ('qantas', 9), ('age', 9), ('reds', 9), ('fair', 9), ('shirt and tie', 9), ('brewers', 9), ('five star', 9), ('no grass', 9), ('snowing', 9), ('nikon', 9), ('193', 9), ('team', 9), ('worms', 9), ('state farm', 9), ('teacher', 9), ('hallway', 9), ('5:45', 9), ('peanuts', 9), ('sideways', 9), ('bunny', 9), ('dozens', 9), ('far right', 9), ('at&t', 9), ('red, white, blue', 9), ('in snow', 9), ('placemat', 9), (\"they aren't\", 9), ('blue team', 9), ('recessed', 9), ('victorian', 9), ('lanes', 9), ('ambulance', 9), ('pigtails', 9), ('pedestrian crossing', 9), ('hangar', 9), ('no sign', 9), ('floating', 9), ('speaking', 9), ('sun hat', 9), ('fashion', 9), ('shells', 9), ('puppy', 9), ('shed', 9), ('street lights', 9), ('onion rings', 9), ('surprised', 9), ('skull and crossbones', 9), ('herd', 9), ('feeding', 9), ('players', 9), ('bars', 9), ('6:45', 9), ('apples and oranges', 9), ('scrambled', 9), ('eiffel tower', 9), ('rays', 9), ('us open', 9), ('palm trees', 9), ('pee', 9), ('11:35', 9), ('on tray', 9), ('no clock', 9), ('grandfather', 9), ('iris', 9), ('only', 9), ('snoopy', 9), ('56', 9), ('patio', 9), ('down street', 9), ('windmill', 9), ('russia', 9), ('mario', 9), ('tattoos', 9), ('top hat', 9), ('willow', 9), ('tiara', 9), ('students', 9), ('bird feeder', 9), ('polar bears', 9), ('winnie pooh', 9), ('copyright', 9), ('marker', 9), ('cluttered', 9), ('cakes', 9), ('400', 9), ('harry potter', 9), ('half full', 9), ('cooler', 9), ('chest', 9), ('sewing', 9), ('fire extinguisher', 9), ('stagecoach', 9), ('dairy queen', 9), ('1 year', 9), ('dining', 9), ('recently', 9), ('not in service', 9), ('dachshund', 9), ('side of road', 9), ('radish', 9), ('lego', 9), ('upside down', 9), ('suits', 9), ('crates', 9), ('ascending', 9), ('commuter', 9), ('ted', 9), ('slacks', 9), ('surfers', 9), ('bananas and oranges', 9), ('hardwood', 9), ('porch', 9), ('not high', 9), ('kitchenaid', 9), ('oriental', 9), ('10:50', 9), ('rottweiler', 9), ('descending', 9), (\"baby's breath\", 9), ('9:05', 9), ('pipes', 9), ('trunks', 9), ('mitsubishi', 9), ('heinz', 9), ('spices', 9), ('kingfisher', 9), ('cardinal', 9), ('dough', 9), ('3rd', 9), ('cadillac', 9), ('braid', 9), ('burnt', 9), ('whipped cream', 9), ('sas', 9), ('100 year party ct', 9), ('in cabbage town', 9), ('rolex', 8), ('sweet potato', 8), ('shingles', 8), ('soldier', 8), ('birdhouse', 8), ('1950s', 8), ('jumped', 8), ('brazil', 8), ('bulls', 8), ('knit', 8), ('parrots', 8), ('upright', 8), ('ivory', 8), ('welcome', 8), ('catch', 8), ('not at all', 8), ('humans', 8), ('beets', 8), ('skinny', 8), ('suburban', 8), ('name', 8), ('angle', 8), ('warmth', 8), ('recliner', 8), ('lacoste', 8), ('chevron', 8), ('baggage claim', 8), ('3:25', 8), ('border collie', 8), ('to catch ball', 8), ('dump truck', 8), ('dog and cat', 8), ('grassy', 8), ('30 feet', 8), ('caboose', 8), ('peanut butter', 8), ('diet coke', 8), ('dome', 8), ('spain', 8), ('no car', 8), ('flats', 8), ('day ln', 8), ('3 inches', 8), ('presidio', 8), ('wreath', 8), ('2015', 8), ('61', 8), ('bald', 8), ('camper', 8), ('drive', 8), ('88', 8), ('blending', 8), ('peeling', 8), ('linoleum', 8), ('to catch frisbee', 8), ('jungle', 8), ('lemonade', 8), ('around neck', 8), ('on horse', 8), ('button', 8), ('cell', 8), ('player', 8), (\"it's raining\", 8), ('mango', 8), ('shoulder length', 8), ('button up', 8), ('700', 8), ('marshmallows', 8), ('left one', 8), ('150', 8), ('give way', 8), ('on boat', 8), ('not likely', 8), ('1:35', 8), ('dandelions', 8), ('first base', 8), ('mercedes benz', 8), ('air transat', 8), ('by window', 8), ('on man', 8), ('on tree', 8), ('under sink', 8), ('black and pink', 8), ('120', 8), ('butt', 8), ('11:15', 8), ('on field', 8), ('6 months', 8), ('1 way', 8), ('9:35', 8), ('oar', 8), ('peaches', 8), ('monitors', 8), ('15 feet', 8), ('tow', 8), ('6:25', 8), ('fork and spoon', 8), ('u haul', 8), ('11:20', 8), ('black bear', 8), ('looking at camera', 8), ('national express', 8), ('in corner', 8), ('clip', 8), (\"there isn't\", 8), ('stones', 8), ('very old', 8), ('omelet', 8), ('hexagon', 8), ('washing', 8), ('2 men', 8), ('parakeet', 8), ('containers', 8), ('grape', 8), ('throw ball', 8), ('plastic wrap', 8), ('all way', 8), ('bark', 8), ('knee', 8), ('pancake', 8), ('jalapenos', 8), ('1:37', 8), ('run', 8), ('ranch', 8), ('tee', 8), ('tour', 8), ('deck', 8), ('lift', 8), ('3:45', 8), ('in motion', 8), ('behind clouds', 8), ('pear', 8), ('swans', 8), ('room', 8), ('video', 8), ('seats', 8), ('anger', 8), ('drums', 8), ('easy', 8), ('mailbox', 8), ('wings', 8), ('condiments', 8), ('champagne', 8), ('santa hat', 8), ('fireman', 8), ('on stand', 8), ('jesus', 8), ('63', 8), ('8:45', 8), ('mall', 8), ('cycling', 8), ('yellow and orange', 8), ('slow down', 8), ('aluminum foil', 8), ('holding phone', 8), ('squirrel', 8), ('flush', 8), ('planter', 8), ('vintage', 8), ('pelicans', 8), ('genetics', 8), ('pacific', 8), ('packing', 8), ('high heels', 8), ('shirt and shorts', 8), ('copper', 8), ('7:05', 8), ('zipper', 8), ('plow', 8), ('vines', 8), ('snake', 8), ('john', 8), ('pockets', 8), ('csx', 8), ('tim hortons', 8), ('angel', 8), ('mosaic', 8), ('married', 8), ('178', 8), ('apple and banana', 8), ('pottery', 8), ('carrot cake', 8), ('orchids', 8), ('3:15', 8), ('54', 8), ('8:50', 8), ('kenmore', 8), ('8:55', 8), ('expert', 8), ('fires', 8), ('christian', 8), ('walking dog', 8), ('swinging bat', 8), ('mouthwash', 8), ('disney', 8), ('on stove', 8), ('pretzels', 8), ('i', 8), ('stomach', 8), ('cushion', 8), ('michigan', 8), ('male and female', 8), ('mail', 8), ('skyscrapers', 8), ('broccoli and carrots', 8), ('pizza box', 8), ('by water', 8), ('behind truck', 8), ('1:10', 8), ('paper towels', 8), ('cinnamon', 8), ('formica', 8), ('flying tigers', 8), ('11:25', 8), ('digital', 8), ('12:40', 8), ('99', 8), ('red velvet', 8), ('feroglobin', 8), ('backward', 8), ('10:35', 8), ('whirlpool', 8), ('finger', 8), ('drinking wine', 8), ('via ferlinghetti', 8), ('woodpecker', 8), ('cosmo', 8), ('8:00', 7), ('mayo', 7), ('bunk bed', 7), ('swim', 7), ('penne', 7), (\"a's\", 7), ('mets', 7), ('calzone', 7), ('behind camera', 7), ('turtle', 7), ('black and orange', 7), ('no train', 7), ('professional', 7), ('left side', 7), ('tusk', 7), ('slippers', 7), ('68', 7), ('dump', 7), ('parmesan', 7), ('pliers', 7), ('12:25', 7), ('lilacs', 7), ('liquor', 7), ('lobster', 7), ('20 mph', 7), ('no snow', 7), ('no light', 7), ('factory', 7), ('athletics', 7), ('opponent', 7), ('butterflies', 7), ('december', 7), ('pomegranate', 7), ('no flag', 7), ('facebook', 7), ('hooks', 7), ('shampoo', 7), ('mane', 7), ('life vest', 7), ('corgi', 7), ('sydney', 7), ('herself', 7), ('using laptop', 7), ('sledding', 7), ('main st', 7), ('colorful', 7), ('2005', 7), ('acacia', 7), ('prop', 7), ('cessna', 7), ('looking down', 7), ('turning', 7), ('shorter', 7), ('crate', 7), ('verizon', 7), ('throw', 7), ('cigarettes', 7), ('organic', 7), ('25 cents', 7), ('10:33', 7), ('5143', 7), ('sunny side up', 7), ('eagles', 7), ('on elephant', 7), ('j', 7), ('georgia', 7), ('silver and red', 7), ('car show', 7), ('silverware', 7), ('20 minutes', 7), ('shopping cart', 7), ('us bank', 7), ('derrick', 7), ('9:15', 7), ('catholic', 7), ('band', 7), ('speed limit', 7), ('notes', 7), ('horizon', 7), ('7:40', 7), ('younger', 7), ('focus', 7), ('on motorcycle', 7), ('midday', 7), ('sofa', 7), ('playstation', 7), ('police car', 7), ('equestrian', 7), ('philips', 7), ('on beach', 7), ('posts', 7), ('stained glass', 7), ('for safety', 7), ('cocker spaniel', 7), ('cover', 7), ('silver and black', 7), ('swiss', 7), ('bathing suit', 7), ('birthday cake', 7), ('indios verdes', 7), ('email', 7), ('baseman', 7), ('double', 7), ('to sit on', 7), ('on his face', 7), ('machine', 7), ('ankle', 7), ('sesame seeds', 7), ('clover', 7), ('barbecue', 7), ('picnic table', 7), ('bored', 7), ('behind him', 7), ('rectangles', 7), ('balcony', 7), ('tiled', 7), ('oregano', 7), ('zig zag', 7), ('magnet', 7), ('alitalia', 7), ('in tree', 7), ('on woman', 7), ('horse and buggy', 7), ('crouching', 7), ('ducati', 7), ('ireland', 7), ('overhead', 7), ('motorbike', 7), ('wired', 7), ('nice', 7), ('111', 7), ('motorcycle show', 7), ('espn', 7), ('pirate', 7), ('spectator', 7), ('tents', 7), ('2:45', 7), ('cd', 7), ('listening to music', 7), ('sunscreen', 7), ('water ski', 7), ('information', 7), ('guy', 7), ('95', 7), ('fox', 7), ('on rock', 7), ('easyjet', 7), ('eggplant', 7), ('muffins', 7), ('toolbox', 7), ('games', 7), ('banana peel', 7), ('2:05', 7), ('doughnuts', 7), ('in his hand', 7), ('fanta', 7), ('junk', 7), ('taller', 7), ('red light', 7), ('under', 7), ('parasail', 7), ('wildebeest', 7), ('babies', 7), ('germanwings', 7), ('behind people', 7), ('blue and pink', 7), ('potato salad', 7), ('japan airlines', 7), ('medicine', 7), ('manhole', 7), ('deli', 7), ('ryanair', 7), ('wax', 7), ('lays', 7), ('shuttle', 7), ('yellow one', 7), ('opaque', 7), ('parking garage', 7), ('blueberry', 7), ('8:32', 7), ('rhino', 7), ('no flowers', 7), ('queen elizabeth', 7), ('sleeve', 7), ('leaning', 7), ('doberman', 7), ('nylon', 7), ('on cake', 7), ('arms', 7), ('recent', 7), ('y', 7), ('hong kong', 7), ('wheel', 7), ('safe', 7), ('moo', 7), ('living', 7), ('crossed', 7), ('meeting', 7), ('to sit', 7), ('giraffe and zebra', 7), ('seaweed', 7), (\"it isn't\", 7), ('tourist', 7), ('on water', 7), ('flood', 7), ('747', 7), ('hackney central', 7), ('grilled cheese', 7), ('z', 7), ('green and brown', 7), ('long sleeve', 7), ('birch', 7), ('scratching', 7), ('escalator', 7), ('thailand', 7), ('black and silver', 7), ('stop light', 7), ('compaq', 7), ('turn right', 7), ('stormy', 7), ('today', 7), ('father', 7), ('tater tots', 7), ('shelter', 7), ('washington monument', 7), ('ham and cheese', 7), ('turtleneck', 7), ('outfield', 7), ('front one', 7), ('parking meters', 7), ('panting', 7), ('in her hand', 7), ('world', 7), ('saucer', 7), ('hitting', 7), ('htc', 7), ('coffee table', 7), ('learning', 7), ('000', 7), ('1:40', 7), ('american airlines', 7), ('1900', 7), ('huge', 7), ('auburn', 7), ('sightseeing', 7), ('stork', 7), ('frigidaire', 7), ('paved', 7), ('in cup', 7), ('stretching', 7), ('bowls', 7), ('colored', 7), ('enclosure', 7), ('zebra and giraffe', 7), ('banana and orange', 7), ('11:46', 7), ('prince', 7), ('bnsf', 7), ('10:45', 7), ('veil', 7), ('6:40', 7), ('manchester', 7), ('spaniel', 7), ('ups', 7), ('bus driver', 7), ('mariners', 7), ('street signs', 7), ('pnc bank', 7), ('jones', 7), ('coffee cup', 7), ('kearny', 7), ('241', 7), ('iron maiden', 7), ('frowning', 6), ('knife and spoon', 6), ('patterned', 6), ('dish', 6), ('red, white, and blue', 6), ('bent', 6), ('450', 6), ('stallion', 6), ('manual', 6), ('110', 6), ('shearing sheep', 6), ('cupboard', 6), ('liberty', 6), ('hunger', 6), ('meow', 6), ('minnie mouse', 6), ('ring finger', 6), ('twins', 6), ('straps', 6), ('handicapped', 6), ('moped', 6), ('waffle', 6), ('ox', 6), ('stem', 6), ('tortilla', 6), ('trolley', 6), ('support', 6), ('antelope', 6), ('hanger', 6), ('headboard', 6), ('mustard and ketchup', 6), ('bunch', 6), ('mantle', 6), ('blue angels', 6), ('bagels', 6), ('rider', 6), ('clockwise', 6), ('am', 6), ('hbo', 6), ('frosted', 6), ('abc', 6), ('windowsill', 6), ('panasonic', 6), ('many colors', 6), ('old fashioned', 6), ('gray and red', 6), ('mad', 6), ('9:55', 6), ('railroad', 6), ('on refrigerator', 6), ('padres', 6), ('audi', 6), ('pink and black', 6), ('to dry', 6), (\"it doesn't\", 6), ('on suitcase', 6), ('oven mitt', 6), ('on hill', 6), ('85', 6), ('chickens', 6), ('shape', 6), ('behind bus', 6), ('headdress', 6), ('74', 6), ('rectangular', 6), ('air show', 6), (\"can't\", 6), ('rawlings', 6), ('males', 6), ('skulls', 6), ('on bike', 6), ('standing still', 6), ('no woman', 6), ('pizzeria', 6), ('brushing his teeth', 6), ('garlic', 6), ('wife', 6), ('christianity', 6), ('i love you', 6), ('burger king', 6), ('2:40', 6), ('sprint', 6), ('cop', 6), ('wakeboard', 6), ('handlebar', 6), ('firemen', 6), ('illinois', 6), ('1:22', 6), ('12:35', 6), ('parachute', 6), ('excited', 6), ('water tower', 6), ('sheetrock', 6), ('skater', 6), ('show', 6), ('egypt', 6), ('lower', 6), ('scared', 6), ('pot pie', 6), ('african american', 6), ('crackers', 6), ('biscuit', 6), ('backpacks', 6), ('kimono', 6), ('flamingo', 6), ('sword', 6), (\"woman's\", 6), ('truck driver', 6), ('chrome', 6), ('vine', 6), ('4:45', 6), ('crossing street', 6), ('riding elephant', 6), ('fireworks', 6), ('bartender', 6), ('ticket', 6), ('stained', 6), ('on pizza', 6), ('scooters', 6), ('eason', 6), ('vietnam', 6), ('toothpicks', 6), ('2 dollars', 6), ('lava lamp', 6), ('streets', 6), ('in stands', 6), ('vw', 6), ('asus', 6), ('thousands', 6), ('pattern', 6), ('12:28', 6), ('12:10', 6), ('making pizza', 6), ('10:25', 6), ('under cat', 6), (\"m&m's\", 6), ('skateboard park', 6), ('yahoo', 6), ('fishing boat', 6), ('at table', 6), ('coffee pot', 6), ('2:30', 6), ('1930', 6), ('limes', 6), ('college', 6), ('firefighter', 6), ('best buy', 6), ('above fireplace', 6), ('soldiers', 6), (\"children's\", 6), ('neat', 6), ('gate', 6), ('lilac', 6), ('mixed', 6), ('exhaust', 6), ('control', 6), ('hauling', 6), ('jam', 6), ('qatar', 6), ('green and purple', 6), ('white sox', 6), ('olive', 6), ('under counter', 6), ('jamaica', 6), ('parmesan cheese', 6), ('freezer', 6), ('venice', 6), ('baseball uniform', 6), ('thoroughbred', 6), ('skeleton', 6), ('natural habitat', 6), ('sombrero', 6), ('dandelion', 6), ('life', 6), ('blue and orange', 6), ('statue of liberty', 6), ('gazelle', 6), ('greek', 6), ('vests', 6), ('acer', 6), ('houseplant', 6), ('drying hair', 6), ('nasa', 6), ('bird bath', 6), ('flash', 6), ('cameraman', 6), ('main course', 6), ('edinburgh', 6), ('fluffy', 6), ('jockeys', 6), ('pearl', 6), ('10 minutes', 6), ('bowler', 6), ('schwinn', 6), ('pans', 6), ('to get to other side', 6), ('very fast', 6), (\"st patrick's day\", 6), ('folded', 6), ('swirls', 6), ('central', 6), ('gum', 6), ('toiletries', 6), ('soccer field', 6), ('yorkie', 6), ('white one', 6), ('screwdriver', 6), ('on side', 6), (\"modell's\", 6), ('central area', 6), ('playing guitar', 6), ('speed', 6), ('monday', 6), ('toronto', 6), ('astros', 6), ('no bus', 6), ('ski boots', 6), ('collage', 6), ('marines', 6), ('chalkboard', 6), ('departing', 6), ('burgers', 6), ('vehicles', 6), ('teenager', 6), ('gazebo', 6), ('banana split', 6), ('wax paper', 6), ('dawn', 6), ('defense', 6), ('massachusetts', 6), ('fuel', 6), ('tripod', 6), ('wide', 6), ('washing machine', 6), ('home run', 6), ('calling', 6), ('doorway', 6), ('western', 6), ('he fell', 6), ('decorative', 6), ('french toast', 6), ('pare', 6), ('checkerboard', 6), ('hyundai', 6), ('filter', 6), ('countryside', 6), ('tree branch', 6), ('licking', 6), ('blue and silver', 6), ('sandy', 6), ('banana and apple', 6), ('throwing ball', 6), ('hockey', 6), ('dim', 6), ('loafers', 6), ('boardwalk', 6), ('on door', 6), ('racquet', 6), ('colonial', 6), ('before', 6), ('antenna', 6), ('little girl', 6), ('astroturf', 6), ('frisbee golf', 6), ('67', 6), ('no basket', 6), ('george', 6), ('smelling', 6), ('refrigerators', 6), ('pennsylvania', 6), ('bottom left', 6), ('national', 6), ('58', 6), ('for picture', 6), ('cleaner', 6), ('missing', 6), ('spider', 6), ('sewer', 6), ('romaine', 6), ('7:45', 6), ('hound', 6), ('doritos', 6), ('china southern', 6), ('petals', 6), ('fat', 6), ('amazon', 6), ('3:18', 6), ('coca-cola', 6), ('1945', 6), ('females', 6), ('content', 6), ('captive', 6), ('spot', 6), ('sheepdog', 6), ('alligator', 6), ('lancashire united', 6), ('lancashire', 6), ('snowbird', 6), ('snowflakes', 6), ('boot', 6), ('orange and green', 6), ('clown', 6), ('lenovo', 6), ('grooming', 6), ('bidet', 6), ('bronze', 6), ('residence', 6), ('73', 6), ('medical', 6), ('suspenders', 6), ('not long', 6), ('teens', 6), ('webster', 6), ('very long', 6), ('made', 6), ('savory', 6), ('cds', 6), ('tell time', 6), ('dress shoes', 6), ('cincinnati', 6), ('cranes', 6), ('advertising', 6), ('wine bottle', 6), ('yellow and brown', 6), ('macaroni and cheese', 6), ('cleveland', 6), ('english national opera', 6), ('courthouse', 6), ('standing up', 6), ('elmo', 6), ('macbook', 6), ('velvet', 6), ('gillette', 6), ('baseball players', 6), ('retriever', 6), ('watch tv', 6), ('vultures', 6), ('lan', 6), ('5:10', 6), ('doily', 6), ('ginger', 6), ('farmers', 6), ('bath', 6), ('362', 6), ('food processor', 6), ('teddy roosevelt', 6), ('metro', 6), ('wing', 6), ('kodak', 6), ('mural', 6), ('behind bench', 6), ('tape measure', 6), ('watermark', 6), ('picasso', 6), ('7 feet', 6), ('goal', 6), ('no logo', 6), ('bathe', 6), ('ripe', 6), ('wide angle', 6), ('2 inches', 6), ('one in back', 6), ('new orleans', 6), ('bride', 6), ('1500', 6), ('star wars', 6), ('triangles', 6), ('4-way', 6), ('over easy', 6), ('pet', 6), ('buns', 6), ('paintings', 6), ('jean', 6), ('santa fe', 6), ('aurora', 6), ('no horse', 6), ('card', 6), ('silk', 6), ('normal', 6), ('used', 6), ('union pacific', 6), ('husband', 6), ('burnley', 6), ('eddie stobart', 6), ('77', 6), ('grocery store', 6), ('dip', 6), ('tabasco', 6), ('wisconsin', 6), ('fed cu', 6), ('robot', 6), ('comforter', 6), ('superdog', 6), ('canon way', 6), ('365', 6), ('on phone', 6), ('anniversary', 6), ('sponge', 6), ('7097', 6), ('bunk beds', 6), ('grinding', 6), ('007', 6), ('10:40', 6), ('airtran', 6), ('8760', 6), ('59', 6), ('377 606', 6), ('boa', 6), ('homeless', 5), ('above street', 5), ('special', 5), ('block sun', 5), ('drill', 5), ('leggings', 5), ('behind train', 5), (\"can't read it\", 5), ('folgers', 5), ('vacuum', 5), ('ironing board', 5), ('140', 5), ('carpeted', 5), ('la', 5), ('celebrating', 5), ('unmade', 5), ('mesh', 5), ('soap dispenser', 5), ('no phone', 5), ('praying', 5), ('under plane', 5), ('waist', 5), ('calf', 5), ('ferris wheel', 5), ('cafeteria', 5), ('hero', 5), ('tea kettle', 5), ('helping', 5), ('on tv', 5), ('president', 5), ('on pan', 5), ('pull', 5), ('98', 5), ('now', 5), ('salt and pepper', 5), ('melbourne', 5), ('laundry', 5), ('fire station', 5), ('9:40', 5), ('hole', 5), ('alps', 5), ('4th of july', 5), ('feather', 5), ('blouse', 5), ('brick oven', 5), ('canary', 5), ('perspective', 5), ('case', 5), ('0 mph', 5), ('long time', 5), ('3:22', 5), ('behind toilet', 5), ('holding baby', 5), ('paper towel', 5), ('for balance', 5), ('surgery', 5), ('2 women', 5), ('1:45', 5), ('doctor', 5), ('lighter', 5), ('granny smith', 5), ('hollywood', 5), ('on head', 5), ('jackson', 5), ('event', 5), ('pears', 5), ('protesting', 5), ('turf', 5), ('oregon', 5), ('atlas', 5), ('congratulations', 5), ('silver and yellow', 5), ('warriors', 5), ('roll', 5), ('headlights', 5), ('play frisbee', 5), ('tube', 5), ('2:55', 5), ('staples', 5), ('front left', 5), ('melon', 5), ('knitting', 5), ('skyscraper', 5), ('pulled pork', 5), ('brushing her teeth', 5), ('brush teeth', 5), ('woman on right', 5), ('dentist', 5), ('bbq', 5), ('violets', 5), ('rockies', 5), ('chives', 5), ('deep dish', 5), ('man and woman', 5), ('behind horse', 5), ('toasted', 5), (\"macy's\", 5), ('in suitcase', 5), ('fruit punch', 5), ('calculator', 5), ('6 ft', 5), ('airline', 5), ('reigns', 5), ('brown and tan', 5), ('3:40', 5), ('twitter', 5), ('252', 5), ('mugs', 5), ('336', 5), ('atm', 5), ('10 pounds', 5), ('donut shop', 5), ('weather', 5), ('no horses', 5), ('ny', 5), ('lambs', 5), ('lavender', 5), ('credit card', 5), ('coconut', 5), ('neon', 5), ('boeing', 5), ('bird seed', 5), ('toilet paper holder', 5), ('writing ticket', 5), ('hula hoop', 5), ('arrows', 5), ('sippy cup', 5), ('polaroid', 5), ('audience', 5), ('using computer', 5), ('storm', 5), ('5:37', 5), ('$350', 5), ('hanging from ceiling', 5), ('not here', 5), ('saddles', 5), ('69', 5), ('recreational', 5), ('kennedy', 5), ('800', 5), ('necktie', 5), ('white with black stripes', 5), ('12:27', 5), ('navel', 5), ('sharpie', 5), ('grain', 5), ('4 way', 5), ('isuzu', 5), ('korail', 5), ('pick up', 5), ('middle aged', 5), ('no book', 5), ('religious', 5), ('neutral', 5), ('parallel', 5), ('earbuds', 5), ('drawers', 5), ('thames', 5), ('tricycle', 5), ('station wagon', 5), ('stella artois', 5), ('no truck', 5), ('rubber duck', 5), ('6:55', 5), ('cutting pizza', 5), ('toothbrush and toothpaste', 5), ('frontier', 5), ('animal', 5), ('charger', 5), ('new york city', 5), ('dirt road', 5), ('carousel', 5), ('loud', 5), ('cowboy hat', 5), ('dhl', 5), ('samuel adams', 5), ('balancing', 5), ('cowboys', 5), ('heavy', 5), ('raincoat', 5), ('rising', 5), ('simple', 5), (\"in man's hand\", 5), ('103', 5), ('overhand', 5), ('minor', 5), ('orange and gray', 5), ('50s', 5), ('dora', 5), ('dog food', 5), ('enter', 5), ('bells', 5), ('89', 5), ('royal air force', 5), ('checked', 5), ('shag', 5), ('wall st', 5), ('afro', 5), ('someone', 5), ('one world', 5), ('2014', 5), ('name tags', 5), ('light pole', 5), ('day time', 5), ('red and silver', 5), ('cross street', 5), ('use toilet', 5), ('corned beef', 5), ('purple and yellow', 5), ('alto', 5), ('no words', 5), ('boredom', 5), ('angry', 5), ('blue and brown', 5), ('buttons', 5), ('jars', 5), ('oatmeal', 5), ('90 degrees', 5), ('pesto', 5), ('posters', 5), ('worn', 5), ('oven door', 5), ('4:05', 5), ('vodka', 5), ('urinals', 5), ('bump', 5), ('frying', 5), ('sheep and dog', 5), ('clothesline', 5), ('vaio', 5), ('bible', 5), ('cello', 5), ('cracker', 5), ('reebok', 5), ('tennis balls', 5), ('cabin', 5), ('poop', 5), ('on bear', 5), ('chopped', 5), ('bundt', 5), ('no rug', 5), ('buffet', 5), ('horse and dog', 5), ('2 people', 5), ('few', 5), ('some', 5), ('doors', 5), ('slide', 5), ('boiled', 5), ('line', 5), ('philadelphia', 5), ('11:45', 5), ('propellers', 5), ('crab', 5), ('the', 5), ('flock', 5), ('second from right', 5), ('kicking', 5), ('schnauzer', 5), ('tin', 5), ('space shuttle', 5), ('11:47', 5), ('crossing guard', 5), ('on girl', 5), ('looking in mirror', 5), ('back left', 5), ('circular', 5), ('brooklyn', 5), ('paw prints', 5), ('wheelie', 5), ('utility', 5), ('1 inch', 5), ('everyone', 5), ('4:18', 5), (\"can't see\", 5), ('hunting', 5), ('man made', 5), ('contemporary', 5), ('girl on left', 5), ('whalley', 5), ('upper right', 5), ('years', 5), ('holding umbrella', 5), ('laminate', 5), ('lotion', 5), ('girl on right', 5), ('sweeping', 5), ('jet ski', 5), ('no lights', 5), ('bus stand', 5), ('humped zebra crossing', 5), ('in street', 5), ('tuxedo', 5), ('11:05', 5), ('lock', 5), ('sea', 5), ('british united', 5), ('no right turn', 5), ('trip', 5), ('on dog', 5), ('faces', 5), ('in front of him', 5), ('pulling', 5), ('oranges and bananas', 5), ('12:20', 5), ('108', 5), ('narrow', 5), ('nails', 5), ('another man', 5), ('rolling', 5), ('target', 5), ('aerial', 5), ('pokemon', 5), ('87', 5), ('cleanliness', 5), ('anchor', 5), ('outdoor store', 5), ('catching ball', 5), ('30 mph', 5), ('11:50', 5), ('cherry blossom', 5), ('knees', 5), ('cnn', 5), ('essex park', 5), ('old navy', 5), ('72', 5), ('smiles', 5), ('behind them', 5), ('crowd', 5), ('mashed potatoes', 5), ('u', 5), ('shaved', 5), ('12:45', 5), ('nitro', 5), ('mississippi', 5), ('rv', 5), ('in case', 5), ('first aid', 5), ('temple', 5), ('practice', 5), ('entering', 5), ('taylor', 5), ('car seat', 5), ('remodeling', 5), ('rollerblades', 5), ('stationary', 5), ('no people', 5), ('packed', 5), ('pub', 5), ('scottish', 5), ('trophy', 5), ('dreadlocks', 5), ('begging', 5), ('looking in fridge', 5), ('cox', 5), ('salsa', 5), ('right turn', 5), ('yoga', 5), ('tv stand', 5), ('appliances', 5), ('50 years', 5), ('boundaries', 5), ('bay', 5), ('worker', 5), ('bus eireann', 5), ('easton', 5), ('beginning', 5), ('scott', 5), ('carnations', 5), ('red and brown', 5), ('well', 5), ('lei', 5), ('playing video games', 5), ('moose', 5), ('home office', 5), ('lax', 5), ('5:35', 5), ('45110', 5), ('diner', 5), ('fire department', 5), ('yak', 5), ('brakes', 5), ('hummus', 5), ('awning', 5), ('puma', 5), ('teapot', 5), ('eat it', 5), ('more', 5), ('single engine', 5), ('word', 5), ('docked', 5), ('on roof', 5), ('sex', 5), ('classic', 5), ('on bread', 5), ('on land', 5), ('no wind', 5), ('marlboro', 5), ('not deep', 5), ('comics', 5), ('road work ahead', 5), ('hoagie', 5), ('monopoly', 5), ('meatball', 5), ('muddy', 5), ('pencil', 5), ('shower head', 5), ('hair tie', 5), ('bigger', 5), ('waiting for bus', 5), ('bob marley', 5), ('sleeves', 5), ('not far', 5), ('eating animals', 5), ('light switch', 5), ('dairy', 5), ('2 months', 5), ('slowing down', 5), ('owls', 5), ('685', 5), ('alcohol', 5), ('distance', 5), ('puerto rico', 5), ('cordless', 5), ('del monte', 5), ('barrette', 5), ('current', 5), ('ads', 5), ('alone', 5), ('125', 5), ('trays', 5), ('juggling', 5), ('condor', 5), ('blue and tan', 5), ('fly emirates', 5), ('3:43', 5), ('algae', 5), ('ahead', 5), ('person on left', 5), ('pacific southwest', 5), ('digging', 5), ('downward', 5), ('dress shirt', 5), ('salami', 5), ('york', 5), ('11:03', 5), ('banquet', 5), ('salt and pepper shakers', 5), ('ceiling fan', 5), ('buoys', 5), ('offense', 5), ('cilantro', 5), ('vitamin water', 5), ('guinness', 5), ('road closed', 5), ('selling', 5), (\"they don't\", 5), ('bows', 5), ('lasagna', 5), ('ghan', 5), ('bikers', 5), ('left of plate', 5), ('7:55', 5), ('talking on cell phone', 5), ('table tennis', 5), ('mulch', 5), ('wrench', 5), ('lantern', 5), ('royals', 5), ('looking for food', 5), ('ciabatta', 5), ('statues', 5), ('grits', 5), ('dove', 5), ('barrier', 5), ('sleigh', 5), ('artichoke', 5), ('hitting it', 5), ('angry birds', 5), ('dvd', 5), ('white city', 5), ('pad', 5), ('korean air', 5), ('wolf', 5), ('progressive', 5), ('no bird', 5), ('1:24', 5), ('wright', 5), ('candid', 5), ('flow', 5), ('mountain top', 5), ('air austral', 5), ('dropped', 5), ('1:34', 5), ('lta', 5), ('warszawa', 5), ('mechanic', 5), ('woolwich', 5), ('under bench', 5), ('pabst blue ribbon', 5), ('beads', 5), ('water main crossing', 5), ('jal', 5), ('6:30', 5), ('3.50', 5), ('away from camera', 5), ('continuum', 5), ('marsalavej', 5), ('9:21', 5), ('sierra mist', 5), ('crystal brook', 5), ('white and purple', 4), ('document', 4), ('automatic', 4), ('6:10', 4), ('stump', 4), ('live', 4), ('tennessee', 4), ('sulfur', 4), ('group', 4), ('god', 4), ('knee pad', 4), ('text', 4), ('light bulb', 4), ('4:10', 4), ('6:20', 4), ('footlong', 4), ('fanny pack', 4), ('power line', 4), ('guitars', 4), ('hot plate', 4), ('on poles', 4), ('stunt', 4), ('mack', 4), ('telescope', 4), ('in pot', 4), ('usaf', 4), ('quesadilla', 4), ('your best guess', 4), ('12:16', 4), ('checkers', 4), ('on snow', 4), ('artesia', 4), ('multiple', 4), ('back of truck', 4), ('lights are off', 4), ('tostitos', 4), ('crying', 4), ('gray and blue', 4), ('you', 4), ('behind dog', 4), ('4 hours', 4), ('aprons', 4), ('speech', 4), ('teaspoon', 4), ('brothers', 4), ('10:38', 4), ('sightseeing tour of london', 4), ('united states of america', 4), ('judge', 4), ('instructions', 4), ('bohemian hwy', 4), ('dolphins', 4), ('1 week', 4), ('on fence', 4), ('cards', 4), ('drum', 4), ('in his hands', 4), ('taxiing', 4), ('house cat', 4), ('mascot', 4), ('unter den linden', 4), ('convention', 4), ('20s', 4), ('party bus', 4), ('2:03', 4), ('friday', 4), ('wii fit', 4), ('tractors', 4), ('exercise', 4), ('here', 4), ('concentrating', 4), ('steve jobs', 4), ('flatbed', 4), ('timex', 4), ('bra', 4), ('holding pizza', 4), ('riding bikes', 4), ('charades', 4), ('on book', 4), ('1100', 4), ('leroy', 4), ('rangers', 4), ('n/a', 4), ('crust', 4), ('9:00', 4), ('avenue', 4), ('next to it', 4), ('ge money', 4), ('informal', 4), ('shredded', 4), ('coors', 4), ('man in red', 4), ('penn', 4), (\"dog's mouth\", 4), ('wake', 4), ('water skier', 4), ('arctic', 4), ('sour', 4), ('flea market', 4), ('t mobile', 4), ('in chair', 4), ('washing dishes', 4), ('in room', 4), ('city street', 4), ('long neck', 4), ('1940', 4), ('multi color', 4), ('30 years', 4), ('singer', 4), ('customers', 4), ('to ski', 4), ('100 years', 4), ('cruise ship', 4), ('4:17', 4), ('government', 4), ('blue one', 4), ('lanyards', 4), ('blue shirt', 4), ('yellow and purple', 4), ('taxis', 4), ('nurse', 4), ('306', 4), ('on baby', 4), ('in glass', 4), ('o', 4), ('me', 4), ('south america', 4), ('gibson', 4), ('torso', 4), ('medieval', 4), ('neighborhood', 4), ('one piece', 4), ('crash', 4), ('father and daughter', 4), ('1/4', 4), ('braniff', 4), ('wristbands', 4), ('beds', 4), ('runner', 4), ('under desk', 4), ('tee ball', 4), ('dryer', 4), ('reflections', 4), ('determination', 4), ('in mirror', 4), ('skype', 4), ('joke', 4), ('2 miles', 4), ('red one', 4), ('to serve', 4), ('gravity', 4), ('vitamin c', 4), ('blue and purple', 4), ('convertible', 4), ('stucco', 4), ('red shirt', 4), ('put out fires', 4), ('pooping', 4), ('jail', 4), ('fine', 4), ('oreo', 4), ('groceries', 4), ('oracle', 4), ('yellow and gray', 4), ('public market center', 4), ('south park', 4), ('1989', 4), ('600', 4), ('5:01', 4), ('flushing', 4), ('pan am', 4), ('30s', 4), ('princess', 4), ('ownership', 4), ('pointer', 4), ('border', 4), ('mario kart', 4), ('purple and blue', 4), ('4:55', 4), ('man in front', 4), ('red, yellow, blue', 4), ('another train', 4), ('7:26', 4), ('conveyor belt', 4), ('red team', 4), ('exiting', 4), ('3:13', 4), ('in sink', 4), ('hooves', 4), ('not busy', 4), ('backseat', 4), ('not ripe', 4), ('umpiring', 4), ('near', 4), ('fighter jet', 4), ('street name', 4), ('wading', 4), ('boy scouts', 4), ('charcoal', 4), ('bus lane', 4), ('cheetos', 4), ('123', 4), ('folding', 4), ('eye', 4), ('claws', 4), ('rings', 4), ('willesden', 4), ('very large', 4), ('in ground', 4), ('israel', 4), ('under clock', 4), ('islam', 4), ('3 months', 4), ('cherry blossoms', 4), ('not in use', 4), ('jet skiing', 4), ('record player', 4), ('after', 4), ('samsonite', 4), ('new zealand', 4), ('east st', 4), ('dasani', 4), ('stuff', 4), ('bunt', 4), ('on computer', 4), ('trotting', 4), ('forklift', 4), ('behind giraffe', 4), ('cute', 4), ('streetlight', 4), ('handstand', 4), ('jif', 4), ('canoes', 4), ('upper', 4), ('tigger', 4), ('on his back', 4), ('dr seuss', 4), ('same', 4), ('feeding elephant', 4), ('no pizza', 4), ('brunette', 4), ('skateboarders', 4), ('convenience', 4), ('brass', 4), ('stems', 4), ('in house', 4), ('wait', 4), ('very close', 4), ('dog show', 4), ('braids', 4), ('$20', 4), ('dvds', 4), ('airbus', 4), ('above water', 4), ('folder', 4), ('neigh', 4), ('unreadable', 4), ('sun protection', 4), ('stethoscope', 4), ('files', 4), ('meat and vegetables', 4), ('hebrew', 4), ('bozenka', 4), ('573', 4), ('cat bed', 4), ('barriers', 4), ('sails', 4), ('bumpy', 4), ('1200', 4), ('bananas and apples', 4), ('horn', 4), ('50 feet', 4), ('2 minutes', 4), ('tower hill', 4), ('pink and purple', 4), ('stage', 4), ('temperature', 4), ('fans', 4), ('conference room', 4), ('7:10', 4), ('breast cancer awareness', 4), ('in oven', 4), ('15 mph', 4), ('missouri', 4), ('cvs', 4), ('knick knacks', 4), ('underwear', 4), ('in zoo', 4), ('saw', 4), ('kangaroo', 4), ('powdered', 4), ('simpsons', 4), ('shovel', 4), ('nationals', 4), ('royal', 4), ('manicured', 4), ('055', 4), ('android', 4), ('second from left', 4), ('behind laptop', 4), ('hot dog and fries', 4), ('suede', 4), ('2 stories', 4), ('truck route', 4), ('marinara', 4), ('birthday party', 4), ('144', 4), ('opened', 4), ('energy', 4), ('train car', 4), ('usopenorg', 4), ('nypd', 4), ('badge', 4), ('bicycling', 4), ('11:56', 4), ('on surfboard', 4), ('thrown', 4), ('behind cat', 4), ('1:25', 4), ('fingerprints', 4), ('victory liner', 4), ('wash dishes', 4), ('months', 4), ('obstacles', 4), ('brownie', 4), ('forwards', 4), ('clydesdales', 4), ('figurine', 4), ('flashlight', 4), ('yellow and pink', 4), ('doorknob', 4), ('5:32', 4), ('woman on left', 4), ('felt', 4), ('anyone', 4), ('annoyed', 4), ('screensaver', 4), ('march', 4), ('blur', 4), ('raisins', 4), ('fishnet', 4), ('lsu', 4), ('quiche', 4), ('tim horton', 4), ('no cup', 4), ('july', 4), ('10 ft', 4), ('poppies', 4), ('behind woman', 4), ('miller', 4), ('hard drive', 4), ('3:05', 4), ('guardrail', 4), ('vertically', 4), ('fighter', 4), ('animated', 4), ('plains', 4), ('glider', 4), ('dvd player', 4), ('2:13', 4), ('2:12', 4), ('shirt and pants', 4), ('vinyl', 4), ('newspapers', 4), ('arizona', 4), ('shop', 4), ('chinese food', 4), ('random', 4), ('ra', 4), ('paw', 4), ('no cake', 4), ('left to right', 4), ('right turn only', 4), ('hump', 4), ('photos', 4), ('alfredo', 4), ('no letters', 4), ('under tree', 4), ('unclear', 4), ('8:15', 4), ('82', 4), ('minute maid', 4), ('rain boots', 4), ('12:04', 4), ('engineer', 4), ('ak', 4), ('turban', 4), ('beams', 4), ('apple and orange', 4), ('artwork', 4), (\"man's hand\", 4), ('landline', 4), ('bus station', 4), ('to get food', 4), ('scotland', 4), ('washer', 4), ('malaysia', 4), ('suburbs', 4), ('snowshoes', 4), ('cylinder', 4), ('paddling', 4), ('banana bread', 4), ('charlotte', 4), ('cages', 4), ('sisters', 4), ('nutella', 4), ('holding dog', 4), ('21st', 4), ('pecans', 4), ('5:18', 4), ('96', 4), ('ladle', 4), ('6:16', 4), ('international', 4), ('unloading', 4), ('tennis outfit', 4), ('lazy', 4), ('firefox', 4), ('on his neck', 4), ('no bear', 4), ('lips', 4), ('meatloaf', 4), ('102', 4), ('middle one', 4), ('partying', 4), ('rifle', 4), ('capital', 4), ('ledge', 4), ('fruits and vegetables', 4), ('petting cat', 4), ('takeaway', 4), ('hard boiled', 4), ('fruit salad', 4), ('carrots and celery', 4), ('no water', 4), ('rams', 4), (\"linda's catering\", 4), ('229', 4), ('1/3', 4), ('bud', 4), ('on her face', 4), ('chicken and broccoli', 4), ('cans', 4), ('fire lane', 4), ('5 ft', 4), ('royal navy', 4), ('tacos', 4), ('aloe', 4), ('far away', 4), ('straight ahead', 4), ('masair', 4), ('pillars', 4), ('california berkeley', 4), ('southern', 4), ('greenhouse', 4), ('posing for picture', 4), ('flames', 4), ('printed', 4), ('it is not', 4), ('ribs', 4), ('bending', 4), ('to hit ball', 4), ('seaplane', 4), ('no bucket', 4), ('sausages', 4), ('rocking chair', 4), ('1:47', 4), ('at home', 4), ('nescafe', 4), ('blt', 4), ('sapphire', 4), ('2nd from left', 4), ('309', 4), ('on her head', 4), ('transparent', 4), ('kfc', 4), ('front of train', 4), ('not well', 4), ('pads', 4), ('kale', 4), ('all-war', 4), ('black one', 4), ('cuckoo', 4), ('friendly', 4), ('ramps', 4), ('peace sign', 4), ('4:40', 4), ('ihop', 4), ('mark winterbourne', 4), ('spotted', 4), ('price', 4), ('5:30', 4), ('salad dressing', 4), ('marc', 4), ('dog bed', 4), ('alpine', 4), ('dresses', 4), ('getting food', 4), ('crows', 4), ('right hand', 4), ('71', 4), ('start', 4), ('city park', 4), ('sweaters', 4), ('cross-country', 4), ('holstein', 4), ('aquafresh', 4), ('putting out fires', 4), ('walnuts', 4), ('cat in hat', 4), ('harvard', 4), ('no bag', 4), ('new mexico', 4), ('dallas', 4), ('4 inches', 4), ('podium', 4), ('kiss', 4), ('van gogh', 4), ('canadian', 4), ('multi-colored', 4), ('on plates', 4), ('cigar', 4), ('bubbles', 4), ('76', 4), ('6:15', 4), ('static', 4), ('records', 4), ('desk lamp', 4), ('macbook pro', 4), ('portrait', 4), ('croatia dr', 4), ('118', 4), ('ikea', 4), ('movies', 4), ('path', 4), ('on dresser', 4), ('dur', 4), (\"1950's\", 4), ('collars', 4), ('ross', 4), ('keys court', 4), ('ghost', 4), ('banner', 4), ('knocked over', 4), ('from ground', 4), ('crocheted', 4), ('in half', 4), ('red white black', 4), ('both ways', 4), ('booth', 4), ('mannequin', 4), ('shingle', 4), ('wii bowling', 4), ('duplicate', 4), ('route 66', 4), (\"on man's head\", 4), ('biplanes', 4), ('turn left', 4), ('shears', 4), ('cole slaw', 4), ('no shirt', 4), ('tugboat', 4), ('this one', 4), ('sour cream', 4), ('battery', 4), ('109', 4), ('jack russell', 4), ('plums', 4), ('tennis match', 4), ('brownies', 4), ('pita', 4), ('8 ft', 4), ('8:20', 4), ('wildcats', 4), ('mallard', 4), ('diagonal', 4), ('muzzle', 4), ('bnp', 4), ('alley', 4), ('same color', 4), ('cable', 4), ('to hold', 4), ('rocket', 4), ('poore brothers', 4), ('toddler', 4), ('dumpster', 4), ('daffodil', 4), ('braces', 4), ('cedars assist', 4), ('no collar', 4), (\"boy's\", 4), ('point', 4), ('training', 4), ('tennis clothes', 4), ('guacamole', 4), ('towel rack', 4), ('walgreens', 4), ('evian', 4), ('lawn mower', 4), ('145', 4), ('marijuana', 4), ('bonsai', 4), ('knob', 4), ('in wild', 4), (\"pitcher's mound\", 4), ('no bat', 4), ('excitement', 4), ('rustic', 4), ('posed', 4), ('lettuce and tomato', 4), ('man in middle', 4), ('grassland', 4), ('gnome', 4), ('grand canyon', 4), ('loading luggage', 4), ('dying', 4), ('na', 4), ('ty', 4), ('playground', 4), ('heron', 4), ('3000', 4), ('air tahiti nui', 4), ('queilen bus', 4), ('loop', 4), ('427', 4), ('3 hours', 4), ('claw foot', 4), ('cup holder', 4), ('mums', 4), ('to ride', 4), ('487', 4), ('packages', 4), ('marlins', 4), ('burned', 4), ('argyle', 4), ('not much', 4), ('pedals', 4), ('pumpkins', 4), ('just took off', 4), ('ornaments', 4), ('baby shower', 4), ('january', 4), ('peel', 4), ('national welsh', 4), ('armchair', 4), ('60019', 4), ('e street', 4), ('8551', 4), ('bryanelkuscom', 4), ('hilly', 4), ('1998', 4), ('under car', 4), ('hawaiian punch', 4), ('brown and yellow', 4), ('cast iron', 4), ('proctor', 4), ('urine', 4), ('lucky luke', 4), ('257', 4), (\"70's\", 4), ('sweden', 4), ('decorations', 4), ('history', 4), ('crochet', 4), ('railion', 4), ('6:05', 4), ('milking', 4), ('boston downtown', 4), ('on bat', 4), ('view', 4), ('11:19', 4), ('02', 4), ('instruments', 4), ('showboat', 4), ('high school', 4), ('far left', 4), ('eurolot', 4), ('vietnamese', 4), ('11:23', 4), ('publix', 4), ('back one', 4), ('early years playbus', 4), ('around his neck', 4), (\"50's\", 4), ('gay pride', 4), ('parent and child', 4), ('intel', 4), ('ball boy', 4), ('4106', 4), ('1.10', 4), ('10:08', 4), ('sherry', 4), ('bees', 4), ('roxy sexy', 4), ('disc golf', 4), ('salt lake city', 4), ('opposite', 4), ('garbage truck', 4), ('recycling', 4), ('lakeside', 4), ('e liberty', 4), ('arriva', 4), ('st louis', 4), ('cleaning itself', 4), ('bowness', 4), ('under bed', 4), (\"can't you see it's green?\", 4), ('lost', 4), ('tennis players', 4), ('8:40', 4), ('6861', 4), ('office supplies', 4), ('noodles & company', 4), ('bullhead pkwy', 4), ('click', 4), ('7:58', 4), ('1431', 4), ('garuda', 4), ('215', 4), ('spice oven', 4), ('per s marco', 4), ('tardis', 4), ('xper', 4)]\n"
          ]
        }
      ],
      "source": [
        "top = answers_population.most_common()\n",
        "print(top)"
      ]
    },
    {
      "cell_type": "code",
      "execution_count": null,
      "metadata": {
        "colab": {
          "base_uri": "https://localhost:8080/"
        },
        "id": "tZa0Oxvds28o",
        "outputId": "53e6df0f-ffc8-4786-ba3f-91fd290c8348"
      },
      "outputs": [
        {
          "output_type": "stream",
          "name": "stdout",
          "text": [
            "['no', 'yes', '2', '1', 'white', '3', 'red', 'blue', 'black', '0', '4', 'green', 'brown', 'yellow', '5', 'gray', 'nothing', 'left', 'right', 'frisbee', '6', 'baseball', 'tennis', 'wood', 'orange', 'none', 'bathroom', 'pizza', 'pink', 'kitchen', '7', '8', 'man', 'cat', 'grass', 'skateboarding', 'dog', 'water', 'skiing', 'silver', 'black and white', '10', 'kite', 'surfing', 'horse', 'skateboard', 'living room', 'phone', 'snow', 'wii', 'giraffe', 'surfboard', 'woman', 'cake', 'sunny', 'broccoli', 'eating', 'table', 'hat', 'apple', 'stop', 'food', 'elephant', 'laptop', 'purple', 'standing', '9', 'beach', '12', 'snowboarding', 'train', 'sheep', 'motorcycle', 'banana', 'soccer', 'trees', 'bus', 'male', 'cow', 'wine', 'flowers', 'tan', 'umbrella', 'winter', 'bear', 'camera', 'walking', 'sitting', 'metal', 'female', 'tile', '20', 'brick', 'outside', 'plane', 'car', 'clear', 'night', 'cloudy', 'donut', 'bed', 'many', 'summer', 'bananas', 'zebra', 'bird', 'bench', 'sandwich', 'down', 'hot dog', 'wall', 'bedroom', 'kites', 'fence', 'bat', 'boat', '15', 'tv', 'afternoon', 'tree', 'sand', 'fork', 'people', 'helmet', 'birthday', 'beer', 'tennis racket', 'couch', 'cheese', 'skis', 'chair', 'plate', 'cows', 'up', 'street', 'horses', 'truck', '11', 'red and white', 'bike', 'suitcase', 'coffee', 'dirt', 'round', 'ground', 'zoo', 'airport', 'snowboard', 'floor', 'nike', 'stripes', 'ocean', 'glass', 'square', 'fruit', 'usa', 'no one', 'concrete', 'knife', 'playing wii', 'blue and white', 'girl', 'cell phone', 'plastic', 'christmas', 'english', 'teddy bear', 'boy', 'glasses', 'tie', '13', 'carrots', 'sidewalk', 'ball', 'blonde', 'fall', 'airplane', 'wii remote', '30', 'chicken', 'flying kite', 'open', 'scissors', 'cold', 'day', 'paper', 'toilet', 'nowhere', 'building', 'breakfast', 'toothbrush', 'oak', '50', 'old', 'donuts', 'city', 'dell', 'africa', 'overcast', 'chinese', 'clock', '14', 'mirror', 'lot', 'chocolate', 'cooking', 'park', 'window', 'lettuce', 'remote', 'plaid', '100', 'rectangle', 'palm', 'apples', 'light', 'daytime', 'spoon', 'happy', 'clouds', 'sun', 'elephants', 'vegetables', 'office', 'restaurant', 'ski poles', 'stone', 'sleeping', 'carpet', 'computer', 'mountains', 'field', 'unknown', 'birds', 'sunglasses', '16', '25', 'solid', 'person', 'shirt', 'wedding', 'fire hydrant', 'on table', 'short', 'brown and white', 'small', 'closed', 'sky', 'mountain', 'wetsuit', 'oranges', 'tomato', 'fish', 'road', 'desk', 'shorts', 'american', 'picture', 'counter', 'sign', 'playing', 'evening', 'dinner', 'asian', 'morning', 'leaves', 'england', 'beige', 'home', 'milk', 'salad', 'backpack', 'bicycle', 'microwave', 'house', 'inside', 'carrot', 'sink', 'london', 'safety', 'pepperoni', 'pine', 'jeans', 'glove', 'bowl', 'luggage', 'police', 'vase', 'graffiti', 'color', 'wii controller', 'refrigerator', 'zebras', 'books', 'catcher', 'giraffes', 'gold', 'brushing teeth', 'towel', 'playing tennis', 'bread', 'noon', 'hair', 'spinach', 'bag', 'very', 'talking on phone', 'rain', 'child', 'floral', 'middle', 'background', 'circle', 'soup', 'watch', 'passenger', 'hay', 'baby', 'neither', 'china', 'drinking', 'flower', 'motorcycles', 'rocks', 'blanket', 'rainbow', 'smiling', '18', 'lights', 'church', 'new york', 'real', 'both', 'spring', 'flying', 'sneakers', 'adidas', 'windows', 'jacket', 'striped', 'book', 'hand', 'ketchup', 'kite flying', 'keyboard', 'wilson', 'grazing', 'roses', 'electric', 'on', 'pole', 'clothes', 'racket', 'shoes', 'rainy', 'mouse', 'box', 'collar', 'cars', 'gas', 'umbrellas', 'leather', 'batter', 'shadow', 'lab', 'sandals', 'checkered', 'lunch', 'bridge', 'posing', 'lamp', 'front', 'sunset', 'texting', 'forward', 'triangle', 'young', '40', 'hot dogs', 'seagull', 'coca cola', 'resting', 'pitcher', 'peppers', 'in air', 'on wall', 'umpire', 'rope', 'soda', 'talking', '17', 'stove', 'purse', 'reading', 'rock', 'tabby', 'goggles', 'train station', 'surfboards', 'oven', 'heart', 'dessert', '24', 'off', 'jumping', 'controller', 'wire', 'large', 'tracks', 'on ground', 'double decker', 'tomatoes', 'lake', 'river', 'parking', 'bears', 'branch', 'shade', 'taking off', 'photographer', 'clean', 'taking picture', 'white and blue', 'tennis court', 'warm', 'on plate', 'long', 'straight', 'playing frisbee', 'rug', 'good', 'electricity', 'laying down', 'basket', 'boots', 'gloves', 'door', 'calm', 'shelf', 'toilet paper', 'plant', 'pictures', 'downhill', 'paint', 'running', 'canada', 'adult', 'ceramic', 'meat', 'top', 'cup', 'head', 'landing', 'ford', 'delta', 'olives', 'hotel', 'lemon', 'rice', 'parking meter', 'wind', 'jet', 'indoors', 'riding', 'oval', 'batting', 'skate park', 'white and black', 'dining room', 'new', 'parking lot', 'red and blue', 'cutting board', 'store', 'in water', 'van', 'water skiing', 'steam', 'hot', 'red and yellow', 'rose', 'green and white', 'beef', 'fishing', 'daisy', 'flag', 'smoke', 'decoration', 'scarf', 'boats', 'modern', 'ponytail', 'blinds', 'swimming', 'air', 'tennis ball', 'mustard', 'playing baseball', 'wild', 'planes', 'strawberries', 'clay', 'stop sign', 'outdoors', 'away', 'pillow', 'headband', 'vanilla', 'blue and yellow', 'fries', 'back', 'ham', 'trash can', 'orange juice', 'tower', '21', 'united', 'bikes', 'blender', 'bottom', 'bottle', 'work', '22', 'guitar', 'protection', 'terrier', 'pepsi', 'tea', 'school', '23', 'red and black', 'watching', 'men', 'poles', 'asphalt', '35', 'human', 'go', 'dogs', 'ice cream', 'necklace', 'star', 'dusk', 'flying kites', 'on desk', '19', 'north', 'one way', 'ceiling', 'strawberry', 'suit', 'clock tower', 'ramp', 'onions', 'dirty', 'skateboarder', 'fan', 'samsung', 'wine glass', 'above', 'military', 'granite', 'sausage', 'yellow and blue', 'bracelet', 'polo', 'ski', 'india', 'trash', 'marble', 'carriage', 'cargo', 'urban', 'cotton', 'sugar', 'helmets', 'fire', 'hit ball', 'toy', 'market', 'big', 'fridge', 'slow', 'bacon', 'party', 'cutting', 'plain', 'turkey', 'octagon', 'america', 'hats', 'white and red', 'dress', 'wooden', 'smile', 'mercedes', 'duck', 'cabinet', 'orange and white', 'skateboards', 'catching', 'dunkin donuts', 'east', '28', 'no parking', 'sweater', 'p', 'gray and white', 'grapes', 'station', 'waves', 'flip flops', 'tulips', 'cloth', 'surfer', 'full', 'game', 'farm', 'ducks', 'diamond', 'sparrow', 'harley', 'parasailing', 'beard', 'raining', 'parked', 'candles', 'handle', 'pasta', 'apartment', 'balance', 'hands', 'shower', 'fork and knife', 'african', 'soap', 'napkin', 'public', 'united states', 'chairs', '2 feet', '3 feet', 'headphones', 'cutting cake', 'pen', 'sauce', 'collie', 'cross', 'parrot', 'honda', 'maple', 'south', 'pan', 'low', 'polar', 'moving', 'painting', 'a', 'twin', 'stainless steel', 'ski lift', 'dry', 'stuffed animal', 'stairs', 'w', 'bow', 'france', 'pants', 'parade', 'sad', 'polar bear', 'sandwiches', 'dodgers', 'cowboy', 'fedora', 'cart', \"don't know\", 'football', 'business', 'bmw', 'forest', 'coke', 'soccer ball', 'boston', 'at camera', 'seagulls', '27', 'parsley', 'high', 'fedex', 'cleaning', 'dock', 'eggs', 'red and green', 'typing', 'cement', 'big ben', 'sunlight', 'basketball', 'german', 'bakery', 'face', 'straw', 'california', 'pot', 'plants', 'desert', 'on bed', 'bowling', 'waiting', 'butter', 'ring', 'one on right', 'laying', 'chain link', 'pug', 'jump', 'b', 'mushrooms', 'tray', 'fire truck', 'on right', 'downtown', 'cats', 'hydrant', 'yellow and red', 'curtain', 'bricks', 'crosswalk', 'green and yellow', 'reflection', 'commercial', 'steel', 'not possible', 'magnets', 'asia', \"can't tell\", '38', 'owl', 'traffic', 'chef', 'tag', 'on building', 'pepper', 'chopsticks', 'air canada', 'german shepherd', 'suv', 'scooter', 'italian', 'egg', '55', 'potatoes', 'sprinkles', 'women', 'swan', 'bandana', 'towels', 'walk', 'kia', 'pigeon', 'fun', 'frosting', 'behind', 'transportation', 'toyota', 'italy', 'steak', 'japan', 'dark', 'roof', 'tall', 'runway', 'goat', 'wool', 'pickle', 'bicycles', 'fireplace', 'sony', 'calico', 'fake', 'all', 'hungry', 'buildings', 'skirt', 'juice', 'bus stop', 'mozzarella', 'nighttime', '10 feet', 'cigarette', 'lighthouse', 'fast', 'out', 'serve', 'golden retriever', \"mcdonald's\", 'catching frisbee', 'paddle', 'visor', 'west', 'crane', 'cumulus', 'on counter', 'red sox', 'yellow and black', 'phones', 'indian', 'baseball field', 'skier', 'germany', 'bar', 'playing game', 'french fries', 'basil', 'starbucks', 'surf', 'net', 'bun', 'signs', 'stick', 'cucumber', '200', 'serving', '34', 'mutt', 'desktop', 'drywall', 'finch', '2010', 'natural', 'queen', 'c', 'art', 'chicago', 'roman', 'north america', 'shoe', 'krispy kreme', 'spanish', 'words', 'watermelon', 'curtains', 'logo', 'driving', 'candle', 'not sure', 'rural', '29', 'san francisco', 'softball', 'gravel', 'wet', 'regular', 'cleats', 'blue and red', 'sailboat', 'children', 'tennis rackets', 'poodle', 'microphone', 'squares', 'halloween', 'porcelain', 'little', 'empty', 'working', 'animals', 'giants', 'emirates', 'butterfly', \"it's not\", 'statue', 'flags', 'on left', 'smoothie', 'suitcases', 'navy', 'tennis player', 'brush', 'orioles', 'railing', 'propeller', 'on tracks', 'candy', 'white and brown', 'monkey', 'beans', '45', 'medium', 'main', '60', 'pineapple', 'vest', '32', 'corner', 'newspaper', 'french', 't', 'chips', 'looking', 'green beans', '10:20', 'bucket', 'lufthansa', 'yankees', 'vertical', 'racing', 'kiwi', 'shrimp', 'black and red', 'boxes', 'museum', 'private', 'corn', 'pizza cutter', 'washington', 'pitbull', 'pie', 'bell', 'red white and blue', 'first', 'harness', 'baseball bat', 'subway', 'saddle', 'jeep', 'bulldog', 'tiger', 'boating', 'plates', 'hello kitty', 'watching tv', 'daisies', '2012', 'casual', 'wagon', 'fur', 'eagle', 'swinging', 'half', 'harley davidson', 'monitor', 'not very', 'husky', 'foggy', 'in bowl', 'wave', 'drink', 'cone', 'army', 'tank top', 'pork', 'library', 'log', 'outdoor', 'baseball cap', 'friend', 'gothic', 'window sill', 'fabric', 'cherry', 'mask', 'garbage', 'country', 'nobody', '20 feet', 's', 'dresser', 'horns', 'broken', 'bottles', 'friends', 'beanie', 'snowy', 'family', 'bull', 'obama', 'camouflage', 'nokia', 'lily', 'on pole', 'yellow and white', 'teddy bears', 'hair dryer', 'apron', 'bathtub', 'grill', 'white and green', 'tennis shoes', 'stuffed animals', 'cream', 'on street', 'lap', 'ladder', 'cones', 'tired', 'traveling', 'cross country', 'tattoo', 'pier', 'washington dc', 'roman numerals', 'dishes', 'toys', 'garage', 'peace', 'peas', 'cook', 'bush', 'belt', 'laptops', 'e', 'black and yellow', 'barn', 'toothbrushes', 'hp', 'air force', 'houses', 'shallow', 'construction', 'cardboard', 'dugout', 'arm', 'siamese', 'freight', 'chihuahua', 'pots', 'thin', 'blue and green', 'glazed', 'messy', 'stool', 'pillows', 'leash', 'uphill', '3:00', 'bags', 'pink and white', 'multi', 'cookies', '26', 'bank of america', 'can', 'caution', 'mushroom', 'fell', 'volleyball', 'santa', 'oil', 'rack', 'wicker', '12:00', 'white and gray', '33', 'yamaha', 'television', 'storage', 'in front', '5 feet', 'setting', 'woods', 'several', 'reins', 'on shelf', 'wheat', 'pelican', 'string', 'wii controllers', 'vegetable', 't-shirt', 'rail', 'deer', 'kayaking', 'sweet', 'ski pole', 'eyes', '1 foot', 'windsurfing', 'eat', 'horizontal', 'spatula', 'pickles', 'cabbage', 'travel', 'water bottle', 'pitching', 'towards', 'chandelier', 'pigeons', 'beagle', '2016', 'stand', 'foil', 'on grass', 'vases', 'bikini', 'backhand', 'taxi', 'no dog', 'boxing', 'electronics', 'lion', 'tail', 'on floor', 'tow truck', 'bushes', 'hill', 'nintendo', 'weeds', 'pig', 'panda', 'toaster oven', 'warning', 'toaster', 'barbed wire', '44', 'british airways', 'cups', 'noodles', 'street sign', 'girls', 'on tower', 'motorola', 'ferry', 'brown and black', 'screen', 'coal', 'x', 'm', 'cereal', 'tractor', 'blurry', 'mug', 'traffic light', 'falling', 'owner', 'biking', 'grizzly', 'gas station', 'wristband', 'selfie', 'squash', 'circles', 'stripe', 'man on left', 'icing', 'pavement', 'socks', 'riding bike', 'passengers', 'playing soccer', 'trailer', 'celery', 'multicolored', 'australia', 'chain', 'side', 'video game', 'wires', 'stickers', '500', 'power lines', 'trunk', 'onion', 'mouth', 'stars', 'man on right', 'design', 'bob', 'size', 'yield', 'kitten', 'letters', 'boogie board', 'mexican', 'us', 'cardinals', '2011', 'tusks', 'lots', 'vent', 'teddy', 'ice', 'polka dot', '31', 'los angeles', 'air france', 'boys', '1000', 'free', 'plaster', 'cell phones', 'stroller', 'on road', 'japanese', 'tags', 'wii remotes', 'hospital', 'toast', 'easter', 'uniform', 'time', 'ship', 'green and red', 'lines', 'pastries', 'legs', 'goats', 'mustache', 'sleep', \"i don't know\", 'to left', 'above sink', 'coat', 'motocross', 'one on left', 'windy', 'land', 'dishwasher', '2013', 'hawk', 'lilies', 'white and orange', 'speaker', 'mac', 'bib', 'cupcakes', 'cheesecake', 'europe', 'below', 'ribbon', 'blue and black', 'geese', 'cubs', 'ostrich', 'sushi', 'do not enter', '1:05', 'highway', 'kids', 'happy birthday', 'throwing', 'vans', 'british', 'snowboarder', 'moss', 'in car', '12:30', 'relaxing', 'center', 't shirt', 'piano', 'tire', 'snowboards', 'staring', 'grilled', 'aluminum', 'school bus', 'pool', 'mom', 'soft', 'curly', 'rodeo', 'bud light', 'yellow and green', 'motor', 'arabic', 'salmon', 'behind fence', 'directions', 'skull', 'sunflower', 'arrow', 'casserole', 'very tall', 'kayak', 'polka dots', 'love', 'hoodie', 'feet', 'adults', 'buses', 'iron', 'radiator', 'chase', 'elm', 'abstract', 'cupcake', 'identification', '3:55', '2000', 'bad', 'on sidewalk', 'on couch', '12:15', 'rabbit', 'avocado', 'goalie', 'toward', 'chiquita', '37', 'clothing', 'papers', 'theater', 'volkswagen', 'shelves', 'shearing', 'tongue', 'berries', 'roast beef', 'khaki', '42', 'fly kite', 'seat', 'neck', 'foot', 'bow tie', '43', 'lg', 'music', 'drinks', 'ibm', 'potato', 'steps', 'cap', 'pancakes', 'horse racing', 'pm', '12:55', 'dots', 'magazines', 'deep', 'fluorescent', 'bats', 'veggie', 'engine', 'bright', 'blueberries', 'greyhound', '36', 'petting', 'bleachers', 'christmas tree', 'on top', 'happiness', 'computers', 'club', 'going', 'paddle boarding', 'orange and black', 'hood', 'peach', 'gatorade', 'grapefruit', '6 inches', 'pilot', 'tablecloth', 'bamboo', 'cut', 'above stove', 'dalmatian', 'bathing', 'throwing frisbee', 'taking pictures', 'lexus', 'ivy', 'pointing', 'nuts', 'maroon', 'north face', 'lamb', 'toothpaste', 'tissues', 'seattle', 'nose', 'sedan', 'ties', 'privacy', 'menu', 'game controller', 'l', 'knee pads', 'tokyo', 'overalls', 'utensils', 'camo', 'trucks', '5:40', 'southwest', 'strap', 'sliced', 'klm', '70', 'board', 'movie', 'china airlines', 'top left', 'bridle', 'writing', 'race', 'asparagus', 'relish', 'doughnut', 'diamonds', 'top right', 'map', '53', 'fruits', 'heels', 'tent', 'swing', 'robin', 'pc', 'accident', 'listening', 'mexico', '10:00', 'tablet', 'formal', \"man's\", 'handicap', 'riding horse', 'xbox', 'goose', '8 feet', 'fog', 'hanging', 'arch', 'teeth', 'lanyard', 'jetblue', 'blue and gray', 'garden', '80', '41', '6:00', 'lime', 'stopped', 'lid', 'tools', 'advertisement', 'dirt bike', 'leaving', 'driveway', 'fried', 'tulip', 'suzuki', 'crow', '48', 'iphone', 'costume', 'kettle', 'raw', 'flat', 'cookie', 'thanksgiving', 'in sky', 'no number', 'denim', 'f', 'waving', 'ride', '1:30', 'supreme', 'fresh', 'red bull', 'coffee maker', '2:35', 'ears', 'to right', 'in vase', 'ipod', 'toothpick', 'blinders', 'chevrolet', 'jockey', 'texas', 'no idea', 'across street', 'colgate', 'tuna', 'sunflowers', 'for sale', 'fern', 'phillies', 'farmer', 'doubles', 'wiimote', 'labrador', 'fighting', 'shower curtain', 'not', 'on train', 'peacock', 'dragon', 'helicopter', 'mud', 'wallpaper', 'news', 'pajamas', '350', 'towing', 'furniture', 'hazy', '1:55', 'ram', 'octopus', 'broadway', 'maple leaf', 'google', '10:10', 'holding', '4 feet', 'apartments', 'sweatshirt', 'thick', 'herding', 'rackets', 'court', '66', 'cirrus', 'rugby', 'semi', 'track', 'very high', 'lady', 'in', 'on bench', '9:30', 'croissant', 'radio', 'far', 'faucet', 'angels', 'leaf', 'fisheye', 'skating', 'hummingbird', 'cabinets', 'foreground', 'safari', 'moon', 'bowtie', 'cobblestone', 'canopy', 'in box', 'blackberry', 'coming', 'magazine', 'cord', 'wine glasses', 'pumpkin', 'rocky', 'logs', 'doll', 'ear', 'indoor', 'flour', '1 hour', 'nissan', 'climbing', 'r', 'hills', 'gravy', 'bookshelf', 'urinal', 'exit', 'britain', 'american flag', 'calendar', 'hamburger', 'dole', 'mohawk', 'hard', 'photography', 'salt', 'money', 'lemons', 'singles', 'playing video game', 'foam', 'older', 'wetsuits', 'black and gray', '10 years', 'pink and yellow', 'in field', 'ski resort', 'motel', 'tape', 'weather vane', 'dinosaur', 'cane', 'play', 'pond', '6 feet', 'forks', 'festival', 'rust', 'right side', 'nature', 'power', 'green and orange', 'olympics', 'driver', 'bottom right', 'on chair', 'buoy', 'no hat', 'mercedes-benz', 'platform', '10:05', 'knives', 'yogurt', 'sweat', 'hearts', 'transport', 'over', 'sweatband', 'kickstand', 'tongs', '1950', 'curb', 'caucasian', 'alaska', 'smartphone', \"men's\", 'on sink', 'pastry', 'against wall', 'play tennis', 'trains', 'riding motorcycle', \"valentine's day\", 'baseball glove', 'balls', 'rooster', 'kitesurfing', 'prom', '2:25', 'awake', 'continental', 'detroit', 'to eat', 'mouse pad', 'canoe', 'dead end', 'coach', 'cooked', 'dead', 'in background', 'smooth', '5:00', 'tub', 'out of focus', 'photo', 'crown', 'mound', '2:15', 'florida', 'looking out window', 'hiking', 'pizza hut', 'bone', 'above toilet', 'spoons', 'hitting ball', 'backwards', 'curious', 'to see', 'pocket', 'leopard', 'peeing', 'dad', 'harbor', 'hammer time', 'crib', 'budweiser', 'chili', 'red, white and blue', 'captivity', 'gone', 'n', 'toilets', 'globe', '5:05', 'shore', '100 feet', 'traffic lights', '1:15', 'comcast', '1:50', 'knife and fork', 'spectators', 'jackets', 'street light', 'microsoft', 'pasture', 'protest', 'visibility', 'flickr', 'homemade', '4:30', 'on his head', 'ping pong', 'laughing', 'shut', 'on sign', 'burton', 'handlebars', 'war', 'curved', 'brace', '11:30', 'in grass', 'analog', 'pony', '9:20', 'leg', 'burger', 'h', 'landscape', 'green and blue', 'sailboats', 'black and blue', 'paris', 'unsure', 'smoking', 'earrings', 'arriving', 'balloon', 'catch frisbee', 'grocery', '12:05', 'rough', 'king', 'index', 'strike', 'frog', 'clocks', '75', '52', 'styrofoam', 'sail', 'shirts', 'powdered sugar', '39', 'crossing', 'red and gray', 'in back', '2009', 'g', 'no smoking', 'shadows', 'home plate', 'police officer', 'catch ball', 'wheelchair', 'paisley', 'logitech', '106', '10:55', 'delivery', 'ski slope', 'crocs', 'no 1', 'penguin', 'post', 'jets', 'sailing', 'ge', 'residential', 'uk', 'black and brown', 'amtrak', '2:50', 'shopping', 'legos', 'meter', 'skiers', 'pitch', 'monster', 'smiley face', 'end', 'ketchup and mustard', 'macaroni', 'donkey', '4:50', 'license plate', 'us airways', 'joshua', 'nightstand', 'brushing', 'town', 'never', '2:20', 'motion', '12 feet', 'tissue', 'corona', 'poster', 'toshiba', 'lighting', 'circus', '300', 'cactus', 'vegetarian', 'tarp', 'tiles', 'for fun', 'raspberry', 'squatting', 'pirates', 'stopping', 'pedestal', 'poor', 'cat and dog', 'frisbees', 'white and pink', 'train tracks', 'numbers', 'benches', 'toilet brush', 'remotes', 'desserts', 'footprints', 'blood', 'still', 'sepia', 'hawaiian', 'on car', 'pedestrians', 'taking selfie', \"he isn't\", 'k', 'hundreds', 'spray paint', 'surprise', 'blankets', 'colorado', 'grind', 'shell', 'robe', 'on skateboard', 'palm tree', 'branches', 'cloud', 'rowing', 'seeds', 'frame', 'persian', 'swim trunks', 'hugging', 'picnic', '5 years', 'sticker', 'himself', 'san diego', '5:15', 'brand', 'bunk', 'coleslaw', 'closet', 'cafe', 'teal', 'bike rack', 'ladybug', 'couple', '46', 'tropical', '3:10', 'windsor', 'base', 'white and yellow', 'main street', 'pink and blue', 'brushing hair', 'evergreen', 'coats', '2 hours', 'coins', 'sled', 'heat', 'in hand', 'd', 'hawaii', 'throw frisbee', 'guitar hero', 'choppy', '47', \"he's not\", 'siblings', 'wireless', 'behind man', 'uniforms', 'haircut', 'smaller', 'controllers', '101', 'flip', 'orchid', 'tie dye', 'life jacket', 'keys', 'city bus', 'singing', 'on bus', 'hsbc', 'db', 'stadium', 'drain', 'westjet', 'futon', '49', 'referee', 'backyard', 'hot sauce', 'syrup', 'biplane', 'carnation', 'cantaloupe', 'holding it', 'hose', 'photograph', 'scania', 'cage', 'kissing', 'steering wheel', 'air conditioner', 'goatee', 'barrel', '7:25', 'us airways express', 'buffalo', 'sliding', '2 years', '1st', 'in middle', 'crafts', 'thumb', 'speakers', 'pickup', 'braves', 'thai', '2:00', 'mountain dew', '9:45', 'lamps', 'movement', 'kiting', 'display', 'shoulder', 'rubber', '3:20', 'fly', 'feeding giraffe', 'glaze', 'looking at phone', 'food truck', 'riding horses', 'chains', 'mixer', 'conference', 'stuffed', 'sunbathing', 'yarn', '7 eleven', 'camping', 'loading', 'barber shop', 'healthy', 'all of them', 'westin', 'horseback riding', 'left and right', 'sports', 'honey', 'oars', 'multi colored', 'graduation', 'cauliflower', 'victoria', 'zucchini', 'feta', 'baking', '4:15', '11:00', 'golden gate', 'antique', 'chalk', 'red white blue', 'cucumbers', 'serious', 'aa', 'tires', 'tarmac', 'kawasaki', 'switzerland', 'coaster', '1:20', '4:20', '90', 'thumbs up', 'pacifier', 'bagel', 'drawing', 'one in front', 'bank', 'kneeling', 'concert', 'baseball game', 'canon', '2:10', 'converse', 'spiderman', 'gray and black', 'flat screen', 'snowsuit', 'direction', 'cameras', 'sprite', 'emergency', 'intersection', 'ottoman', 'wine tasting', 'tigers', \"don't walk\", 'classroom', '11:10', 'dodge', 'on laptop', 'batman', 'cherries', 'miami', 'hello', 'right one', 'in basket', 'flip phone', 'gun', 'forehand', '64', '65', 'burrito', 'diesel', 'skate', 'pens', 'jar', 'raspberries', 'space needle', 'sunrise', 'shih tzu', 'drying', 'soon', 'very big', '11:55', 'second', 'turn', 'alive', 'water skis', 'camel', 'savannah', 'pipe', 'produce', 'mickey mouse', 'shepherd', 'print', \"women's\", 'very deep', 'green and black', 'on toilet', 'sub', '2008', 'single', 'ollie', 'quilt', 'printer', 'rear', 'boxer', '9:50', 'asleep', '9:25', 'blue jay', 'napkins', 'website', '4:00', 'balloons', 'drawer', 'island', 'tennis racquet', 'busy', 'hotel room', 'virgin', 'feathers', 'airplanes', 'russian', '5:25', 'wallet', 'heater', 'student', 'clams', 'seafood', 'lizard', 'ana', 'mother', 'fast food', 'muffin', \"nathan's\", 'yard', 'chimney', '1:00', 'rye', 'caramel', 'mat', 'vacation', 'trick', 'on napkin', 'high chair', 'lifeguard', 'mac and cheese', 'mirrors', 'biker', 'daffodils', 'wheels', '2007', '51', 'chevy', 'under armour', 'telling time', 'castle', 'mattress', 'eaten', 'cheddar', '11:40', 'whole', 'baseball player', 'boarding', 'painted', 'orange and yellow', 'pedestrian', 'shark', 'hit', 'cartoon', 'jp morgan', 'spaghetti', 'tropicana', 'different teams', 'sesame', 'clydesdale', 'concentration', 'almonds', 'millions', 'mother and child', 'fancy', 'dr pepper', 'telephone', 'nursing', 'railroad crossing', 'feeder', 'mint', '10:30', 'mitt', 'conductor', 'farmers market', 'under table', 'marina', 'sidecar', 'notebook', 'no cat', 'baskets', 'partly cloudy', 'sony ericsson', 'jelly', 'shaking hands', 'lace', 'dancing', 'wavy', 'thomas', 'golf', 'volvo', 'orange and blue', 'v', 'kid', 'tying tie', 'cool', '870', 'scale', 'drinking water', 'spiral', 'steamed', 'baker', 'model', 'hammock', 'sheet', '3:30', 'egg salad', '7:35', 'horizontally', 'plunger', 'briefcase', 'heineken', '7:00', 'crest', 'take off', 'baked', 'meatballs', 'badminton', 'purple and white', 'each other', 'tinkerbell', 'space', 'skatepark', '1980', 'no left turn', 'broke', 'on plane', 'triumph', '2nd', 'close', 'sniffing', 'hiding', 'nest', 'roundabout', 'us air force', 'raft', 'mayonnaise', 'camera flash', 'container', 'night time', 'entertainment', 'steeple', 'tank', '2.00', 'whale', 'on track', 'cutting hair', '4:35', 'veggies', 'cat food', 'comfort', 'no man', 'atv', 'swimsuit', 'on bridge', 'stands', 'gmc', 'wrist', 'next to toilet', 'name tag', 'domestic', 'makeup', '5:55', 'spots', 'yacht', 'sauerkraut', 'fountain', 'gym', 'gaming', 'security', 'baltimore', '1920', 'on fridge', 'confused', 'earring', 'broom', 'tunnel', '1990', 'remote control', 'charging', 'qantas', 'age', 'reds', 'fair', 'shirt and tie', 'brewers', 'five star', 'no grass', 'snowing', 'nikon', '193', 'team', 'worms', 'state farm', 'teacher', 'hallway', '5:45', 'peanuts', 'sideways', 'bunny', 'dozens', 'far right', 'at&t', 'red, white, blue', 'in snow', 'placemat', \"they aren't\", 'blue team', 'recessed', 'victorian', 'lanes', 'ambulance', 'pigtails', 'pedestrian crossing', 'hangar', 'no sign', 'floating', 'speaking', 'sun hat', 'fashion', 'shells', 'puppy', 'shed', 'street lights', 'onion rings', 'surprised', 'skull and crossbones', 'herd', 'feeding', 'players', 'bars', '6:45', 'apples and oranges', 'scrambled', 'eiffel tower', 'rays', 'us open', 'palm trees', 'pee', '11:35', 'on tray', 'no clock', 'grandfather', 'iris', 'only', 'snoopy', '56', 'patio', 'down street', 'windmill', 'russia', 'mario', 'tattoos', 'top hat', 'willow', 'tiara', 'students', 'bird feeder', 'polar bears', 'winnie pooh', 'copyright', 'marker', 'cluttered', 'cakes', '400', 'harry potter', 'half full', 'cooler', 'chest', 'sewing', 'fire extinguisher', 'stagecoach', 'dairy queen', '1 year', 'dining', 'recently', 'not in service', 'dachshund', 'side of road', 'radish', 'lego', 'upside down', 'suits', 'crates', 'ascending', 'commuter', 'ted', 'slacks', 'surfers', 'bananas and oranges', 'hardwood', 'porch', 'not high', 'kitchenaid', 'oriental', '10:50', 'rottweiler', 'descending', \"baby's breath\", '9:05', 'pipes', 'trunks', 'mitsubishi', 'heinz', 'spices', 'kingfisher', 'cardinal', 'dough', '3rd', 'cadillac', 'braid', 'burnt', 'whipped cream', 'sas', '100 year party ct', 'in cabbage town', 'rolex', 'sweet potato', 'shingles', 'soldier', 'birdhouse', '1950s', 'jumped', 'brazil', 'bulls', 'knit', 'parrots', 'upright', 'ivory', 'welcome', 'catch', 'not at all', 'humans', 'beets', 'skinny', 'suburban', 'name', 'angle', 'warmth', 'recliner', 'lacoste', 'chevron', 'baggage claim', '3:25', 'border collie', 'to catch ball', 'dump truck', 'dog and cat', 'grassy', '30 feet', 'caboose', 'peanut butter', 'diet coke', 'dome', 'spain', 'no car', 'flats', 'day ln', '3 inches', 'presidio', 'wreath', '2015', '61', 'bald', 'camper', 'drive', '88', 'blending', 'peeling', 'linoleum', 'to catch frisbee', 'jungle', 'lemonade', 'around neck', 'on horse', 'button', 'cell', 'player', \"it's raining\", 'mango', 'shoulder length', 'button up', '700', 'marshmallows', 'left one', '150', 'give way', 'on boat', 'not likely', '1:35', 'dandelions', 'first base', 'mercedes benz', 'air transat', 'by window', 'on man', 'on tree', 'under sink', 'black and pink', '120', 'butt', '11:15', 'on field', '6 months', '1 way', '9:35', 'oar', 'peaches', 'monitors', '15 feet', 'tow', '6:25', 'fork and spoon', 'u haul', '11:20', 'black bear', 'looking at camera', 'national express', 'in corner', 'clip', \"there isn't\", 'stones', 'very old', 'omelet', 'hexagon', 'washing', '2 men', 'parakeet', 'containers', 'grape', 'throw ball', 'plastic wrap', 'all way', 'bark', 'knee', 'pancake', 'jalapenos', '1:37', 'run', 'ranch', 'tee', 'tour', 'deck', 'lift', '3:45', 'in motion', 'behind clouds', 'pear', 'swans', 'room', 'video', 'seats', 'anger', 'drums', 'easy', 'mailbox', 'wings', 'condiments', 'champagne', 'santa hat', 'fireman', 'on stand', 'jesus', '63', '8:45', 'mall', 'cycling', 'yellow and orange', 'slow down', 'aluminum foil', 'holding phone', 'squirrel', 'flush', 'planter', 'vintage', 'pelicans', 'genetics', 'pacific', 'packing', 'high heels', 'shirt and shorts', 'copper', '7:05', 'zipper', 'plow', 'vines', 'snake', 'john', 'pockets', 'csx', 'tim hortons', 'angel', 'mosaic', 'married', '178', 'apple and banana', 'pottery', 'carrot cake', 'orchids', '3:15', '54', '8:50', 'kenmore', '8:55', 'expert', 'fires', 'christian', 'walking dog', 'swinging bat', 'mouthwash', 'disney', 'on stove', 'pretzels', 'i', 'stomach', 'cushion', 'michigan', 'male and female', 'mail', 'skyscrapers', 'broccoli and carrots', 'pizza box', 'by water', 'behind truck', '1:10', 'paper towels', 'cinnamon', 'formica', 'flying tigers', '11:25', 'digital', '12:40', '99', 'red velvet', 'feroglobin', 'backward', '10:35', 'whirlpool', 'finger', 'drinking wine', 'via ferlinghetti', 'woodpecker', 'cosmo', '8:00', 'mayo', 'bunk bed', 'swim', 'penne', \"a's\", 'mets', 'calzone', 'behind camera', 'turtle', 'black and orange', 'no train', 'professional', 'left side', 'tusk', 'slippers', '68', 'dump', 'parmesan', 'pliers', '12:25', 'lilacs', 'liquor', 'lobster', '20 mph', 'no snow', 'no light', 'factory', 'athletics', 'opponent', 'butterflies', 'december', 'pomegranate', 'no flag', 'facebook', 'hooks', 'shampoo', 'mane', 'life vest', 'corgi', 'sydney', 'herself', 'using laptop', 'sledding', 'main st', 'colorful', '2005', 'acacia', 'prop', 'cessna', 'looking down', 'turning', 'shorter', 'crate', 'verizon', 'throw', 'cigarettes', 'organic', '25 cents', '10:33', '5143', 'sunny side up', 'eagles', 'on elephant', 'j', 'georgia', 'silver and red', 'car show', 'silverware', '20 minutes', 'shopping cart', 'us bank', 'derrick', '9:15', 'catholic', 'band', 'speed limit', 'notes', 'horizon', '7:40', 'younger', 'focus', 'on motorcycle', 'midday', 'sofa', 'playstation', 'police car', 'equestrian', 'philips', 'on beach', 'posts', 'stained glass', 'for safety', 'cocker spaniel', 'cover', 'silver and black', 'swiss', 'bathing suit', 'birthday cake', 'indios verdes', 'email', 'baseman', 'double', 'to sit on', 'on his face', 'machine', 'ankle', 'sesame seeds', 'clover', 'barbecue', 'picnic table', 'bored', 'behind him', 'rectangles', 'balcony', 'tiled', 'oregano', 'zig zag', 'magnet', 'alitalia', 'in tree', 'on woman', 'horse and buggy', 'crouching', 'ducati', 'ireland', 'overhead', 'motorbike', 'wired', 'nice', '111', 'motorcycle show', 'espn', 'pirate', 'spectator', 'tents', '2:45', 'cd', 'listening to music', 'sunscreen', 'water ski', 'information', 'guy', '95', 'fox', 'on rock', 'easyjet', 'eggplant', 'muffins', 'toolbox', 'games', 'banana peel', '2:05', 'doughnuts', 'in his hand', 'fanta', 'junk', 'taller', 'red light', 'under', 'parasail', 'wildebeest', 'babies', 'germanwings', 'behind people', 'blue and pink', 'potato salad', 'japan airlines', 'medicine', 'manhole', 'deli', 'ryanair', 'wax', 'lays', 'shuttle', 'yellow one', 'opaque', 'parking garage', 'blueberry', '8:32', 'rhino', 'no flowers', 'queen elizabeth', 'sleeve', 'leaning', 'doberman', 'nylon', 'on cake', 'arms', 'recent', 'y', 'hong kong', 'wheel', 'safe', 'moo', 'living', 'crossed', 'meeting', 'to sit', 'giraffe and zebra', 'seaweed', \"it isn't\", 'tourist', 'on water', 'flood', '747', 'hackney central', 'grilled cheese', 'z', 'green and brown', 'long sleeve', 'birch', 'scratching', 'escalator', 'thailand', 'black and silver', 'stop light', 'compaq', 'turn right', 'stormy', 'today', 'father', 'tater tots', 'shelter', 'washington monument', 'ham and cheese', 'turtleneck', 'outfield', 'front one', 'parking meters', 'panting', 'in her hand', 'world', 'saucer', 'hitting', 'htc', 'coffee table', 'learning', '000', '1:40', 'american airlines', '1900', 'huge', 'auburn', 'sightseeing', 'stork', 'frigidaire', 'paved', 'in cup', 'stretching', 'bowls', 'colored', 'enclosure', 'zebra and giraffe', 'banana and orange', '11:46', 'prince', 'bnsf', '10:45', 'veil', '6:40', 'manchester', 'spaniel', 'ups', 'bus driver', 'mariners', 'street signs', 'pnc bank', 'jones', 'coffee cup', 'kearny', '241', 'iron maiden', 'frowning', 'knife and spoon', 'patterned', 'dish', 'red, white, and blue', 'bent', '450', 'stallion', 'manual', '110', 'shearing sheep', 'cupboard', 'liberty', 'hunger', 'meow', 'minnie mouse', 'ring finger', 'twins', 'straps', 'handicapped', 'moped', 'waffle', 'ox', 'stem', 'tortilla', 'trolley', 'support', 'antelope', 'hanger', 'headboard', 'mustard and ketchup', 'bunch', 'mantle', 'blue angels', 'bagels', 'rider', 'clockwise', 'am', 'hbo', 'frosted', 'abc', 'windowsill', 'panasonic', 'many colors', 'old fashioned', 'gray and red', 'mad', '9:55', 'railroad', 'on refrigerator', 'padres', 'audi', 'pink and black', 'to dry', \"it doesn't\", 'on suitcase', 'oven mitt', 'on hill', '85', 'chickens', 'shape', 'behind bus', 'headdress', '74', 'rectangular', 'air show', \"can't\", 'rawlings', 'males', 'skulls', 'on bike', 'standing still', 'no woman', 'pizzeria', 'brushing his teeth', 'garlic', 'wife', 'christianity', 'i love you', 'burger king', '2:40', 'sprint', 'cop', 'wakeboard', 'handlebar', 'firemen', 'illinois', '1:22', '12:35', 'parachute', 'excited', 'water tower', 'sheetrock', 'skater', 'show', 'egypt', 'lower', 'scared', 'pot pie', 'african american', 'crackers', 'biscuit', 'backpacks', 'kimono', 'flamingo', 'sword', \"woman's\", 'truck driver', 'chrome', 'vine', '4:45', 'crossing street', 'riding elephant', 'fireworks', 'bartender', 'ticket', 'stained', 'on pizza', 'scooters', 'eason', 'vietnam', 'toothpicks', '2 dollars', 'lava lamp', 'streets', 'in stands', 'vw', 'asus', 'thousands', 'pattern', '12:28', '12:10', 'making pizza', '10:25', 'under cat', \"m&m's\", 'skateboard park', 'yahoo', 'fishing boat', 'at table', 'coffee pot', '2:30', '1930', 'limes', 'college', 'firefighter', 'best buy', 'above fireplace', 'soldiers', \"children's\", 'neat', 'gate', 'lilac', 'mixed', 'exhaust', 'control', 'hauling', 'jam', 'qatar', 'green and purple', 'white sox', 'olive', 'under counter', 'jamaica', 'parmesan cheese', 'freezer', 'venice', 'baseball uniform', 'thoroughbred', 'skeleton', 'natural habitat', 'sombrero', 'dandelion', 'life', 'blue and orange', 'statue of liberty', 'gazelle', 'greek', 'vests', 'acer', 'houseplant', 'drying hair', 'nasa', 'bird bath', 'flash', 'cameraman', 'main course', 'edinburgh', 'fluffy', 'jockeys', 'pearl', '10 minutes', 'bowler', 'schwinn', 'pans', 'to get to other side', 'very fast', \"st patrick's day\", 'folded', 'swirls', 'central', 'gum', 'toiletries', 'soccer field', 'yorkie', 'white one', 'screwdriver', 'on side', \"modell's\", 'central area', 'playing guitar', 'speed', 'monday', 'toronto', 'astros', 'no bus', 'ski boots', 'collage', 'marines', 'chalkboard', 'departing', 'burgers', 'vehicles', 'teenager', 'gazebo', 'banana split', 'wax paper', 'dawn', 'defense', 'massachusetts', 'fuel', 'tripod', 'wide', 'washing machine', 'home run', 'calling', 'doorway', 'western', 'he fell', 'decorative', 'french toast', 'pare', 'checkerboard', 'hyundai', 'filter', 'countryside', 'tree branch', 'licking', 'blue and silver', 'sandy', 'banana and apple', 'throwing ball', 'hockey', 'dim', 'loafers', 'boardwalk', 'on door', 'racquet', 'colonial', 'before', 'antenna', 'little girl', 'astroturf', 'frisbee golf', '67', 'no basket', 'george', 'smelling', 'refrigerators', 'pennsylvania', 'bottom left', 'national', '58', 'for picture', 'cleaner', 'missing', 'spider', 'sewer', 'romaine', '7:45', 'hound', 'doritos', 'china southern', 'petals', 'fat', 'amazon', '3:18', 'coca-cola', '1945', 'females', 'content', 'captive', 'spot', 'sheepdog', 'alligator', 'lancashire united', 'lancashire', 'snowbird', 'snowflakes', 'boot', 'orange and green', 'clown', 'lenovo', 'grooming', 'bidet', 'bronze', 'residence', '73', 'medical', 'suspenders', 'not long', 'teens', 'webster', 'very long', 'made', 'savory', 'cds', 'tell time', 'dress shoes', 'cincinnati', 'cranes', 'advertising', 'wine bottle', 'yellow and brown', 'macaroni and cheese', 'cleveland', 'english national opera', 'courthouse', 'standing up', 'elmo', 'macbook', 'velvet', 'gillette', 'baseball players', 'retriever', 'watch tv', 'vultures', 'lan', '5:10', 'doily', 'ginger', 'farmers', 'bath', '362', 'food processor', 'teddy roosevelt', 'metro', 'wing', 'kodak', 'mural', 'behind bench', 'tape measure', 'watermark', 'picasso', '7 feet', 'goal', 'no logo', 'bathe', 'ripe', 'wide angle', '2 inches', 'one in back', 'new orleans', 'bride', '1500', 'star wars', 'triangles', '4-way', 'over easy', 'pet', 'buns', 'paintings', 'jean', 'santa fe', 'aurora', 'no horse', 'card', 'silk', 'normal', 'used', 'union pacific', 'husband', 'burnley', 'eddie stobart', '77', 'grocery store', 'dip', 'tabasco', 'wisconsin', 'fed cu', 'robot', 'comforter', 'superdog', 'canon way', '365', 'on phone', 'anniversary', 'sponge', '7097', 'bunk beds', 'grinding', '007', '10:40', 'airtran', '8760', '59', '377 606', 'boa', 'homeless', 'above street', 'special', 'block sun', 'drill', 'leggings', 'behind train', \"can't read it\", 'folgers', 'vacuum', 'ironing board', '140', 'carpeted', 'la', 'celebrating', 'unmade', 'mesh', 'soap dispenser', 'no phone', 'praying', 'under plane', 'waist', 'calf', 'ferris wheel', 'cafeteria', 'hero', 'tea kettle', 'helping', 'on tv', 'president', 'on pan', 'pull', '98', 'now', 'salt and pepper', 'melbourne', 'laundry', 'fire station', '9:40', 'hole', 'alps', '4th of july', 'feather', 'blouse', 'brick oven', 'canary', 'perspective', 'case', '0 mph', 'long time', '3:22', 'behind toilet', 'holding baby', 'paper towel', 'for balance', 'surgery', '2 women', '1:45', 'doctor', 'lighter', 'granny smith', 'hollywood', 'on head', 'jackson', 'event', 'pears', 'protesting', 'turf', 'oregon', 'atlas', 'congratulations', 'silver and yellow', 'warriors', 'roll', 'headlights', 'play frisbee', 'tube', '2:55', 'staples', 'front left', 'melon', 'knitting', 'skyscraper', 'pulled pork', 'brushing her teeth', 'brush teeth', 'woman on right', 'dentist', 'bbq', 'violets', 'rockies', 'chives', 'deep dish', 'man and woman', 'behind horse', 'toasted', \"macy's\", 'in suitcase', 'fruit punch', 'calculator', '6 ft', 'airline', 'reigns', 'brown and tan', '3:40', 'twitter', '252', 'mugs', '336', 'atm', '10 pounds', 'donut shop', 'weather', 'no horses', 'ny', 'lambs', 'lavender', 'credit card', 'coconut', 'neon', 'boeing', 'bird seed', 'toilet paper holder', 'writing ticket', 'hula hoop', 'arrows', 'sippy cup', 'polaroid', 'audience', 'using computer', 'storm', '5:37', '$350', 'hanging from ceiling', 'not here', 'saddles', '69', 'recreational', 'kennedy', '800', 'necktie', 'white with black stripes', '12:27', 'navel', 'sharpie', 'grain', '4 way', 'isuzu', 'korail', 'pick up', 'middle aged', 'no book', 'religious', 'neutral', 'parallel', 'earbuds', 'drawers', 'thames', 'tricycle', 'station wagon', 'stella artois', 'no truck', 'rubber duck', '6:55', 'cutting pizza', 'toothbrush and toothpaste', 'frontier', 'animal', 'charger', 'new york city', 'dirt road', 'carousel', 'loud', 'cowboy hat', 'dhl', 'samuel adams', 'balancing', 'cowboys', 'heavy', 'raincoat', 'rising', 'simple', \"in man's hand\", '103', 'overhand', 'minor', 'orange and gray', '50s', 'dora', 'dog food', 'enter', 'bells', '89', 'royal air force', 'checked', 'shag', 'wall st', 'afro', 'someone', 'one world', '2014', 'name tags', 'light pole', 'day time', 'red and silver', 'cross street', 'use toilet', 'corned beef', 'purple and yellow', 'alto', 'no words', 'boredom', 'angry', 'blue and brown', 'buttons', 'jars', 'oatmeal', '90 degrees', 'pesto', 'posters', 'worn', 'oven door', '4:05', 'vodka', 'urinals', 'bump', 'frying', 'sheep and dog', 'clothesline', 'vaio', 'bible', 'cello', 'cracker', 'reebok', 'tennis balls', 'cabin', 'poop', 'on bear', 'chopped', 'bundt', 'no rug', 'buffet', 'horse and dog', '2 people', 'few', 'some', 'doors', 'slide', 'boiled', 'line', 'philadelphia', '11:45', 'propellers', 'crab', 'the', 'flock', 'second from right', 'kicking', 'schnauzer', 'tin', 'space shuttle', '11:47', 'crossing guard', 'on girl', 'looking in mirror', 'back left', 'circular', 'brooklyn', 'paw prints', 'wheelie', 'utility', '1 inch', 'everyone', '4:18', \"can't see\", 'hunting', 'man made', 'contemporary', 'girl on left', 'whalley', 'upper right', 'years', 'holding umbrella', 'laminate', 'lotion', 'girl on right', 'sweeping', 'jet ski', 'no lights', 'bus stand', 'humped zebra crossing', 'in street', 'tuxedo', '11:05', 'lock', 'sea', 'british united', 'no right turn', 'trip', 'on dog', 'faces', 'in front of him', 'pulling', 'oranges and bananas', '12:20', '108', 'narrow', 'nails', 'another man', 'rolling', 'target', 'aerial', 'pokemon', '87', 'cleanliness', 'anchor', 'outdoor store', 'catching ball', '30 mph', '11:50', 'cherry blossom', 'knees', 'cnn', 'essex park', 'old navy', '72', 'smiles', 'behind them', 'crowd', 'mashed potatoes', 'u', 'shaved', '12:45', 'nitro', 'mississippi', 'rv', 'in case', 'first aid', 'temple', 'practice', 'entering', 'taylor', 'car seat', 'remodeling', 'rollerblades', 'stationary', 'no people', 'packed', 'pub', 'scottish', 'trophy', 'dreadlocks', 'begging', 'looking in fridge', 'cox', 'salsa', 'right turn', 'yoga', 'tv stand', 'appliances', '50 years', 'boundaries', 'bay', 'worker', 'bus eireann', 'easton', 'beginning', 'scott', 'carnations', 'red and brown', 'well', 'lei', 'playing video games', 'moose', 'home office', 'lax', '5:35', '45110', 'diner', 'fire department', 'yak', 'brakes', 'hummus', 'awning', 'puma', 'teapot', 'eat it', 'more', 'single engine', 'word', 'docked', 'on roof', 'sex', 'classic', 'on bread', 'on land', 'no wind', 'marlboro', 'not deep', 'comics', 'road work ahead', 'hoagie', 'monopoly', 'meatball', 'muddy', 'pencil', 'shower head', 'hair tie', 'bigger', 'waiting for bus', 'bob marley', 'sleeves', 'not far', 'eating animals', 'light switch', 'dairy', '2 months', 'slowing down', 'owls', '685', 'alcohol', 'distance', 'puerto rico', 'cordless', 'del monte', 'barrette', 'current', 'ads', 'alone', '125', 'trays', 'juggling', 'condor', 'blue and tan', 'fly emirates', '3:43', 'algae', 'ahead', 'person on left', 'pacific southwest', 'digging', 'downward', 'dress shirt', 'salami', 'york', '11:03', 'banquet', 'salt and pepper shakers', 'ceiling fan', 'buoys', 'offense', 'cilantro', 'vitamin water', 'guinness', 'road closed', 'selling', \"they don't\", 'bows', 'lasagna', 'ghan', 'bikers', 'left of plate', '7:55', 'talking on cell phone', 'table tennis', 'mulch', 'wrench', 'lantern', 'royals', 'looking for food', 'ciabatta', 'statues', 'grits', 'dove', 'barrier', 'sleigh', 'artichoke', 'hitting it', 'angry birds', 'dvd', 'white city', 'pad', 'korean air', 'wolf', 'progressive', 'no bird', '1:24', 'wright', 'candid', 'flow', 'mountain top', 'air austral', 'dropped', '1:34', 'lta', 'warszawa', 'mechanic', 'woolwich', 'under bench', 'pabst blue ribbon', 'beads', 'water main crossing', 'jal', '6:30', '3.50', 'away from camera', 'continuum', 'marsalavej', '9:21', 'sierra mist', 'crystal brook', 'white and purple', 'document', 'automatic', '6:10', 'stump', 'live', 'tennessee', 'sulfur', 'group', 'god', 'knee pad', 'text', 'light bulb', '4:10', '6:20', 'footlong', 'fanny pack', 'power line', 'guitars', 'hot plate', 'on poles', 'stunt', 'mack', 'telescope', 'in pot', 'usaf', 'quesadilla', 'your best guess', '12:16', 'checkers', 'on snow', 'artesia', 'multiple', 'back of truck', 'lights are off', 'tostitos', 'crying', 'gray and blue', 'you', 'behind dog', '4 hours', 'aprons', 'speech', 'teaspoon', 'brothers', '10:38', 'sightseeing tour of london', 'united states of america', 'judge', 'instructions', 'bohemian hwy', 'dolphins', '1 week', 'on fence', 'cards', 'drum', 'in his hands', 'taxiing', 'house cat', 'mascot', 'unter den linden', 'convention', '20s', 'party bus', '2:03', 'friday', 'wii fit', 'tractors', 'exercise', 'here', 'concentrating', 'steve jobs', 'flatbed', 'timex', 'bra', 'holding pizza', 'riding bikes', 'charades', 'on book', '1100', 'leroy', 'rangers', 'n/a', 'crust', '9:00', 'avenue', 'next to it', 'ge money', 'informal', 'shredded', 'coors', 'man in red', 'penn', \"dog's mouth\", 'wake', 'water skier', 'arctic', 'sour', 'flea market', 't mobile', 'in chair', 'washing dishes', 'in room', 'city street', 'long neck', '1940', 'multi color', '30 years', 'singer', 'customers', 'to ski', '100 years', 'cruise ship', '4:17', 'government', 'blue one', 'lanyards', 'blue shirt', 'yellow and purple', 'taxis', 'nurse', '306', 'on baby', 'in glass', 'o', 'me', 'south america', 'gibson', 'torso', 'medieval', 'neighborhood', 'one piece', 'crash', 'father and daughter', '1/4', 'braniff', 'wristbands', 'beds', 'runner', 'under desk', 'tee ball', 'dryer', 'reflections', 'determination', 'in mirror', 'skype', 'joke', '2 miles', 'red one', 'to serve', 'gravity', 'vitamin c', 'blue and purple', 'convertible', 'stucco', 'red shirt', 'put out fires', 'pooping', 'jail', 'fine', 'oreo', 'groceries', 'oracle', 'yellow and gray', 'public market center', 'south park', '1989', '600', '5:01', 'flushing', 'pan am', '30s', 'princess', 'ownership', 'pointer', 'border', 'mario kart', 'purple and blue', '4:55', 'man in front', 'red, yellow, blue', 'another train', '7:26', 'conveyor belt', 'red team', 'exiting', '3:13', 'in sink', 'hooves', 'not busy', 'backseat', 'not ripe', 'umpiring', 'near', 'fighter jet', 'street name', 'wading', 'boy scouts', 'charcoal', 'bus lane', 'cheetos', '123', 'folding', 'eye', 'claws', 'rings', 'willesden', 'very large', 'in ground', 'israel', 'under clock', 'islam', '3 months', 'cherry blossoms', 'not in use', 'jet skiing', 'record player', 'after', 'samsonite', 'new zealand', 'east st', 'dasani', 'stuff', 'bunt', 'on computer', 'trotting', 'forklift', 'behind giraffe', 'cute', 'streetlight', 'handstand', 'jif', 'canoes', 'upper', 'tigger', 'on his back', 'dr seuss', 'same', 'feeding elephant', 'no pizza', 'brunette', 'skateboarders', 'convenience', 'brass', 'stems', 'in house', 'wait', 'very close', 'dog show', 'braids', '$20', 'dvds', 'airbus', 'above water', 'folder', 'neigh', 'unreadable', 'sun protection', 'stethoscope', 'files', 'meat and vegetables', 'hebrew', 'bozenka', '573', 'cat bed', 'barriers', 'sails', 'bumpy', '1200', 'bananas and apples', 'horn', '50 feet', '2 minutes', 'tower hill', 'pink and purple', 'stage', 'temperature', 'fans', 'conference room', '7:10', 'breast cancer awareness', 'in oven', '15 mph', 'missouri', 'cvs', 'knick knacks', 'underwear', 'in zoo', 'saw', 'kangaroo', 'powdered', 'simpsons', 'shovel', 'nationals', 'royal', 'manicured', '055', 'android', 'second from left', 'behind laptop', 'hot dog and fries', 'suede', '2 stories', 'truck route', 'marinara', 'birthday party', '144', 'opened', 'energy', 'train car', 'usopenorg', 'nypd', 'badge', 'bicycling', '11:56', 'on surfboard', 'thrown', 'behind cat', '1:25', 'fingerprints', 'victory liner', 'wash dishes', 'months', 'obstacles', 'brownie', 'forwards', 'clydesdales', 'figurine', 'flashlight', 'yellow and pink', 'doorknob', '5:32', 'woman on left', 'felt', 'anyone', 'annoyed', 'screensaver', 'march', 'blur', 'raisins', 'fishnet', 'lsu', 'quiche', 'tim horton', 'no cup', 'july', '10 ft', 'poppies', 'behind woman', 'miller', 'hard drive', '3:05', 'guardrail', 'vertically', 'fighter', 'animated', 'plains', 'glider', 'dvd player', '2:13', '2:12', 'shirt and pants', 'vinyl', 'newspapers', 'arizona', 'shop', 'chinese food', 'random', 'ra', 'paw', 'no cake', 'left to right', 'right turn only', 'hump', 'photos', 'alfredo', 'no letters', 'under tree', 'unclear', '8:15', '82', 'minute maid', 'rain boots', '12:04', 'engineer', 'ak', 'turban', 'beams', 'apple and orange', 'artwork', \"man's hand\", 'landline', 'bus station', 'to get food', 'scotland', 'washer', 'malaysia', 'suburbs', 'snowshoes', 'cylinder', 'paddling', 'banana bread', 'charlotte', 'cages', 'sisters', 'nutella', 'holding dog', '21st', 'pecans', '5:18', '96', 'ladle', '6:16', 'international', 'unloading', 'tennis outfit', 'lazy', 'firefox', 'on his neck', 'no bear', 'lips', 'meatloaf', '102', 'middle one', 'partying', 'rifle', 'capital', 'ledge', 'fruits and vegetables', 'petting cat', 'takeaway', 'hard boiled', 'fruit salad', 'carrots and celery', 'no water', 'rams', \"linda's catering\", '229', '1/3', 'bud', 'on her face', 'chicken and broccoli', 'cans', 'fire lane', '5 ft', 'royal navy', 'tacos', 'aloe', 'far away', 'straight ahead', 'masair', 'pillars', 'california berkeley', 'southern', 'greenhouse', 'posing for picture', 'flames', 'printed', 'it is not', 'ribs', 'bending', 'to hit ball', 'seaplane', 'no bucket', 'sausages', 'rocking chair', '1:47', 'at home', 'nescafe', 'blt', 'sapphire', '2nd from left', '309', 'on her head', 'transparent', 'kfc', 'front of train', 'not well', 'pads', 'kale', 'all-war', 'black one', 'cuckoo', 'friendly', 'ramps', 'peace sign', '4:40', 'ihop', 'mark winterbourne', 'spotted', 'price', '5:30', 'salad dressing', 'marc', 'dog bed', 'alpine', 'dresses', 'getting food', 'crows', 'right hand', '71', 'start', 'city park', 'sweaters', 'cross-country', 'holstein', 'aquafresh', 'putting out fires', 'walnuts', 'cat in hat', 'harvard', 'no bag', 'new mexico', 'dallas', '4 inches', 'podium', 'kiss', 'van gogh', 'canadian', 'multi-colored', 'on plates', 'cigar', 'bubbles', '76', '6:15', 'static', 'records', 'desk lamp', 'macbook pro', 'portrait', 'croatia dr', '118', 'ikea', 'movies', 'path', 'on dresser', 'dur', \"1950's\", 'collars', 'ross', 'keys court', 'ghost', 'banner', 'knocked over', 'from ground', 'crocheted', 'in half', 'red white black', 'both ways', 'booth', 'mannequin', 'shingle', 'wii bowling', 'duplicate', 'route 66', \"on man's head\", 'biplanes', 'turn left', 'shears', 'cole slaw', 'no shirt', 'tugboat', 'this one', 'sour cream', 'battery', '109', 'jack russell', 'plums', 'tennis match', 'brownies', 'pita', '8 ft', '8:20', 'wildcats', 'mallard', 'diagonal', 'muzzle', 'bnp', 'alley', 'same color', 'cable', 'to hold', 'rocket', 'poore brothers', 'toddler', 'dumpster', 'daffodil', 'braces', 'cedars assist', 'no collar', \"boy's\", 'point', 'training', 'tennis clothes', 'guacamole', 'towel rack', 'walgreens', 'evian', 'lawn mower', '145', 'marijuana', 'bonsai', 'knob', 'in wild', \"pitcher's mound\", 'no bat', 'excitement', 'rustic', 'posed', 'lettuce and tomato', 'man in middle', 'grassland', 'gnome', 'grand canyon', 'loading luggage', 'dying', 'na', 'ty', 'playground', 'heron', '3000', 'air tahiti nui', 'queilen bus', 'loop', '427', '3 hours', 'claw foot', 'cup holder', 'mums', 'to ride', '487', 'packages', 'marlins', 'burned', 'argyle', 'not much', 'pedals', 'pumpkins', 'just took off', 'ornaments', 'baby shower', 'january', 'peel', 'national welsh', 'armchair', '60019', 'e street', '8551', 'bryanelkuscom', 'hilly', '1998', 'under car', 'hawaiian punch', 'brown and yellow', 'cast iron', 'proctor', 'urine', 'lucky luke', '257', \"70's\", 'sweden', 'decorations', 'history', 'crochet', 'railion', '6:05', 'milking', 'boston downtown', 'on bat', 'view', '11:19', '02', 'instruments', 'showboat', 'high school', 'far left', 'eurolot', 'vietnamese', '11:23', 'publix', 'back one', 'early years playbus', 'around his neck', \"50's\", 'gay pride', 'parent and child', 'intel', 'ball boy', '4106', '1.10', '10:08', 'sherry', 'bees', 'roxy sexy', 'disc golf', 'salt lake city', 'opposite', 'garbage truck', 'recycling', 'lakeside', 'e liberty', 'arriva', 'st louis', 'cleaning itself', 'bowness', 'under bed', \"can't you see it's green?\", 'lost', 'tennis players', '8:40', '6861', 'office supplies', 'noodles & company', 'bullhead pkwy', 'click', '7:58', '1431', 'garuda', '215', 'spice oven', 'per s marco', 'tardis', 'xper']\n"
          ]
        }
      ],
      "source": [
        "top_answers = [a[0] for a in top]\n",
        "print(top_answers)"
      ]
    },
    {
      "cell_type": "code",
      "execution_count": null,
      "metadata": {
        "colab": {
          "base_uri": "https://localhost:8080/"
        },
        "id": "gb7qae9gtrZ9",
        "outputId": "24d42b36-b720-423f-80fe-a7a609ad6d8b"
      },
      "outputs": [
        {
          "output_type": "stream",
          "name": "stdout",
          "text": [
            "['giraffe', 'surfboard', 'woman', 'cake', 'sunny', 'broccoli', 'eating', 'table', 'hat', 'apple']\n"
          ]
        }
      ],
      "source": [
        "answers = top_answers[sampling_exclude_top:num_answers + sampling_exclude_top]\n",
        "print(answers)"
      ]
    },
    {
      "cell_type": "code",
      "execution_count": null,
      "metadata": {
        "colab": {
          "base_uri": "https://localhost:8080/"
        },
        "id": "P8X1Wim3t7ac",
        "outputId": "009a730a-f42a-4f51-d0c0-df27bb7f25d3"
      },
      "outputs": [
        {
          "output_type": "stream",
          "name": "stdout",
          "text": [
            "[638, 624, 607, 605, 594, 590, 587, 584, 576, 576]\n"
          ]
        }
      ],
      "source": [
        "max_possible_samples = [answers_population[a] for a in answers]\n",
        "print(max_possible_samples)"
      ]
    },
    {
      "cell_type": "code",
      "execution_count": null,
      "metadata": {
        "colab": {
          "base_uri": "https://localhost:8080/"
        },
        "id": "TH4uGKHFwKcJ",
        "outputId": "78e1d5e2-5ae8-4f50-8126-85ab505214c6"
      },
      "outputs": [
        {
          "output_type": "execute_result",
          "data": {
            "text/plain": [
              "5981"
            ]
          },
          "metadata": {},
          "execution_count": 18
        }
      ],
      "source": [
        "sum(max_possible_samples)"
      ]
    },
    {
      "cell_type": "code",
      "execution_count": null,
      "metadata": {
        "colab": {
          "base_uri": "https://localhost:8080/",
          "height": 534
        },
        "id": "j_AaMkdVoyD9",
        "outputId": "b46d68f4-5b57-460b-d994-9b507f067d46"
      },
      "outputs": [
        {
          "output_type": "stream",
          "name": "stdout",
          "text": [
            "Chosen answers: ['giraffe', 'surfboard', 'woman', 'cake', 'sunny', 'broccoli', 'eating', 'table', 'hat', 'apple']\n",
            "Num samples: 5981\n",
            "Labels distribution:\n"
          ]
        },
        {
          "output_type": "display_data",
          "data": {
            "text/plain": [
              "<Figure size 640x480 with 1 Axes>"
            ],
            "image/png": "[encoded data removed]"
          },
          "metadata": {}
        },
        {
          "output_type": "stream",
          "name": "stdout",
          "text": [
            "[('giraffe', 638), ('surfboard', 624), ('woman', 607), ('cake', 605), ('sunny', 594), ('broccoli', 590), ('eating', 587), ('table', 584), ('hat', 576), ('apple', 576)]\n",
            "\n",
            "Unhappy ? restart cell...\n"
          ]
        }
      ],
      "source": [
        "def get_answers(num_answers, sampling_type, min_samples, sampling_exclude_top):\n",
        "  assert (num_unique_answers - sampling_exclude_top) > num_answers, \"too big sampling_exclude_top, not enough answer left for num_answers\"\n",
        "  assert min_samples < max_samples\n",
        "\n",
        "  top = answers_population.most_common()\n",
        "  top_answers = [a[0] for a in top]\n",
        "\n",
        "  if sampling_type == 'top':\n",
        "    answers = top_answers[sampling_exclude_top:num_answers + sampling_exclude_top]\n",
        "    max_possible_samples = [answers_population[a] for a in answers]\n",
        "\n",
        "  elif sampling_type == 'random':\n",
        "    # select random answers\n",
        "    rand_index = random.sample(range(sampling_exclude_top, num_unique_answers), num_answers)\n",
        "    answers = [top_answers[r] for r in rand_index]\n",
        "\n",
        "    # compute the number of samples available\n",
        "    max_possible_samples = [answers_population[a] for a in answers]\n",
        "\n",
        "    swaps = 0\n",
        "    pbar = tqdm(10000, position=0, leave=True)\n",
        "\n",
        "    while sum(max_possible_samples) < min_samples or sum(max_possible_samples) > max_samples:\n",
        "      a = random.choice(answers)\n",
        "      index = top_answers.index(a)\n",
        "\n",
        "      if sum(max_possible_samples) < min_samples:\n",
        "        # Fitting a response with higher population\n",
        "        min_index = sampling_exclude_top\n",
        "        if index <= sampling_exclude_top: #cant do better\n",
        "          continue\n",
        "        new_answer = top_answers[random.randint(min_index, index-1)] \n",
        "      else:\n",
        "        # Fitting a response with lower population\n",
        "        max_index = len(top_answers) - sampling_exclude_bottom\n",
        "        if index >= max_index: #cant do better\n",
        "          continue\n",
        "        new_answer = top_answers[random.randint(index+1, max_index)]\n",
        "\n",
        "      if new_answer in answers: # already have this answer\n",
        "        continue\n",
        "\n",
        "      answers.remove(a)\n",
        "      answers.append(new_answer)\n",
        "\n",
        "      # update num of samples\n",
        "      max_possible_samples = [answers_population[a] for a in answers]\n",
        "\n",
        "      swaps +=1\n",
        "      if swaps == int(10e3):\n",
        "        raise StopIteration(\"Too much iterations, it possible there is no configuration for your scenario\")\n",
        "      pbar.update(1)\n",
        "      pbar.set_description('current_samples:{}'.format(sum(max_possible_samples)))\n",
        "    print(\"\\ndone!\")\n",
        "  else:\n",
        "    raise NotImplementedError()\n",
        "  dataset = {a:q for a, q in questions_by_answer_type.items() if a in answers}\n",
        "  return dataset, answers, max_possible_samples\n",
        "\n",
        "\n",
        "dataset, answers, max_possible_samples = get_answers(num_answers, sampling_type, min_samples, sampling_exclude_top)\n",
        "\n",
        "assert len(set(answers)) == num_answers, \"Something went wrong, let's try again\"\n",
        "\n",
        "\n",
        "# Print results\n",
        "print(\"Chosen answers:\", answers)\n",
        "print(\"Num samples:\", sum(max_possible_samples))\n",
        "print(\"Labels distribution:\")\n",
        "\n",
        "plt.bar(range(num_answers), max_possible_samples)\n",
        "plt.show()\n",
        "print(Counter({a:len(q) for a, q in dataset.items()}).most_common())\n",
        "print('\\nUnhappy ? restart cell...')\n"
      ]
    },
    {
      "cell_type": "code",
      "execution_count": null,
      "metadata": {
        "colab": {
          "base_uri": "https://localhost:8080/"
        },
        "id": "7j_UN9w_ykGi",
        "outputId": "7c4f9dce-1787-4228-94ef-b8054eb594ef"
      },
      "outputs": [
        {
          "output_type": "stream",
          "name": "stdout",
          "text": [
            "Chosen answers: ['giraffe', 'surfboard', 'woman', 'cake', 'sunny', 'broccoli', 'eating', 'table', 'hat', 'apple']\n",
            "Num samples: 5981\n",
            "Labels distribution:\n",
            "[('giraffe', 638), ('surfboard', 624), ('woman', 607), ('cake', 605), ('sunny', 594), ('broccoli', 590), ('eating', 587), ('table', 584), ('hat', 576), ('apple', 576)]\n"
          ]
        }
      ],
      "source": [
        "print(\"Chosen answers:\", answers)\n",
        "print(\"Num samples:\", sum(max_possible_samples))\n",
        "print(\"Labels distribution:\")\n",
        "print(Counter({a:len(q) for a, q in dataset.items()}).most_common())"
      ]
    },
    {
      "cell_type": "markdown",
      "metadata": {
        "id": "EQKIUy3EghIA"
      },
      "source": [
        "# Step 5. Create dataset files\n",
        "\n",
        "\n",
        "1.   **Samples clipping** : Set to select maximum n samples per answer\n",
        "2.   **im_download**: You can choose to download images directly through http request. This process might be slow if you picked a lot of samples. Might as well get a cup of coffee."
      ]
    },
    {
      "cell_type": "code",
      "execution_count": null,
      "metadata": {
        "id": "TwgHQuslhiKW"
      },
      "outputs": [],
      "source": [
        "im_download=False\n",
        "sample_clipping=100 # false for no clipping"
      ]
    },
    {
      "cell_type": "code",
      "execution_count": null,
      "metadata": {
        "id": "f4p5MNnGzBmg"
      },
      "outputs": [],
      "source": [
        "dataset"
      ]
    },
    {
      "cell_type": "code",
      "execution_count": null,
      "metadata": {
        "colab": {
          "base_uri": "https://localhost:8080/"
        },
        "id": "-FgQC2ECzJzg",
        "outputId": "e1a64114-3e5c-4203-dc0d-9c441932a0f1"
      },
      "outputs": [
        {
          "output_type": "execute_result",
          "data": {
            "text/plain": [
              "dict_keys(['surfboard', 'eating', 'cake', 'table', 'hat', 'giraffe', 'broccoli', 'woman', 'sunny', 'apple'])"
            ]
          },
          "metadata": {},
          "execution_count": 23
        }
      ],
      "source": [
        "dataset.keys()"
      ]
    },
    {
      "cell_type": "code",
      "execution_count": null,
      "metadata": {
        "colab": {
          "base_uri": "https://localhost:8080/"
        },
        "id": "GDy7a4gib70R",
        "outputId": "4579c7a1-a694-4bba-f4ed-9fcd558307f9"
      },
      "outputs": [
        {
          "output_type": "stream",
          "name": "stderr",
          "text": [
            "100%|██████████| 10/10 [00:00<00:00, 3359.74it/s]"
          ]
        },
        {
          "output_type": "stream",
          "name": "stdout",
          "text": [
            "\n",
            "\n",
            "836 images for 1000 questions\n",
            "five samples of image_question [(131087, [(131087000, 'What is the dog riding on?')]), (471373, [(471373004, 'What is this man laying on?')]), (474858, [(474858009, 'What is lying on the ground?')]), (262545, [(262545002, 'What is the man holding in his right hand?')]), (475765, [(475765004, 'What does the person have in their hand?')])]\n",
            "five samples of question_label [(131087000, 0), (471373004, 0), (474858009, 0), (262545002, 0), (475765004, 0)]\n",
            "five samples of label_question [('surfboard', [131087000, 471373004, 474858009, 262545002, 475765004, 263278000, 263278001, 1639003, 264091003, 133508000, 527656000, 527656004, 371939000, 459339006, 134697002, 78684006, 528131003, 134948000, 153572011, 528471000, 460055003, 460055005, 460055007, 529340002, 398596008, 5425000, 5740001, 399241010, 399885011, 531459002, 269490001, 310128002, 7535002, 7535020, 400829000, 7650000, 138749000, 139389001, 154349011, 285473002, 88875001, 525790007, 140473000, 271729000, 403109001, 403271000, 534417003, 327682000, 327682004, 10600002, 141893002, 176720000, 176720002, 11996002, 143286005, 274386002, 12251001, 12678000, 67656000, 417261005, 13355003, 13728000, 14113000, 1900002, 407698000, 14801010, 146084002, 408735001, 526887004, 38117001, 278555001, 278612006, 409949004, 409949006, 279058000, 148361000, 148642002, 148646003, 148780000, 148828003, 18157002, 280622000, 280622013, 149810002, 280923002, 149996002, 18935000, 150082001, 150773000, 282209002, 156328002, 151658000, 20770001, 282952001, 151959002, 521824007, 156480019, 414923003, 546274000, 528840001]), ('eating', [25001, 144000, 409739002, 393325013, 366651001, 109409002, 132310010, 109156000, 132529002, 263878013, 316001004, 264395003, 526594004, 526598001, 405982002, 395740004, 436017, 395965008, 527623001, 519489002, 135480000, 136078000, 529360007, 459659000, 267649000, 530285000, 268388004, 399841001, 269051015, 269051020, 400199007, 269232004, 401416003, 139416017, 139416019, 139416029, 8429001, 537122009, 401835003, 139796002, 270871001, 533224003, 460078004, 533451004, 533803007, 329268003, 416684000, 141862026, 141862030, 141862038, 141862040, 10881002, 264020000, 142674000, 142686001, 405013011, 274642003, 532895001, 12792003, 406296004, 144484005, 445628008, 406666003, 13576000, 13754000, 538090000, 538182001, 538182002, 276064001, 145155001, 145179001, 145351003, 538957000, 145845007, 68030001, 14998001, 539359004, 408333000, 408405003, 408460000, 408479000, 408556001, 15652002, 15652004, 111945000, 147539002, 278793001, 16935002, 148215001, 279511010, 279511020, 279584013, 148541010, 17602001, 542213010, 149253004, 249384004, 280422005, 520005002, 149921001]), ('cake', [393251003, 524975003, 131909000, 131909008, 131909026, 131909030, 526522002, 436016, 546695002, 396725005, 396725010, 396725013, 396725016, 396725023, 43774001, 43774027, 43774039, 397217000, 4259008, 4259011, 397860003, 529804001, 137006002, 268317001, 268317003, 6230002, 530713002, 530898000, 531316000, 400377003, 7420009, 7420011, 154212006, 8024002, 8043002, 139604003, 139604005, 140114005, 9425000, 271803000, 271803001, 534543003, 534892001, 534892002, 403888003, 10856001, 535289000, 535289002, 309404000, 309404016, 309404021, 157198001, 157198002, 157198004, 273782000, 404865004, 405291001, 576526000, 537825003, 537825014, 406805002, 192953000, 538633002, 14402002, 146121002, 146249002, 15586001, 409091003, 409767002, 17877001, 149202003, 543661002, 440285009, 440285027, 462151001, 413628004, 414002005, 152871006, 152871010, 283960000, 22193000, 22564011, 284732001, 284732008, 284759000, 284759001, 547284000, 547284002, 155106003, 24086003, 24086004, 548377000, 548575000, 287119000, 135288003, 306376010, 306376014, 550239004, 550239020, 550239034]), ('table', [458763000, 524866005, 87525004, 525179002, 525529001, 264365001, 396136004, 265196002, 396743003, 527866000, 265843001, 3911027, 4642005, 4714001, 529019007, 168239003, 437756006, 5483002, 267719000, 136894000, 530286013, 268227002, 6151008, 503479044, 137365007, 530713000, 137999005, 138032001, 400560012, 138461000, 400999003, 8733001, 402170007, 209809000, 533898000, 534000025, 534000026, 184184001, 272026021, 329150001, 419334004, 403459000, 403463007, 10369000, 404361003, 273497001, 404592001, 526247000, 273979004, 274477000, 274537004, 536935000, 405864001, 405864002, 143783007, 12784004, 275271005, 133281011, 538133006, 276004006, 14034003, 351972040, 395684000, 146121001, 65984002, 277798001, 277798005, 146933002, 146933005, 440049000, 540617000, 308582001, 297157012, 410398008, 148291001, 279477001, 279479008, 17936006, 18244001, 280442001, 18333005, 542950003, 543164002, 236318009, 543333003, 281382000, 3219002, 543661004, 150502015, 544253000, 151053005, 156258001, 413374000, 21280004, 545930000, 545930002, 415052001, 21921003, 547165017, 22882039]), ('hat', [86002, 262967003, 263189000, 526290000, 264179001, 133467031, 133937001, 527264001, 265273003, 265273009, 22427001, 527907013, 78684004, 528060001, 111756002, 306511005, 135163001, 135163006, 397819006, 44580000, 268512009, 268617001, 68130004, 531033009, 6846000, 531201003, 400377001, 269381008, 400599002, 400706002, 169003022, 306440000, 7953002, 506550005, 399973001, 235740000, 8657003, 140065001, 140284005, 144337000, 533757000, 272082002, 403271001, 272797002, 166207006, 404005005, 404005008, 10871000, 142350003, 154869002, 236074001, 274105000, 491525008, 491525019, 274690002, 12916000, 406855000, 275922000, 275938001, 407238000, 145128001, 407548000, 14960001, 352041003, 65984010, 539906001, 423881002, 175558004, 278238000, 16142006, 16827006, 148276001, 524317002, 148422001, 148474012, 148474014, 410904002, 148994010, 148994012, 489107019, 542475002, 411740001, 18866001, 412208002, 412445005, 134294000, 134294021, 134294026, 19489000, 281742004, 19838001, 413868006, 152286012, 283524005, 152614002, 283965001, 21883007, 21883009, 415232018, 416048000])]\n"
          ]
        },
        {
          "output_type": "stream",
          "name": "stderr",
          "text": [
            "\n"
          ]
        }
      ],
      "source": [
        "image_question = defaultdict(list)\n",
        "label_question = defaultdict(list)\n",
        "question_label = {}\n",
        "answer_list = list(dataset.keys())\n",
        "\n",
        "im_dir = \"data/images\"\n",
        "os.makedirs(im_dir, exist_ok=True)\n",
        "pbar = tqdm(dataset.items(), position=0, leave=True)\n",
        "\n",
        "for answer, questions in pbar:\n",
        "  if sample_clipping:\n",
        "    questions = questions[:sample_clipping]\n",
        "\n",
        "  for i, q in enumerate(questions):\n",
        "    question, image_id, question_id = q\n",
        "    if im_download:\n",
        "      filename = 'COCO_train2014_'+ str(image_id).zfill(12) + '.jpg'\n",
        "      pbar.set_description(\"Downloading images for answer {} [{}/{}] {}\".format(answer, i, len(questions), filename))\n",
        "      src = os.path.join('https://vqa_mscoco_images.s3.amazonaws.com/train2014/', filename)\n",
        "      trg = os.path.join(im_dir, filename)\n",
        "      if not os.path.exists(trg):\n",
        "        urllib.request.urlretrieve(src, trg)\n",
        "\n",
        "    # Filling dict\n",
        "    image_question[image_id].append((question_id, question))\n",
        "    label_question[answer].append(question_id)\n",
        "    question_label[question_id] = answer_list.index(answer)\n",
        "  \n",
        "print('\\n')\n",
        "print(len(image_question), 'images for', len(question_label), 'questions')\n",
        "\n",
        "print('five samples of image_question', list(image_question.items())[:5])\n",
        "print('five samples of question_label', list(question_label.items())[:5])\n",
        "print('five samples of label_question', list(label_question.items())[:5])\n",
        "\n"
      ]
    },
    {
      "cell_type": "markdown",
      "metadata": {
        "id": "a0GNEkA2wedh"
      },
      "source": [
        "# Step 6 (optional). Resize images\n",
        "\n",
        "For your mini-VQA project, you might want to use lower resolution for your images (faster training).\n",
        "\n",
        "1.   **resize** : Squared resize of n pixels"
      ]
    },
    {
      "cell_type": "code",
      "execution_count": null,
      "metadata": {
        "id": "IKY1FcIRq-Sy"
      },
      "outputs": [],
      "source": [
        "resize = 128"
      ]
    },
    {
      "cell_type": "code",
      "execution_count": null,
      "metadata": {
        "colab": {
          "base_uri": "https://localhost:8080/"
        },
        "id": "xH0LWUGA3EWJ",
        "outputId": "55d2958b-0a1e-4d1b-c363-d5378246c546"
      },
      "outputs": [
        {
          "output_type": "stream",
          "name": "stderr",
          "text": [
            "0it [00:00, ?it/s]\n"
          ]
        }
      ],
      "source": [
        "im_dir = \"data/images\"\n",
        "outdir = \"data/images_resized\"\n",
        "os.makedirs(outdir, exist_ok=True)\n",
        "\n",
        "images = glob.glob(os.path.join(im_dir, '*'))\n",
        "for im in tqdm(images, position=0, leave=True):\n",
        "  try:\n",
        "    im_resized = os.path.basename(im).replace(\".jpg\", \"_resized.jpg\")\n",
        "    image = Image.open(im)\n",
        "    image = image.resize((resize,resize), Image.ANTIALIAS)\n",
        "    image.save(os.path.join(outdir, im_resized), \"JPEG\")\n",
        "  except Exception as e:\n",
        "    print(e)\n",
        "    print(\"Its possible the image is corrupted, re-download it\")\n",
        "    raise\n"
      ]
    },
    {
      "cell_type": "markdown",
      "metadata": {
        "id": "PGPr3dJaqQzr"
      },
      "source": [
        "# Step 7. Explore the question embedding space\n",
        "Compute embeddings using a pretrained bert-base-nli-mean-tokens. Feel free to change the model.\n"
      ]
    },
    {
      "cell_type": "code",
      "execution_count": null,
      "metadata": {
        "colab": {
          "base_uri": "https://localhost:8080/"
        },
        "id": "6dxuDY-AxaB9",
        "outputId": "7c96bfe7-0977-4e6d-f9e2-3ec6089f7637"
      },
      "outputs": [
        {
          "output_type": "stream",
          "name": "stdout",
          "text": [
            "Looking in indexes: https://pypi.org/simple, https://us-python.pkg.dev/colab-wheels/public/simple/\n",
            "Collecting sentence_transformers\n",
            "  Downloading sentence-transformers-2.2.2.tar.gz (85 kB)\n",
            "\u001b[2K     \u001b[90m━━━━━━━━━━━━━━━━━━━━━━━━━━━━━━━━━━━━━━━━\u001b[0m \u001b[32m86.0/86.0 kB\u001b[0m \u001b[31m5.7 MB/s\u001b[0m eta \u001b[36m0:00:00\u001b[0m\n",
            "\u001b[?25h  Preparing metadata (setup.py) ... \u001b[?25l\u001b[?25hdone\n",
            "Collecting transformers<5.0.0,>=4.6.0\n",
            "  Downloading transformers-4.28.1-py3-none-any.whl (7.0 MB)\n",
            "\u001b[2K     \u001b[90m━━━━━━━━━━━━━━━━━━━━━━━━━━━━━━━━━━━━━━━━\u001b[0m \u001b[32m7.0/7.0 MB\u001b[0m \u001b[31m16.3 MB/s\u001b[0m eta \u001b[36m0:00:00\u001b[0m\n",
            "\u001b[?25hRequirement already satisfied: tqdm in /usr/local/lib/python3.10/dist-packages (from sentence_transformers) (4.65.0)\n",
            "Requirement already satisfied: torch>=1.6.0 in /usr/local/lib/python3.10/dist-packages (from sentence_transformers) (2.0.0+cu118)\n",
            "Requirement already satisfied: torchvision in /usr/local/lib/python3.10/dist-packages (from sentence_transformers) (0.15.1+cu118)\n",
            "Requirement already satisfied: numpy in /usr/local/lib/python3.10/dist-packages (from sentence_transformers) (1.22.4)\n",
            "Requirement already satisfied: scikit-learn in /usr/local/lib/python3.10/dist-packages (from sentence_transformers) (1.2.2)\n",
            "Requirement already satisfied: scipy in /usr/local/lib/python3.10/dist-packages (from sentence_transformers) (1.10.1)\n",
            "Requirement already satisfied: nltk in /usr/local/lib/python3.10/dist-packages (from sentence_transformers) (3.8.1)\n",
            "Collecting sentencepiece\n",
            "  Downloading sentencepiece-0.1.98-cp310-cp310-manylinux_2_17_x86_64.manylinux2014_x86_64.whl (1.3 MB)\n",
            "\u001b[2K     \u001b[90m━━━━━━━━━━━━━━━━━━━━━━━━━━━━━━━━━━━━━━━━\u001b[0m \u001b[32m1.3/1.3 MB\u001b[0m \u001b[31m17.2 MB/s\u001b[0m eta \u001b[36m0:00:00\u001b[0m\n",
            "\u001b[?25hCollecting huggingface-hub>=0.4.0\n",
            "  Downloading huggingface_hub-0.14.1-py3-none-any.whl (224 kB)\n",
            "\u001b[2K     \u001b[90m━━━━━━━━━━━━━━━━━━━━━━━━━━━━━━━━━━━━━━\u001b[0m \u001b[32m224.5/224.5 kB\u001b[0m \u001b[31m13.7 MB/s\u001b[0m eta \u001b[36m0:00:00\u001b[0m\n",
            "\u001b[?25hRequirement already satisfied: filelock in /usr/local/lib/python3.10/dist-packages (from huggingface-hub>=0.4.0->sentence_transformers) (3.12.0)\n",
            "Requirement already satisfied: typing-extensions>=3.7.4.3 in /usr/local/lib/python3.10/dist-packages (from huggingface-hub>=0.4.0->sentence_transformers) (4.5.0)\n",
            "Requirement already satisfied: pyyaml>=5.1 in /usr/local/lib/python3.10/dist-packages (from huggingface-hub>=0.4.0->sentence_transformers) (6.0)\n",
            "Requirement already satisfied: requests in /usr/local/lib/python3.10/dist-packages (from huggingface-hub>=0.4.0->sentence_transformers) (2.27.1)\n",
            "Requirement already satisfied: fsspec in /usr/local/lib/python3.10/dist-packages (from huggingface-hub>=0.4.0->sentence_transformers) (2023.4.0)\n",
            "Requirement already satisfied: packaging>=20.9 in /usr/local/lib/python3.10/dist-packages (from huggingface-hub>=0.4.0->sentence_transformers) (23.1)\n",
            "Requirement already satisfied: sympy in /usr/local/lib/python3.10/dist-packages (from torch>=1.6.0->sentence_transformers) (1.11.1)\n",
            "Requirement already satisfied: jinja2 in /usr/local/lib/python3.10/dist-packages (from torch>=1.6.0->sentence_transformers) (3.1.2)\n",
            "Requirement already satisfied: networkx in /usr/local/lib/python3.10/dist-packages (from torch>=1.6.0->sentence_transformers) (3.1)\n",
            "Requirement already satisfied: triton==2.0.0 in /usr/local/lib/python3.10/dist-packages (from torch>=1.6.0->sentence_transformers) (2.0.0)\n",
            "Requirement already satisfied: cmake in /usr/local/lib/python3.10/dist-packages (from triton==2.0.0->torch>=1.6.0->sentence_transformers) (3.25.2)\n",
            "Requirement already satisfied: lit in /usr/local/lib/python3.10/dist-packages (from triton==2.0.0->torch>=1.6.0->sentence_transformers) (16.0.2)\n",
            "Requirement already satisfied: regex!=2019.12.17 in /usr/local/lib/python3.10/dist-packages (from transformers<5.0.0,>=4.6.0->sentence_transformers) (2022.10.31)\n",
            "Collecting tokenizers!=0.11.3,<0.14,>=0.11.1\n",
            "  Downloading tokenizers-0.13.3-cp310-cp310-manylinux_2_17_x86_64.manylinux2014_x86_64.whl (7.8 MB)\n",
            "\u001b[2K     \u001b[90m━━━━━━━━━━━━━━━━━━━━━━━━━━━━━━━━━━━━━━━━\u001b[0m \u001b[32m7.8/7.8 MB\u001b[0m \u001b[31m17.6 MB/s\u001b[0m eta \u001b[36m0:00:00\u001b[0m\n",
            "\u001b[?25hRequirement already satisfied: joblib in /usr/local/lib/python3.10/dist-packages (from nltk->sentence_transformers) (1.2.0)\n",
            "Requirement already satisfied: click in /usr/local/lib/python3.10/dist-packages (from nltk->sentence_transformers) (8.1.3)\n",
            "Requirement already satisfied: threadpoolctl>=2.0.0 in /usr/local/lib/python3.10/dist-packages (from scikit-learn->sentence_transformers) (3.1.0)\n",
            "Requirement already satisfied: pillow!=8.3.*,>=5.3.0 in /usr/local/lib/python3.10/dist-packages (from torchvision->sentence_transformers) (8.4.0)\n",
            "Requirement already satisfied: MarkupSafe>=2.0 in /usr/local/lib/python3.10/dist-packages (from jinja2->torch>=1.6.0->sentence_transformers) (2.1.2)\n",
            "Requirement already satisfied: urllib3<1.27,>=1.21.1 in /usr/local/lib/python3.10/dist-packages (from requests->huggingface-hub>=0.4.0->sentence_transformers) (1.26.15)\n",
            "Requirement already satisfied: certifi>=2017.4.17 in /usr/local/lib/python3.10/dist-packages (from requests->huggingface-hub>=0.4.0->sentence_transformers) (2022.12.7)\n",
            "Requirement already satisfied: idna<4,>=2.5 in /usr/local/lib/python3.10/dist-packages (from requests->huggingface-hub>=0.4.0->sentence_transformers) (3.4)\n",
            "Requirement already satisfied: charset-normalizer~=2.0.0 in /usr/local/lib/python3.10/dist-packages (from requests->huggingface-hub>=0.4.0->sentence_transformers) (2.0.12)\n",
            "Requirement already satisfied: mpmath>=0.19 in /usr/local/lib/python3.10/dist-packages (from sympy->torch>=1.6.0->sentence_transformers) (1.3.0)\n",
            "Building wheels for collected packages: sentence_transformers\n",
            "  Building wheel for sentence_transformers (setup.py) ... \u001b[?25l\u001b[?25hdone\n",
            "  Created wheel for sentence_transformers: filename=sentence_transformers-2.2.2-py3-none-any.whl size=125942 sha256=2e6281fa7f3951cdf643f65bb6cc17c2aa1c1c88b76ece30e94eefd38945d723\n",
            "  Stored in directory: /root/.cache/pip/wheels/62/f2/10/1e606fd5f02395388f74e7462910fe851042f97238cbbd902f\n",
            "Successfully built sentence_transformers\n",
            "Installing collected packages: tokenizers, sentencepiece, huggingface-hub, transformers, sentence_transformers\n",
            "Successfully installed huggingface-hub-0.14.1 sentence_transformers-2.2.2 sentencepiece-0.1.98 tokenizers-0.13.3 transformers-4.28.1\n"
          ]
        }
      ],
      "source": [
        "!pip install sentence_transformers"
      ]
    },
    {
      "cell_type": "code",
      "execution_count": null,
      "metadata": {
        "colab": {
          "base_uri": "https://localhost:8080/",
          "height": 589,
          "referenced_widgets": [
            "5d07a4adee5049d0ad96f18ffc970277",
            "32759f336f5442feadf455c77efb3e69",
            "9d7141eb51ff4dd598ceeccd6a62a14c",
            "cc885b7ee97443aab03903d7d4b9f021",
            "e02e22b775d84003b321455bed0df68c",
            "c7d2baa7902b4835a4516f6f5200063a",
            "51ef70adebcb4235aa0d6919772ad4e4",
            "56292d5a1a7f40619656294fcaa77e38",
            "aeedbd6541bd406a9febf9286006e270",
            "e03cde8ac3cf4e19bc6b0a5be4334b15",
            "feb9def3259246f6b31b8887a840ba73",
            "6dea2518723b4609983a34d06974680c",
            "d840982c728243649fabfd009e2742f4",
            "1dbe579b168d4a2296837f4494f6f82e",
            "b3284988392043a88cdb52ca19b5e539",
            "cdfe253e5e254de7bd188a1d4bcf13a7",
            "821427253e2741069e18b6ac38e6995e",
            "0cdf1b41d5f648b794f2f798798c20d5",
            "335a368e9ca24a5b9106c93708f832b8",
            "28c92939e58e4d2f964e2c0e863dd565",
            "c21c03e7f0204d029c9b05992ecdff19",
            "0b49e1331e9043d48dd85893a30b3785",
            "034996f1711240108fd4f8d7f8658d16",
            "08f11be831ff4185b531812ab8ec1e8e",
            "12ad4b10796d4f768f958df956200110",
            "090ec237059946e4b476917798bc85d4",
            "845bfbca1ffa4c909c6983868d9854db",
            "340500147cf44eb99e9d1969abdc858c",
            "3afb2455ba5c4fb8b3214b649d3faae3",
            "1792ebab605c401b987a6db1ad03017d",
            "c32594e9400149e493fed877ac6e4f95",
            "692195d1cb3f48b98c456430ca6f7f62",
            "52862c953d8a4538820b2f1fb4fe5571",
            "ae70a0f712ff44438ec702e27d6e52b8",
            "b24261dc11a94e62b7b74b4a2fac882f",
            "2b0de2cd8e544c328c51f34321341b85",
            "bec5735dafff493897a295342157d247",
            "aa37c95f57ce44edbeca9e74b41edadc",
            "317cb7c3645b4e25b6de70d1fd691487",
            "791edeead99d44cab986c3b40e6ff5be",
            "2f2f7eccdb704c7cadc36ddd3dc100fe",
            "c1ed750d092d4be68d91e54560d46431",
            "840b498eb185420197d651f98e06051a",
            "b1b9fdefc5e440b4aaa41b02af29f380",
            "e7bfa9ccc5864cf0b8324b21204d179b",
            "3ce899a8bf6848bc9982fed304af92d6",
            "b637427ddb494970b114b383bf599c66",
            "0ebe01bc76384686904eedae28c3d461",
            "dd574849aac8489b8b6e9027358ed362",
            "c86ab95cb39f417c95460098dcb0bd20",
            "d883a46e4dee4006b919aaea9c7b5dc7",
            "d8b77e68573b47fb933dead44868dc62",
            "1767a6b53b464b0ca7c94654005c61ca",
            "1523eb05536e4a988e67e189384fa406",
            "decd0b3676cd4bc0ad11b5105164100e",
            "5920b8eb07ba4248a37d2882ce28149c",
            "68898665dda14b48969a7acfab6e4912",
            "b0dba40e5b5b40e1a02c6a7c2b15b5cf",
            "83bab8fc03714db482b5deffc876e309",
            "ca6e0ec72f1f498c8d909ac297e63b1a",
            "ce13463e34c64b469fb8938b04439abe",
            "2778469132fc4a27be59309ede0cbca5",
            "13d65acae5d941a28f4b0f08bc4a72d2",
            "5d10e7ad68274d28866dc6ccb080bcfa",
            "4703110cdef34105a8198831f2c02d2a",
            "5fcf244d8f884df198e9c42dbde6fe96",
            "f609ed576ff84c6783d8d794795160c3",
            "7157002f7316411582fb4ead744df17f",
            "1bdbb2da14d7493181238a5b486d65b3",
            "65059efd11704d76aabf3ea6ba181193",
            "aa789565a58c4b54b836c13fb452bb2e",
            "0134f55bf5b14a0eab304acd22de3924",
            "d19733f19de845caaf725d119a312cd0",
            "f41cd05e040f4c2cacf1918b878d8cca",
            "937506e91bc548448cc899beb184dc12",
            "03b5b5347c8d4d1f9ebe48ce24621cc9",
            "4aea1f940e5e47e19be6b68e66f3603b",
            "5c003d4fab064732bb7442e0deca7922",
            "34ac422500b54b9ab0722da09d6824a9",
            "75a3e223e55145c79e19746584389955",
            "a2943a705bd74757ac0cebec689921af",
            "28797a42e6644358ad6241edf4831a84",
            "a0e1aa5e3c0744a68ff3c2180b888204",
            "8a7ba25da8cc4dacad207559e8d807a2",
            "951d3b7406854479931f984e7f775ef2",
            "579ba2f30eaa46f591cdd3c9a805ae53",
            "305331909cdc4444906ec239368bd3d8",
            "e913c8bed57e400f9ef1005d151e568e",
            "bd197355294848a2ab0721f818d72c7f",
            "54bd3fa880454ca7999b4b6e8a5954e6",
            "d84b42c617d44cd1962464a7d304a879",
            "79a3164de1a140669713fa4707f9c6d1",
            "c14ee9f33c964a43add0c9ae80b04119",
            "4f75fb7393f94bf2a0942f0e469ea3d7",
            "780f85d882144d30b8ebdbba7f5743e1",
            "1c84569a71b14fdb9344898e39454e60",
            "98589388ce324762a7f8998078dbbbac",
            "8e8580861bfc4fa68caf0c8817cc8cc2",
            "f89f031b59d54bd6955e219a42ec8373",
            "db12a51771d7407391f3bd952deb9f1b",
            "1e57c074121743f3b6736f4a63e04ea0",
            "a62c1f9fe7cb4b52b6cb7a89bcafe0e5",
            "7d5e06decb7c4b589b61e65a704beb62",
            "d7cca0beacbf4743938eaff910270e9b",
            "a0d8829297eb4ada87a6db6de3e5ae0f",
            "da75a42f340c48749c28197d5addc37f",
            "c7bf07be25d04f259564c12c0f271c39",
            "819ab10f96b44f87ac424d54994ee48f",
            "4fc253bf0dd34cc390d2912193ca8979",
            "14b09d7b22114f6fb6068933336677d5",
            "bdfc5f342e4f4545a68fdf2f4aa63baf",
            "987c8737500542d593f4f1a7f405e18b",
            "630e70f907c34a6bb71d9373ee3d11e6",
            "33d0d330bb9e424f9b21e7f6cc2a8bfa",
            "671daefe317c4960bdeb748ee7f8238f",
            "fb512a6a5d704281a0abc09c20942e8a",
            "8e1aa660d3544778809f7e00d3fa4617",
            "781e6321433641de8d681be933dd3ab4",
            "9e5bcdf9a59c42ef8786aae84f2652ac",
            "464d38d21c0b43a381eb0975c414b83e",
            "4c5dabba2fbe4eea99fd68f7f2f09902",
            "c73edc6c1cd74794ab319cabe38b7ee1",
            "60f59583bff34e81a545238d5b9d28c7",
            "c269dc4f925d42f0a0f2f59f9eeba6bb",
            "8bcfc1887f49405b84bf7390ba908de0",
            "d8599d05f27b45baa0b7e4e14dc71588",
            "bcb6ff4ba14d406596f0db742471ef9f",
            "e8c68b91a23e4f69bba1932260d33103",
            "2031a9dbe6d8471b8d4a80309dc8345c",
            "cfc563f44533439c869a722885b9ef65",
            "7a4007ddfb544c29841abfa0d56a02dc",
            "56256e91c230408c8f3c8c7d2de83d18",
            "8c9d30559bb044dca0b2443ddb5c5ff9",
            "a298762a73a94e92825b8b8af63cc335",
            "671b1efd92484690b192c887cf8c848c",
            "c33bb57b569d4eb5bc9530d13f763199",
            "0257ab11c8a04c0cbfb5524bde963875",
            "8c90ea29fd0a452b820f3369f0215a20",
            "6fc7ab2a69184a4b9233a4a685fd73dd",
            "f8134e4f02fd43ab8de55807836d6a34",
            "b9c0f9c11d4541738fc87e91d1c2e5cc",
            "148927ce8b2440b39baf9803321d2b8e",
            "7296ad5d08564619828d441ca4392994"
          ]
        },
        "id": "orKgMh9XqX3C",
        "outputId": "06b632a0-af5d-4445-a00b-54ec3502497c"
      },
      "outputs": [
        {
          "output_type": "stream",
          "name": "stdout",
          "text": [
            "Computing embeddings of selected questions\n"
          ]
        },
        {
          "output_type": "display_data",
          "data": {
            "text/plain": [
              "Downloading (…)821d1/.gitattributes:   0%|          | 0.00/391 [00:00<?, ?B/s]"
            ],
            "application/vnd.jupyter.widget-view+json": {
              "version_major": 2,
              "version_minor": 0,
              "model_id": "5d07a4adee5049d0ad96f18ffc970277"
            }
          },
          "metadata": {}
        },
        {
          "output_type": "display_data",
          "data": {
            "text/plain": [
              "Downloading (…)_Pooling/config.json:   0%|          | 0.00/190 [00:00<?, ?B/s]"
            ],
            "application/vnd.jupyter.widget-view+json": {
              "version_major": 2,
              "version_minor": 0,
              "model_id": "6dea2518723b4609983a34d06974680c"
            }
          },
          "metadata": {}
        },
        {
          "output_type": "display_data",
          "data": {
            "text/plain": [
              "Downloading (…)8d01e821d1/README.md:   0%|          | 0.00/3.95k [00:00<?, ?B/s]"
            ],
            "application/vnd.jupyter.widget-view+json": {
              "version_major": 2,
              "version_minor": 0,
              "model_id": "034996f1711240108fd4f8d7f8658d16"
            }
          },
          "metadata": {}
        },
        {
          "output_type": "display_data",
          "data": {
            "text/plain": [
              "Downloading (…)d1/added_tokens.json:   0%|          | 0.00/2.00 [00:00<?, ?B/s]"
            ],
            "application/vnd.jupyter.widget-view+json": {
              "version_major": 2,
              "version_minor": 0,
              "model_id": "ae70a0f712ff44438ec702e27d6e52b8"
            }
          },
          "metadata": {}
        },
        {
          "output_type": "display_data",
          "data": {
            "text/plain": [
              "Downloading (…)01e821d1/config.json:   0%|          | 0.00/625 [00:00<?, ?B/s]"
            ],
            "application/vnd.jupyter.widget-view+json": {
              "version_major": 2,
              "version_minor": 0,
              "model_id": "e7bfa9ccc5864cf0b8324b21204d179b"
            }
          },
          "metadata": {}
        },
        {
          "output_type": "display_data",
          "data": {
            "text/plain": [
              "Downloading (…)ce_transformers.json:   0%|          | 0.00/122 [00:00<?, ?B/s]"
            ],
            "application/vnd.jupyter.widget-view+json": {
              "version_major": 2,
              "version_minor": 0,
              "model_id": "5920b8eb07ba4248a37d2882ce28149c"
            }
          },
          "metadata": {}
        },
        {
          "output_type": "display_data",
          "data": {
            "text/plain": [
              "Downloading pytorch_model.bin:   0%|          | 0.00/438M [00:00<?, ?B/s]"
            ],
            "application/vnd.jupyter.widget-view+json": {
              "version_major": 2,
              "version_minor": 0,
              "model_id": "f609ed576ff84c6783d8d794795160c3"
            }
          },
          "metadata": {}
        },
        {
          "output_type": "display_data",
          "data": {
            "text/plain": [
              "Downloading (…)nce_bert_config.json:   0%|          | 0.00/53.0 [00:00<?, ?B/s]"
            ],
            "application/vnd.jupyter.widget-view+json": {
              "version_major": 2,
              "version_minor": 0,
              "model_id": "5c003d4fab064732bb7442e0deca7922"
            }
          },
          "metadata": {}
        },
        {
          "output_type": "display_data",
          "data": {
            "text/plain": [
              "Downloading (…)cial_tokens_map.json:   0%|          | 0.00/112 [00:00<?, ?B/s]"
            ],
            "application/vnd.jupyter.widget-view+json": {
              "version_major": 2,
              "version_minor": 0,
              "model_id": "bd197355294848a2ab0721f818d72c7f"
            }
          },
          "metadata": {}
        },
        {
          "output_type": "display_data",
          "data": {
            "text/plain": [
              "Downloading (…)821d1/tokenizer.json:   0%|          | 0.00/466k [00:00<?, ?B/s]"
            ],
            "application/vnd.jupyter.widget-view+json": {
              "version_major": 2,
              "version_minor": 0,
              "model_id": "db12a51771d7407391f3bd952deb9f1b"
            }
          },
          "metadata": {}
        },
        {
          "output_type": "display_data",
          "data": {
            "text/plain": [
              "Downloading (…)okenizer_config.json:   0%|          | 0.00/399 [00:00<?, ?B/s]"
            ],
            "application/vnd.jupyter.widget-view+json": {
              "version_major": 2,
              "version_minor": 0,
              "model_id": "bdfc5f342e4f4545a68fdf2f4aa63baf"
            }
          },
          "metadata": {}
        },
        {
          "output_type": "display_data",
          "data": {
            "text/plain": [
              "Downloading (…)8d01e821d1/vocab.txt:   0%|          | 0.00/232k [00:00<?, ?B/s]"
            ],
            "application/vnd.jupyter.widget-view+json": {
              "version_major": 2,
              "version_minor": 0,
              "model_id": "c73edc6c1cd74794ab319cabe38b7ee1"
            }
          },
          "metadata": {}
        },
        {
          "output_type": "display_data",
          "data": {
            "text/plain": [
              "Downloading (…)1e821d1/modules.json:   0%|          | 0.00/229 [00:00<?, ?B/s]"
            ],
            "application/vnd.jupyter.widget-view+json": {
              "version_major": 2,
              "version_minor": 0,
              "model_id": "8c9d30559bb044dca0b2443ddb5c5ff9"
            }
          },
          "metadata": {}
        },
        {
          "output_type": "stream",
          "name": "stderr",
          "text": [
            "100%|██████████| 1000/1000 [00:22<00:00, 45.37it/s]\n"
          ]
        },
        {
          "output_type": "stream",
          "name": "stdout",
          "text": [
            "[t-SNE] Computing 91 nearest neighbors...\n",
            "[t-SNE] Indexed 1000 samples in 0.001s...\n",
            "[t-SNE] Computed neighbors for 1000 samples in 0.100s...\n",
            "[t-SNE] Computed conditional probabilities for sample 1000 / 1000\n",
            "[t-SNE] Mean sigma: 4.881547\n",
            "[t-SNE] KL divergence after 250 iterations with early exaggeration: 63.513420\n",
            "[t-SNE] KL divergence after 2000 iterations: 0.428411\n"
          ]
        }
      ],
      "source": [
        "from sentence_transformers import SentenceTransformer\n",
        "print(\"Computing embeddings of selected questions\")\n",
        "model = SentenceTransformer('bert-base-nli-mean-tokens').cuda().eval() \n",
        "\n",
        "qs = [q[1] for  _, v in image_question.items() for q in v]\n",
        "ids = [q[0] for  _, v in image_question.items() for q in v]\n",
        "at = {ann['question_id']:ann['question_type'] for ann in annotations}\n",
        "\n",
        "sentence_embeddings = []\n",
        "ans_type = []\n",
        "for q, id in tqdm(zip(qs, ids), position=0, leave=True, total=len(qs)):\n",
        "  with torch.no_grad():\n",
        "    sentence_embeddings.append(model.encode(q))\n",
        "  ans_type.append(at[id])\n",
        "    \n",
        "sentence_embeddings = np.array(sentence_embeddings)\n",
        "ans_type = np.array(ans_type)\n",
        "\n",
        "# # Reduce dimension\n",
        "sentence_embeddings = np.array(sentence_embeddings)\n",
        "viz = TSNE(n_components=2, n_jobs=4, verbose=1, n_iter=2000)\n",
        "embeddings = viz.fit_transform(sentence_embeddings)"
      ]
    },
    {
      "cell_type": "code",
      "execution_count": null,
      "metadata": {
        "colab": {
          "base_uri": "https://localhost:8080/",
          "height": 572
        },
        "id": "Z7xI69G70aCy",
        "outputId": "b2cff63b-a3ac-4c4c-a287-816ba8b0bc4b"
      },
      "outputs": [
        {
          "output_type": "stream",
          "name": "stderr",
          "text": [
            "<ipython-input-29-200707152cc6>:4: DeprecationWarning: Sampling from a set deprecated\n",
            "since Python 3.9 and will be removed in a subsequent version.\n",
            "  random_q_type = random.sample(set(ans_type), 5)\n",
            "<ipython-input-29-200707152cc6>:10: UserWarning: No data for colormapping provided via 'c'. Parameters 'cmap' will be ignored\n",
            "  plt.scatter(embeddings[ix, 0], embeddings[ix, 1], s=0.1,\n"
          ]
        },
        {
          "output_type": "display_data",
          "data": {
            "text/plain": [
              "<Figure size 640x480 with 0 Axes>"
            ]
          },
          "metadata": {}
        },
        {
          "output_type": "display_data",
          "data": {
            "text/plain": [
              "<Figure size 1000x500 with 2 Axes>"
            ],
            "image/png": "[encoded data removed]"
          },
          "metadata": {}
        }
      ],
      "source": [
        "# Plotting\n",
        "fig = plt.figure()\n",
        "best_q_type = [k[0] for k in Counter(ans_type).most_common(5)]\n",
        "random_q_type = random.sample(set(ans_type), 5)\n",
        "plt.figure(figsize=([10, 5]))\n",
        "for i, q_type in enumerate([best_q_type, random_q_type]):\n",
        "  plt.subplot(1, 2, i+1)\n",
        "  for g in q_type:\n",
        "      ix = np.where(ans_type == g)\n",
        "      plt.scatter(embeddings[ix, 0], embeddings[ix, 1], s=0.1,\n",
        "                  cmap='Spectral', label=g)\n",
        "  plt.legend(markerscale=10, loc='lower left')\n",
        "plt.title(\"Questions embeddings per question_type (left popular, right random)\")\n",
        "plt.show()"
      ]
    },
    {
      "cell_type": "markdown",
      "metadata": {
        "id": "3Uu7lmN8wwNt"
      },
      "source": [
        "# Step 8. Create split\n",
        "\n",
        "1. You can choose train and validation size, rest is test\n",
        "2. You can choose whether labels are homogeneously distributed across splits by setting **balanced** to True. False otherwise. \n"
      ]
    },
    {
      "cell_type": "code",
      "execution_count": null,
      "metadata": {
        "id": "UnhhioYpxJsa"
      },
      "outputs": [],
      "source": [
        "train_size = 0.8\n",
        "val_size = 0.1\n",
        "balanced = True"
      ]
    },
    {
      "cell_type": "code",
      "execution_count": null,
      "metadata": {
        "colab": {
          "base_uri": "https://localhost:8080/",
          "height": 504
        },
        "id": "fBmG65Sm6-0R",
        "outputId": "2d401381-5311-4e70-e79b-abe5cc694406"
      },
      "outputs": [
        {
          "output_type": "stream",
          "name": "stdout",
          "text": [
            "Label repartition across splits\n"
          ]
        },
        {
          "output_type": "display_data",
          "data": {
            "text/plain": [
              "<Figure size 640x480 with 3 Axes>"
            ],
            "image/png": "[encoded data removed]"
          },
          "metadata": {}
        }
      ],
      "source": [
        "assert sum([train_size, val_size]) < 1.0\n",
        "\n",
        "train = []\n",
        "val = []\n",
        "test = []\n",
        "\n",
        "lq = copy.deepcopy(label_question)\n",
        "\n",
        "# put at least one sample of each answer in each split\n",
        "for _, v in  lq.items():\n",
        "  random.shuffle(v)    \n",
        "  train.append(v.pop())\n",
        "  val.append(v.pop())\n",
        "  test.append(v.pop())\n",
        "\n",
        "if balanced:\n",
        "  # generating balanced splits, for each label, put the requested balance in splits\n",
        "  for _, v in  lq.items():\n",
        "    random.shuffle(v)\n",
        "    num_samples = len(v)\n",
        "    train += (v[:int(train_size*num_samples)])\n",
        "    val   += (v[int(train_size*num_samples):int((train_size+val_size)*num_samples)])\n",
        "    test  += (v[int((train_size+val_size)*num_samples):])\n",
        "else:\n",
        "    all_qid = [item for _, v in lq.items() for item in v]\n",
        "    labels = list(lq.keys())\n",
        "    num_samples = len(all_qid)\n",
        "\n",
        "    random_weights = np.random.random(len(labels))\n",
        "\n",
        "    while len(val) < int(val_size*num_samples):\n",
        "      label_drawn = choice(labels, 1, p=random_weights/random_weights.sum())\n",
        "      sample = random.choice(lq[label_drawn[0]])\n",
        "      if sample in all_qid:\n",
        "        val.append(sample)\n",
        "        all_qid.remove(sample)\n",
        "\n",
        "    random_weights = np.random.random(len(labels))\n",
        "\n",
        "    while len(test) < int((1-(val_size+train_size))*num_samples):\n",
        "      label_drawn = choice(labels, 1, p=random_weights/random_weights.sum())\n",
        "      sample = random.choice(lq[label_drawn[0]])\n",
        "      if sample in all_qid:\n",
        "        test.append(sample)\n",
        "        all_qid.remove(sample)\n",
        "    \n",
        "    train += all_qid\n",
        "\n",
        "random.shuffle(train)\n",
        "random.shuffle(val)\n",
        "random.shuffle(test)\n",
        "\n",
        "# assert no duplicates\n",
        "assert len(set(train + val + test)) == (len(train) + len(val) + len(test))\n",
        "\n",
        "for i, name in enumerate(['train', 'val', 'test']):\n",
        "  split = eval(name)\n",
        "  label_count = Counter()\n",
        "  for q in split:\n",
        "    label_count[question_label[q]] += 1\n",
        "  plt.subplot(1, 3, i+1)\n",
        "  plt.bar(range(len(label_count)), [label_count[i] for i in range(len(label_count))])\n",
        "  plt.xlabel(\"label\")\n",
        "  plt.ylabel(\"count\")\n",
        "  plt.title(name)\n",
        "\n",
        "plt.tight_layout()\n",
        "print(\"Label repartition across splits\")\n",
        "plt.show()"
      ]
    },
    {
      "cell_type": "markdown",
      "metadata": {
        "id": "HYCgpRa070oD"
      },
      "source": [
        "# Last Step: download files\n",
        "\n",
        "1. **test.csv** must be given to students. They have to fill it with their prediction formatted like **sample_submission.csv** which contains random predictions\n",
        "2. **answer_key.csv** is the ground-truth file that has to be stored on kaggle\n",
        "3. **answer_list.csv** maps the label to the answer in natural language (i.e. label 0 is answer at line 1 in answer_list, etc.)\n",
        "3. **image_question.json** maps an image_id to a list of questions (that concerns image_id). Each question is a tuple (question_id, question). <br/>\n",
        "To map an image_id to its corresponding image_file, do :\n",
        "```\n",
        "COCO_train2014_'+ str(image_id).zfill(12) + '.jpg\n",
        "```\n",
        "\n"
      ]
    },
    {
      "cell_type": "code",
      "execution_count": null,
      "metadata": {
        "colab": {
          "base_uri": "https://localhost:8080/",
          "height": 17
        },
        "id": "VlClqvhn1n1s",
        "outputId": "5a69a8f5-15b1-4601-d3c7-b9e10f3fb982"
      },
      "outputs": [
        {
          "output_type": "display_data",
          "data": {
            "text/plain": [
              "<IPython.core.display.Javascript object>"
            ],
            "application/javascript": [
              "\n",
              "    async function download(id, filename, size) {\n",
              "      if (!google.colab.kernel.accessAllowed) {\n",
              "        return;\n",
              "      }\n",
              "      const div = document.createElement('div');\n",
              "      const label = document.createElement('label');\n",
              "      label.textContent = `Downloading \"${filename}\": `;\n",
              "      div.appendChild(label);\n",
              "      const progress = document.createElement('progress');\n",
              "      progress.max = size;\n",
              "      div.appendChild(progress);\n",
              "      document.body.appendChild(div);\n",
              "\n",
              "      const buffers = [];\n",
              "      let downloaded = 0;\n",
              "\n",
              "      const channel = await google.colab.kernel.comms.open(id);\n",
              "      // Send a message to notify the kernel that we're ready.\n",
              "      channel.send({})\n",
              "\n",
              "      for await (const message of channel.messages) {\n",
              "        // Send a message to notify the kernel that we're ready.\n",
              "        channel.send({})\n",
              "        if (message.buffers) {\n",
              "          for (const buffer of message.buffers) {\n",
              "            buffers.push(buffer);\n",
              "            downloaded += buffer.byteLength;\n",
              "            progress.value = downloaded;\n",
              "          }\n",
              "        }\n",
              "      }\n",
              "      const blob = new Blob(buffers, {type: 'application/binary'});\n",
              "      const a = document.createElement('a');\n",
              "      a.href = window.URL.createObjectURL(blob);\n",
              "      a.download = filename;\n",
              "      div.appendChild(a);\n",
              "      a.click();\n",
              "      div.remove();\n",
              "    }\n",
              "  "
            ]
          },
          "metadata": {}
        },
        {
          "output_type": "display_data",
          "data": {
            "text/plain": [
              "<IPython.core.display.Javascript object>"
            ],
            "application/javascript": [
              "download(\"download_5c52b050-ede8-4666-8460-c0334722cbe7\", \"train.csv\", 9170)"
            ]
          },
          "metadata": {}
        },
        {
          "output_type": "display_data",
          "data": {
            "text/plain": [
              "<IPython.core.display.Javascript object>"
            ],
            "application/javascript": [
              "\n",
              "    async function download(id, filename, size) {\n",
              "      if (!google.colab.kernel.accessAllowed) {\n",
              "        return;\n",
              "      }\n",
              "      const div = document.createElement('div');\n",
              "      const label = document.createElement('label');\n",
              "      label.textContent = `Downloading \"${filename}\": `;\n",
              "      div.appendChild(label);\n",
              "      const progress = document.createElement('progress');\n",
              "      progress.max = size;\n",
              "      div.appendChild(progress);\n",
              "      document.body.appendChild(div);\n",
              "\n",
              "      const buffers = [];\n",
              "      let downloaded = 0;\n",
              "\n",
              "      const channel = await google.colab.kernel.comms.open(id);\n",
              "      // Send a message to notify the kernel that we're ready.\n",
              "      channel.send({})\n",
              "\n",
              "      for await (const message of channel.messages) {\n",
              "        // Send a message to notify the kernel that we're ready.\n",
              "        channel.send({})\n",
              "        if (message.buffers) {\n",
              "          for (const buffer of message.buffers) {\n",
              "            buffers.push(buffer);\n",
              "            downloaded += buffer.byteLength;\n",
              "            progress.value = downloaded;\n",
              "          }\n",
              "        }\n",
              "      }\n",
              "      const blob = new Blob(buffers, {type: 'application/binary'});\n",
              "      const a = document.createElement('a');\n",
              "      a.href = window.URL.createObjectURL(blob);\n",
              "      a.download = filename;\n",
              "      div.appendChild(a);\n",
              "      a.click();\n",
              "      div.remove();\n",
              "    }\n",
              "  "
            ]
          },
          "metadata": {}
        },
        {
          "output_type": "display_data",
          "data": {
            "text/plain": [
              "<IPython.core.display.Javascript object>"
            ],
            "application/javascript": [
              "download(\"download_dab4f9e3-9ebc-496a-bec9-929c9a33d053\", \"val.csv\", 1308)"
            ]
          },
          "metadata": {}
        },
        {
          "output_type": "display_data",
          "data": {
            "text/plain": [
              "<IPython.core.display.Javascript object>"
            ],
            "application/javascript": [
              "\n",
              "    async function download(id, filename, size) {\n",
              "      if (!google.colab.kernel.accessAllowed) {\n",
              "        return;\n",
              "      }\n",
              "      const div = document.createElement('div');\n",
              "      const label = document.createElement('label');\n",
              "      label.textContent = `Downloading \"${filename}\": `;\n",
              "      div.appendChild(label);\n",
              "      const progress = document.createElement('progress');\n",
              "      progress.max = size;\n",
              "      div.appendChild(progress);\n",
              "      document.body.appendChild(div);\n",
              "\n",
              "      const buffers = [];\n",
              "      let downloaded = 0;\n",
              "\n",
              "      const channel = await google.colab.kernel.comms.open(id);\n",
              "      // Send a message to notify the kernel that we're ready.\n",
              "      channel.send({})\n",
              "\n",
              "      for await (const message of channel.messages) {\n",
              "        // Send a message to notify the kernel that we're ready.\n",
              "        channel.send({})\n",
              "        if (message.buffers) {\n",
              "          for (const buffer of message.buffers) {\n",
              "            buffers.push(buffer);\n",
              "            downloaded += buffer.byteLength;\n",
              "            progress.value = downloaded;\n",
              "          }\n",
              "        }\n",
              "      }\n",
              "      const blob = new Blob(buffers, {type: 'application/binary'});\n",
              "      const a = document.createElement('a');\n",
              "      a.href = window.URL.createObjectURL(blob);\n",
              "      a.download = filename;\n",
              "      div.appendChild(a);\n",
              "      a.click();\n",
              "      div.remove();\n",
              "    }\n",
              "  "
            ]
          },
          "metadata": {}
        },
        {
          "output_type": "display_data",
          "data": {
            "text/plain": [
              "<IPython.core.display.Javascript object>"
            ],
            "application/javascript": [
              "download(\"download_8c9ca4e7-e6a5-4f2f-93af-36ab28a2d8ac\", \"test.csv\", 1089)"
            ]
          },
          "metadata": {}
        },
        {
          "output_type": "display_data",
          "data": {
            "text/plain": [
              "<IPython.core.display.Javascript object>"
            ],
            "application/javascript": [
              "\n",
              "    async function download(id, filename, size) {\n",
              "      if (!google.colab.kernel.accessAllowed) {\n",
              "        return;\n",
              "      }\n",
              "      const div = document.createElement('div');\n",
              "      const label = document.createElement('label');\n",
              "      label.textContent = `Downloading \"${filename}\": `;\n",
              "      div.appendChild(label);\n",
              "      const progress = document.createElement('progress');\n",
              "      progress.max = size;\n",
              "      div.appendChild(progress);\n",
              "      document.body.appendChild(div);\n",
              "\n",
              "      const buffers = [];\n",
              "      let downloaded = 0;\n",
              "\n",
              "      const channel = await google.colab.kernel.comms.open(id);\n",
              "      // Send a message to notify the kernel that we're ready.\n",
              "      channel.send({})\n",
              "\n",
              "      for await (const message of channel.messages) {\n",
              "        // Send a message to notify the kernel that we're ready.\n",
              "        channel.send({})\n",
              "        if (message.buffers) {\n",
              "          for (const buffer of message.buffers) {\n",
              "            buffers.push(buffer);\n",
              "            downloaded += buffer.byteLength;\n",
              "            progress.value = downloaded;\n",
              "          }\n",
              "        }\n",
              "      }\n",
              "      const blob = new Blob(buffers, {type: 'application/binary'});\n",
              "      const a = document.createElement('a');\n",
              "      a.href = window.URL.createObjectURL(blob);\n",
              "      a.download = filename;\n",
              "      div.appendChild(a);\n",
              "      a.click();\n",
              "      div.remove();\n",
              "    }\n",
              "  "
            ]
          },
          "metadata": {}
        },
        {
          "output_type": "display_data",
          "data": {
            "text/plain": [
              "<IPython.core.display.Javascript object>"
            ],
            "application/javascript": [
              "download(\"download_e0426f20-7d6b-4278-91c6-fc0472b178a6\", \"answer_key.csv\", 1309)"
            ]
          },
          "metadata": {}
        },
        {
          "output_type": "display_data",
          "data": {
            "text/plain": [
              "<IPython.core.display.Javascript object>"
            ],
            "application/javascript": [
              "\n",
              "    async function download(id, filename, size) {\n",
              "      if (!google.colab.kernel.accessAllowed) {\n",
              "        return;\n",
              "      }\n",
              "      const div = document.createElement('div');\n",
              "      const label = document.createElement('label');\n",
              "      label.textContent = `Downloading \"${filename}\": `;\n",
              "      div.appendChild(label);\n",
              "      const progress = document.createElement('progress');\n",
              "      progress.max = size;\n",
              "      div.appendChild(progress);\n",
              "      document.body.appendChild(div);\n",
              "\n",
              "      const buffers = [];\n",
              "      let downloaded = 0;\n",
              "\n",
              "      const channel = await google.colab.kernel.comms.open(id);\n",
              "      // Send a message to notify the kernel that we're ready.\n",
              "      channel.send({})\n",
              "\n",
              "      for await (const message of channel.messages) {\n",
              "        // Send a message to notify the kernel that we're ready.\n",
              "        channel.send({})\n",
              "        if (message.buffers) {\n",
              "          for (const buffer of message.buffers) {\n",
              "            buffers.push(buffer);\n",
              "            downloaded += buffer.byteLength;\n",
              "            progress.value = downloaded;\n",
              "          }\n",
              "        }\n",
              "      }\n",
              "      const blob = new Blob(buffers, {type: 'application/binary'});\n",
              "      const a = document.createElement('a');\n",
              "      a.href = window.URL.createObjectURL(blob);\n",
              "      a.download = filename;\n",
              "      div.appendChild(a);\n",
              "      a.click();\n",
              "      div.remove();\n",
              "    }\n",
              "  "
            ]
          },
          "metadata": {}
        },
        {
          "output_type": "display_data",
          "data": {
            "text/plain": [
              "<IPython.core.display.Javascript object>"
            ],
            "application/javascript": [
              "download(\"download_2a8b6d21-e22b-4c83-bba0-2bf9e236eece\", \"sample_submission.csv\", 1309)"
            ]
          },
          "metadata": {}
        },
        {
          "output_type": "display_data",
          "data": {
            "text/plain": [
              "<IPython.core.display.Javascript object>"
            ],
            "application/javascript": [
              "\n",
              "    async function download(id, filename, size) {\n",
              "      if (!google.colab.kernel.accessAllowed) {\n",
              "        return;\n",
              "      }\n",
              "      const div = document.createElement('div');\n",
              "      const label = document.createElement('label');\n",
              "      label.textContent = `Downloading \"${filename}\": `;\n",
              "      div.appendChild(label);\n",
              "      const progress = document.createElement('progress');\n",
              "      progress.max = size;\n",
              "      div.appendChild(progress);\n",
              "      document.body.appendChild(div);\n",
              "\n",
              "      const buffers = [];\n",
              "      let downloaded = 0;\n",
              "\n",
              "      const channel = await google.colab.kernel.comms.open(id);\n",
              "      // Send a message to notify the kernel that we're ready.\n",
              "      channel.send({})\n",
              "\n",
              "      for await (const message of channel.messages) {\n",
              "        // Send a message to notify the kernel that we're ready.\n",
              "        channel.send({})\n",
              "        if (message.buffers) {\n",
              "          for (const buffer of message.buffers) {\n",
              "            buffers.push(buffer);\n",
              "            downloaded += buffer.byteLength;\n",
              "            progress.value = downloaded;\n",
              "          }\n",
              "        }\n",
              "      }\n",
              "      const blob = new Blob(buffers, {type: 'application/binary'});\n",
              "      const a = document.createElement('a');\n",
              "      a.href = window.URL.createObjectURL(blob);\n",
              "      a.download = filename;\n",
              "      div.appendChild(a);\n",
              "      a.click();\n",
              "      div.remove();\n",
              "    }\n",
              "  "
            ]
          },
          "metadata": {}
        },
        {
          "output_type": "display_data",
          "data": {
            "text/plain": [
              "<IPython.core.display.Javascript object>"
            ],
            "application/javascript": [
              "download(\"download_8854b68a-e8d8-4d9c-ab9f-696c1b4b0b69\", \"answer_list.txt\", 66)"
            ]
          },
          "metadata": {}
        },
        {
          "output_type": "display_data",
          "data": {
            "text/plain": [
              "<IPython.core.display.Javascript object>"
            ],
            "application/javascript": [
              "\n",
              "    async function download(id, filename, size) {\n",
              "      if (!google.colab.kernel.accessAllowed) {\n",
              "        return;\n",
              "      }\n",
              "      const div = document.createElement('div');\n",
              "      const label = document.createElement('label');\n",
              "      label.textContent = `Downloading \"${filename}\": `;\n",
              "      div.appendChild(label);\n",
              "      const progress = document.createElement('progress');\n",
              "      progress.max = size;\n",
              "      div.appendChild(progress);\n",
              "      document.body.appendChild(div);\n",
              "\n",
              "      const buffers = [];\n",
              "      let downloaded = 0;\n",
              "\n",
              "      const channel = await google.colab.kernel.comms.open(id);\n",
              "      // Send a message to notify the kernel that we're ready.\n",
              "      channel.send({})\n",
              "\n",
              "      for await (const message of channel.messages) {\n",
              "        // Send a message to notify the kernel that we're ready.\n",
              "        channel.send({})\n",
              "        if (message.buffers) {\n",
              "          for (const buffer of message.buffers) {\n",
              "            buffers.push(buffer);\n",
              "            downloaded += buffer.byteLength;\n",
              "            progress.value = downloaded;\n",
              "          }\n",
              "        }\n",
              "      }\n",
              "      const blob = new Blob(buffers, {type: 'application/binary'});\n",
              "      const a = document.createElement('a');\n",
              "      a.href = window.URL.createObjectURL(blob);\n",
              "      a.download = filename;\n",
              "      div.appendChild(a);\n",
              "      a.click();\n",
              "      div.remove();\n",
              "    }\n",
              "  "
            ]
          },
          "metadata": {}
        },
        {
          "output_type": "display_data",
          "data": {
            "text/plain": [
              "<IPython.core.display.Javascript object>"
            ],
            "application/javascript": [
              "download(\"download_7782135d-f315-490f-b0ed-f10640984067\", \"image_question.json\", 55915)"
            ]
          },
          "metadata": {}
        }
      ],
      "source": [
        "for fn, ids in [[\"train.csv\", train], [\"val.csv\", val], [\"test.csv\", test], [\"answer_key.csv\", test], [\"sample_submission.csv\", test]]:\n",
        "  lines = []\n",
        "  for id in ids:\n",
        "    # for sample_submission, choose random label\n",
        "    if 'sample_submission' in fn:\n",
        "      lines.append(str(id) +','+str(random.randint(0, len(label_question.keys())-1)))\n",
        "    # for test.csv, dont print label\n",
        "    elif 'test' in fn:\n",
        "      lines.append(str(id))\n",
        "    else:\n",
        "      lines.append(str(id) +','+str(question_label[id]))\n",
        "  \n",
        "  open(fn, \"w+\").write('question_id,label\\n'+'\\n'.join(map(str, lines)))\n",
        "  files.download(fn) \n",
        "\n",
        "\n",
        "open(\"answer_list.txt\", \"w+\").write('\\n'.join(map(str, answer_list)))\n",
        "files.download('answer_list.txt') \n",
        "\n",
        "json.dump(image_question, open('image_question.json', 'w'))\n",
        "files.download('image_question.json') "
      ]
    },
    {
      "cell_type": "markdown",
      "metadata": {
        "id": "-lEsh2ey-kGo"
      },
      "source": [
        "If you have downloaded images, download your zip (the folder is data/images or data/images_resized if you resized images)"
      ]
    },
    {
      "cell_type": "code",
      "execution_count": null,
      "metadata": {
        "id": "YeA11F85-TRQ"
      },
      "outputs": [],
      "source": [
        "!zip -r -q images.zip data/images_resized"
      ]
    },
    {
      "cell_type": "code",
      "execution_count": null,
      "metadata": {
        "colab": {
          "base_uri": "https://localhost:8080/",
          "height": 17
        },
        "id": "NjP8Ab4y-jzt",
        "outputId": "bf90bf60-08e4-4a7b-86f2-93647877b8c7"
      },
      "outputs": [
        {
          "output_type": "display_data",
          "data": {
            "text/plain": [
              "<IPython.core.display.Javascript object>"
            ],
            "application/javascript": [
              "\n",
              "    async function download(id, filename, size) {\n",
              "      if (!google.colab.kernel.accessAllowed) {\n",
              "        return;\n",
              "      }\n",
              "      const div = document.createElement('div');\n",
              "      const label = document.createElement('label');\n",
              "      label.textContent = `Downloading \"${filename}\": `;\n",
              "      div.appendChild(label);\n",
              "      const progress = document.createElement('progress');\n",
              "      progress.max = size;\n",
              "      div.appendChild(progress);\n",
              "      document.body.appendChild(div);\n",
              "\n",
              "      const buffers = [];\n",
              "      let downloaded = 0;\n",
              "\n",
              "      const channel = await google.colab.kernel.comms.open(id);\n",
              "      // Send a message to notify the kernel that we're ready.\n",
              "      channel.send({})\n",
              "\n",
              "      for await (const message of channel.messages) {\n",
              "        // Send a message to notify the kernel that we're ready.\n",
              "        channel.send({})\n",
              "        if (message.buffers) {\n",
              "          for (const buffer of message.buffers) {\n",
              "            buffers.push(buffer);\n",
              "            downloaded += buffer.byteLength;\n",
              "            progress.value = downloaded;\n",
              "          }\n",
              "        }\n",
              "      }\n",
              "      const blob = new Blob(buffers, {type: 'application/binary'});\n",
              "      const a = document.createElement('a');\n",
              "      a.href = window.URL.createObjectURL(blob);\n",
              "      a.download = filename;\n",
              "      div.appendChild(a);\n",
              "      a.click();\n",
              "      div.remove();\n",
              "    }\n",
              "  "
            ]
          },
          "metadata": {}
        },
        {
          "output_type": "display_data",
          "data": {
            "text/plain": [
              "<IPython.core.display.Javascript object>"
            ],
            "application/javascript": [
              "download(\"download_ac7f020c-d619-4489-80e8-344deb8991c4\", \"images.zip\", 190)"
            ]
          },
          "metadata": {}
        }
      ],
      "source": [
        "files.download(\"images.zip\")"
      ]
    }
  ],
  "metadata": {
    "colab": {
      "provenance": []
    },
    "gpuClass": "standard",
    "kernelspec": {
      "display_name": "Python 3",
      "name": "python3"
    },
    "accelerator": "GPU",
    "widgets": {
      "application/vnd.jupyter.widget-state+json": {
        "5d07a4adee5049d0ad96f18ffc970277": {
          "model_module": "@jupyter-widgets/controls",
          "model_name": "HBoxModel",
          "model_module_version": "1.5.0",
          "state": {
            "_dom_classes": [],
            "_model_module": "@jupyter-widgets/controls",
            "_model_module_version": "1.5.0",
            "_model_name": "HBoxModel",
            "_view_count": null,
            "_view_module": "@jupyter-widgets/controls",
            "_view_module_version": "1.5.0",
            "_view_name": "HBoxView",
            "box_style": "",
            "children": [
              "IPY_MODEL_32759f336f5442feadf455c77efb3e69",
              "IPY_MODEL_9d7141eb51ff4dd598ceeccd6a62a14c",
              "IPY_MODEL_cc885b7ee97443aab03903d7d4b9f021"
            ],
            "layout": "IPY_MODEL_e02e22b775d84003b321455bed0df68c"
          }
        },
        "32759f336f5442feadf455c77efb3e69": {
          "model_module": "@jupyter-widgets/controls",
          "model_name": "HTMLModel",
          "model_module_version": "1.5.0",
          "state": {
            "_dom_classes": [],
            "_model_module": "@jupyter-widgets/controls",
            "_model_module_version": "1.5.0",
            "_model_name": "HTMLModel",
            "_view_count": null,
            "_view_module": "@jupyter-widgets/controls",
            "_view_module_version": "1.5.0",
            "_view_name": "HTMLView",
            "description": "",
            "description_tooltip": null,
            "layout": "IPY_MODEL_c7d2baa7902b4835a4516f6f5200063a",
            "placeholder": "​",
            "style": "IPY_MODEL_51ef70adebcb4235aa0d6919772ad4e4",
            "value": "Downloading (…)821d1/.gitattributes: 100%"
          }
        },
        "9d7141eb51ff4dd598ceeccd6a62a14c": {
          "model_module": "@jupyter-widgets/controls",
          "model_name": "FloatProgressModel",
          "model_module_version": "1.5.0",
          "state": {
            "_dom_classes": [],
            "_model_module": "@jupyter-widgets/controls",
            "_model_module_version": "1.5.0",
            "_model_name": "FloatProgressModel",
            "_view_count": null,
            "_view_module": "@jupyter-widgets/controls",
            "_view_module_version": "1.5.0",
            "_view_name": "ProgressView",
            "bar_style": "success",
            "description": "",
            "description_tooltip": null,
            "layout": "IPY_MODEL_56292d5a1a7f40619656294fcaa77e38",
            "max": 391,
            "min": 0,
            "orientation": "horizontal",
            "style": "IPY_MODEL_aeedbd6541bd406a9febf9286006e270",
            "value": 391
          }
        },
        "cc885b7ee97443aab03903d7d4b9f021": {
          "model_module": "@jupyter-widgets/controls",
          "model_name": "HTMLModel",
          "model_module_version": "1.5.0",
          "state": {
            "_dom_classes": [],
            "_model_module": "@jupyter-widgets/controls",
            "_model_module_version": "1.5.0",
            "_model_name": "HTMLModel",
            "_view_count": null,
            "_view_module": "@jupyter-widgets/controls",
            "_view_module_version": "1.5.0",
            "_view_name": "HTMLView",
            "description": "",
            "description_tooltip": null,
            "layout": "IPY_MODEL_e03cde8ac3cf4e19bc6b0a5be4334b15",
            "placeholder": "​",
            "style": "IPY_MODEL_feb9def3259246f6b31b8887a840ba73",
            "value": " 391/391 [00:00&lt;00:00, 27.5kB/s]"
          }
        },
        "e02e22b775d84003b321455bed0df68c": {
          "model_module": "@jupyter-widgets/base",
          "model_name": "LayoutModel",
          "model_module_version": "1.2.0",
          "state": {
            "_model_module": "@jupyter-widgets/base",
            "_model_module_version": "1.2.0",
            "_model_name": "LayoutModel",
            "_view_count": null,
            "_view_module": "@jupyter-widgets/base",
            "_view_module_version": "1.2.0",
            "_view_name": "LayoutView",
            "align_content": null,
            "align_items": null,
            "align_self": null,
            "border": null,
            "bottom": null,
            "display": null,
            "flex": null,
            "flex_flow": null,
            "grid_area": null,
            "grid_auto_columns": null,
            "grid_auto_flow": null,
            "grid_auto_rows": null,
            "grid_column": null,
            "grid_gap": null,
            "grid_row": null,
            "grid_template_areas": null,
            "grid_template_columns": null,
            "grid_template_rows": null,
            "height": null,
            "justify_content": null,
            "justify_items": null,
            "left": null,
            "margin": null,
            "max_height": null,
            "max_width": null,
            "min_height": null,
            "min_width": null,
            "object_fit": null,
            "object_position": null,
            "order": null,
            "overflow": null,
            "overflow_x": null,
            "overflow_y": null,
            "padding": null,
            "right": null,
            "top": null,
            "visibility": null,
            "width": null
          }
        },
        "c7d2baa7902b4835a4516f6f5200063a": {
          "model_module": "@jupyter-widgets/base",
          "model_name": "LayoutModel",
          "model_module_version": "1.2.0",
          "state": {
            "_model_module": "@jupyter-widgets/base",
            "_model_module_version": "1.2.0",
            "_model_name": "LayoutModel",
            "_view_count": null,
            "_view_module": "@jupyter-widgets/base",
            "_view_module_version": "1.2.0",
            "_view_name": "LayoutView",
            "align_content": null,
            "align_items": null,
            "align_self": null,
            "border": null,
            "bottom": null,
            "display": null,
            "flex": null,
            "flex_flow": null,
            "grid_area": null,
            "grid_auto_columns": null,
            "grid_auto_flow": null,
            "grid_auto_rows": null,
            "grid_column": null,
            "grid_gap": null,
            "grid_row": null,
            "grid_template_areas": null,
            "grid_template_columns": null,
            "grid_template_rows": null,
            "height": null,
            "justify_content": null,
            "justify_items": null,
            "left": null,
            "margin": null,
            "max_height": null,
            "max_width": null,
            "min_height": null,
            "min_width": null,
            "object_fit": null,
            "object_position": null,
            "order": null,
            "overflow": null,
            "overflow_x": null,
            "overflow_y": null,
            "padding": null,
            "right": null,
            "top": null,
            "visibility": null,
            "width": null
          }
        },
        "51ef70adebcb4235aa0d6919772ad4e4": {
          "model_module": "@jupyter-widgets/controls",
          "model_name": "DescriptionStyleModel",
          "model_module_version": "1.5.0",
          "state": {
            "_model_module": "@jupyter-widgets/controls",
            "_model_module_version": "1.5.0",
            "_model_name": "DescriptionStyleModel",
            "_view_count": null,
            "_view_module": "@jupyter-widgets/base",
            "_view_module_version": "1.2.0",
            "_view_name": "StyleView",
            "description_width": ""
          }
        },
        "56292d5a1a7f40619656294fcaa77e38": {
          "model_module": "@jupyter-widgets/base",
          "model_name": "LayoutModel",
          "model_module_version": "1.2.0",
          "state": {
            "_model_module": "@jupyter-widgets/base",
            "_model_module_version": "1.2.0",
            "_model_name": "LayoutModel",
            "_view_count": null,
            "_view_module": "@jupyter-widgets/base",
            "_view_module_version": "1.2.0",
            "_view_name": "LayoutView",
            "align_content": null,
            "align_items": null,
            "align_self": null,
            "border": null,
            "bottom": null,
            "display": null,
            "flex": null,
            "flex_flow": null,
            "grid_area": null,
            "grid_auto_columns": null,
            "grid_auto_flow": null,
            "grid_auto_rows": null,
            "grid_column": null,
            "grid_gap": null,
            "grid_row": null,
            "grid_template_areas": null,
            "grid_template_columns": null,
            "grid_template_rows": null,
            "height": null,
            "justify_content": null,
            "justify_items": null,
            "left": null,
            "margin": null,
            "max_height": null,
            "max_width": null,
            "min_height": null,
            "min_width": null,
            "object_fit": null,
            "object_position": null,
            "order": null,
            "overflow": null,
            "overflow_x": null,
            "overflow_y": null,
            "padding": null,
            "right": null,
            "top": null,
            "visibility": null,
            "width": null
          }
        },
        "aeedbd6541bd406a9febf9286006e270": {
          "model_module": "@jupyter-widgets/controls",
          "model_name": "ProgressStyleModel",
          "model_module_version": "1.5.0",
          "state": {
            "_model_module": "@jupyter-widgets/controls",
            "_model_module_version": "1.5.0",
            "_model_name": "ProgressStyleModel",
            "_view_count": null,
            "_view_module": "@jupyter-widgets/base",
            "_view_module_version": "1.2.0",
            "_view_name": "StyleView",
            "bar_color": null,
            "description_width": ""
          }
        },
        "e03cde8ac3cf4e19bc6b0a5be4334b15": {
          "model_module": "@jupyter-widgets/base",
          "model_name": "LayoutModel",
          "model_module_version": "1.2.0",
          "state": {
            "_model_module": "@jupyter-widgets/base",
            "_model_module_version": "1.2.0",
            "_model_name": "LayoutModel",
            "_view_count": null,
            "_view_module": "@jupyter-widgets/base",
            "_view_module_version": "1.2.0",
            "_view_name": "LayoutView",
            "align_content": null,
            "align_items": null,
            "align_self": null,
            "border": null,
            "bottom": null,
            "display": null,
            "flex": null,
            "flex_flow": null,
            "grid_area": null,
            "grid_auto_columns": null,
            "grid_auto_flow": null,
            "grid_auto_rows": null,
            "grid_column": null,
            "grid_gap": null,
            "grid_row": null,
            "grid_template_areas": null,
            "grid_template_columns": null,
            "grid_template_rows": null,
            "height": null,
            "justify_content": null,
            "justify_items": null,
            "left": null,
            "margin": null,
            "max_height": null,
            "max_width": null,
            "min_height": null,
            "min_width": null,
            "object_fit": null,
            "object_position": null,
            "order": null,
            "overflow": null,
            "overflow_x": null,
            "overflow_y": null,
            "padding": null,
            "right": null,
            "top": null,
            "visibility": null,
            "width": null
          }
        },
        "feb9def3259246f6b31b8887a840ba73": {
          "model_module": "@jupyter-widgets/controls",
          "model_name": "DescriptionStyleModel",
          "model_module_version": "1.5.0",
          "state": {
            "_model_module": "@jupyter-widgets/controls",
            "_model_module_version": "1.5.0",
            "_model_name": "DescriptionStyleModel",
            "_view_count": null,
            "_view_module": "@jupyter-widgets/base",
            "_view_module_version": "1.2.0",
            "_view_name": "StyleView",
            "description_width": ""
          }
        },
        "6dea2518723b4609983a34d06974680c": {
          "model_module": "@jupyter-widgets/controls",
          "model_name": "HBoxModel",
          "model_module_version": "1.5.0",
          "state": {
            "_dom_classes": [],
            "_model_module": "@jupyter-widgets/controls",
            "_model_module_version": "1.5.0",
            "_model_name": "HBoxModel",
            "_view_count": null,
            "_view_module": "@jupyter-widgets/controls",
            "_view_module_version": "1.5.0",
            "_view_name": "HBoxView",
            "box_style": "",
            "children": [
              "IPY_MODEL_d840982c728243649fabfd009e2742f4",
              "IPY_MODEL_1dbe579b168d4a2296837f4494f6f82e",
              "IPY_MODEL_b3284988392043a88cdb52ca19b5e539"
            ],
            "layout": "IPY_MODEL_cdfe253e5e254de7bd188a1d4bcf13a7"
          }
        },
        "d840982c728243649fabfd009e2742f4": {
          "model_module": "@jupyter-widgets/controls",
          "model_name": "HTMLModel",
          "model_module_version": "1.5.0",
          "state": {
            "_dom_classes": [],
            "_model_module": "@jupyter-widgets/controls",
            "_model_module_version": "1.5.0",
            "_model_name": "HTMLModel",
            "_view_count": null,
            "_view_module": "@jupyter-widgets/controls",
            "_view_module_version": "1.5.0",
            "_view_name": "HTMLView",
            "description": "",
            "description_tooltip": null,
            "layout": "IPY_MODEL_821427253e2741069e18b6ac38e6995e",
            "placeholder": "​",
            "style": "IPY_MODEL_0cdf1b41d5f648b794f2f798798c20d5",
            "value": "Downloading (…)_Pooling/config.json: 100%"
          }
        },
        "1dbe579b168d4a2296837f4494f6f82e": {
          "model_module": "@jupyter-widgets/controls",
          "model_name": "FloatProgressModel",
          "model_module_version": "1.5.0",
          "state": {
            "_dom_classes": [],
            "_model_module": "@jupyter-widgets/controls",
            "_model_module_version": "1.5.0",
            "_model_name": "FloatProgressModel",
            "_view_count": null,
            "_view_module": "@jupyter-widgets/controls",
            "_view_module_version": "1.5.0",
            "_view_name": "ProgressView",
            "bar_style": "success",
            "description": "",
            "description_tooltip": null,
            "layout": "IPY_MODEL_335a368e9ca24a5b9106c93708f832b8",
            "max": 190,
            "min": 0,
            "orientation": "horizontal",
            "style": "IPY_MODEL_28c92939e58e4d2f964e2c0e863dd565",
            "value": 190
          }
        },
        "b3284988392043a88cdb52ca19b5e539": {
          "model_module": "@jupyter-widgets/controls",
          "model_name": "HTMLModel",
          "model_module_version": "1.5.0",
          "state": {
            "_dom_classes": [],
            "_model_module": "@jupyter-widgets/controls",
            "_model_module_version": "1.5.0",
            "_model_name": "HTMLModel",
            "_view_count": null,
            "_view_module": "@jupyter-widgets/controls",
            "_view_module_version": "1.5.0",
            "_view_name": "HTMLView",
            "description": "",
            "description_tooltip": null,
            "layout": "IPY_MODEL_c21c03e7f0204d029c9b05992ecdff19",
            "placeholder": "​",
            "style": "IPY_MODEL_0b49e1331e9043d48dd85893a30b3785",
            "value": " 190/190 [00:00&lt;00:00, 11.6kB/s]"
          }
        },
        "cdfe253e5e254de7bd188a1d4bcf13a7": {
          "model_module": "@jupyter-widgets/base",
          "model_name": "LayoutModel",
          "model_module_version": "1.2.0",
          "state": {
            "_model_module": "@jupyter-widgets/base",
            "_model_module_version": "1.2.0",
            "_model_name": "LayoutModel",
            "_view_count": null,
            "_view_module": "@jupyter-widgets/base",
            "_view_module_version": "1.2.0",
            "_view_name": "LayoutView",
            "align_content": null,
            "align_items": null,
            "align_self": null,
            "border": null,
            "bottom": null,
            "display": null,
            "flex": null,
            "flex_flow": null,
            "grid_area": null,
            "grid_auto_columns": null,
            "grid_auto_flow": null,
            "grid_auto_rows": null,
            "grid_column": null,
            "grid_gap": null,
            "grid_row": null,
            "grid_template_areas": null,
            "grid_template_columns": null,
            "grid_template_rows": null,
            "height": null,
            "justify_content": null,
            "justify_items": null,
            "left": null,
            "margin": null,
            "max_height": null,
            "max_width": null,
            "min_height": null,
            "min_width": null,
            "object_fit": null,
            "object_position": null,
            "order": null,
            "overflow": null,
            "overflow_x": null,
            "overflow_y": null,
            "padding": null,
            "right": null,
            "top": null,
            "visibility": null,
            "width": null
          }
        },
        "821427253e2741069e18b6ac38e6995e": {
          "model_module": "@jupyter-widgets/base",
          "model_name": "LayoutModel",
          "model_module_version": "1.2.0",
          "state": {
            "_model_module": "@jupyter-widgets/base",
            "_model_module_version": "1.2.0",
            "_model_name": "LayoutModel",
            "_view_count": null,
            "_view_module": "@jupyter-widgets/base",
            "_view_module_version": "1.2.0",
            "_view_name": "LayoutView",
            "align_content": null,
            "align_items": null,
            "align_self": null,
            "border": null,
            "bottom": null,
            "display": null,
            "flex": null,
            "flex_flow": null,
            "grid_area": null,
            "grid_auto_columns": null,
            "grid_auto_flow": null,
            "grid_auto_rows": null,
            "grid_column": null,
            "grid_gap": null,
            "grid_row": null,
            "grid_template_areas": null,
            "grid_template_columns": null,
            "grid_template_rows": null,
            "height": null,
            "justify_content": null,
            "justify_items": null,
            "left": null,
            "margin": null,
            "max_height": null,
            "max_width": null,
            "min_height": null,
            "min_width": null,
            "object_fit": null,
            "object_position": null,
            "order": null,
            "overflow": null,
            "overflow_x": null,
            "overflow_y": null,
            "padding": null,
            "right": null,
            "top": null,
            "visibility": null,
            "width": null
          }
        },
        "0cdf1b41d5f648b794f2f798798c20d5": {
          "model_module": "@jupyter-widgets/controls",
          "model_name": "DescriptionStyleModel",
          "model_module_version": "1.5.0",
          "state": {
            "_model_module": "@jupyter-widgets/controls",
            "_model_module_version": "1.5.0",
            "_model_name": "DescriptionStyleModel",
            "_view_count": null,
            "_view_module": "@jupyter-widgets/base",
            "_view_module_version": "1.2.0",
            "_view_name": "StyleView",
            "description_width": ""
          }
        },
        "335a368e9ca24a5b9106c93708f832b8": {
          "model_module": "@jupyter-widgets/base",
          "model_name": "LayoutModel",
          "model_module_version": "1.2.0",
          "state": {
            "_model_module": "@jupyter-widgets/base",
            "_model_module_version": "1.2.0",
            "_model_name": "LayoutModel",
            "_view_count": null,
            "_view_module": "@jupyter-widgets/base",
            "_view_module_version": "1.2.0",
            "_view_name": "LayoutView",
            "align_content": null,
            "align_items": null,
            "align_self": null,
            "border": null,
            "bottom": null,
            "display": null,
            "flex": null,
            "flex_flow": null,
            "grid_area": null,
            "grid_auto_columns": null,
            "grid_auto_flow": null,
            "grid_auto_rows": null,
            "grid_column": null,
            "grid_gap": null,
            "grid_row": null,
            "grid_template_areas": null,
            "grid_template_columns": null,
            "grid_template_rows": null,
            "height": null,
            "justify_content": null,
            "justify_items": null,
            "left": null,
            "margin": null,
            "max_height": null,
            "max_width": null,
            "min_height": null,
            "min_width": null,
            "object_fit": null,
            "object_position": null,
            "order": null,
            "overflow": null,
            "overflow_x": null,
            "overflow_y": null,
            "padding": null,
            "right": null,
            "top": null,
            "visibility": null,
            "width": null
          }
        },
        "28c92939e58e4d2f964e2c0e863dd565": {
          "model_module": "@jupyter-widgets/controls",
          "model_name": "ProgressStyleModel",
          "model_module_version": "1.5.0",
          "state": {
            "_model_module": "@jupyter-widgets/controls",
            "_model_module_version": "1.5.0",
            "_model_name": "ProgressStyleModel",
            "_view_count": null,
            "_view_module": "@jupyter-widgets/base",
            "_view_module_version": "1.2.0",
            "_view_name": "StyleView",
            "bar_color": null,
            "description_width": ""
          }
        },
        "c21c03e7f0204d029c9b05992ecdff19": {
          "model_module": "@jupyter-widgets/base",
          "model_name": "LayoutModel",
          "model_module_version": "1.2.0",
          "state": {
            "_model_module": "@jupyter-widgets/base",
            "_model_module_version": "1.2.0",
            "_model_name": "LayoutModel",
            "_view_count": null,
            "_view_module": "@jupyter-widgets/base",
            "_view_module_version": "1.2.0",
            "_view_name": "LayoutView",
            "align_content": null,
            "align_items": null,
            "align_self": null,
            "border": null,
            "bottom": null,
            "display": null,
            "flex": null,
            "flex_flow": null,
            "grid_area": null,
            "grid_auto_columns": null,
            "grid_auto_flow": null,
            "grid_auto_rows": null,
            "grid_column": null,
            "grid_gap": null,
            "grid_row": null,
            "grid_template_areas": null,
            "grid_template_columns": null,
            "grid_template_rows": null,
            "height": null,
            "justify_content": null,
            "justify_items": null,
            "left": null,
            "margin": null,
            "max_height": null,
            "max_width": null,
            "min_height": null,
            "min_width": null,
            "object_fit": null,
            "object_position": null,
            "order": null,
            "overflow": null,
            "overflow_x": null,
            "overflow_y": null,
            "padding": null,
            "right": null,
            "top": null,
            "visibility": null,
            "width": null
          }
        },
        "0b49e1331e9043d48dd85893a30b3785": {
          "model_module": "@jupyter-widgets/controls",
          "model_name": "DescriptionStyleModel",
          "model_module_version": "1.5.0",
          "state": {
            "_model_module": "@jupyter-widgets/controls",
            "_model_module_version": "1.5.0",
            "_model_name": "DescriptionStyleModel",
            "_view_count": null,
            "_view_module": "@jupyter-widgets/base",
            "_view_module_version": "1.2.0",
            "_view_name": "StyleView",
            "description_width": ""
          }
        },
        "034996f1711240108fd4f8d7f8658d16": {
          "model_module": "@jupyter-widgets/controls",
          "model_name": "HBoxModel",
          "model_module_version": "1.5.0",
          "state": {
            "_dom_classes": [],
            "_model_module": "@jupyter-widgets/controls",
            "_model_module_version": "1.5.0",
            "_model_name": "HBoxModel",
            "_view_count": null,
            "_view_module": "@jupyter-widgets/controls",
            "_view_module_version": "1.5.0",
            "_view_name": "HBoxView",
            "box_style": "",
            "children": [
              "IPY_MODEL_08f11be831ff4185b531812ab8ec1e8e",
              "IPY_MODEL_12ad4b10796d4f768f958df956200110",
              "IPY_MODEL_090ec237059946e4b476917798bc85d4"
            ],
            "layout": "IPY_MODEL_845bfbca1ffa4c909c6983868d9854db"
          }
        },
        "08f11be831ff4185b531812ab8ec1e8e": {
          "model_module": "@jupyter-widgets/controls",
          "model_name": "HTMLModel",
          "model_module_version": "1.5.0",
          "state": {
            "_dom_classes": [],
            "_model_module": "@jupyter-widgets/controls",
            "_model_module_version": "1.5.0",
            "_model_name": "HTMLModel",
            "_view_count": null,
            "_view_module": "@jupyter-widgets/controls",
            "_view_module_version": "1.5.0",
            "_view_name": "HTMLView",
            "description": "",
            "description_tooltip": null,
            "layout": "IPY_MODEL_340500147cf44eb99e9d1969abdc858c",
            "placeholder": "​",
            "style": "IPY_MODEL_3afb2455ba5c4fb8b3214b649d3faae3",
            "value": "Downloading (…)8d01e821d1/README.md: 100%"
          }
        },
        "12ad4b10796d4f768f958df956200110": {
          "model_module": "@jupyter-widgets/controls",
          "model_name": "FloatProgressModel",
          "model_module_version": "1.5.0",
          "state": {
            "_dom_classes": [],
            "_model_module": "@jupyter-widgets/controls",
            "_model_module_version": "1.5.0",
            "_model_name": "FloatProgressModel",
            "_view_count": null,
            "_view_module": "@jupyter-widgets/controls",
            "_view_module_version": "1.5.0",
            "_view_name": "ProgressView",
            "bar_style": "success",
            "description": "",
            "description_tooltip": null,
            "layout": "IPY_MODEL_1792ebab605c401b987a6db1ad03017d",
            "max": 3951,
            "min": 0,
            "orientation": "horizontal",
            "style": "IPY_MODEL_c32594e9400149e493fed877ac6e4f95",
            "value": 3951
          }
        },
        "090ec237059946e4b476917798bc85d4": {
          "model_module": "@jupyter-widgets/controls",
          "model_name": "HTMLModel",
          "model_module_version": "1.5.0",
          "state": {
            "_dom_classes": [],
            "_model_module": "@jupyter-widgets/controls",
            "_model_module_version": "1.5.0",
            "_model_name": "HTMLModel",
            "_view_count": null,
            "_view_module": "@jupyter-widgets/controls",
            "_view_module_version": "1.5.0",
            "_view_name": "HTMLView",
            "description": "",
            "description_tooltip": null,
            "layout": "IPY_MODEL_692195d1cb3f48b98c456430ca6f7f62",
            "placeholder": "​",
            "style": "IPY_MODEL_52862c953d8a4538820b2f1fb4fe5571",
            "value": " 3.95k/3.95k [00:00&lt;00:00, 182kB/s]"
          }
        },
        "845bfbca1ffa4c909c6983868d9854db": {
          "model_module": "@jupyter-widgets/base",
          "model_name": "LayoutModel",
          "model_module_version": "1.2.0",
          "state": {
            "_model_module": "@jupyter-widgets/base",
            "_model_module_version": "1.2.0",
            "_model_name": "LayoutModel",
            "_view_count": null,
            "_view_module": "@jupyter-widgets/base",
            "_view_module_version": "1.2.0",
            "_view_name": "LayoutView",
            "align_content": null,
            "align_items": null,
            "align_self": null,
            "border": null,
            "bottom": null,
            "display": null,
            "flex": null,
            "flex_flow": null,
            "grid_area": null,
            "grid_auto_columns": null,
            "grid_auto_flow": null,
            "grid_auto_rows": null,
            "grid_column": null,
            "grid_gap": null,
            "grid_row": null,
            "grid_template_areas": null,
            "grid_template_columns": null,
            "grid_template_rows": null,
            "height": null,
            "justify_content": null,
            "justify_items": null,
            "left": null,
            "margin": null,
            "max_height": null,
            "max_width": null,
            "min_height": null,
            "min_width": null,
            "object_fit": null,
            "object_position": null,
            "order": null,
            "overflow": null,
            "overflow_x": null,
            "overflow_y": null,
            "padding": null,
            "right": null,
            "top": null,
            "visibility": null,
            "width": null
          }
        },
        "340500147cf44eb99e9d1969abdc858c": {
          "model_module": "@jupyter-widgets/base",
          "model_name": "LayoutModel",
          "model_module_version": "1.2.0",
          "state": {
            "_model_module": "@jupyter-widgets/base",
            "_model_module_version": "1.2.0",
            "_model_name": "LayoutModel",
            "_view_count": null,
            "_view_module": "@jupyter-widgets/base",
            "_view_module_version": "1.2.0",
            "_view_name": "LayoutView",
            "align_content": null,
            "align_items": null,
            "align_self": null,
            "border": null,
            "bottom": null,
            "display": null,
            "flex": null,
            "flex_flow": null,
            "grid_area": null,
            "grid_auto_columns": null,
            "grid_auto_flow": null,
            "grid_auto_rows": null,
            "grid_column": null,
            "grid_gap": null,
            "grid_row": null,
            "grid_template_areas": null,
            "grid_template_columns": null,
            "grid_template_rows": null,
            "height": null,
            "justify_content": null,
            "justify_items": null,
            "left": null,
            "margin": null,
            "max_height": null,
            "max_width": null,
            "min_height": null,
            "min_width": null,
            "object_fit": null,
            "object_position": null,
            "order": null,
            "overflow": null,
            "overflow_x": null,
            "overflow_y": null,
            "padding": null,
            "right": null,
            "top": null,
            "visibility": null,
            "width": null
          }
        },
        "3afb2455ba5c4fb8b3214b649d3faae3": {
          "model_module": "@jupyter-widgets/controls",
          "model_name": "DescriptionStyleModel",
          "model_module_version": "1.5.0",
          "state": {
            "_model_module": "@jupyter-widgets/controls",
            "_model_module_version": "1.5.0",
            "_model_name": "DescriptionStyleModel",
            "_view_count": null,
            "_view_module": "@jupyter-widgets/base",
            "_view_module_version": "1.2.0",
            "_view_name": "StyleView",
            "description_width": ""
          }
        },
        "1792ebab605c401b987a6db1ad03017d": {
          "model_module": "@jupyter-widgets/base",
          "model_name": "LayoutModel",
          "model_module_version": "1.2.0",
          "state": {
            "_model_module": "@jupyter-widgets/base",
            "_model_module_version": "1.2.0",
            "_model_name": "LayoutModel",
            "_view_count": null,
            "_view_module": "@jupyter-widgets/base",
            "_view_module_version": "1.2.0",
            "_view_name": "LayoutView",
            "align_content": null,
            "align_items": null,
            "align_self": null,
            "border": null,
            "bottom": null,
            "display": null,
            "flex": null,
            "flex_flow": null,
            "grid_area": null,
            "grid_auto_columns": null,
            "grid_auto_flow": null,
            "grid_auto_rows": null,
            "grid_column": null,
            "grid_gap": null,
            "grid_row": null,
            "grid_template_areas": null,
            "grid_template_columns": null,
            "grid_template_rows": null,
            "height": null,
            "justify_content": null,
            "justify_items": null,
            "left": null,
            "margin": null,
            "max_height": null,
            "max_width": null,
            "min_height": null,
            "min_width": null,
            "object_fit": null,
            "object_position": null,
            "order": null,
            "overflow": null,
            "overflow_x": null,
            "overflow_y": null,
            "padding": null,
            "right": null,
            "top": null,
            "visibility": null,
            "width": null
          }
        },
        "c32594e9400149e493fed877ac6e4f95": {
          "model_module": "@jupyter-widgets/controls",
          "model_name": "ProgressStyleModel",
          "model_module_version": "1.5.0",
          "state": {
            "_model_module": "@jupyter-widgets/controls",
            "_model_module_version": "1.5.0",
            "_model_name": "ProgressStyleModel",
            "_view_count": null,
            "_view_module": "@jupyter-widgets/base",
            "_view_module_version": "1.2.0",
            "_view_name": "StyleView",
            "bar_color": null,
            "description_width": ""
          }
        },
        "692195d1cb3f48b98c456430ca6f7f62": {
          "model_module": "@jupyter-widgets/base",
          "model_name": "LayoutModel",
          "model_module_version": "1.2.0",
          "state": {
            "_model_module": "@jupyter-widgets/base",
            "_model_module_version": "1.2.0",
            "_model_name": "LayoutModel",
            "_view_count": null,
            "_view_module": "@jupyter-widgets/base",
            "_view_module_version": "1.2.0",
            "_view_name": "LayoutView",
            "align_content": null,
            "align_items": null,
            "align_self": null,
            "border": null,
            "bottom": null,
            "display": null,
            "flex": null,
            "flex_flow": null,
            "grid_area": null,
            "grid_auto_columns": null,
            "grid_auto_flow": null,
            "grid_auto_rows": null,
            "grid_column": null,
            "grid_gap": null,
            "grid_row": null,
            "grid_template_areas": null,
            "grid_template_columns": null,
            "grid_template_rows": null,
            "height": null,
            "justify_content": null,
            "justify_items": null,
            "left": null,
            "margin": null,
            "max_height": null,
            "max_width": null,
            "min_height": null,
            "min_width": null,
            "object_fit": null,
            "object_position": null,
            "order": null,
            "overflow": null,
            "overflow_x": null,
            "overflow_y": null,
            "padding": null,
            "right": null,
            "top": null,
            "visibility": null,
            "width": null
          }
        },
        "52862c953d8a4538820b2f1fb4fe5571": {
          "model_module": "@jupyter-widgets/controls",
          "model_name": "DescriptionStyleModel",
          "model_module_version": "1.5.0",
          "state": {
            "_model_module": "@jupyter-widgets/controls",
            "_model_module_version": "1.5.0",
            "_model_name": "DescriptionStyleModel",
            "_view_count": null,
            "_view_module": "@jupyter-widgets/base",
            "_view_module_version": "1.2.0",
            "_view_name": "StyleView",
            "description_width": ""
          }
        },
        "ae70a0f712ff44438ec702e27d6e52b8": {
          "model_module": "@jupyter-widgets/controls",
          "model_name": "HBoxModel",
          "model_module_version": "1.5.0",
          "state": {
            "_dom_classes": [],
            "_model_module": "@jupyter-widgets/controls",
            "_model_module_version": "1.5.0",
            "_model_name": "HBoxModel",
            "_view_count": null,
            "_view_module": "@jupyter-widgets/controls",
            "_view_module_version": "1.5.0",
            "_view_name": "HBoxView",
            "box_style": "",
            "children": [
              "IPY_MODEL_b24261dc11a94e62b7b74b4a2fac882f",
              "IPY_MODEL_2b0de2cd8e544c328c51f34321341b85",
              "IPY_MODEL_bec5735dafff493897a295342157d247"
            ],
            "layout": "IPY_MODEL_aa37c95f57ce44edbeca9e74b41edadc"
          }
        },
        "b24261dc11a94e62b7b74b4a2fac882f": {
          "model_module": "@jupyter-widgets/controls",
          "model_name": "HTMLModel",
          "model_module_version": "1.5.0",
          "state": {
            "_dom_classes": [],
            "_model_module": "@jupyter-widgets/controls",
            "_model_module_version": "1.5.0",
            "_model_name": "HTMLModel",
            "_view_count": null,
            "_view_module": "@jupyter-widgets/controls",
            "_view_module_version": "1.5.0",
            "_view_name": "HTMLView",
            "description": "",
            "description_tooltip": null,
            "layout": "IPY_MODEL_317cb7c3645b4e25b6de70d1fd691487",
            "placeholder": "​",
            "style": "IPY_MODEL_791edeead99d44cab986c3b40e6ff5be",
            "value": "Downloading (…)d1/added_tokens.json: 100%"
          }
        },
        "2b0de2cd8e544c328c51f34321341b85": {
          "model_module": "@jupyter-widgets/controls",
          "model_name": "FloatProgressModel",
          "model_module_version": "1.5.0",
          "state": {
            "_dom_classes": [],
            "_model_module": "@jupyter-widgets/controls",
            "_model_module_version": "1.5.0",
            "_model_name": "FloatProgressModel",
            "_view_count": null,
            "_view_module": "@jupyter-widgets/controls",
            "_view_module_version": "1.5.0",
            "_view_name": "ProgressView",
            "bar_style": "success",
            "description": "",
            "description_tooltip": null,
            "layout": "IPY_MODEL_2f2f7eccdb704c7cadc36ddd3dc100fe",
            "max": 2,
            "min": 0,
            "orientation": "horizontal",
            "style": "IPY_MODEL_c1ed750d092d4be68d91e54560d46431",
            "value": 2
          }
        },
        "bec5735dafff493897a295342157d247": {
          "model_module": "@jupyter-widgets/controls",
          "model_name": "HTMLModel",
          "model_module_version": "1.5.0",
          "state": {
            "_dom_classes": [],
            "_model_module": "@jupyter-widgets/controls",
            "_model_module_version": "1.5.0",
            "_model_name": "HTMLModel",
            "_view_count": null,
            "_view_module": "@jupyter-widgets/controls",
            "_view_module_version": "1.5.0",
            "_view_name": "HTMLView",
            "description": "",
            "description_tooltip": null,
            "layout": "IPY_MODEL_840b498eb185420197d651f98e06051a",
            "placeholder": "​",
            "style": "IPY_MODEL_b1b9fdefc5e440b4aaa41b02af29f380",
            "value": " 2.00/2.00 [00:00&lt;00:00, 87.3B/s]"
          }
        },
        "aa37c95f57ce44edbeca9e74b41edadc": {
          "model_module": "@jupyter-widgets/base",
          "model_name": "LayoutModel",
          "model_module_version": "1.2.0",
          "state": {
            "_model_module": "@jupyter-widgets/base",
            "_model_module_version": "1.2.0",
            "_model_name": "LayoutModel",
            "_view_count": null,
            "_view_module": "@jupyter-widgets/base",
            "_view_module_version": "1.2.0",
            "_view_name": "LayoutView",
            "align_content": null,
            "align_items": null,
            "align_self": null,
            "border": null,
            "bottom": null,
            "display": null,
            "flex": null,
            "flex_flow": null,
            "grid_area": null,
            "grid_auto_columns": null,
            "grid_auto_flow": null,
            "grid_auto_rows": null,
            "grid_column": null,
            "grid_gap": null,
            "grid_row": null,
            "grid_template_areas": null,
            "grid_template_columns": null,
            "grid_template_rows": null,
            "height": null,
            "justify_content": null,
            "justify_items": null,
            "left": null,
            "margin": null,
            "max_height": null,
            "max_width": null,
            "min_height": null,
            "min_width": null,
            "object_fit": null,
            "object_position": null,
            "order": null,
            "overflow": null,
            "overflow_x": null,
            "overflow_y": null,
            "padding": null,
            "right": null,
            "top": null,
            "visibility": null,
            "width": null
          }
        },
        "317cb7c3645b4e25b6de70d1fd691487": {
          "model_module": "@jupyter-widgets/base",
          "model_name": "LayoutModel",
          "model_module_version": "1.2.0",
          "state": {
            "_model_module": "@jupyter-widgets/base",
            "_model_module_version": "1.2.0",
            "_model_name": "LayoutModel",
            "_view_count": null,
            "_view_module": "@jupyter-widgets/base",
            "_view_module_version": "1.2.0",
            "_view_name": "LayoutView",
            "align_content": null,
            "align_items": null,
            "align_self": null,
            "border": null,
            "bottom": null,
            "display": null,
            "flex": null,
            "flex_flow": null,
            "grid_area": null,
            "grid_auto_columns": null,
            "grid_auto_flow": null,
            "grid_auto_rows": null,
            "grid_column": null,
            "grid_gap": null,
            "grid_row": null,
            "grid_template_areas": null,
            "grid_template_columns": null,
            "grid_template_rows": null,
            "height": null,
            "justify_content": null,
            "justify_items": null,
            "left": null,
            "margin": null,
            "max_height": null,
            "max_width": null,
            "min_height": null,
            "min_width": null,
            "object_fit": null,
            "object_position": null,
            "order": null,
            "overflow": null,
            "overflow_x": null,
            "overflow_y": null,
            "padding": null,
            "right": null,
            "top": null,
            "visibility": null,
            "width": null
          }
        },
        "791edeead99d44cab986c3b40e6ff5be": {
          "model_module": "@jupyter-widgets/controls",
          "model_name": "DescriptionStyleModel",
          "model_module_version": "1.5.0",
          "state": {
            "_model_module": "@jupyter-widgets/controls",
            "_model_module_version": "1.5.0",
            "_model_name": "DescriptionStyleModel",
            "_view_count": null,
            "_view_module": "@jupyter-widgets/base",
            "_view_module_version": "1.2.0",
            "_view_name": "StyleView",
            "description_width": ""
          }
        },
        "2f2f7eccdb704c7cadc36ddd3dc100fe": {
          "model_module": "@jupyter-widgets/base",
          "model_name": "LayoutModel",
          "model_module_version": "1.2.0",
          "state": {
            "_model_module": "@jupyter-widgets/base",
            "_model_module_version": "1.2.0",
            "_model_name": "LayoutModel",
            "_view_count": null,
            "_view_module": "@jupyter-widgets/base",
            "_view_module_version": "1.2.0",
            "_view_name": "LayoutView",
            "align_content": null,
            "align_items": null,
            "align_self": null,
            "border": null,
            "bottom": null,
            "display": null,
            "flex": null,
            "flex_flow": null,
            "grid_area": null,
            "grid_auto_columns": null,
            "grid_auto_flow": null,
            "grid_auto_rows": null,
            "grid_column": null,
            "grid_gap": null,
            "grid_row": null,
            "grid_template_areas": null,
            "grid_template_columns": null,
            "grid_template_rows": null,
            "height": null,
            "justify_content": null,
            "justify_items": null,
            "left": null,
            "margin": null,
            "max_height": null,
            "max_width": null,
            "min_height": null,
            "min_width": null,
            "object_fit": null,
            "object_position": null,
            "order": null,
            "overflow": null,
            "overflow_x": null,
            "overflow_y": null,
            "padding": null,
            "right": null,
            "top": null,
            "visibility": null,
            "width": null
          }
        },
        "c1ed750d092d4be68d91e54560d46431": {
          "model_module": "@jupyter-widgets/controls",
          "model_name": "ProgressStyleModel",
          "model_module_version": "1.5.0",
          "state": {
            "_model_module": "@jupyter-widgets/controls",
            "_model_module_version": "1.5.0",
            "_model_name": "ProgressStyleModel",
            "_view_count": null,
            "_view_module": "@jupyter-widgets/base",
            "_view_module_version": "1.2.0",
            "_view_name": "StyleView",
            "bar_color": null,
            "description_width": ""
          }
        },
        "840b498eb185420197d651f98e06051a": {
          "model_module": "@jupyter-widgets/base",
          "model_name": "LayoutModel",
          "model_module_version": "1.2.0",
          "state": {
            "_model_module": "@jupyter-widgets/base",
            "_model_module_version": "1.2.0",
            "_model_name": "LayoutModel",
            "_view_count": null,
            "_view_module": "@jupyter-widgets/base",
            "_view_module_version": "1.2.0",
            "_view_name": "LayoutView",
            "align_content": null,
            "align_items": null,
            "align_self": null,
            "border": null,
            "bottom": null,
            "display": null,
            "flex": null,
            "flex_flow": null,
            "grid_area": null,
            "grid_auto_columns": null,
            "grid_auto_flow": null,
            "grid_auto_rows": null,
            "grid_column": null,
            "grid_gap": null,
            "grid_row": null,
            "grid_template_areas": null,
            "grid_template_columns": null,
            "grid_template_rows": null,
            "height": null,
            "justify_content": null,
            "justify_items": null,
            "left": null,
            "margin": null,
            "max_height": null,
            "max_width": null,
            "min_height": null,
            "min_width": null,
            "object_fit": null,
            "object_position": null,
            "order": null,
            "overflow": null,
            "overflow_x": null,
            "overflow_y": null,
            "padding": null,
            "right": null,
            "top": null,
            "visibility": null,
            "width": null
          }
        },
        "b1b9fdefc5e440b4aaa41b02af29f380": {
          "model_module": "@jupyter-widgets/controls",
          "model_name": "DescriptionStyleModel",
          "model_module_version": "1.5.0",
          "state": {
            "_model_module": "@jupyter-widgets/controls",
            "_model_module_version": "1.5.0",
            "_model_name": "DescriptionStyleModel",
            "_view_count": null,
            "_view_module": "@jupyter-widgets/base",
            "_view_module_version": "1.2.0",
            "_view_name": "StyleView",
            "description_width": ""
          }
        },
        "e7bfa9ccc5864cf0b8324b21204d179b": {
          "model_module": "@jupyter-widgets/controls",
          "model_name": "HBoxModel",
          "model_module_version": "1.5.0",
          "state": {
            "_dom_classes": [],
            "_model_module": "@jupyter-widgets/controls",
            "_model_module_version": "1.5.0",
            "_model_name": "HBoxModel",
            "_view_count": null,
            "_view_module": "@jupyter-widgets/controls",
            "_view_module_version": "1.5.0",
            "_view_name": "HBoxView",
            "box_style": "",
            "children": [
              "IPY_MODEL_3ce899a8bf6848bc9982fed304af92d6",
              "IPY_MODEL_b637427ddb494970b114b383bf599c66",
              "IPY_MODEL_0ebe01bc76384686904eedae28c3d461"
            ],
            "layout": "IPY_MODEL_dd574849aac8489b8b6e9027358ed362"
          }
        },
        "3ce899a8bf6848bc9982fed304af92d6": {
          "model_module": "@jupyter-widgets/controls",
          "model_name": "HTMLModel",
          "model_module_version": "1.5.0",
          "state": {
            "_dom_classes": [],
            "_model_module": "@jupyter-widgets/controls",
            "_model_module_version": "1.5.0",
            "_model_name": "HTMLModel",
            "_view_count": null,
            "_view_module": "@jupyter-widgets/controls",
            "_view_module_version": "1.5.0",
            "_view_name": "HTMLView",
            "description": "",
            "description_tooltip": null,
            "layout": "IPY_MODEL_c86ab95cb39f417c95460098dcb0bd20",
            "placeholder": "​",
            "style": "IPY_MODEL_d883a46e4dee4006b919aaea9c7b5dc7",
            "value": "Downloading (…)01e821d1/config.json: 100%"
          }
        },
        "b637427ddb494970b114b383bf599c66": {
          "model_module": "@jupyter-widgets/controls",
          "model_name": "FloatProgressModel",
          "model_module_version": "1.5.0",
          "state": {
            "_dom_classes": [],
            "_model_module": "@jupyter-widgets/controls",
            "_model_module_version": "1.5.0",
            "_model_name": "FloatProgressModel",
            "_view_count": null,
            "_view_module": "@jupyter-widgets/controls",
            "_view_module_version": "1.5.0",
            "_view_name": "ProgressView",
            "bar_style": "success",
            "description": "",
            "description_tooltip": null,
            "layout": "IPY_MODEL_d8b77e68573b47fb933dead44868dc62",
            "max": 625,
            "min": 0,
            "orientation": "horizontal",
            "style": "IPY_MODEL_1767a6b53b464b0ca7c94654005c61ca",
            "value": 625
          }
        },
        "0ebe01bc76384686904eedae28c3d461": {
          "model_module": "@jupyter-widgets/controls",
          "model_name": "HTMLModel",
          "model_module_version": "1.5.0",
          "state": {
            "_dom_classes": [],
            "_model_module": "@jupyter-widgets/controls",
            "_model_module_version": "1.5.0",
            "_model_name": "HTMLModel",
            "_view_count": null,
            "_view_module": "@jupyter-widgets/controls",
            "_view_module_version": "1.5.0",
            "_view_name": "HTMLView",
            "description": "",
            "description_tooltip": null,
            "layout": "IPY_MODEL_1523eb05536e4a988e67e189384fa406",
            "placeholder": "​",
            "style": "IPY_MODEL_decd0b3676cd4bc0ad11b5105164100e",
            "value": " 625/625 [00:00&lt;00:00, 35.1kB/s]"
          }
        },
        "dd574849aac8489b8b6e9027358ed362": {
          "model_module": "@jupyter-widgets/base",
          "model_name": "LayoutModel",
          "model_module_version": "1.2.0",
          "state": {
            "_model_module": "@jupyter-widgets/base",
            "_model_module_version": "1.2.0",
            "_model_name": "LayoutModel",
            "_view_count": null,
            "_view_module": "@jupyter-widgets/base",
            "_view_module_version": "1.2.0",
            "_view_name": "LayoutView",
            "align_content": null,
            "align_items": null,
            "align_self": null,
            "border": null,
            "bottom": null,
            "display": null,
            "flex": null,
            "flex_flow": null,
            "grid_area": null,
            "grid_auto_columns": null,
            "grid_auto_flow": null,
            "grid_auto_rows": null,
            "grid_column": null,
            "grid_gap": null,
            "grid_row": null,
            "grid_template_areas": null,
            "grid_template_columns": null,
            "grid_template_rows": null,
            "height": null,
            "justify_content": null,
            "justify_items": null,
            "left": null,
            "margin": null,
            "max_height": null,
            "max_width": null,
            "min_height": null,
            "min_width": null,
            "object_fit": null,
            "object_position": null,
            "order": null,
            "overflow": null,
            "overflow_x": null,
            "overflow_y": null,
            "padding": null,
            "right": null,
            "top": null,
            "visibility": null,
            "width": null
          }
        },
        "c86ab95cb39f417c95460098dcb0bd20": {
          "model_module": "@jupyter-widgets/base",
          "model_name": "LayoutModel",
          "model_module_version": "1.2.0",
          "state": {
            "_model_module": "@jupyter-widgets/base",
            "_model_module_version": "1.2.0",
            "_model_name": "LayoutModel",
            "_view_count": null,
            "_view_module": "@jupyter-widgets/base",
            "_view_module_version": "1.2.0",
            "_view_name": "LayoutView",
            "align_content": null,
            "align_items": null,
            "align_self": null,
            "border": null,
            "bottom": null,
            "display": null,
            "flex": null,
            "flex_flow": null,
            "grid_area": null,
            "grid_auto_columns": null,
            "grid_auto_flow": null,
            "grid_auto_rows": null,
            "grid_column": null,
            "grid_gap": null,
            "grid_row": null,
            "grid_template_areas": null,
            "grid_template_columns": null,
            "grid_template_rows": null,
            "height": null,
            "justify_content": null,
            "justify_items": null,
            "left": null,
            "margin": null,
            "max_height": null,
            "max_width": null,
            "min_height": null,
            "min_width": null,
            "object_fit": null,
            "object_position": null,
            "order": null,
            "overflow": null,
            "overflow_x": null,
            "overflow_y": null,
            "padding": null,
            "right": null,
            "top": null,
            "visibility": null,
            "width": null
          }
        },
        "d883a46e4dee4006b919aaea9c7b5dc7": {
          "model_module": "@jupyter-widgets/controls",
          "model_name": "DescriptionStyleModel",
          "model_module_version": "1.5.0",
          "state": {
            "_model_module": "@jupyter-widgets/controls",
            "_model_module_version": "1.5.0",
            "_model_name": "DescriptionStyleModel",
            "_view_count": null,
            "_view_module": "@jupyter-widgets/base",
            "_view_module_version": "1.2.0",
            "_view_name": "StyleView",
            "description_width": ""
          }
        },
        "d8b77e68573b47fb933dead44868dc62": {
          "model_module": "@jupyter-widgets/base",
          "model_name": "LayoutModel",
          "model_module_version": "1.2.0",
          "state": {
            "_model_module": "@jupyter-widgets/base",
            "_model_module_version": "1.2.0",
            "_model_name": "LayoutModel",
            "_view_count": null,
            "_view_module": "@jupyter-widgets/base",
            "_view_module_version": "1.2.0",
            "_view_name": "LayoutView",
            "align_content": null,
            "align_items": null,
            "align_self": null,
            "border": null,
            "bottom": null,
            "display": null,
            "flex": null,
            "flex_flow": null,
            "grid_area": null,
            "grid_auto_columns": null,
            "grid_auto_flow": null,
            "grid_auto_rows": null,
            "grid_column": null,
            "grid_gap": null,
            "grid_row": null,
            "grid_template_areas": null,
            "grid_template_columns": null,
            "grid_template_rows": null,
            "height": null,
            "justify_content": null,
            "justify_items": null,
            "left": null,
            "margin": null,
            "max_height": null,
            "max_width": null,
            "min_height": null,
            "min_width": null,
            "object_fit": null,
            "object_position": null,
            "order": null,
            "overflow": null,
            "overflow_x": null,
            "overflow_y": null,
            "padding": null,
            "right": null,
            "top": null,
            "visibility": null,
            "width": null
          }
        },
        "1767a6b53b464b0ca7c94654005c61ca": {
          "model_module": "@jupyter-widgets/controls",
          "model_name": "ProgressStyleModel",
          "model_module_version": "1.5.0",
          "state": {
            "_model_module": "@jupyter-widgets/controls",
            "_model_module_version": "1.5.0",
            "_model_name": "ProgressStyleModel",
            "_view_count": null,
            "_view_module": "@jupyter-widgets/base",
            "_view_module_version": "1.2.0",
            "_view_name": "StyleView",
            "bar_color": null,
            "description_width": ""
          }
        },
        "1523eb05536e4a988e67e189384fa406": {
          "model_module": "@jupyter-widgets/base",
          "model_name": "LayoutModel",
          "model_module_version": "1.2.0",
          "state": {
            "_model_module": "@jupyter-widgets/base",
            "_model_module_version": "1.2.0",
            "_model_name": "LayoutModel",
            "_view_count": null,
            "_view_module": "@jupyter-widgets/base",
            "_view_module_version": "1.2.0",
            "_view_name": "LayoutView",
            "align_content": null,
            "align_items": null,
            "align_self": null,
            "border": null,
            "bottom": null,
            "display": null,
            "flex": null,
            "flex_flow": null,
            "grid_area": null,
            "grid_auto_columns": null,
            "grid_auto_flow": null,
            "grid_auto_rows": null,
            "grid_column": null,
            "grid_gap": null,
            "grid_row": null,
            "grid_template_areas": null,
            "grid_template_columns": null,
            "grid_template_rows": null,
            "height": null,
            "justify_content": null,
            "justify_items": null,
            "left": null,
            "margin": null,
            "max_height": null,
            "max_width": null,
            "min_height": null,
            "min_width": null,
            "object_fit": null,
            "object_position": null,
            "order": null,
            "overflow": null,
            "overflow_x": null,
            "overflow_y": null,
            "padding": null,
            "right": null,
            "top": null,
            "visibility": null,
            "width": null
          }
        },
        "decd0b3676cd4bc0ad11b5105164100e": {
          "model_module": "@jupyter-widgets/controls",
          "model_name": "DescriptionStyleModel",
          "model_module_version": "1.5.0",
          "state": {
            "_model_module": "@jupyter-widgets/controls",
            "_model_module_version": "1.5.0",
            "_model_name": "DescriptionStyleModel",
            "_view_count": null,
            "_view_module": "@jupyter-widgets/base",
            "_view_module_version": "1.2.0",
            "_view_name": "StyleView",
            "description_width": ""
          }
        },
        "5920b8eb07ba4248a37d2882ce28149c": {
          "model_module": "@jupyter-widgets/controls",
          "model_name": "HBoxModel",
          "model_module_version": "1.5.0",
          "state": {
            "_dom_classes": [],
            "_model_module": "@jupyter-widgets/controls",
            "_model_module_version": "1.5.0",
            "_model_name": "HBoxModel",
            "_view_count": null,
            "_view_module": "@jupyter-widgets/controls",
            "_view_module_version": "1.5.0",
            "_view_name": "HBoxView",
            "box_style": "",
            "children": [
              "IPY_MODEL_68898665dda14b48969a7acfab6e4912",
              "IPY_MODEL_b0dba40e5b5b40e1a02c6a7c2b15b5cf",
              "IPY_MODEL_83bab8fc03714db482b5deffc876e309"
            ],
            "layout": "IPY_MODEL_ca6e0ec72f1f498c8d909ac297e63b1a"
          }
        },
        "68898665dda14b48969a7acfab6e4912": {
          "model_module": "@jupyter-widgets/controls",
          "model_name": "HTMLModel",
          "model_module_version": "1.5.0",
          "state": {
            "_dom_classes": [],
            "_model_module": "@jupyter-widgets/controls",
            "_model_module_version": "1.5.0",
            "_model_name": "HTMLModel",
            "_view_count": null,
            "_view_module": "@jupyter-widgets/controls",
            "_view_module_version": "1.5.0",
            "_view_name": "HTMLView",
            "description": "",
            "description_tooltip": null,
            "layout": "IPY_MODEL_ce13463e34c64b469fb8938b04439abe",
            "placeholder": "​",
            "style": "IPY_MODEL_2778469132fc4a27be59309ede0cbca5",
            "value": "Downloading (…)ce_transformers.json: 100%"
          }
        },
        "b0dba40e5b5b40e1a02c6a7c2b15b5cf": {
          "model_module": "@jupyter-widgets/controls",
          "model_name": "FloatProgressModel",
          "model_module_version": "1.5.0",
          "state": {
            "_dom_classes": [],
            "_model_module": "@jupyter-widgets/controls",
            "_model_module_version": "1.5.0",
            "_model_name": "FloatProgressModel",
            "_view_count": null,
            "_view_module": "@jupyter-widgets/controls",
            "_view_module_version": "1.5.0",
            "_view_name": "ProgressView",
            "bar_style": "success",
            "description": "",
            "description_tooltip": null,
            "layout": "IPY_MODEL_13d65acae5d941a28f4b0f08bc4a72d2",
            "max": 122,
            "min": 0,
            "orientation": "horizontal",
            "style": "IPY_MODEL_5d10e7ad68274d28866dc6ccb080bcfa",
            "value": 122
          }
        },
        "83bab8fc03714db482b5deffc876e309": {
          "model_module": "@jupyter-widgets/controls",
          "model_name": "HTMLModel",
          "model_module_version": "1.5.0",
          "state": {
            "_dom_classes": [],
            "_model_module": "@jupyter-widgets/controls",
            "_model_module_version": "1.5.0",
            "_model_name": "HTMLModel",
            "_view_count": null,
            "_view_module": "@jupyter-widgets/controls",
            "_view_module_version": "1.5.0",
            "_view_name": "HTMLView",
            "description": "",
            "description_tooltip": null,
            "layout": "IPY_MODEL_4703110cdef34105a8198831f2c02d2a",
            "placeholder": "​",
            "style": "IPY_MODEL_5fcf244d8f884df198e9c42dbde6fe96",
            "value": " 122/122 [00:00&lt;00:00, 7.17kB/s]"
          }
        },
        "ca6e0ec72f1f498c8d909ac297e63b1a": {
          "model_module": "@jupyter-widgets/base",
          "model_name": "LayoutModel",
          "model_module_version": "1.2.0",
          "state": {
            "_model_module": "@jupyter-widgets/base",
            "_model_module_version": "1.2.0",
            "_model_name": "LayoutModel",
            "_view_count": null,
            "_view_module": "@jupyter-widgets/base",
            "_view_module_version": "1.2.0",
            "_view_name": "LayoutView",
            "align_content": null,
            "align_items": null,
            "align_self": null,
            "border": null,
            "bottom": null,
            "display": null,
            "flex": null,
            "flex_flow": null,
            "grid_area": null,
            "grid_auto_columns": null,
            "grid_auto_flow": null,
            "grid_auto_rows": null,
            "grid_column": null,
            "grid_gap": null,
            "grid_row": null,
            "grid_template_areas": null,
            "grid_template_columns": null,
            "grid_template_rows": null,
            "height": null,
            "justify_content": null,
            "justify_items": null,
            "left": null,
            "margin": null,
            "max_height": null,
            "max_width": null,
            "min_height": null,
            "min_width": null,
            "object_fit": null,
            "object_position": null,
            "order": null,
            "overflow": null,
            "overflow_x": null,
            "overflow_y": null,
            "padding": null,
            "right": null,
            "top": null,
            "visibility": null,
            "width": null
          }
        },
        "ce13463e34c64b469fb8938b04439abe": {
          "model_module": "@jupyter-widgets/base",
          "model_name": "LayoutModel",
          "model_module_version": "1.2.0",
          "state": {
            "_model_module": "@jupyter-widgets/base",
            "_model_module_version": "1.2.0",
            "_model_name": "LayoutModel",
            "_view_count": null,
            "_view_module": "@jupyter-widgets/base",
            "_view_module_version": "1.2.0",
            "_view_name": "LayoutView",
            "align_content": null,
            "align_items": null,
            "align_self": null,
            "border": null,
            "bottom": null,
            "display": null,
            "flex": null,
            "flex_flow": null,
            "grid_area": null,
            "grid_auto_columns": null,
            "grid_auto_flow": null,
            "grid_auto_rows": null,
            "grid_column": null,
            "grid_gap": null,
            "grid_row": null,
            "grid_template_areas": null,
            "grid_template_columns": null,
            "grid_template_rows": null,
            "height": null,
            "justify_content": null,
            "justify_items": null,
            "left": null,
            "margin": null,
            "max_height": null,
            "max_width": null,
            "min_height": null,
            "min_width": null,
            "object_fit": null,
            "object_position": null,
            "order": null,
            "overflow": null,
            "overflow_x": null,
            "overflow_y": null,
            "padding": null,
            "right": null,
            "top": null,
            "visibility": null,
            "width": null
          }
        },
        "2778469132fc4a27be59309ede0cbca5": {
          "model_module": "@jupyter-widgets/controls",
          "model_name": "DescriptionStyleModel",
          "model_module_version": "1.5.0",
          "state": {
            "_model_module": "@jupyter-widgets/controls",
            "_model_module_version": "1.5.0",
            "_model_name": "DescriptionStyleModel",
            "_view_count": null,
            "_view_module": "@jupyter-widgets/base",
            "_view_module_version": "1.2.0",
            "_view_name": "StyleView",
            "description_width": ""
          }
        },
        "13d65acae5d941a28f4b0f08bc4a72d2": {
          "model_module": "@jupyter-widgets/base",
          "model_name": "LayoutModel",
          "model_module_version": "1.2.0",
          "state": {
            "_model_module": "@jupyter-widgets/base",
            "_model_module_version": "1.2.0",
            "_model_name": "LayoutModel",
            "_view_count": null,
            "_view_module": "@jupyter-widgets/base",
            "_view_module_version": "1.2.0",
            "_view_name": "LayoutView",
            "align_content": null,
            "align_items": null,
            "align_self": null,
            "border": null,
            "bottom": null,
            "display": null,
            "flex": null,
            "flex_flow": null,
            "grid_area": null,
            "grid_auto_columns": null,
            "grid_auto_flow": null,
            "grid_auto_rows": null,
            "grid_column": null,
            "grid_gap": null,
            "grid_row": null,
            "grid_template_areas": null,
            "grid_template_columns": null,
            "grid_template_rows": null,
            "height": null,
            "justify_content": null,
            "justify_items": null,
            "left": null,
            "margin": null,
            "max_height": null,
            "max_width": null,
            "min_height": null,
            "min_width": null,
            "object_fit": null,
            "object_position": null,
            "order": null,
            "overflow": null,
            "overflow_x": null,
            "overflow_y": null,
            "padding": null,
            "right": null,
            "top": null,
            "visibility": null,
            "width": null
          }
        },
        "5d10e7ad68274d28866dc6ccb080bcfa": {
          "model_module": "@jupyter-widgets/controls",
          "model_name": "ProgressStyleModel",
          "model_module_version": "1.5.0",
          "state": {
            "_model_module": "@jupyter-widgets/controls",
            "_model_module_version": "1.5.0",
            "_model_name": "ProgressStyleModel",
            "_view_count": null,
            "_view_module": "@jupyter-widgets/base",
            "_view_module_version": "1.2.0",
            "_view_name": "StyleView",
            "bar_color": null,
            "description_width": ""
          }
        },
        "4703110cdef34105a8198831f2c02d2a": {
          "model_module": "@jupyter-widgets/base",
          "model_name": "LayoutModel",
          "model_module_version": "1.2.0",
          "state": {
            "_model_module": "@jupyter-widgets/base",
            "_model_module_version": "1.2.0",
            "_model_name": "LayoutModel",
            "_view_count": null,
            "_view_module": "@jupyter-widgets/base",
            "_view_module_version": "1.2.0",
            "_view_name": "LayoutView",
            "align_content": null,
            "align_items": null,
            "align_self": null,
            "border": null,
            "bottom": null,
            "display": null,
            "flex": null,
            "flex_flow": null,
            "grid_area": null,
            "grid_auto_columns": null,
            "grid_auto_flow": null,
            "grid_auto_rows": null,
            "grid_column": null,
            "grid_gap": null,
            "grid_row": null,
            "grid_template_areas": null,
            "grid_template_columns": null,
            "grid_template_rows": null,
            "height": null,
            "justify_content": null,
            "justify_items": null,
            "left": null,
            "margin": null,
            "max_height": null,
            "max_width": null,
            "min_height": null,
            "min_width": null,
            "object_fit": null,
            "object_position": null,
            "order": null,
            "overflow": null,
            "overflow_x": null,
            "overflow_y": null,
            "padding": null,
            "right": null,
            "top": null,
            "visibility": null,
            "width": null
          }
        },
        "5fcf244d8f884df198e9c42dbde6fe96": {
          "model_module": "@jupyter-widgets/controls",
          "model_name": "DescriptionStyleModel",
          "model_module_version": "1.5.0",
          "state": {
            "_model_module": "@jupyter-widgets/controls",
            "_model_module_version": "1.5.0",
            "_model_name": "DescriptionStyleModel",
            "_view_count": null,
            "_view_module": "@jupyter-widgets/base",
            "_view_module_version": "1.2.0",
            "_view_name": "StyleView",
            "description_width": ""
          }
        },
        "f609ed576ff84c6783d8d794795160c3": {
          "model_module": "@jupyter-widgets/controls",
          "model_name": "HBoxModel",
          "model_module_version": "1.5.0",
          "state": {
            "_dom_classes": [],
            "_model_module": "@jupyter-widgets/controls",
            "_model_module_version": "1.5.0",
            "_model_name": "HBoxModel",
            "_view_count": null,
            "_view_module": "@jupyter-widgets/controls",
            "_view_module_version": "1.5.0",
            "_view_name": "HBoxView",
            "box_style": "",
            "children": [
              "IPY_MODEL_7157002f7316411582fb4ead744df17f",
              "IPY_MODEL_1bdbb2da14d7493181238a5b486d65b3",
              "IPY_MODEL_65059efd11704d76aabf3ea6ba181193"
            ],
            "layout": "IPY_MODEL_aa789565a58c4b54b836c13fb452bb2e"
          }
        },
        "7157002f7316411582fb4ead744df17f": {
          "model_module": "@jupyter-widgets/controls",
          "model_name": "HTMLModel",
          "model_module_version": "1.5.0",
          "state": {
            "_dom_classes": [],
            "_model_module": "@jupyter-widgets/controls",
            "_model_module_version": "1.5.0",
            "_model_name": "HTMLModel",
            "_view_count": null,
            "_view_module": "@jupyter-widgets/controls",
            "_view_module_version": "1.5.0",
            "_view_name": "HTMLView",
            "description": "",
            "description_tooltip": null,
            "layout": "IPY_MODEL_0134f55bf5b14a0eab304acd22de3924",
            "placeholder": "​",
            "style": "IPY_MODEL_d19733f19de845caaf725d119a312cd0",
            "value": "Downloading pytorch_model.bin: 100%"
          }
        },
        "1bdbb2da14d7493181238a5b486d65b3": {
          "model_module": "@jupyter-widgets/controls",
          "model_name": "FloatProgressModel",
          "model_module_version": "1.5.0",
          "state": {
            "_dom_classes": [],
            "_model_module": "@jupyter-widgets/controls",
            "_model_module_version": "1.5.0",
            "_model_name": "FloatProgressModel",
            "_view_count": null,
            "_view_module": "@jupyter-widgets/controls",
            "_view_module_version": "1.5.0",
            "_view_name": "ProgressView",
            "bar_style": "success",
            "description": "",
            "description_tooltip": null,
            "layout": "IPY_MODEL_f41cd05e040f4c2cacf1918b878d8cca",
            "max": 438007537,
            "min": 0,
            "orientation": "horizontal",
            "style": "IPY_MODEL_937506e91bc548448cc899beb184dc12",
            "value": 438007537
          }
        },
        "65059efd11704d76aabf3ea6ba181193": {
          "model_module": "@jupyter-widgets/controls",
          "model_name": "HTMLModel",
          "model_module_version": "1.5.0",
          "state": {
            "_dom_classes": [],
            "_model_module": "@jupyter-widgets/controls",
            "_model_module_version": "1.5.0",
            "_model_name": "HTMLModel",
            "_view_count": null,
            "_view_module": "@jupyter-widgets/controls",
            "_view_module_version": "1.5.0",
            "_view_name": "HTMLView",
            "description": "",
            "description_tooltip": null,
            "layout": "IPY_MODEL_03b5b5347c8d4d1f9ebe48ce24621cc9",
            "placeholder": "​",
            "style": "IPY_MODEL_4aea1f940e5e47e19be6b68e66f3603b",
            "value": " 438M/438M [00:02&lt;00:00, 181MB/s]"
          }
        },
        "aa789565a58c4b54b836c13fb452bb2e": {
          "model_module": "@jupyter-widgets/base",
          "model_name": "LayoutModel",
          "model_module_version": "1.2.0",
          "state": {
            "_model_module": "@jupyter-widgets/base",
            "_model_module_version": "1.2.0",
            "_model_name": "LayoutModel",
            "_view_count": null,
            "_view_module": "@jupyter-widgets/base",
            "_view_module_version": "1.2.0",
            "_view_name": "LayoutView",
            "align_content": null,
            "align_items": null,
            "align_self": null,
            "border": null,
            "bottom": null,
            "display": null,
            "flex": null,
            "flex_flow": null,
            "grid_area": null,
            "grid_auto_columns": null,
            "grid_auto_flow": null,
            "grid_auto_rows": null,
            "grid_column": null,
            "grid_gap": null,
            "grid_row": null,
            "grid_template_areas": null,
            "grid_template_columns": null,
            "grid_template_rows": null,
            "height": null,
            "justify_content": null,
            "justify_items": null,
            "left": null,
            "margin": null,
            "max_height": null,
            "max_width": null,
            "min_height": null,
            "min_width": null,
            "object_fit": null,
            "object_position": null,
            "order": null,
            "overflow": null,
            "overflow_x": null,
            "overflow_y": null,
            "padding": null,
            "right": null,
            "top": null,
            "visibility": null,
            "width": null
          }
        },
        "0134f55bf5b14a0eab304acd22de3924": {
          "model_module": "@jupyter-widgets/base",
          "model_name": "LayoutModel",
          "model_module_version": "1.2.0",
          "state": {
            "_model_module": "@jupyter-widgets/base",
            "_model_module_version": "1.2.0",
            "_model_name": "LayoutModel",
            "_view_count": null,
            "_view_module": "@jupyter-widgets/base",
            "_view_module_version": "1.2.0",
            "_view_name": "LayoutView",
            "align_content": null,
            "align_items": null,
            "align_self": null,
            "border": null,
            "bottom": null,
            "display": null,
            "flex": null,
            "flex_flow": null,
            "grid_area": null,
            "grid_auto_columns": null,
            "grid_auto_flow": null,
            "grid_auto_rows": null,
            "grid_column": null,
            "grid_gap": null,
            "grid_row": null,
            "grid_template_areas": null,
            "grid_template_columns": null,
            "grid_template_rows": null,
            "height": null,
            "justify_content": null,
            "justify_items": null,
            "left": null,
            "margin": null,
            "max_height": null,
            "max_width": null,
            "min_height": null,
            "min_width": null,
            "object_fit": null,
            "object_position": null,
            "order": null,
            "overflow": null,
            "overflow_x": null,
            "overflow_y": null,
            "padding": null,
            "right": null,
            "top": null,
            "visibility": null,
            "width": null
          }
        },
        "d19733f19de845caaf725d119a312cd0": {
          "model_module": "@jupyter-widgets/controls",
          "model_name": "DescriptionStyleModel",
          "model_module_version": "1.5.0",
          "state": {
            "_model_module": "@jupyter-widgets/controls",
            "_model_module_version": "1.5.0",
            "_model_name": "DescriptionStyleModel",
            "_view_count": null,
            "_view_module": "@jupyter-widgets/base",
            "_view_module_version": "1.2.0",
            "_view_name": "StyleView",
            "description_width": ""
          }
        },
        "f41cd05e040f4c2cacf1918b878d8cca": {
          "model_module": "@jupyter-widgets/base",
          "model_name": "LayoutModel",
          "model_module_version": "1.2.0",
          "state": {
            "_model_module": "@jupyter-widgets/base",
            "_model_module_version": "1.2.0",
            "_model_name": "LayoutModel",
            "_view_count": null,
            "_view_module": "@jupyter-widgets/base",
            "_view_module_version": "1.2.0",
            "_view_name": "LayoutView",
            "align_content": null,
            "align_items": null,
            "align_self": null,
            "border": null,
            "bottom": null,
            "display": null,
            "flex": null,
            "flex_flow": null,
            "grid_area": null,
            "grid_auto_columns": null,
            "grid_auto_flow": null,
            "grid_auto_rows": null,
            "grid_column": null,
            "grid_gap": null,
            "grid_row": null,
            "grid_template_areas": null,
            "grid_template_columns": null,
            "grid_template_rows": null,
            "height": null,
            "justify_content": null,
            "justify_items": null,
            "left": null,
            "margin": null,
            "max_height": null,
            "max_width": null,
            "min_height": null,
            "min_width": null,
            "object_fit": null,
            "object_position": null,
            "order": null,
            "overflow": null,
            "overflow_x": null,
            "overflow_y": null,
            "padding": null,
            "right": null,
            "top": null,
            "visibility": null,
            "width": null
          }
        },
        "937506e91bc548448cc899beb184dc12": {
          "model_module": "@jupyter-widgets/controls",
          "model_name": "ProgressStyleModel",
          "model_module_version": "1.5.0",
          "state": {
            "_model_module": "@jupyter-widgets/controls",
            "_model_module_version": "1.5.0",
            "_model_name": "ProgressStyleModel",
            "_view_count": null,
            "_view_module": "@jupyter-widgets/base",
            "_view_module_version": "1.2.0",
            "_view_name": "StyleView",
            "bar_color": null,
            "description_width": ""
          }
        },
        "03b5b5347c8d4d1f9ebe48ce24621cc9": {
          "model_module": "@jupyter-widgets/base",
          "model_name": "LayoutModel",
          "model_module_version": "1.2.0",
          "state": {
            "_model_module": "@jupyter-widgets/base",
            "_model_module_version": "1.2.0",
            "_model_name": "LayoutModel",
            "_view_count": null,
            "_view_module": "@jupyter-widgets/base",
            "_view_module_version": "1.2.0",
            "_view_name": "LayoutView",
            "align_content": null,
            "align_items": null,
            "align_self": null,
            "border": null,
            "bottom": null,
            "display": null,
            "flex": null,
            "flex_flow": null,
            "grid_area": null,
            "grid_auto_columns": null,
            "grid_auto_flow": null,
            "grid_auto_rows": null,
            "grid_column": null,
            "grid_gap": null,
            "grid_row": null,
            "grid_template_areas": null,
            "grid_template_columns": null,
            "grid_template_rows": null,
            "height": null,
            "justify_content": null,
            "justify_items": null,
            "left": null,
            "margin": null,
            "max_height": null,
            "max_width": null,
            "min_height": null,
            "min_width": null,
            "object_fit": null,
            "object_position": null,
            "order": null,
            "overflow": null,
            "overflow_x": null,
            "overflow_y": null,
            "padding": null,
            "right": null,
            "top": null,
            "visibility": null,
            "width": null
          }
        },
        "4aea1f940e5e47e19be6b68e66f3603b": {
          "model_module": "@jupyter-widgets/controls",
          "model_name": "DescriptionStyleModel",
          "model_module_version": "1.5.0",
          "state": {
            "_model_module": "@jupyter-widgets/controls",
            "_model_module_version": "1.5.0",
            "_model_name": "DescriptionStyleModel",
            "_view_count": null,
            "_view_module": "@jupyter-widgets/base",
            "_view_module_version": "1.2.0",
            "_view_name": "StyleView",
            "description_width": ""
          }
        },
        "5c003d4fab064732bb7442e0deca7922": {
          "model_module": "@jupyter-widgets/controls",
          "model_name": "HBoxModel",
          "model_module_version": "1.5.0",
          "state": {
            "_dom_classes": [],
            "_model_module": "@jupyter-widgets/controls",
            "_model_module_version": "1.5.0",
            "_model_name": "HBoxModel",
            "_view_count": null,
            "_view_module": "@jupyter-widgets/controls",
            "_view_module_version": "1.5.0",
            "_view_name": "HBoxView",
            "box_style": "",
            "children": [
              "IPY_MODEL_34ac422500b54b9ab0722da09d6824a9",
              "IPY_MODEL_75a3e223e55145c79e19746584389955",
              "IPY_MODEL_a2943a705bd74757ac0cebec689921af"
            ],
            "layout": "IPY_MODEL_28797a42e6644358ad6241edf4831a84"
          }
        },
        "34ac422500b54b9ab0722da09d6824a9": {
          "model_module": "@jupyter-widgets/controls",
          "model_name": "HTMLModel",
          "model_module_version": "1.5.0",
          "state": {
            "_dom_classes": [],
            "_model_module": "@jupyter-widgets/controls",
            "_model_module_version": "1.5.0",
            "_model_name": "HTMLModel",
            "_view_count": null,
            "_view_module": "@jupyter-widgets/controls",
            "_view_module_version": "1.5.0",
            "_view_name": "HTMLView",
            "description": "",
            "description_tooltip": null,
            "layout": "IPY_MODEL_a0e1aa5e3c0744a68ff3c2180b888204",
            "placeholder": "​",
            "style": "IPY_MODEL_8a7ba25da8cc4dacad207559e8d807a2",
            "value": "Downloading (…)nce_bert_config.json: 100%"
          }
        },
        "75a3e223e55145c79e19746584389955": {
          "model_module": "@jupyter-widgets/controls",
          "model_name": "FloatProgressModel",
          "model_module_version": "1.5.0",
          "state": {
            "_dom_classes": [],
            "_model_module": "@jupyter-widgets/controls",
            "_model_module_version": "1.5.0",
            "_model_name": "FloatProgressModel",
            "_view_count": null,
            "_view_module": "@jupyter-widgets/controls",
            "_view_module_version": "1.5.0",
            "_view_name": "ProgressView",
            "bar_style": "success",
            "description": "",
            "description_tooltip": null,
            "layout": "IPY_MODEL_951d3b7406854479931f984e7f775ef2",
            "max": 53,
            "min": 0,
            "orientation": "horizontal",
            "style": "IPY_MODEL_579ba2f30eaa46f591cdd3c9a805ae53",
            "value": 53
          }
        },
        "a2943a705bd74757ac0cebec689921af": {
          "model_module": "@jupyter-widgets/controls",
          "model_name": "HTMLModel",
          "model_module_version": "1.5.0",
          "state": {
            "_dom_classes": [],
            "_model_module": "@jupyter-widgets/controls",
            "_model_module_version": "1.5.0",
            "_model_name": "HTMLModel",
            "_view_count": null,
            "_view_module": "@jupyter-widgets/controls",
            "_view_module_version": "1.5.0",
            "_view_name": "HTMLView",
            "description": "",
            "description_tooltip": null,
            "layout": "IPY_MODEL_305331909cdc4444906ec239368bd3d8",
            "placeholder": "​",
            "style": "IPY_MODEL_e913c8bed57e400f9ef1005d151e568e",
            "value": " 53.0/53.0 [00:00&lt;00:00, 3.21kB/s]"
          }
        },
        "28797a42e6644358ad6241edf4831a84": {
          "model_module": "@jupyter-widgets/base",
          "model_name": "LayoutModel",
          "model_module_version": "1.2.0",
          "state": {
            "_model_module": "@jupyter-widgets/base",
            "_model_module_version": "1.2.0",
            "_model_name": "LayoutModel",
            "_view_count": null,
            "_view_module": "@jupyter-widgets/base",
            "_view_module_version": "1.2.0",
            "_view_name": "LayoutView",
            "align_content": null,
            "align_items": null,
            "align_self": null,
            "border": null,
            "bottom": null,
            "display": null,
            "flex": null,
            "flex_flow": null,
            "grid_area": null,
            "grid_auto_columns": null,
            "grid_auto_flow": null,
            "grid_auto_rows": null,
            "grid_column": null,
            "grid_gap": null,
            "grid_row": null,
            "grid_template_areas": null,
            "grid_template_columns": null,
            "grid_template_rows": null,
            "height": null,
            "justify_content": null,
            "justify_items": null,
            "left": null,
            "margin": null,
            "max_height": null,
            "max_width": null,
            "min_height": null,
            "min_width": null,
            "object_fit": null,
            "object_position": null,
            "order": null,
            "overflow": null,
            "overflow_x": null,
            "overflow_y": null,
            "padding": null,
            "right": null,
            "top": null,
            "visibility": null,
            "width": null
          }
        },
        "a0e1aa5e3c0744a68ff3c2180b888204": {
          "model_module": "@jupyter-widgets/base",
          "model_name": "LayoutModel",
          "model_module_version": "1.2.0",
          "state": {
            "_model_module": "@jupyter-widgets/base",
            "_model_module_version": "1.2.0",
            "_model_name": "LayoutModel",
            "_view_count": null,
            "_view_module": "@jupyter-widgets/base",
            "_view_module_version": "1.2.0",
            "_view_name": "LayoutView",
            "align_content": null,
            "align_items": null,
            "align_self": null,
            "border": null,
            "bottom": null,
            "display": null,
            "flex": null,
            "flex_flow": null,
            "grid_area": null,
            "grid_auto_columns": null,
            "grid_auto_flow": null,
            "grid_auto_rows": null,
            "grid_column": null,
            "grid_gap": null,
            "grid_row": null,
            "grid_template_areas": null,
            "grid_template_columns": null,
            "grid_template_rows": null,
            "height": null,
            "justify_content": null,
            "justify_items": null,
            "left": null,
            "margin": null,
            "max_height": null,
            "max_width": null,
            "min_height": null,
            "min_width": null,
            "object_fit": null,
            "object_position": null,
            "order": null,
            "overflow": null,
            "overflow_x": null,
            "overflow_y": null,
            "padding": null,
            "right": null,
            "top": null,
            "visibility": null,
            "width": null
          }
        },
        "8a7ba25da8cc4dacad207559e8d807a2": {
          "model_module": "@jupyter-widgets/controls",
          "model_name": "DescriptionStyleModel",
          "model_module_version": "1.5.0",
          "state": {
            "_model_module": "@jupyter-widgets/controls",
            "_model_module_version": "1.5.0",
            "_model_name": "DescriptionStyleModel",
            "_view_count": null,
            "_view_module": "@jupyter-widgets/base",
            "_view_module_version": "1.2.0",
            "_view_name": "StyleView",
            "description_width": ""
          }
        },
        "951d3b7406854479931f984e7f775ef2": {
          "model_module": "@jupyter-widgets/base",
          "model_name": "LayoutModel",
          "model_module_version": "1.2.0",
          "state": {
            "_model_module": "@jupyter-widgets/base",
            "_model_module_version": "1.2.0",
            "_model_name": "LayoutModel",
            "_view_count": null,
            "_view_module": "@jupyter-widgets/base",
            "_view_module_version": "1.2.0",
            "_view_name": "LayoutView",
            "align_content": null,
            "align_items": null,
            "align_self": null,
            "border": null,
            "bottom": null,
            "display": null,
            "flex": null,
            "flex_flow": null,
            "grid_area": null,
            "grid_auto_columns": null,
            "grid_auto_flow": null,
            "grid_auto_rows": null,
            "grid_column": null,
            "grid_gap": null,
            "grid_row": null,
            "grid_template_areas": null,
            "grid_template_columns": null,
            "grid_template_rows": null,
            "height": null,
            "justify_content": null,
            "justify_items": null,
            "left": null,
            "margin": null,
            "max_height": null,
            "max_width": null,
            "min_height": null,
            "min_width": null,
            "object_fit": null,
            "object_position": null,
            "order": null,
            "overflow": null,
            "overflow_x": null,
            "overflow_y": null,
            "padding": null,
            "right": null,
            "top": null,
            "visibility": null,
            "width": null
          }
        },
        "579ba2f30eaa46f591cdd3c9a805ae53": {
          "model_module": "@jupyter-widgets/controls",
          "model_name": "ProgressStyleModel",
          "model_module_version": "1.5.0",
          "state": {
            "_model_module": "@jupyter-widgets/controls",
            "_model_module_version": "1.5.0",
            "_model_name": "ProgressStyleModel",
            "_view_count": null,
            "_view_module": "@jupyter-widgets/base",
            "_view_module_version": "1.2.0",
            "_view_name": "StyleView",
            "bar_color": null,
            "description_width": ""
          }
        },
        "305331909cdc4444906ec239368bd3d8": {
          "model_module": "@jupyter-widgets/base",
          "model_name": "LayoutModel",
          "model_module_version": "1.2.0",
          "state": {
            "_model_module": "@jupyter-widgets/base",
            "_model_module_version": "1.2.0",
            "_model_name": "LayoutModel",
            "_view_count": null,
            "_view_module": "@jupyter-widgets/base",
            "_view_module_version": "1.2.0",
            "_view_name": "LayoutView",
            "align_content": null,
            "align_items": null,
            "align_self": null,
            "border": null,
            "bottom": null,
            "display": null,
            "flex": null,
            "flex_flow": null,
            "grid_area": null,
            "grid_auto_columns": null,
            "grid_auto_flow": null,
            "grid_auto_rows": null,
            "grid_column": null,
            "grid_gap": null,
            "grid_row": null,
            "grid_template_areas": null,
            "grid_template_columns": null,
            "grid_template_rows": null,
            "height": null,
            "justify_content": null,
            "justify_items": null,
            "left": null,
            "margin": null,
            "max_height": null,
            "max_width": null,
            "min_height": null,
            "min_width": null,
            "object_fit": null,
            "object_position": null,
            "order": null,
            "overflow": null,
            "overflow_x": null,
            "overflow_y": null,
            "padding": null,
            "right": null,
            "top": null,
            "visibility": null,
            "width": null
          }
        },
        "e913c8bed57e400f9ef1005d151e568e": {
          "model_module": "@jupyter-widgets/controls",
          "model_name": "DescriptionStyleModel",
          "model_module_version": "1.5.0",
          "state": {
            "_model_module": "@jupyter-widgets/controls",
            "_model_module_version": "1.5.0",
            "_model_name": "DescriptionStyleModel",
            "_view_count": null,
            "_view_module": "@jupyter-widgets/base",
            "_view_module_version": "1.2.0",
            "_view_name": "StyleView",
            "description_width": ""
          }
        },
        "bd197355294848a2ab0721f818d72c7f": {
          "model_module": "@jupyter-widgets/controls",
          "model_name": "HBoxModel",
          "model_module_version": "1.5.0",
          "state": {
            "_dom_classes": [],
            "_model_module": "@jupyter-widgets/controls",
            "_model_module_version": "1.5.0",
            "_model_name": "HBoxModel",
            "_view_count": null,
            "_view_module": "@jupyter-widgets/controls",
            "_view_module_version": "1.5.0",
            "_view_name": "HBoxView",
            "box_style": "",
            "children": [
              "IPY_MODEL_54bd3fa880454ca7999b4b6e8a5954e6",
              "IPY_MODEL_d84b42c617d44cd1962464a7d304a879",
              "IPY_MODEL_79a3164de1a140669713fa4707f9c6d1"
            ],
            "layout": "IPY_MODEL_c14ee9f33c964a43add0c9ae80b04119"
          }
        },
        "54bd3fa880454ca7999b4b6e8a5954e6": {
          "model_module": "@jupyter-widgets/controls",
          "model_name": "HTMLModel",
          "model_module_version": "1.5.0",
          "state": {
            "_dom_classes": [],
            "_model_module": "@jupyter-widgets/controls",
            "_model_module_version": "1.5.0",
            "_model_name": "HTMLModel",
            "_view_count": null,
            "_view_module": "@jupyter-widgets/controls",
            "_view_module_version": "1.5.0",
            "_view_name": "HTMLView",
            "description": "",
            "description_tooltip": null,
            "layout": "IPY_MODEL_4f75fb7393f94bf2a0942f0e469ea3d7",
            "placeholder": "​",
            "style": "IPY_MODEL_780f85d882144d30b8ebdbba7f5743e1",
            "value": "Downloading (…)cial_tokens_map.json: 100%"
          }
        },
        "d84b42c617d44cd1962464a7d304a879": {
          "model_module": "@jupyter-widgets/controls",
          "model_name": "FloatProgressModel",
          "model_module_version": "1.5.0",
          "state": {
            "_dom_classes": [],
            "_model_module": "@jupyter-widgets/controls",
            "_model_module_version": "1.5.0",
            "_model_name": "FloatProgressModel",
            "_view_count": null,
            "_view_module": "@jupyter-widgets/controls",
            "_view_module_version": "1.5.0",
            "_view_name": "ProgressView",
            "bar_style": "success",
            "description": "",
            "description_tooltip": null,
            "layout": "IPY_MODEL_1c84569a71b14fdb9344898e39454e60",
            "max": 112,
            "min": 0,
            "orientation": "horizontal",
            "style": "IPY_MODEL_98589388ce324762a7f8998078dbbbac",
            "value": 112
          }
        },
        "79a3164de1a140669713fa4707f9c6d1": {
          "model_module": "@jupyter-widgets/controls",
          "model_name": "HTMLModel",
          "model_module_version": "1.5.0",
          "state": {
            "_dom_classes": [],
            "_model_module": "@jupyter-widgets/controls",
            "_model_module_version": "1.5.0",
            "_model_name": "HTMLModel",
            "_view_count": null,
            "_view_module": "@jupyter-widgets/controls",
            "_view_module_version": "1.5.0",
            "_view_name": "HTMLView",
            "description": "",
            "description_tooltip": null,
            "layout": "IPY_MODEL_8e8580861bfc4fa68caf0c8817cc8cc2",
            "placeholder": "​",
            "style": "IPY_MODEL_f89f031b59d54bd6955e219a42ec8373",
            "value": " 112/112 [00:00&lt;00:00, 6.26kB/s]"
          }
        },
        "c14ee9f33c964a43add0c9ae80b04119": {
          "model_module": "@jupyter-widgets/base",
          "model_name": "LayoutModel",
          "model_module_version": "1.2.0",
          "state": {
            "_model_module": "@jupyter-widgets/base",
            "_model_module_version": "1.2.0",
            "_model_name": "LayoutModel",
            "_view_count": null,
            "_view_module": "@jupyter-widgets/base",
            "_view_module_version": "1.2.0",
            "_view_name": "LayoutView",
            "align_content": null,
            "align_items": null,
            "align_self": null,
            "border": null,
            "bottom": null,
            "display": null,
            "flex": null,
            "flex_flow": null,
            "grid_area": null,
            "grid_auto_columns": null,
            "grid_auto_flow": null,
            "grid_auto_rows": null,
            "grid_column": null,
            "grid_gap": null,
            "grid_row": null,
            "grid_template_areas": null,
            "grid_template_columns": null,
            "grid_template_rows": null,
            "height": null,
            "justify_content": null,
            "justify_items": null,
            "left": null,
            "margin": null,
            "max_height": null,
            "max_width": null,
            "min_height": null,
            "min_width": null,
            "object_fit": null,
            "object_position": null,
            "order": null,
            "overflow": null,
            "overflow_x": null,
            "overflow_y": null,
            "padding": null,
            "right": null,
            "top": null,
            "visibility": null,
            "width": null
          }
        },
        "4f75fb7393f94bf2a0942f0e469ea3d7": {
          "model_module": "@jupyter-widgets/base",
          "model_name": "LayoutModel",
          "model_module_version": "1.2.0",
          "state": {
            "_model_module": "@jupyter-widgets/base",
            "_model_module_version": "1.2.0",
            "_model_name": "LayoutModel",
            "_view_count": null,
            "_view_module": "@jupyter-widgets/base",
            "_view_module_version": "1.2.0",
            "_view_name": "LayoutView",
            "align_content": null,
            "align_items": null,
            "align_self": null,
            "border": null,
            "bottom": null,
            "display": null,
            "flex": null,
            "flex_flow": null,
            "grid_area": null,
            "grid_auto_columns": null,
            "grid_auto_flow": null,
            "grid_auto_rows": null,
            "grid_column": null,
            "grid_gap": null,
            "grid_row": null,
            "grid_template_areas": null,
            "grid_template_columns": null,
            "grid_template_rows": null,
            "height": null,
            "justify_content": null,
            "justify_items": null,
            "left": null,
            "margin": null,
            "max_height": null,
            "max_width": null,
            "min_height": null,
            "min_width": null,
            "object_fit": null,
            "object_position": null,
            "order": null,
            "overflow": null,
            "overflow_x": null,
            "overflow_y": null,
            "padding": null,
            "right": null,
            "top": null,
            "visibility": null,
            "width": null
          }
        },
        "780f85d882144d30b8ebdbba7f5743e1": {
          "model_module": "@jupyter-widgets/controls",
          "model_name": "DescriptionStyleModel",
          "model_module_version": "1.5.0",
          "state": {
            "_model_module": "@jupyter-widgets/controls",
            "_model_module_version": "1.5.0",
            "_model_name": "DescriptionStyleModel",
            "_view_count": null,
            "_view_module": "@jupyter-widgets/base",
            "_view_module_version": "1.2.0",
            "_view_name": "StyleView",
            "description_width": ""
          }
        },
        "1c84569a71b14fdb9344898e39454e60": {
          "model_module": "@jupyter-widgets/base",
          "model_name": "LayoutModel",
          "model_module_version": "1.2.0",
          "state": {
            "_model_module": "@jupyter-widgets/base",
            "_model_module_version": "1.2.0",
            "_model_name": "LayoutModel",
            "_view_count": null,
            "_view_module": "@jupyter-widgets/base",
            "_view_module_version": "1.2.0",
            "_view_name": "LayoutView",
            "align_content": null,
            "align_items": null,
            "align_self": null,
            "border": null,
            "bottom": null,
            "display": null,
            "flex": null,
            "flex_flow": null,
            "grid_area": null,
            "grid_auto_columns": null,
            "grid_auto_flow": null,
            "grid_auto_rows": null,
            "grid_column": null,
            "grid_gap": null,
            "grid_row": null,
            "grid_template_areas": null,
            "grid_template_columns": null,
            "grid_template_rows": null,
            "height": null,
            "justify_content": null,
            "justify_items": null,
            "left": null,
            "margin": null,
            "max_height": null,
            "max_width": null,
            "min_height": null,
            "min_width": null,
            "object_fit": null,
            "object_position": null,
            "order": null,
            "overflow": null,
            "overflow_x": null,
            "overflow_y": null,
            "padding": null,
            "right": null,
            "top": null,
            "visibility": null,
            "width": null
          }
        },
        "98589388ce324762a7f8998078dbbbac": {
          "model_module": "@jupyter-widgets/controls",
          "model_name": "ProgressStyleModel",
          "model_module_version": "1.5.0",
          "state": {
            "_model_module": "@jupyter-widgets/controls",
            "_model_module_version": "1.5.0",
            "_model_name": "ProgressStyleModel",
            "_view_count": null,
            "_view_module": "@jupyter-widgets/base",
            "_view_module_version": "1.2.0",
            "_view_name": "StyleView",
            "bar_color": null,
            "description_width": ""
          }
        },
        "8e8580861bfc4fa68caf0c8817cc8cc2": {
          "model_module": "@jupyter-widgets/base",
          "model_name": "LayoutModel",
          "model_module_version": "1.2.0",
          "state": {
            "_model_module": "@jupyter-widgets/base",
            "_model_module_version": "1.2.0",
            "_model_name": "LayoutModel",
            "_view_count": null,
            "_view_module": "@jupyter-widgets/base",
            "_view_module_version": "1.2.0",
            "_view_name": "LayoutView",
            "align_content": null,
            "align_items": null,
            "align_self": null,
            "border": null,
            "bottom": null,
            "display": null,
            "flex": null,
            "flex_flow": null,
            "grid_area": null,
            "grid_auto_columns": null,
            "grid_auto_flow": null,
            "grid_auto_rows": null,
            "grid_column": null,
            "grid_gap": null,
            "grid_row": null,
            "grid_template_areas": null,
            "grid_template_columns": null,
            "grid_template_rows": null,
            "height": null,
            "justify_content": null,
            "justify_items": null,
            "left": null,
            "margin": null,
            "max_height": null,
            "max_width": null,
            "min_height": null,
            "min_width": null,
            "object_fit": null,
            "object_position": null,
            "order": null,
            "overflow": null,
            "overflow_x": null,
            "overflow_y": null,
            "padding": null,
            "right": null,
            "top": null,
            "visibility": null,
            "width": null
          }
        },
        "f89f031b59d54bd6955e219a42ec8373": {
          "model_module": "@jupyter-widgets/controls",
          "model_name": "DescriptionStyleModel",
          "model_module_version": "1.5.0",
          "state": {
            "_model_module": "@jupyter-widgets/controls",
            "_model_module_version": "1.5.0",
            "_model_name": "DescriptionStyleModel",
            "_view_count": null,
            "_view_module": "@jupyter-widgets/base",
            "_view_module_version": "1.2.0",
            "_view_name": "StyleView",
            "description_width": ""
          }
        },
        "db12a51771d7407391f3bd952deb9f1b": {
          "model_module": "@jupyter-widgets/controls",
          "model_name": "HBoxModel",
          "model_module_version": "1.5.0",
          "state": {
            "_dom_classes": [],
            "_model_module": "@jupyter-widgets/controls",
            "_model_module_version": "1.5.0",
            "_model_name": "HBoxModel",
            "_view_count": null,
            "_view_module": "@jupyter-widgets/controls",
            "_view_module_version": "1.5.0",
            "_view_name": "HBoxView",
            "box_style": "",
            "children": [
              "IPY_MODEL_1e57c074121743f3b6736f4a63e04ea0",
              "IPY_MODEL_a62c1f9fe7cb4b52b6cb7a89bcafe0e5",
              "IPY_MODEL_7d5e06decb7c4b589b61e65a704beb62"
            ],
            "layout": "IPY_MODEL_d7cca0beacbf4743938eaff910270e9b"
          }
        },
        "1e57c074121743f3b6736f4a63e04ea0": {
          "model_module": "@jupyter-widgets/controls",
          "model_name": "HTMLModel",
          "model_module_version": "1.5.0",
          "state": {
            "_dom_classes": [],
            "_model_module": "@jupyter-widgets/controls",
            "_model_module_version": "1.5.0",
            "_model_name": "HTMLModel",
            "_view_count": null,
            "_view_module": "@jupyter-widgets/controls",
            "_view_module_version": "1.5.0",
            "_view_name": "HTMLView",
            "description": "",
            "description_tooltip": null,
            "layout": "IPY_MODEL_a0d8829297eb4ada87a6db6de3e5ae0f",
            "placeholder": "​",
            "style": "IPY_MODEL_da75a42f340c48749c28197d5addc37f",
            "value": "Downloading (…)821d1/tokenizer.json: 100%"
          }
        },
        "a62c1f9fe7cb4b52b6cb7a89bcafe0e5": {
          "model_module": "@jupyter-widgets/controls",
          "model_name": "FloatProgressModel",
          "model_module_version": "1.5.0",
          "state": {
            "_dom_classes": [],
            "_model_module": "@jupyter-widgets/controls",
            "_model_module_version": "1.5.0",
            "_model_name": "FloatProgressModel",
            "_view_count": null,
            "_view_module": "@jupyter-widgets/controls",
            "_view_module_version": "1.5.0",
            "_view_name": "ProgressView",
            "bar_style": "success",
            "description": "",
            "description_tooltip": null,
            "layout": "IPY_MODEL_c7bf07be25d04f259564c12c0f271c39",
            "max": 466081,
            "min": 0,
            "orientation": "horizontal",
            "style": "IPY_MODEL_819ab10f96b44f87ac424d54994ee48f",
            "value": 466081
          }
        },
        "7d5e06decb7c4b589b61e65a704beb62": {
          "model_module": "@jupyter-widgets/controls",
          "model_name": "HTMLModel",
          "model_module_version": "1.5.0",
          "state": {
            "_dom_classes": [],
            "_model_module": "@jupyter-widgets/controls",
            "_model_module_version": "1.5.0",
            "_model_name": "HTMLModel",
            "_view_count": null,
            "_view_module": "@jupyter-widgets/controls",
            "_view_module_version": "1.5.0",
            "_view_name": "HTMLView",
            "description": "",
            "description_tooltip": null,
            "layout": "IPY_MODEL_4fc253bf0dd34cc390d2912193ca8979",
            "placeholder": "​",
            "style": "IPY_MODEL_14b09d7b22114f6fb6068933336677d5",
            "value": " 466k/466k [00:00&lt;00:00, 2.68MB/s]"
          }
        },
        "d7cca0beacbf4743938eaff910270e9b": {
          "model_module": "@jupyter-widgets/base",
          "model_name": "LayoutModel",
          "model_module_version": "1.2.0",
          "state": {
            "_model_module": "@jupyter-widgets/base",
            "_model_module_version": "1.2.0",
            "_model_name": "LayoutModel",
            "_view_count": null,
            "_view_module": "@jupyter-widgets/base",
            "_view_module_version": "1.2.0",
            "_view_name": "LayoutView",
            "align_content": null,
            "align_items": null,
            "align_self": null,
            "border": null,
            "bottom": null,
            "display": null,
            "flex": null,
            "flex_flow": null,
            "grid_area": null,
            "grid_auto_columns": null,
            "grid_auto_flow": null,
            "grid_auto_rows": null,
            "grid_column": null,
            "grid_gap": null,
            "grid_row": null,
            "grid_template_areas": null,
            "grid_template_columns": null,
            "grid_template_rows": null,
            "height": null,
            "justify_content": null,
            "justify_items": null,
            "left": null,
            "margin": null,
            "max_height": null,
            "max_width": null,
            "min_height": null,
            "min_width": null,
            "object_fit": null,
            "object_position": null,
            "order": null,
            "overflow": null,
            "overflow_x": null,
            "overflow_y": null,
            "padding": null,
            "right": null,
            "top": null,
            "visibility": null,
            "width": null
          }
        },
        "a0d8829297eb4ada87a6db6de3e5ae0f": {
          "model_module": "@jupyter-widgets/base",
          "model_name": "LayoutModel",
          "model_module_version": "1.2.0",
          "state": {
            "_model_module": "@jupyter-widgets/base",
            "_model_module_version": "1.2.0",
            "_model_name": "LayoutModel",
            "_view_count": null,
            "_view_module": "@jupyter-widgets/base",
            "_view_module_version": "1.2.0",
            "_view_name": "LayoutView",
            "align_content": null,
            "align_items": null,
            "align_self": null,
            "border": null,
            "bottom": null,
            "display": null,
            "flex": null,
            "flex_flow": null,
            "grid_area": null,
            "grid_auto_columns": null,
            "grid_auto_flow": null,
            "grid_auto_rows": null,
            "grid_column": null,
            "grid_gap": null,
            "grid_row": null,
            "grid_template_areas": null,
            "grid_template_columns": null,
            "grid_template_rows": null,
            "height": null,
            "justify_content": null,
            "justify_items": null,
            "left": null,
            "margin": null,
            "max_height": null,
            "max_width": null,
            "min_height": null,
            "min_width": null,
            "object_fit": null,
            "object_position": null,
            "order": null,
            "overflow": null,
            "overflow_x": null,
            "overflow_y": null,
            "padding": null,
            "right": null,
            "top": null,
            "visibility": null,
            "width": null
          }
        },
        "da75a42f340c48749c28197d5addc37f": {
          "model_module": "@jupyter-widgets/controls",
          "model_name": "DescriptionStyleModel",
          "model_module_version": "1.5.0",
          "state": {
            "_model_module": "@jupyter-widgets/controls",
            "_model_module_version": "1.5.0",
            "_model_name": "DescriptionStyleModel",
            "_view_count": null,
            "_view_module": "@jupyter-widgets/base",
            "_view_module_version": "1.2.0",
            "_view_name": "StyleView",
            "description_width": ""
          }
        },
        "c7bf07be25d04f259564c12c0f271c39": {
          "model_module": "@jupyter-widgets/base",
          "model_name": "LayoutModel",
          "model_module_version": "1.2.0",
          "state": {
            "_model_module": "@jupyter-widgets/base",
            "_model_module_version": "1.2.0",
            "_model_name": "LayoutModel",
            "_view_count": null,
            "_view_module": "@jupyter-widgets/base",
            "_view_module_version": "1.2.0",
            "_view_name": "LayoutView",
            "align_content": null,
            "align_items": null,
            "align_self": null,
            "border": null,
            "bottom": null,
            "display": null,
            "flex": null,
            "flex_flow": null,
            "grid_area": null,
            "grid_auto_columns": null,
            "grid_auto_flow": null,
            "grid_auto_rows": null,
            "grid_column": null,
            "grid_gap": null,
            "grid_row": null,
            "grid_template_areas": null,
            "grid_template_columns": null,
            "grid_template_rows": null,
            "height": null,
            "justify_content": null,
            "justify_items": null,
            "left": null,
            "margin": null,
            "max_height": null,
            "max_width": null,
            "min_height": null,
            "min_width": null,
            "object_fit": null,
            "object_position": null,
            "order": null,
            "overflow": null,
            "overflow_x": null,
            "overflow_y": null,
            "padding": null,
            "right": null,
            "top": null,
            "visibility": null,
            "width": null
          }
        },
        "819ab10f96b44f87ac424d54994ee48f": {
          "model_module": "@jupyter-widgets/controls",
          "model_name": "ProgressStyleModel",
          "model_module_version": "1.5.0",
          "state": {
            "_model_module": "@jupyter-widgets/controls",
            "_model_module_version": "1.5.0",
            "_model_name": "ProgressStyleModel",
            "_view_count": null,
            "_view_module": "@jupyter-widgets/base",
            "_view_module_version": "1.2.0",
            "_view_name": "StyleView",
            "bar_color": null,
            "description_width": ""
          }
        },
        "4fc253bf0dd34cc390d2912193ca8979": {
          "model_module": "@jupyter-widgets/base",
          "model_name": "LayoutModel",
          "model_module_version": "1.2.0",
          "state": {
            "_model_module": "@jupyter-widgets/base",
            "_model_module_version": "1.2.0",
            "_model_name": "LayoutModel",
            "_view_count": null,
            "_view_module": "@jupyter-widgets/base",
            "_view_module_version": "1.2.0",
            "_view_name": "LayoutView",
            "align_content": null,
            "align_items": null,
            "align_self": null,
            "border": null,
            "bottom": null,
            "display": null,
            "flex": null,
            "flex_flow": null,
            "grid_area": null,
            "grid_auto_columns": null,
            "grid_auto_flow": null,
            "grid_auto_rows": null,
            "grid_column": null,
            "grid_gap": null,
            "grid_row": null,
            "grid_template_areas": null,
            "grid_template_columns": null,
            "grid_template_rows": null,
            "height": null,
            "justify_content": null,
            "justify_items": null,
            "left": null,
            "margin": null,
            "max_height": null,
            "max_width": null,
            "min_height": null,
            "min_width": null,
            "object_fit": null,
            "object_position": null,
            "order": null,
            "overflow": null,
            "overflow_x": null,
            "overflow_y": null,
            "padding": null,
            "right": null,
            "top": null,
            "visibility": null,
            "width": null
          }
        },
        "14b09d7b22114f6fb6068933336677d5": {
          "model_module": "@jupyter-widgets/controls",
          "model_name": "DescriptionStyleModel",
          "model_module_version": "1.5.0",
          "state": {
            "_model_module": "@jupyter-widgets/controls",
            "_model_module_version": "1.5.0",
            "_model_name": "DescriptionStyleModel",
            "_view_count": null,
            "_view_module": "@jupyter-widgets/base",
            "_view_module_version": "1.2.0",
            "_view_name": "StyleView",
            "description_width": ""
          }
        },
        "bdfc5f342e4f4545a68fdf2f4aa63baf": {
          "model_module": "@jupyter-widgets/controls",
          "model_name": "HBoxModel",
          "model_module_version": "1.5.0",
          "state": {
            "_dom_classes": [],
            "_model_module": "@jupyter-widgets/controls",
            "_model_module_version": "1.5.0",
            "_model_name": "HBoxModel",
            "_view_count": null,
            "_view_module": "@jupyter-widgets/controls",
            "_view_module_version": "1.5.0",
            "_view_name": "HBoxView",
            "box_style": "",
            "children": [
              "IPY_MODEL_987c8737500542d593f4f1a7f405e18b",
              "IPY_MODEL_630e70f907c34a6bb71d9373ee3d11e6",
              "IPY_MODEL_33d0d330bb9e424f9b21e7f6cc2a8bfa"
            ],
            "layout": "IPY_MODEL_671daefe317c4960bdeb748ee7f8238f"
          }
        },
        "987c8737500542d593f4f1a7f405e18b": {
          "model_module": "@jupyter-widgets/controls",
          "model_name": "HTMLModel",
          "model_module_version": "1.5.0",
          "state": {
            "_dom_classes": [],
            "_model_module": "@jupyter-widgets/controls",
            "_model_module_version": "1.5.0",
            "_model_name": "HTMLModel",
            "_view_count": null,
            "_view_module": "@jupyter-widgets/controls",
            "_view_module_version": "1.5.0",
            "_view_name": "HTMLView",
            "description": "",
            "description_tooltip": null,
            "layout": "IPY_MODEL_fb512a6a5d704281a0abc09c20942e8a",
            "placeholder": "​",
            "style": "IPY_MODEL_8e1aa660d3544778809f7e00d3fa4617",
            "value": "Downloading (…)okenizer_config.json: 100%"
          }
        },
        "630e70f907c34a6bb71d9373ee3d11e6": {
          "model_module": "@jupyter-widgets/controls",
          "model_name": "FloatProgressModel",
          "model_module_version": "1.5.0",
          "state": {
            "_dom_classes": [],
            "_model_module": "@jupyter-widgets/controls",
            "_model_module_version": "1.5.0",
            "_model_name": "FloatProgressModel",
            "_view_count": null,
            "_view_module": "@jupyter-widgets/controls",
            "_view_module_version": "1.5.0",
            "_view_name": "ProgressView",
            "bar_style": "success",
            "description": "",
            "description_tooltip": null,
            "layout": "IPY_MODEL_781e6321433641de8d681be933dd3ab4",
            "max": 399,
            "min": 0,
            "orientation": "horizontal",
            "style": "IPY_MODEL_9e5bcdf9a59c42ef8786aae84f2652ac",
            "value": 399
          }
        },
        "33d0d330bb9e424f9b21e7f6cc2a8bfa": {
          "model_module": "@jupyter-widgets/controls",
          "model_name": "HTMLModel",
          "model_module_version": "1.5.0",
          "state": {
            "_dom_classes": [],
            "_model_module": "@jupyter-widgets/controls",
            "_model_module_version": "1.5.0",
            "_model_name": "HTMLModel",
            "_view_count": null,
            "_view_module": "@jupyter-widgets/controls",
            "_view_module_version": "1.5.0",
            "_view_name": "HTMLView",
            "description": "",
            "description_tooltip": null,
            "layout": "IPY_MODEL_464d38d21c0b43a381eb0975c414b83e",
            "placeholder": "​",
            "style": "IPY_MODEL_4c5dabba2fbe4eea99fd68f7f2f09902",
            "value": " 399/399 [00:00&lt;00:00, 35.1kB/s]"
          }
        },
        "671daefe317c4960bdeb748ee7f8238f": {
          "model_module": "@jupyter-widgets/base",
          "model_name": "LayoutModel",
          "model_module_version": "1.2.0",
          "state": {
            "_model_module": "@jupyter-widgets/base",
            "_model_module_version": "1.2.0",
            "_model_name": "LayoutModel",
            "_view_count": null,
            "_view_module": "@jupyter-widgets/base",
            "_view_module_version": "1.2.0",
            "_view_name": "LayoutView",
            "align_content": null,
            "align_items": null,
            "align_self": null,
            "border": null,
            "bottom": null,
            "display": null,
            "flex": null,
            "flex_flow": null,
            "grid_area": null,
            "grid_auto_columns": null,
            "grid_auto_flow": null,
            "grid_auto_rows": null,
            "grid_column": null,
            "grid_gap": null,
            "grid_row": null,
            "grid_template_areas": null,
            "grid_template_columns": null,
            "grid_template_rows": null,
            "height": null,
            "justify_content": null,
            "justify_items": null,
            "left": null,
            "margin": null,
            "max_height": null,
            "max_width": null,
            "min_height": null,
            "min_width": null,
            "object_fit": null,
            "object_position": null,
            "order": null,
            "overflow": null,
            "overflow_x": null,
            "overflow_y": null,
            "padding": null,
            "right": null,
            "top": null,
            "visibility": null,
            "width": null
          }
        },
        "fb512a6a5d704281a0abc09c20942e8a": {
          "model_module": "@jupyter-widgets/base",
          "model_name": "LayoutModel",
          "model_module_version": "1.2.0",
          "state": {
            "_model_module": "@jupyter-widgets/base",
            "_model_module_version": "1.2.0",
            "_model_name": "LayoutModel",
            "_view_count": null,
            "_view_module": "@jupyter-widgets/base",
            "_view_module_version": "1.2.0",
            "_view_name": "LayoutView",
            "align_content": null,
            "align_items": null,
            "align_self": null,
            "border": null,
            "bottom": null,
            "display": null,
            "flex": null,
            "flex_flow": null,
            "grid_area": null,
            "grid_auto_columns": null,
            "grid_auto_flow": null,
            "grid_auto_rows": null,
            "grid_column": null,
            "grid_gap": null,
            "grid_row": null,
            "grid_template_areas": null,
            "grid_template_columns": null,
            "grid_template_rows": null,
            "height": null,
            "justify_content": null,
            "justify_items": null,
            "left": null,
            "margin": null,
            "max_height": null,
            "max_width": null,
            "min_height": null,
            "min_width": null,
            "object_fit": null,
            "object_position": null,
            "order": null,
            "overflow": null,
            "overflow_x": null,
            "overflow_y": null,
            "padding": null,
            "right": null,
            "top": null,
            "visibility": null,
            "width": null
          }
        },
        "8e1aa660d3544778809f7e00d3fa4617": {
          "model_module": "@jupyter-widgets/controls",
          "model_name": "DescriptionStyleModel",
          "model_module_version": "1.5.0",
          "state": {
            "_model_module": "@jupyter-widgets/controls",
            "_model_module_version": "1.5.0",
            "_model_name": "DescriptionStyleModel",
            "_view_count": null,
            "_view_module": "@jupyter-widgets/base",
            "_view_module_version": "1.2.0",
            "_view_name": "StyleView",
            "description_width": ""
          }
        },
        "781e6321433641de8d681be933dd3ab4": {
          "model_module": "@jupyter-widgets/base",
          "model_name": "LayoutModel",
          "model_module_version": "1.2.0",
          "state": {
            "_model_module": "@jupyter-widgets/base",
            "_model_module_version": "1.2.0",
            "_model_name": "LayoutModel",
            "_view_count": null,
            "_view_module": "@jupyter-widgets/base",
            "_view_module_version": "1.2.0",
            "_view_name": "LayoutView",
            "align_content": null,
            "align_items": null,
            "align_self": null,
            "border": null,
            "bottom": null,
            "display": null,
            "flex": null,
            "flex_flow": null,
            "grid_area": null,
            "grid_auto_columns": null,
            "grid_auto_flow": null,
            "grid_auto_rows": null,
            "grid_column": null,
            "grid_gap": null,
            "grid_row": null,
            "grid_template_areas": null,
            "grid_template_columns": null,
            "grid_template_rows": null,
            "height": null,
            "justify_content": null,
            "justify_items": null,
            "left": null,
            "margin": null,
            "max_height": null,
            "max_width": null,
            "min_height": null,
            "min_width": null,
            "object_fit": null,
            "object_position": null,
            "order": null,
            "overflow": null,
            "overflow_x": null,
            "overflow_y": null,
            "padding": null,
            "right": null,
            "top": null,
            "visibility": null,
            "width": null
          }
        },
        "9e5bcdf9a59c42ef8786aae84f2652ac": {
          "model_module": "@jupyter-widgets/controls",
          "model_name": "ProgressStyleModel",
          "model_module_version": "1.5.0",
          "state": {
            "_model_module": "@jupyter-widgets/controls",
            "_model_module_version": "1.5.0",
            "_model_name": "ProgressStyleModel",
            "_view_count": null,
            "_view_module": "@jupyter-widgets/base",
            "_view_module_version": "1.2.0",
            "_view_name": "StyleView",
            "bar_color": null,
            "description_width": ""
          }
        },
        "464d38d21c0b43a381eb0975c414b83e": {
          "model_module": "@jupyter-widgets/base",
          "model_name": "LayoutModel",
          "model_module_version": "1.2.0",
          "state": {
            "_model_module": "@jupyter-widgets/base",
            "_model_module_version": "1.2.0",
            "_model_name": "LayoutModel",
            "_view_count": null,
            "_view_module": "@jupyter-widgets/base",
            "_view_module_version": "1.2.0",
            "_view_name": "LayoutView",
            "align_content": null,
            "align_items": null,
            "align_self": null,
            "border": null,
            "bottom": null,
            "display": null,
            "flex": null,
            "flex_flow": null,
            "grid_area": null,
            "grid_auto_columns": null,
            "grid_auto_flow": null,
            "grid_auto_rows": null,
            "grid_column": null,
            "grid_gap": null,
            "grid_row": null,
            "grid_template_areas": null,
            "grid_template_columns": null,
            "grid_template_rows": null,
            "height": null,
            "justify_content": null,
            "justify_items": null,
            "left": null,
            "margin": null,
            "max_height": null,
            "max_width": null,
            "min_height": null,
            "min_width": null,
            "object_fit": null,
            "object_position": null,
            "order": null,
            "overflow": null,
            "overflow_x": null,
            "overflow_y": null,
            "padding": null,
            "right": null,
            "top": null,
            "visibility": null,
            "width": null
          }
        },
        "4c5dabba2fbe4eea99fd68f7f2f09902": {
          "model_module": "@jupyter-widgets/controls",
          "model_name": "DescriptionStyleModel",
          "model_module_version": "1.5.0",
          "state": {
            "_model_module": "@jupyter-widgets/controls",
            "_model_module_version": "1.5.0",
            "_model_name": "DescriptionStyleModel",
            "_view_count": null,
            "_view_module": "@jupyter-widgets/base",
            "_view_module_version": "1.2.0",
            "_view_name": "StyleView",
            "description_width": ""
          }
        },
        "c73edc6c1cd74794ab319cabe38b7ee1": {
          "model_module": "@jupyter-widgets/controls",
          "model_name": "HBoxModel",
          "model_module_version": "1.5.0",
          "state": {
            "_dom_classes": [],
            "_model_module": "@jupyter-widgets/controls",
            "_model_module_version": "1.5.0",
            "_model_name": "HBoxModel",
            "_view_count": null,
            "_view_module": "@jupyter-widgets/controls",
            "_view_module_version": "1.5.0",
            "_view_name": "HBoxView",
            "box_style": "",
            "children": [
              "IPY_MODEL_60f59583bff34e81a545238d5b9d28c7",
              "IPY_MODEL_c269dc4f925d42f0a0f2f59f9eeba6bb",
              "IPY_MODEL_8bcfc1887f49405b84bf7390ba908de0"
            ],
            "layout": "IPY_MODEL_d8599d05f27b45baa0b7e4e14dc71588"
          }
        },
        "60f59583bff34e81a545238d5b9d28c7": {
          "model_module": "@jupyter-widgets/controls",
          "model_name": "HTMLModel",
          "model_module_version": "1.5.0",
          "state": {
            "_dom_classes": [],
            "_model_module": "@jupyter-widgets/controls",
            "_model_module_version": "1.5.0",
            "_model_name": "HTMLModel",
            "_view_count": null,
            "_view_module": "@jupyter-widgets/controls",
            "_view_module_version": "1.5.0",
            "_view_name": "HTMLView",
            "description": "",
            "description_tooltip": null,
            "layout": "IPY_MODEL_bcb6ff4ba14d406596f0db742471ef9f",
            "placeholder": "​",
            "style": "IPY_MODEL_e8c68b91a23e4f69bba1932260d33103",
            "value": "Downloading (…)8d01e821d1/vocab.txt: 100%"
          }
        },
        "c269dc4f925d42f0a0f2f59f9eeba6bb": {
          "model_module": "@jupyter-widgets/controls",
          "model_name": "FloatProgressModel",
          "model_module_version": "1.5.0",
          "state": {
            "_dom_classes": [],
            "_model_module": "@jupyter-widgets/controls",
            "_model_module_version": "1.5.0",
            "_model_name": "FloatProgressModel",
            "_view_count": null,
            "_view_module": "@jupyter-widgets/controls",
            "_view_module_version": "1.5.0",
            "_view_name": "ProgressView",
            "bar_style": "success",
            "description": "",
            "description_tooltip": null,
            "layout": "IPY_MODEL_2031a9dbe6d8471b8d4a80309dc8345c",
            "max": 231508,
            "min": 0,
            "orientation": "horizontal",
            "style": "IPY_MODEL_cfc563f44533439c869a722885b9ef65",
            "value": 231508
          }
        },
        "8bcfc1887f49405b84bf7390ba908de0": {
          "model_module": "@jupyter-widgets/controls",
          "model_name": "HTMLModel",
          "model_module_version": "1.5.0",
          "state": {
            "_dom_classes": [],
            "_model_module": "@jupyter-widgets/controls",
            "_model_module_version": "1.5.0",
            "_model_name": "HTMLModel",
            "_view_count": null,
            "_view_module": "@jupyter-widgets/controls",
            "_view_module_version": "1.5.0",
            "_view_name": "HTMLView",
            "description": "",
            "description_tooltip": null,
            "layout": "IPY_MODEL_7a4007ddfb544c29841abfa0d56a02dc",
            "placeholder": "​",
            "style": "IPY_MODEL_56256e91c230408c8f3c8c7d2de83d18",
            "value": " 232k/232k [00:00&lt;00:00, 16.0MB/s]"
          }
        },
        "d8599d05f27b45baa0b7e4e14dc71588": {
          "model_module": "@jupyter-widgets/base",
          "model_name": "LayoutModel",
          "model_module_version": "1.2.0",
          "state": {
            "_model_module": "@jupyter-widgets/base",
            "_model_module_version": "1.2.0",
            "_model_name": "LayoutModel",
            "_view_count": null,
            "_view_module": "@jupyter-widgets/base",
            "_view_module_version": "1.2.0",
            "_view_name": "LayoutView",
            "align_content": null,
            "align_items": null,
            "align_self": null,
            "border": null,
            "bottom": null,
            "display": null,
            "flex": null,
            "flex_flow": null,
            "grid_area": null,
            "grid_auto_columns": null,
            "grid_auto_flow": null,
            "grid_auto_rows": null,
            "grid_column": null,
            "grid_gap": null,
            "grid_row": null,
            "grid_template_areas": null,
            "grid_template_columns": null,
            "grid_template_rows": null,
            "height": null,
            "justify_content": null,
            "justify_items": null,
            "left": null,
            "margin": null,
            "max_height": null,
            "max_width": null,
            "min_height": null,
            "min_width": null,
            "object_fit": null,
            "object_position": null,
            "order": null,
            "overflow": null,
            "overflow_x": null,
            "overflow_y": null,
            "padding": null,
            "right": null,
            "top": null,
            "visibility": null,
            "width": null
          }
        },
        "bcb6ff4ba14d406596f0db742471ef9f": {
          "model_module": "@jupyter-widgets/base",
          "model_name": "LayoutModel",
          "model_module_version": "1.2.0",
          "state": {
            "_model_module": "@jupyter-widgets/base",
            "_model_module_version": "1.2.0",
            "_model_name": "LayoutModel",
            "_view_count": null,
            "_view_module": "@jupyter-widgets/base",
            "_view_module_version": "1.2.0",
            "_view_name": "LayoutView",
            "align_content": null,
            "align_items": null,
            "align_self": null,
            "border": null,
            "bottom": null,
            "display": null,
            "flex": null,
            "flex_flow": null,
            "grid_area": null,
            "grid_auto_columns": null,
            "grid_auto_flow": null,
            "grid_auto_rows": null,
            "grid_column": null,
            "grid_gap": null,
            "grid_row": null,
            "grid_template_areas": null,
            "grid_template_columns": null,
            "grid_template_rows": null,
            "height": null,
            "justify_content": null,
            "justify_items": null,
            "left": null,
            "margin": null,
            "max_height": null,
            "max_width": null,
            "min_height": null,
            "min_width": null,
            "object_fit": null,
            "object_position": null,
            "order": null,
            "overflow": null,
            "overflow_x": null,
            "overflow_y": null,
            "padding": null,
            "right": null,
            "top": null,
            "visibility": null,
            "width": null
          }
        },
        "e8c68b91a23e4f69bba1932260d33103": {
          "model_module": "@jupyter-widgets/controls",
          "model_name": "DescriptionStyleModel",
          "model_module_version": "1.5.0",
          "state": {
            "_model_module": "@jupyter-widgets/controls",
            "_model_module_version": "1.5.0",
            "_model_name": "DescriptionStyleModel",
            "_view_count": null,
            "_view_module": "@jupyter-widgets/base",
            "_view_module_version": "1.2.0",
            "_view_name": "StyleView",
            "description_width": ""
          }
        },
        "2031a9dbe6d8471b8d4a80309dc8345c": {
          "model_module": "@jupyter-widgets/base",
          "model_name": "LayoutModel",
          "model_module_version": "1.2.0",
          "state": {
            "_model_module": "@jupyter-widgets/base",
            "_model_module_version": "1.2.0",
            "_model_name": "LayoutModel",
            "_view_count": null,
            "_view_module": "@jupyter-widgets/base",
            "_view_module_version": "1.2.0",
            "_view_name": "LayoutView",
            "align_content": null,
            "align_items": null,
            "align_self": null,
            "border": null,
            "bottom": null,
            "display": null,
            "flex": null,
            "flex_flow": null,
            "grid_area": null,
            "grid_auto_columns": null,
            "grid_auto_flow": null,
            "grid_auto_rows": null,
            "grid_column": null,
            "grid_gap": null,
            "grid_row": null,
            "grid_template_areas": null,
            "grid_template_columns": null,
            "grid_template_rows": null,
            "height": null,
            "justify_content": null,
            "justify_items": null,
            "left": null,
            "margin": null,
            "max_height": null,
            "max_width": null,
            "min_height": null,
            "min_width": null,
            "object_fit": null,
            "object_position": null,
            "order": null,
            "overflow": null,
            "overflow_x": null,
            "overflow_y": null,
            "padding": null,
            "right": null,
            "top": null,
            "visibility": null,
            "width": null
          }
        },
        "cfc563f44533439c869a722885b9ef65": {
          "model_module": "@jupyter-widgets/controls",
          "model_name": "ProgressStyleModel",
          "model_module_version": "1.5.0",
          "state": {
            "_model_module": "@jupyter-widgets/controls",
            "_model_module_version": "1.5.0",
            "_model_name": "ProgressStyleModel",
            "_view_count": null,
            "_view_module": "@jupyter-widgets/base",
            "_view_module_version": "1.2.0",
            "_view_name": "StyleView",
            "bar_color": null,
            "description_width": ""
          }
        },
        "7a4007ddfb544c29841abfa0d56a02dc": {
          "model_module": "@jupyter-widgets/base",
          "model_name": "LayoutModel",
          "model_module_version": "1.2.0",
          "state": {
            "_model_module": "@jupyter-widgets/base",
            "_model_module_version": "1.2.0",
            "_model_name": "LayoutModel",
            "_view_count": null,
            "_view_module": "@jupyter-widgets/base",
            "_view_module_version": "1.2.0",
            "_view_name": "LayoutView",
            "align_content": null,
            "align_items": null,
            "align_self": null,
            "border": null,
            "bottom": null,
            "display": null,
            "flex": null,
            "flex_flow": null,
            "grid_area": null,
            "grid_auto_columns": null,
            "grid_auto_flow": null,
            "grid_auto_rows": null,
            "grid_column": null,
            "grid_gap": null,
            "grid_row": null,
            "grid_template_areas": null,
            "grid_template_columns": null,
            "grid_template_rows": null,
            "height": null,
            "justify_content": null,
            "justify_items": null,
            "left": null,
            "margin": null,
            "max_height": null,
            "max_width": null,
            "min_height": null,
            "min_width": null,
            "object_fit": null,
            "object_position": null,
            "order": null,
            "overflow": null,
            "overflow_x": null,
            "overflow_y": null,
            "padding": null,
            "right": null,
            "top": null,
            "visibility": null,
            "width": null
          }
        },
        "56256e91c230408c8f3c8c7d2de83d18": {
          "model_module": "@jupyter-widgets/controls",
          "model_name": "DescriptionStyleModel",
          "model_module_version": "1.5.0",
          "state": {
            "_model_module": "@jupyter-widgets/controls",
            "_model_module_version": "1.5.0",
            "_model_name": "DescriptionStyleModel",
            "_view_count": null,
            "_view_module": "@jupyter-widgets/base",
            "_view_module_version": "1.2.0",
            "_view_name": "StyleView",
            "description_width": ""
          }
        },
        "8c9d30559bb044dca0b2443ddb5c5ff9": {
          "model_module": "@jupyter-widgets/controls",
          "model_name": "HBoxModel",
          "model_module_version": "1.5.0",
          "state": {
            "_dom_classes": [],
            "_model_module": "@jupyter-widgets/controls",
            "_model_module_version": "1.5.0",
            "_model_name": "HBoxModel",
            "_view_count": null,
            "_view_module": "@jupyter-widgets/controls",
            "_view_module_version": "1.5.0",
            "_view_name": "HBoxView",
            "box_style": "",
            "children": [
              "IPY_MODEL_a298762a73a94e92825b8b8af63cc335",
              "IPY_MODEL_671b1efd92484690b192c887cf8c848c",
              "IPY_MODEL_c33bb57b569d4eb5bc9530d13f763199"
            ],
            "layout": "IPY_MODEL_0257ab11c8a04c0cbfb5524bde963875"
          }
        },
        "a298762a73a94e92825b8b8af63cc335": {
          "model_module": "@jupyter-widgets/controls",
          "model_name": "HTMLModel",
          "model_module_version": "1.5.0",
          "state": {
            "_dom_classes": [],
            "_model_module": "@jupyter-widgets/controls",
            "_model_module_version": "1.5.0",
            "_model_name": "HTMLModel",
            "_view_count": null,
            "_view_module": "@jupyter-widgets/controls",
            "_view_module_version": "1.5.0",
            "_view_name": "HTMLView",
            "description": "",
            "description_tooltip": null,
            "layout": "IPY_MODEL_8c90ea29fd0a452b820f3369f0215a20",
            "placeholder": "​",
            "style": "IPY_MODEL_6fc7ab2a69184a4b9233a4a685fd73dd",
            "value": "Downloading (…)1e821d1/modules.json: 100%"
          }
        },
        "671b1efd92484690b192c887cf8c848c": {
          "model_module": "@jupyter-widgets/controls",
          "model_name": "FloatProgressModel",
          "model_module_version": "1.5.0",
          "state": {
            "_dom_classes": [],
            "_model_module": "@jupyter-widgets/controls",
            "_model_module_version": "1.5.0",
            "_model_name": "FloatProgressModel",
            "_view_count": null,
            "_view_module": "@jupyter-widgets/controls",
            "_view_module_version": "1.5.0",
            "_view_name": "ProgressView",
            "bar_style": "success",
            "description": "",
            "description_tooltip": null,
            "layout": "IPY_MODEL_f8134e4f02fd43ab8de55807836d6a34",
            "max": 229,
            "min": 0,
            "orientation": "horizontal",
            "style": "IPY_MODEL_b9c0f9c11d4541738fc87e91d1c2e5cc",
            "value": 229
          }
        },
        "c33bb57b569d4eb5bc9530d13f763199": {
          "model_module": "@jupyter-widgets/controls",
          "model_name": "HTMLModel",
          "model_module_version": "1.5.0",
          "state": {
            "_dom_classes": [],
            "_model_module": "@jupyter-widgets/controls",
            "_model_module_version": "1.5.0",
            "_model_name": "HTMLModel",
            "_view_count": null,
            "_view_module": "@jupyter-widgets/controls",
            "_view_module_version": "1.5.0",
            "_view_name": "HTMLView",
            "description": "",
            "description_tooltip": null,
            "layout": "IPY_MODEL_148927ce8b2440b39baf9803321d2b8e",
            "placeholder": "​",
            "style": "IPY_MODEL_7296ad5d08564619828d441ca4392994",
            "value": " 229/229 [00:00&lt;00:00, 14.9kB/s]"
          }
        },
        "0257ab11c8a04c0cbfb5524bde963875": {
          "model_module": "@jupyter-widgets/base",
          "model_name": "LayoutModel",
          "model_module_version": "1.2.0",
          "state": {
            "_model_module": "@jupyter-widgets/base",
            "_model_module_version": "1.2.0",
            "_model_name": "LayoutModel",
            "_view_count": null,
            "_view_module": "@jupyter-widgets/base",
            "_view_module_version": "1.2.0",
            "_view_name": "LayoutView",
            "align_content": null,
            "align_items": null,
            "align_self": null,
            "border": null,
            "bottom": null,
            "display": null,
            "flex": null,
            "flex_flow": null,
            "grid_area": null,
            "grid_auto_columns": null,
            "grid_auto_flow": null,
            "grid_auto_rows": null,
            "grid_column": null,
            "grid_gap": null,
            "grid_row": null,
            "grid_template_areas": null,
            "grid_template_columns": null,
            "grid_template_rows": null,
            "height": null,
            "justify_content": null,
            "justify_items": null,
            "left": null,
            "margin": null,
            "max_height": null,
            "max_width": null,
            "min_height": null,
            "min_width": null,
            "object_fit": null,
            "object_position": null,
            "order": null,
            "overflow": null,
            "overflow_x": null,
            "overflow_y": null,
            "padding": null,
            "right": null,
            "top": null,
            "visibility": null,
            "width": null
          }
        },
        "8c90ea29fd0a452b820f3369f0215a20": {
          "model_module": "@jupyter-widgets/base",
          "model_name": "LayoutModel",
          "model_module_version": "1.2.0",
          "state": {
            "_model_module": "@jupyter-widgets/base",
            "_model_module_version": "1.2.0",
            "_model_name": "LayoutModel",
            "_view_count": null,
            "_view_module": "@jupyter-widgets/base",
            "_view_module_version": "1.2.0",
            "_view_name": "LayoutView",
            "align_content": null,
            "align_items": null,
            "align_self": null,
            "border": null,
            "bottom": null,
            "display": null,
            "flex": null,
            "flex_flow": null,
            "grid_area": null,
            "grid_auto_columns": null,
            "grid_auto_flow": null,
            "grid_auto_rows": null,
            "grid_column": null,
            "grid_gap": null,
            "grid_row": null,
            "grid_template_areas": null,
            "grid_template_columns": null,
            "grid_template_rows": null,
            "height": null,
            "justify_content": null,
            "justify_items": null,
            "left": null,
            "margin": null,
            "max_height": null,
            "max_width": null,
            "min_height": null,
            "min_width": null,
            "object_fit": null,
            "object_position": null,
            "order": null,
            "overflow": null,
            "overflow_x": null,
            "overflow_y": null,
            "padding": null,
            "right": null,
            "top": null,
            "visibility": null,
            "width": null
          }
        },
        "6fc7ab2a69184a4b9233a4a685fd73dd": {
          "model_module": "@jupyter-widgets/controls",
          "model_name": "DescriptionStyleModel",
          "model_module_version": "1.5.0",
          "state": {
            "_model_module": "@jupyter-widgets/controls",
            "_model_module_version": "1.5.0",
            "_model_name": "DescriptionStyleModel",
            "_view_count": null,
            "_view_module": "@jupyter-widgets/base",
            "_view_module_version": "1.2.0",
            "_view_name": "StyleView",
            "description_width": ""
          }
        },
        "f8134e4f02fd43ab8de55807836d6a34": {
          "model_module": "@jupyter-widgets/base",
          "model_name": "LayoutModel",
          "model_module_version": "1.2.0",
          "state": {
            "_model_module": "@jupyter-widgets/base",
            "_model_module_version": "1.2.0",
            "_model_name": "LayoutModel",
            "_view_count": null,
            "_view_module": "@jupyter-widgets/base",
            "_view_module_version": "1.2.0",
            "_view_name": "LayoutView",
            "align_content": null,
            "align_items": null,
            "align_self": null,
            "border": null,
            "bottom": null,
            "display": null,
            "flex": null,
            "flex_flow": null,
            "grid_area": null,
            "grid_auto_columns": null,
            "grid_auto_flow": null,
            "grid_auto_rows": null,
            "grid_column": null,
            "grid_gap": null,
            "grid_row": null,
            "grid_template_areas": null,
            "grid_template_columns": null,
            "grid_template_rows": null,
            "height": null,
            "justify_content": null,
            "justify_items": null,
            "left": null,
            "margin": null,
            "max_height": null,
            "max_width": null,
            "min_height": null,
            "min_width": null,
            "object_fit": null,
            "object_position": null,
            "order": null,
            "overflow": null,
            "overflow_x": null,
            "overflow_y": null,
            "padding": null,
            "right": null,
            "top": null,
            "visibility": null,
            "width": null
          }
        },
        "b9c0f9c11d4541738fc87e91d1c2e5cc": {
          "model_module": "@jupyter-widgets/controls",
          "model_name": "ProgressStyleModel",
          "model_module_version": "1.5.0",
          "state": {
            "_model_module": "@jupyter-widgets/controls",
            "_model_module_version": "1.5.0",
            "_model_name": "ProgressStyleModel",
            "_view_count": null,
            "_view_module": "@jupyter-widgets/base",
            "_view_module_version": "1.2.0",
            "_view_name": "StyleView",
            "bar_color": null,
            "description_width": ""
          }
        },
        "148927ce8b2440b39baf9803321d2b8e": {
          "model_module": "@jupyter-widgets/base",
          "model_name": "LayoutModel",
          "model_module_version": "1.2.0",
          "state": {
            "_model_module": "@jupyter-widgets/base",
            "_model_module_version": "1.2.0",
            "_model_name": "LayoutModel",
            "_view_count": null,
            "_view_module": "@jupyter-widgets/base",
            "_view_module_version": "1.2.0",
            "_view_name": "LayoutView",
            "align_content": null,
            "align_items": null,
            "align_self": null,
            "border": null,
            "bottom": null,
            "display": null,
            "flex": null,
            "flex_flow": null,
            "grid_area": null,
            "grid_auto_columns": null,
            "grid_auto_flow": null,
            "grid_auto_rows": null,
            "grid_column": null,
            "grid_gap": null,
            "grid_row": null,
            "grid_template_areas": null,
            "grid_template_columns": null,
            "grid_template_rows": null,
            "height": null,
            "justify_content": null,
            "justify_items": null,
            "left": null,
            "margin": null,
            "max_height": null,
            "max_width": null,
            "min_height": null,
            "min_width": null,
            "object_fit": null,
            "object_position": null,
            "order": null,
            "overflow": null,
            "overflow_x": null,
            "overflow_y": null,
            "padding": null,
            "right": null,
            "top": null,
            "visibility": null,
            "width": null
          }
        },
        "7296ad5d08564619828d441ca4392994": {
          "model_module": "@jupyter-widgets/controls",
          "model_name": "DescriptionStyleModel",
          "model_module_version": "1.5.0",
          "state": {
            "_model_module": "@jupyter-widgets/controls",
            "_model_module_version": "1.5.0",
            "_model_name": "DescriptionStyleModel",
            "_view_count": null,
            "_view_module": "@jupyter-widgets/base",
            "_view_module_version": "1.2.0",
            "_view_name": "StyleView",
            "description_width": ""
          }
        }
      }
    }
  },
  "nbformat": 4,
  "nbformat_minor": 0
}