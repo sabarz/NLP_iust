{
  "cells": [
    {
      "cell_type": "markdown",
      "metadata": {
        "id": "3HqK14JLSStR"
      },
      "source": [
        "# CS224N Assignment 1: Exploring Word Vectors (25 Points)\n",
        "### <font color='blue'> Due 4:30pm, Tue Jan 17 </font>\n",
        "\n",
        "Welcome to CS224N! \n",
        "\n",
        "Before you start, make sure you read the README.txt in the same directory as this notebook for important setup information. A lot of code is provided in this notebook, and we highly encourage you to read and understand it as part of the learning :)\n",
        "\n",
        "If you aren't super familiar with Python, Numpy, or Matplotlib, we recommend you check out the review session on Friday. The session will be recorded and the material will be made available on our [website](http://web.stanford.edu/class/cs224n/index.html#schedule). The CS231N Python/Numpy [tutorial](https://cs231n.github.io/python-numpy-tutorial/) is also a great resource.\n",
        "\n",
        "\n",
        "**Assignment Notes:** Please make sure to save the notebook as you go along. Submission Instructions are located at the bottom of the notebook."
      ]
    },
    {
      "cell_type": "code",
      "execution_count": 1,
      "metadata": {
        "id": "8AGQxROrSStf",
        "outputId": "f09c3dc4-f570-4cea-b059-134ad36bc5a9",
        "colab": {
          "base_uri": "https://localhost:8080/"
        }
      },
      "outputs": [
        {
          "output_type": "stream",
          "name": "stderr",
          "text": [
            "/usr/local/lib/python3.8/dist-packages/scipy/__init__.py:146: UserWarning: A NumPy version >=1.16.5 and <1.23.0 is required for this version of SciPy (detected version 1.24.2\n",
            "  warnings.warn(f\"A NumPy version >={np_minversion} and <{np_maxversion}\"\n",
            "[nltk_data] Downloading package reuters to /root/nltk_data...\n",
            "[nltk_data]   Package reuters is already up-to-date!\n"
          ]
        }
      ],
      "source": [
        "# All Import Statements Defined Here\n",
        "# Note: Do not add to this list.\n",
        "# ----------------\n",
        "\n",
        "import sys\n",
        "assert sys.version_info[0]==3\n",
        "assert sys.version_info[1] >= 5\n",
        "\n",
        "from platform import python_version\n",
        "assert int(python_version().split(\".\")[1]) >= 5, \"Please upgrade your Python version following the instructions in \\\n",
        "    the README.txt file found in the same directory as this notebook. Your Python version is \" + python_version()\n",
        "\n",
        "from gensim.models import KeyedVectors\n",
        "from gensim.test.utils import datapath\n",
        "import pprint\n",
        "import matplotlib.pyplot as plt\n",
        "plt.rcParams['figure.figsize'] = [10, 5]\n",
        "\n",
        "import nltk\n",
        "nltk.download('reuters') #to specify download location, optionally add the argument: download_dir='/specify/desired/path/'\n",
        "from nltk.corpus import reuters\n",
        "\n",
        "import numpy as np\n",
        "import random\n",
        "import scipy as sp\n",
        "from sklearn.decomposition import TruncatedSVD\n",
        "from sklearn.decomposition import PCA\n",
        "\n",
        "START_TOKEN = '<START>'\n",
        "END_TOKEN = '<END>'\n",
        "\n",
        "np.random.seed(0)\n",
        "random.seed(0)\n",
        "# ----------------"
      ]
    },
    {
      "cell_type": "markdown",
      "metadata": {
        "id": "SICd5IedSSto"
      },
      "source": [
        "## Word Vectors\n",
        "\n",
        "Word Vectors are often used as a fundamental component for downstream NLP tasks, e.g. question answering, text generation, translation, etc., so it is important to build some intuitions as to their strengths and weaknesses. Here, you will explore two types of word vectors: those derived from *co-occurrence matrices*, and those derived via *GloVe*. \n",
        "\n",
        "**Note on Terminology:** The terms \"word vectors\" and \"word embeddings\" are often used interchangeably. The term \"embedding\" refers to the fact that we are encoding aspects of a word's meaning in a lower dimensional space. As [Wikipedia](https://en.wikipedia.org/wiki/Word_embedding) states, \"*conceptually it involves a mathematical embedding from a space with one dimension per word to a continuous vector space with a much lower dimension*\"."
      ]
    },
    {
      "cell_type": "markdown",
      "metadata": {
        "id": "6Eug6AVrSStr"
      },
      "source": [
        "## Part 1: Count-Based Word Vectors (10 points)\n",
        "\n",
        "Most word vector models start from the following idea:\n",
        "\n",
        "*You shall know a word by the company it keeps ([Firth, J. R. 1957:11](https://en.wikipedia.org/wiki/John_Rupert_Firth))*\n",
        "\n",
        "Many word vector implementations are driven by the idea that similar words, i.e., (near) synonyms, will be used in similar contexts. As a result, similar words will often be spoken or written along with a shared subset of words, i.e., contexts. By examining these contexts, we can try to develop embeddings for our words. With this intuition in mind, many \"old school\" approaches to constructing word vectors relied on word counts. Here we elaborate upon one of those strategies, *co-occurrence matrices* (for more information, see [here](https://web.stanford.edu/~jurafsky/slp3/6.pdf) or [here](https://medium.com/data-science-group-iitr/word-embedding-2d05d270b285))."
      ]
    },
    {
      "cell_type": "markdown",
      "metadata": {
        "id": "L6uQ9-DVSSts"
      },
      "source": [
        "### Co-Occurrence\n",
        "\n",
        "A co-occurrence matrix counts how often things co-occur in some environment. Given some word $w_i$ occurring in the document, we consider the *context window* surrounding $w_i$. Supposing our fixed window size is $n$, then this is the $n$ preceding and $n$ subsequent words in that document, i.e. words $w_{i-n} \\dots w_{i-1}$ and $w_{i+1} \\dots w_{i+n}$. We build a *co-occurrence matrix* $M$, which is a symmetric word-by-word matrix in which $M_{ij}$ is the number of times $w_j$ appears inside $w_i$'s window among all documents.\n",
        "\n",
        "**Example: Co-Occurrence with Fixed Window of n=1**:\n",
        "\n",
        "Document 1: \"all that glitters is not gold\"\n",
        "\n",
        "Document 2: \"all is well that ends well\"\n",
        "\n",
        "\n",
        "|     *    | `<START>` | all | that | glitters | is   | not  | gold  | well | ends | `<END>` |\n",
        "|----------|-------|-----|------|----------|------|------|-------|------|------|-----|\n",
        "| `<START>`    | 0     | 2   | 0    | 0        | 0    | 0    | 0     | 0    | 0    | 0   |\n",
        "| all      | 2     | 0   | 1    | 0        | 1    | 0    | 0     | 0    | 0    | 0   |\n",
        "| that     | 0     | 1   | 0    | 1        | 0    | 0    | 0     | 1    | 1    | 0   |\n",
        "| glitters | 0     | 0   | 1    | 0        | 1    | 0    | 0     | 0    | 0    | 0   |\n",
        "| is       | 0     | 1   | 0    | 1        | 0    | 1    | 0     | 1    | 0    | 0   |\n",
        "| not      | 0     | 0   | 0    | 0        | 1    | 0    | 1     | 0    | 0    | 0   |\n",
        "| gold     | 0     | 0   | 0    | 0        | 0    | 1    | 0     | 0    | 0    | 1   |\n",
        "| well     | 0     | 0   | 1    | 0        | 1    | 0    | 0     | 0    | 1    | 1   |\n",
        "| ends     | 0     | 0   | 1    | 0        | 0    | 0    | 0     | 1    | 0    | 0   |\n",
        "| `<END>`      | 0     | 0   | 0    | 0        | 0    | 0    | 1     | 1    | 0    | 0   |\n",
        "\n",
        "**Note:** In NLP, we often add `<START>` and `<END>` tokens to represent the beginning and end of sentences, paragraphs or documents. In this case we imagine `<START>` and `<END>` tokens encapsulating each document, e.g., \"`<START>` All that glitters is not gold `<END>`\", and include these tokens in our co-occurrence counts.\n",
        "\n",
        "The rows (or columns) of this matrix provide one type of word vectors (those based on word-word co-occurrence), but the vectors will be large in general (linear in the number of distinct words in a corpus). Thus, our next step is to run *dimensionality reduction*. In particular, we will run *SVD (Singular Value Decomposition)*, which is a kind of generalized *PCA (Principal Components Analysis)* to select the top $k$ principal components. Here's a visualization of dimensionality reduction with SVD. In this picture our co-occurrence matrix is $A$ with $n$ rows corresponding to $n$ words. We obtain a full matrix decomposition, with the singular values ordered in the diagonal $S$ matrix, and our new, shorter length-$k$ word vectors in $U_k$.\n",
        "\n",
        "![Picture of an SVD](./imgs/svd.png \"SVD\")\n",
        "\n",
        "This reduced-dimensionality co-occurrence representation preserves semantic relationships between words, e.g. *doctor* and *hospital* will be closer than *doctor* and *dog*. \n",
        "\n",
        "**Notes:** If you can barely remember what an eigenvalue is, here's [a slow, friendly introduction to SVD](https://davetang.org/file/Singular_Value_Decomposition_Tutorial.pdf). If you want to learn more thoroughly about PCA or SVD, feel free to check out lectures [7](https://web.stanford.edu/class/cs168/l/l7.pdf), [8](http://theory.stanford.edu/~tim/s15/l/l8.pdf), and [9](https://web.stanford.edu/class/cs168/l/l9.pdf) of CS168. These course notes provide a great high-level treatment of these general purpose algorithms. Though, for the purpose of this class, you only need to know how to extract the k-dimensional embeddings by utilizing pre-programmed implementations of these algorithms from the numpy, scipy, or sklearn python packages. In practice, it is challenging to apply full SVD to large corpora because of the memory needed to perform PCA or SVD. However, if you only want the top $k$ vector components for relatively small $k$ — known as [Truncated SVD](https://en.wikipedia.org/wiki/Singular_value_decomposition#Truncated_SVD) — then there are reasonably scalable techniques to compute those iteratively."
      ]
    },
    {
      "cell_type": "markdown",
      "metadata": {
        "id": "7IKeK4xtSStv"
      },
      "source": [
        "### Plotting Co-Occurrence Word Embeddings\n",
        "\n",
        "Here, we will be using the Reuters (business and financial news) corpus. If you haven't run the import cell at the top of this page, please run it now (click it and press SHIFT-RETURN). The corpus consists of 10,788 news documents totaling 1.3 million words. These documents span 90 categories and are split into train and test. For more details, please see https://www.nltk.org/book/ch02.html. We provide a `read_corpus` function below that pulls out only articles from the \"gold\" (i.e. news articles about gold, mining, etc.) category. The function also adds `<START>` and `<END>` tokens to each of the documents, and lowercases words. You do **not** have to perform any other kind of pre-processing."
      ]
    },
    {
      "cell_type": "code",
      "execution_count": 2,
      "metadata": {
        "id": "xwD2htUoSStw"
      },
      "outputs": [],
      "source": [
        "def read_corpus(category=\"gold\"):\n",
        "    \"\"\" Read files from the specified Reuter's category.\n",
        "        Params:\n",
        "            category (string): category name\n",
        "        Return:\n",
        "            list of lists, with words from each of the processed files\n",
        "    \"\"\"\n",
        "    files = reuters.fileids(category)\n",
        "    return [[START_TOKEN] + [w.lower() for w in list(reuters.words(f))] + [END_TOKEN] for f in files]\n"
      ]
    },
    {
      "cell_type": "markdown",
      "metadata": {
        "id": "hVLquFhjSStx"
      },
      "source": [
        "Let's have a look what these documents are like…."
      ]
    },
    {
      "cell_type": "code",
      "execution_count": 3,
      "metadata": {
        "scrolled": false,
        "id": "mC7B9Cb-SSty",
        "colab": {
          "base_uri": "https://localhost:8080/"
        },
        "outputId": "d7b7981c-e479-4398-da8b-2d5ad06666c4"
      },
      "outputs": [
        {
          "output_type": "stream",
          "name": "stdout",
          "text": [
            "[['<START>', 'western', 'mining', 'to', 'open', 'new', 'gold', 'mine', 'in', 'australia', 'western',\n",
            "  'mining', 'corp', 'holdings', 'ltd', '&', 'lt', ';', 'wmng', '.', 's', '>', '(', 'wmc', ')',\n",
            "  'said', 'it', 'will', 'establish', 'a', 'new', 'joint', 'venture', 'gold', 'mine', 'in', 'the',\n",
            "  'northern', 'territory', 'at', 'a', 'cost', 'of', 'about', '21', 'mln', 'dlrs', '.', 'the',\n",
            "  'mine', ',', 'to', 'be', 'known', 'as', 'the', 'goodall', 'project', ',', 'will', 'be', 'owned',\n",
            "  '60', 'pct', 'by', 'wmc', 'and', '40', 'pct', 'by', 'a', 'local', 'w', '.', 'r', '.', 'grace',\n",
            "  'and', 'co', '&', 'lt', ';', 'gra', '>', 'unit', '.', 'it', 'is', 'located', '30', 'kms', 'east',\n",
            "  'of', 'the', 'adelaide', 'river', 'at', 'mt', '.', 'bundey', ',', 'wmc', 'said', 'in', 'a',\n",
            "  'statement', 'it', 'said', 'the', 'open', '-', 'pit', 'mine', ',', 'with', 'a', 'conventional',\n",
            "  'leach', 'treatment', 'plant', ',', 'is', 'expected', 'to', 'produce', 'about', '50', ',', '000',\n",
            "  'ounces', 'of', 'gold', 'in', 'its', 'first', 'year', 'of', 'production', 'from', 'mid', '-',\n",
            "  '1988', '.', 'annual', 'ore', 'capacity', 'will', 'be', 'about', '750', ',', '000', 'tonnes', '.',\n",
            "  '<END>'],\n",
            " ['<START>', 'belgium', 'to', 'issue', 'gold', 'warrants', ',', 'sources', 'say', 'belgium',\n",
            "  'plans', 'to', 'issue', 'swiss', 'franc', 'warrants', 'to', 'buy', 'gold', ',', 'with', 'credit',\n",
            "  'suisse', 'as', 'lead', 'manager', ',', 'market', 'sources', 'said', '.', 'no', 'confirmation',\n",
            "  'or', 'further', 'details', 'were', 'immediately', 'available', '.', '<END>'],\n",
            " ['<START>', 'belgium', 'launches', 'bonds', 'with', 'gold', 'warrants', 'the', 'kingdom', 'of',\n",
            "  'belgium', 'is', 'launching', '100', 'mln', 'swiss', 'francs', 'of', 'seven', 'year', 'notes',\n",
            "  'with', 'warrants', 'attached', 'to', 'buy', 'gold', ',', 'lead', 'mananger', 'credit', 'suisse',\n",
            "  'said', '.', 'the', 'notes', 'themselves', 'have', 'a', '3', '-', '3', '/', '8', 'pct', 'coupon',\n",
            "  'and', 'are', 'priced', 'at', 'par', '.', 'payment', 'is', 'due', 'april', '30', ',', '1987',\n",
            "  'and', 'final', 'maturity', 'april', '30', ',', '1994', '.', 'each', '50', ',', '000', 'franc',\n",
            "  'note', 'carries', '15', 'warrants', '.', 'two', 'warrants', 'are', 'required', 'to', 'allow',\n",
            "  'the', 'holder', 'to', 'buy', '100', 'grammes', 'of', 'gold', 'at', 'a', 'price', 'of', '2', ',',\n",
            "  '450', 'francs', ',', 'during', 'the', 'entire', 'life', 'of', 'the', 'bond', '.', 'the',\n",
            "  'latest', 'gold', 'price', 'in', 'zurich', 'was', '2', ',', '045', '/', '2', ',', '070', 'francs',\n",
            "  'per', '100', 'grammes', '.', '<END>']]\n"
          ]
        }
      ],
      "source": [
        "reuters_corpus = read_corpus()\n",
        "pprint.pprint(reuters_corpus[:3], compact=True, width=100)"
      ]
    },
    {
      "cell_type": "markdown",
      "metadata": {
        "id": "tfa216H1SSt0"
      },
      "source": [
        "### Question 1.1: Implement `distinct_words` [code] (2 points)\n",
        "\n",
        "Write a method to work out the distinct words (word types) that occur in the corpus. You can do this with `for` loops, but it's more efficient to do it with Python list comprehensions. In particular, [this](https://coderwall.com/p/rcmaea/flatten-a-list-of-lists-in-one-line-in-python) may be useful to flatten a list of lists. If you're not familiar with Python list comprehensions in general, here's [more information](https://python-3-patterns-idioms-test.readthedocs.io/en/latest/Comprehensions.html).\n",
        "\n",
        "Your returned `corpus_words` should be sorted. You can use python's `sorted` function for this.\n",
        "\n",
        "You may find it useful to use [Python sets](https://www.w3schools.com/python/python_sets.asp) to remove duplicate words."
      ]
    },
    {
      "cell_type": "code",
      "execution_count": 4,
      "metadata": {
        "id": "NjJABbVFSSt1"
      },
      "outputs": [],
      "source": [
        "def distinct_words(corpus):\n",
        "    \"\"\" Determine a list of distinct words for the corpus.\n",
        "        Params:\n",
        "            corpus (list of list of strings): corpus of documents\n",
        "        Return:\n",
        "            corpus_words (list of strings): sorted list of distinct words across the corpus\n",
        "            n_corpus_words (integer): number of distinct words across the corpus\n",
        "    \"\"\"\n",
        "    corpus_words = []\n",
        "    n_corpus_words = -1\n",
        "    \n",
        "    word_set = set()\n",
        "    ### SOLUTION BEGIN\n",
        "    for snt in corpus :\n",
        "        for i , word in enumerate(snt) :\n",
        "          word_set.add(word)\n",
        "\n",
        "    corpus_words = list(word_set)\n",
        "    n_corpus_words = len(corpus_words)\n",
        "    corpus_words.sort()\n",
        "    ### SOLUTION END\n",
        "\n",
        "    return corpus_words, n_corpus_words"
      ]
    },
    {
      "cell_type": "code",
      "execution_count": 5,
      "metadata": {
        "id": "iKfXBXySSSt3",
        "colab": {
          "base_uri": "https://localhost:8080/"
        },
        "outputId": "a6c16f10-e82d-41d2-d418-9322eb02de33"
      },
      "outputs": [
        {
          "output_type": "stream",
          "name": "stdout",
          "text": [
            "--------------------------------------------------------------------------------\n",
            "Passed All Tests!\n",
            "--------------------------------------------------------------------------------\n"
          ]
        }
      ],
      "source": [
        "# ---------------------\n",
        "# Run this sanity check\n",
        "# Note that this not an exhaustive check for correctness.\n",
        "# ---------------------\n",
        "\n",
        "# Define toy corpus\n",
        "test_corpus = [\"{} All that glitters isn't gold {}\".format(START_TOKEN, END_TOKEN).split(\" \"), \"{} All's well that ends well {}\".format(START_TOKEN, END_TOKEN).split(\" \")]\n",
        "test_corpus_words, num_corpus_words = distinct_words(test_corpus)\n",
        "\n",
        "# Correct answers\n",
        "ans_test_corpus_words = sorted([START_TOKEN, \"All\", \"ends\", \"that\", \"gold\", \"All's\", \"glitters\", \"isn't\", \"well\", END_TOKEN])\n",
        "ans_num_corpus_words = len(ans_test_corpus_words)\n",
        "\n",
        "# Test correct number of words\n",
        "assert(num_corpus_words == ans_num_corpus_words), \"Incorrect number of distinct words. Correct: {}. Yours: {}\".format(ans_num_corpus_words, num_corpus_words)\n",
        "\n",
        "# Test correct words\n",
        "assert (test_corpus_words == ans_test_corpus_words), \"Incorrect corpus_words.\\nCorrect: {}\\nYours:   {}\".format(str(ans_test_corpus_words), str(test_corpus_words))\n",
        "\n",
        "# Print Success\n",
        "print (\"-\" * 80)\n",
        "print(\"Passed All Tests!\")\n",
        "print (\"-\" * 80)"
      ]
    },
    {
      "cell_type": "markdown",
      "metadata": {
        "id": "ymDFJn_lSSt5"
      },
      "source": [
        "### Question 1.2: Implement `compute_co_occurrence_matrix` [code] (3 points)\n",
        "\n",
        "Write a method that constructs a co-occurrence matrix for a certain window-size $n$ (with a default of 4), considering words $n$ before and $n$ after the word in the center of the window. Here, we start to use `numpy (np)` to represent vectors, matrices, and tensors. If you're not familiar with NumPy, there's a NumPy tutorial in the second half of this cs231n [Python NumPy tutorial](http://cs231n.github.io/python-numpy-tutorial/).\n"
      ]
    },
    {
      "cell_type": "code",
      "execution_count": 6,
      "metadata": {
        "id": "v8MIy3KDSSt6"
      },
      "outputs": [],
      "source": [
        "from numpy.matrixlib.defmatrix import N\n",
        "def compute_co_occurrence_matrix(corpus, window_size=4):\n",
        "    \"\"\" Compute co-occurrence matrix for the given corpus and window_size (default of 4).\n",
        "    \n",
        "        Note: Each word in a document should be at the center of a window. Words near edges will have a smaller\n",
        "              number of co-occurring words.\n",
        "              \n",
        "              For example, if we take the document \"<START> All that glitters is not gold <END>\" with window size of 4,\n",
        "              \"All\" will co-occur with \"<START>\", \"that\", \"glitters\", \"is\", and \"not\".\n",
        "    \n",
        "        Params:\n",
        "            corpus (list of list of strings): corpus of documents\n",
        "            window_size (int): size of context window\n",
        "        Return:\n",
        "            M (a symmetric numpy matrix of shape (number of unique words in the corpus , number of unique words in the corpus)): \n",
        "                Co-occurence matrix of word counts. \n",
        "                The ordering of the words in the rows/columns should be the same as the ordering of the words given by the distinct_words function.\n",
        "            word2ind (dict): dictionary that maps word to index (i.e. row/column number) for matrix M.\n",
        "    \"\"\"\n",
        "    words, n_words = distinct_words(corpus)\n",
        "    M = np.zeros((n_words ,n_words))\n",
        "    word2ind = {}\n",
        "    \n",
        "    ### SOLUTION BEGIN\n",
        "    print(corpus) \n",
        "    print(words)\n",
        "    for i , word in enumerate(words):\n",
        "      word2ind[word] = i\n",
        "    \n",
        "    for snt in corpus:\n",
        "      for j , word in enumerate(snt):\n",
        "       ## for i in range(1 , 5):\n",
        "        if 1 + j < len(snt):\n",
        "          M[word2ind[word] , word2ind[snt[j + 1]]] += 1\n",
        "\n",
        "        if j - 1 >= 0 :\n",
        "          M[word2ind[word] , word2ind[snt[j - 1]]] += 1\n",
        "          \n",
        "\n",
        "    ### SOLUTION END\n",
        "\n",
        "    return M, word2ind"
      ]
    },
    {
      "cell_type": "code",
      "execution_count": 7,
      "metadata": {
        "id": "u-6ID1qhSSt7",
        "colab": {
          "base_uri": "https://localhost:8080/"
        },
        "outputId": "131c8917-b4d7-4759-ab50-ce1dbba5c7ca"
      },
      "outputs": [
        {
          "output_type": "stream",
          "name": "stdout",
          "text": [
            "[['<START>', 'All', 'that', 'glitters', \"isn't\", 'gold', '<END>'], ['<START>', \"All's\", 'well', 'that', 'ends', 'well', '<END>']]\n",
            "['<END>', '<START>', 'All', \"All's\", 'ends', 'glitters', 'gold', \"isn't\", 'that', 'well']\n",
            "--------------------------------------------------------------------------------\n",
            "Passed All Tests!\n",
            "--------------------------------------------------------------------------------\n"
          ]
        }
      ],
      "source": [
        "# ---------------------\n",
        "# Run this sanity check\n",
        "# Note that this is not an exhaustive check for correctness.\n",
        "# ---------------------\n",
        "\n",
        "# Define toy corpus and get student's co-occurrence matrix\n",
        "test_corpus = [\"{} All that glitters isn't gold {}\".format(START_TOKEN, END_TOKEN).split(\" \"), \"{} All's well that ends well {}\".format(START_TOKEN, END_TOKEN).split(\" \")]\n",
        "M_test, word2ind_test = compute_co_occurrence_matrix(test_corpus, window_size=1)\n",
        "\n",
        "# Correct M and word2ind\n",
        "M_test_ans = np.array( \n",
        "    [[0., 0., 0., 0., 0., 0., 1., 0., 0., 1.,],\n",
        "     [0., 0., 1., 1., 0., 0., 0., 0., 0., 0.,],\n",
        "     [0., 1., 0., 0., 0., 0., 0., 0., 1., 0.,],\n",
        "     [0., 1., 0., 0., 0., 0., 0., 0., 0., 1.,],\n",
        "     [0., 0., 0., 0., 0., 0., 0., 0., 1., 1.,],\n",
        "     [0., 0., 0., 0., 0., 0., 0., 1., 1., 0.,],\n",
        "     [1., 0., 0., 0., 0., 0., 0., 1., 0., 0.,],\n",
        "     [0., 0., 0., 0., 0., 1., 1., 0., 0., 0.,],\n",
        "     [0., 0., 1., 0., 1., 1., 0., 0., 0., 1.,],\n",
        "     [1., 0., 0., 1., 1., 0., 0., 0., 1., 0.,]]\n",
        ")\n",
        "ans_test_corpus_words = sorted([START_TOKEN, \"All\", \"ends\", \"that\", \"gold\", \"All's\", \"glitters\", \"isn't\", \"well\", END_TOKEN])\n",
        "word2ind_ans = dict(zip(ans_test_corpus_words, range(len(ans_test_corpus_words))))\n",
        "\n",
        "# Test correct word2ind\n",
        "assert (word2ind_ans == word2ind_test), \"Your word2ind is incorrect:\\nCorrect: {}\\nYours: {}\".format(word2ind_ans, word2ind_test)\n",
        "\n",
        "# Test correct M shape\n",
        "assert (M_test.shape == M_test_ans.shape), \"M matrix has incorrect shape.\\nCorrect: {}\\nYours: {}\".format(M_test.shape, M_test_ans.shape)\n",
        "\n",
        "\n",
        "\n",
        "\n",
        "# Test correct M values\n",
        "for w1 in word2ind_ans.keys():\n",
        "    idx1 = word2ind_ans[w1]\n",
        "    for w2 in word2ind_ans.keys():\n",
        "        idx2 = word2ind_ans[w2]\n",
        "        student = M_test[idx1, idx2]\n",
        "        correct = M_test_ans[idx1, idx2]\n",
        "        if student != correct:\n",
        "            print(\"Correct M:\")\n",
        "            print(M_test_ans)\n",
        "            print(\"Your M: \")\n",
        "            print(M_test)\n",
        "            raise AssertionError(\"Incorrect count at index ({}, {})=({}, {}) in matrix M. Yours has {} but should have {}.\".format(idx1, idx2, w1, w2, student, correct))\n",
        "\n",
        "# Print Success\n",
        "print (\"-\" * 80)\n",
        "print(\"Passed All Tests!\")\n",
        "print (\"-\" * 80)"
      ]
    },
    {
      "cell_type": "markdown",
      "metadata": {
        "id": "K-nyJnAASSt9"
      },
      "source": [
        "### Question 1.3: Implement `reduce_to_k_dim` [code] (1 point)\n",
        "\n",
        "Construct a method that performs dimensionality reduction on the matrix to produce k-dimensional embeddings. Use SVD to take the top k components and produce a new matrix of k-dimensional embeddings. \n",
        "\n",
        "**Note:** All of numpy, scipy, and scikit-learn (`sklearn`) provide *some* implementation of SVD, but only scipy and sklearn provide an implementation of Truncated SVD, and only sklearn provides an efficient randomized algorithm for calculating large-scale Truncated SVD. So please use [sklearn.decomposition.TruncatedSVD](https://scikit-learn.org/stable/modules/generated/sklearn.decomposition.TruncatedSVD.html)."
      ]
    },
    {
      "cell_type": "code",
      "execution_count": 8,
      "metadata": {
        "id": "truGMjifSSt9"
      },
      "outputs": [],
      "source": [
        "def reduce_to_k_dim(M, k=2):\n",
        "    \"\"\" Reduce a co-occurence count matrix of dimensionality (num_corpus_words, num_corpus_words)\n",
        "        to a matrix of dimensionality (num_corpus_words, k) using the following SVD function from Scikit-Learn:\n",
        "            - http://scikit-learn.org/stable/modules/generated/sklearn.decomposition.TruncatedSVD.html\n",
        "    \n",
        "        Params:\n",
        "            M (numpy matrix of shape (number of unique words in the corpus , number of unique words in the corpus)): co-occurence matrix of word counts\n",
        "            k (int): embedding size of each word after dimension reduction\n",
        "        Return:\n",
        "            M_reduced (numpy matrix of shape (number of corpus words, k)): matrix of k-dimensioal word embeddings.\n",
        "                    In terms of the SVD from math class, this actually returns U * S\n",
        "    \"\"\"    \n",
        "    n_iters = 10     # Use this parameter in your call to `TruncatedSVD`\n",
        "    M_reduced = None\n",
        "    print(\"Running Truncated SVD over %i words...\" % (M.shape[0]))\n",
        "    \n",
        "    ### SOLUTION BEGIN\n",
        "    svd = TruncatedSVD(k , n_iter = 10 , random_state = 42)\n",
        "    M_reduced = svd.fit_transform(M)\n",
        "    ### SOLUTION END\n",
        "\n",
        "    print(\"Done.\")\n",
        "    return M_reduced"
      ]
    },
    {
      "cell_type": "code",
      "execution_count": 9,
      "metadata": {
        "id": "7pqKuqvhSSt-",
        "colab": {
          "base_uri": "https://localhost:8080/"
        },
        "outputId": "584613c8-9be1-4fb6-a9e4-f949ab786029"
      },
      "outputs": [
        {
          "output_type": "stream",
          "name": "stdout",
          "text": [
            "[['<START>', 'All', 'that', 'glitters', \"isn't\", 'gold', '<END>'], ['<START>', \"All's\", 'well', 'that', 'ends', 'well', '<END>']]\n",
            "['<END>', '<START>', 'All', \"All's\", 'ends', 'glitters', 'gold', \"isn't\", 'that', 'well']\n",
            "Running Truncated SVD over 10 words...\n",
            "Done.\n",
            "--------------------------------------------------------------------------------\n",
            "Passed All Tests!\n",
            "--------------------------------------------------------------------------------\n"
          ]
        }
      ],
      "source": [
        "# ---------------------\n",
        "# Run this sanity check\n",
        "# Note that this is not an exhaustive check for correctness \n",
        "# In fact we only check that your M_reduced has the right dimensions.\n",
        "# ---------------------\n",
        "\n",
        "# Define toy corpus and run student code\n",
        "test_corpus = [\"{} All that glitters isn't gold {}\".format(START_TOKEN, END_TOKEN).split(\" \"), \"{} All's well that ends well {}\".format(START_TOKEN, END_TOKEN).split(\" \")]\n",
        "M_test, word2ind_test = compute_co_occurrence_matrix(test_corpus, window_size=1)\n",
        "M_test_reduced = reduce_to_k_dim(M_test, k=2)\n",
        "\n",
        "# Test proper dimensions\n",
        "assert (M_test_reduced.shape[0] == 10), \"M_reduced has {} rows; should have {}\".format(M_test_reduced.shape[0], 10)\n",
        "assert (M_test_reduced.shape[1] == 2), \"M_reduced has {} columns; should have {}\".format(M_test_reduced.shape[1], 2)\n",
        "\n",
        "# Print Success\n",
        "print (\"-\" * 80)\n",
        "print(\"Passed All Tests!\")\n",
        "print (\"-\" * 80)"
      ]
    },
    {
      "cell_type": "markdown",
      "metadata": {
        "id": "apZknsLoSSt_"
      },
      "source": [
        "### Question 1.4: Implement `plot_embeddings` [code] (1 point)\n",
        "\n",
        "Here you will write a function to plot a set of 2D vectors in 2D space. For graphs, we will use Matplotlib (`plt`).\n",
        "\n",
        "For this example, you may find it useful to adapt [this code](http://web.archive.org/web/20190924160434/https://www.pythonmembers.club/2018/05/08/matplotlib-scatter-plot-annotate-set-text-at-label-each-point/). In the future, a good way to make a plot is to look at [the Matplotlib gallery](https://matplotlib.org/gallery/index.html), find a plot that looks somewhat like what you want, and adapt the code they give."
      ]
    },
    {
      "cell_type": "code",
      "execution_count": 10,
      "metadata": {
        "id": "dDcCZE5lSSuA"
      },
      "outputs": [],
      "source": [
        "def plot_embeddings(M_reduced, word2ind, words):\n",
        "    \"\"\" Plot in a scatterplot the embeddings of the words specified in the list \"words\".\n",
        "        NOTE: do not plot all the words listed in M_reduced / word2ind.\n",
        "        Include a label next to each point.\n",
        "        \n",
        "        Params:\n",
        "            M_reduced (numpy matrix of shape (number of unique words in the corpus , 2)): matrix of 2-dimensioal word embeddings\n",
        "            word2ind (dict): dictionary that maps word to indices for matrix M\n",
        "            words (list of strings): words whose embeddings we want to visualize\n",
        "    \"\"\"\n",
        "\n",
        "    ### SOLUTION BEGIN\n",
        "    for i , word in enumerate(words):\n",
        "      x = M_reduced[i , 0]\n",
        "      y = M_reduced[i , 1]\n",
        "      plt.scatter(x , y, marker='x', color='red')\n",
        "      plt.text(x + 0.01, y + 0.01, word, fontsize=9)\n",
        "    plt.show()\n",
        "    ### SOLUTION END"
      ]
    },
    {
      "cell_type": "code",
      "execution_count": 11,
      "metadata": {
        "id": "gHxOMWPxSSuB",
        "colab": {
          "base_uri": "https://localhost:8080/",
          "height": 372
        },
        "outputId": "69dff332-9725-448e-f999-e75e190ccf17"
      },
      "outputs": [
        {
          "output_type": "stream",
          "name": "stdout",
          "text": [
            "--------------------------------------------------------------------------------\n",
            "Outputted Plot:\n"
          ]
        },
        {
          "output_type": "display_data",
          "data": {
            "text/plain": [
              "<Figure size 720x360 with 1 Axes>"
            ],
            "image/png": "[encoded data removed]"
          },
          "metadata": {
            "needs_background": "light"
          }
        },
        {
          "output_type": "stream",
          "name": "stdout",
          "text": [
            "--------------------------------------------------------------------------------\n"
          ]
        }
      ],
      "source": [
        "# ---------------------\n",
        "# Run this sanity check\n",
        "# Note that this is not an exhaustive check for correctness.\n",
        "# The plot produced should look like the \"test solution plot\" depicted below. \n",
        "# ---------------------\n",
        "\n",
        "print (\"-\" * 80)\n",
        "print (\"Outputted Plot:\")\n",
        "\n",
        "M_reduced_plot_test = np.array([[1, 1], [-1, -1], [1, -1], [-1, 1], [0, 0]])\n",
        "word2ind_plot_test = {'test1': 0, 'test2': 1, 'test3': 2, 'test4': 3, 'test5': 4}\n",
        "words = ['test1', 'test2', 'test3', 'test4', 'test5']\n",
        "plot_embeddings(M_reduced_plot_test, word2ind_plot_test, words)\n",
        "\n",
        "print (\"-\" * 80)"
      ]
    },
    {
      "cell_type": "markdown",
      "metadata": {
        "id": "YpBzYs2hSSuC"
      },
      "source": [
        "### Question 1.5: Co-Occurrence Plot Analysis [written] (3 points)\n",
        "\n",
        "Now we will put together all the parts you have written! We will compute the co-occurrence matrix with fixed window of 4 (the default window size), over the Reuters \"gold\" corpus. Then we will use TruncatedSVD to compute 2-dimensional embeddings of each word. TruncatedSVD returns U\\*S, so we need to normalize the returned vectors, so that all the vectors will appear around the unit circle (therefore closeness is directional closeness). **Note**: The line of code below that does the normalizing uses the NumPy concept of *broadcasting*. If you don't know about broadcasting, check out\n",
        "[Computation on Arrays: Broadcasting by Jake VanderPlas](https://jakevdp.github.io/PythonDataScienceHandbook/02.05-computation-on-arrays-broadcasting.html).\n",
        "\n",
        "Run the below cell to produce the plot. It'll probably take a few seconds to run."
      ]
    },
    {
      "cell_type": "code",
      "execution_count": 12,
      "metadata": {
        "scrolled": false,
        "id": "7L1Uk50mSSuD",
        "colab": {
          "base_uri": "https://localhost:8080/",
          "height": 409
        },
        "outputId": "37894f19-56d7-4502-d898-846bbb21f673"
      },
      "outputs": [
        {
          "output_type": "stream",
          "name": "stdout",
          "text": [
            "[['<START>', 'western', 'mining', 'to', 'open', 'new', 'gold', 'mine', 'in', 'australia', 'western', 'mining', 'corp', 'holdings', 'ltd', '&', 'lt', ';', 'wmng', '.', 's', '>', '(', 'wmc', ')', 'said', 'it', 'will', 'establish', 'a', 'new', 'joint', 'venture', 'gold', 'mine', 'in', 'the', 'northern', 'territory', 'at', 'a', 'cost', 'of', 'about', '21', 'mln', 'dlrs', '.', 'the', 'mine', ',', 'to', 'be', 'known', 'as', 'the', 'goodall', 'project', ',', 'will', 'be', 'owned', '60', 'pct', 'by', 'wmc', 'and', '40', 'pct', 'by', 'a', 'local', 'w', '.', 'r', '.', 'grace', 'and', 'co', '&', 'lt', ';', 'gra', '>', 'unit', '.', 'it', 'is', 'located', '30', 'kms', 'east', 'of', 'the', 'adelaide', 'river', 'at', 'mt', '.', 'bundey', ',', 'wmc', 'said', 'in', 'a', 'statement', 'it', 'said', 'the', 'open', '-', 'pit', 'mine', ',', 'with', 'a', 'conventional', 'leach', 'treatment', 'plant', ',', 'is', 'expected', 'to', 'produce', 'about', '50', ',', '000', 'ounces', 'of', 'gold', 'in', 'its', 'first', 'year', 'of', 'production', 'from', 'mid', '-', '1988', '.', 'annual', 'ore', 'capacity', 'will', 'be', 'about', '750', ',', '000', 'tonnes', '.', '<END>'], ['<START>', 'belgium', 'to', 'issue', 'gold', 'warrants', ',', 'sources', 'say', 'belgium', 'plans', 'to', 'issue', 'swiss', 'franc', 'warrants', 'to', 'buy', 'gold', ',', 'with', 'credit', 'suisse', 'as', 'lead', 'manager', ',', 'market', 'sources', 'said', '.', 'no', 'confirmation', 'or', 'further', 'details', 'were', 'immediately', 'available', '.', '<END>'], ['<START>', 'belgium', 'launches', 'bonds', 'with', 'gold', 'warrants', 'the', 'kingdom', 'of', 'belgium', 'is', 'launching', '100', 'mln', 'swiss', 'francs', 'of', 'seven', 'year', 'notes', 'with', 'warrants', 'attached', 'to', 'buy', 'gold', ',', 'lead', 'mananger', 'credit', 'suisse', 'said', '.', 'the', 'notes', 'themselves', 'have', 'a', '3', '-', '3', '/', '8', 'pct', 'coupon', 'and', 'are', 'priced', 'at', 'par', '.', 'payment', 'is', 'due', 'april', '30', ',', '1987', 'and', 'final', 'maturity', 'april', '30', ',', '1994', '.', 'each', '50', ',', '000', 'franc', 'note', 'carries', '15', 'warrants', '.', 'two', 'warrants', 'are', 'required', 'to', 'allow', 'the', 'holder', 'to', 'buy', '100', 'grammes', 'of', 'gold', 'at', 'a', 'price', 'of', '2', ',', '450', 'francs', ',', 'during', 'the', 'entire', 'life', 'of', 'the', 'bond', '.', 'the', 'latest', 'gold', 'price', 'in', 'zurich', 'was', '2', ',', '045', '/', '2', ',', '070', 'francs', 'per', '100', 'grammes', '.', '<END>'], ['<START>', 'belgium', 'launches', 'bonds', 'with', 'gold', 'warrants', 'the', 'kingdom', 'of', 'belgium', 'is', 'launching', '100', 'mln', 'swiss', 'francs', 'of', 'seven', 'year', 'notes', 'with', 'warrants', 'attached', 'to', 'buy', 'gold', ',', 'lead', 'manager', 'credit', 'suisse', 'said', '.', 'the', 'notes', 'themselves', 'have', 'a', '3', '-', '3', '/', '8', 'pct', 'coupon', 'and', 'are', 'priced', 'at', 'par', '.', 'payment', 'is', 'due', 'april', '30', ',', '1987', ',', 'and', 'final', 'maturity', 'april', '30', ',', '1994', '.', 'each', '50', ',', '000', 'franc', 'note', 'carries', '15', 'warrants', '.', 'two', 'warrants', 'are', 'required', 'to', 'allow', 'the', 'holder', 'to', 'buy', '100', 'grammes', 'of', 'gold', 'at', 'a', 'price', 'of', '2', ',', '450', 'francs', ',', 'during', 'the', 'entire', 'life', 'of', 'the', 'bond', '.', 'the', 'latest', 'gold', 'price', 'in', 'zurich', 'was', '2', ',', '045', '/', '2', ',', '070', 'francs', 'per', '100', 'grammes', '.', '<END>'], ['<START>', 'gordex', 'minerals', 'locates', 'gold', 'deposits', '&', 'lt', ';', 'gordex', 'mineral', 'ltd', '>', 'said', 'geologists', 'located', 'more', 'than', 'one', 'mln', 'tons', 'of', 'gold', '-', 'bearing', 'deposits', ',', '0', '.', '057', 'ounces', 'per', 'ton', ',', 'at', 'cape', 'spencer', '.', 'the', 'company', 'said', 'it', 'plans', 'to', 'invest', '2', '.', '5', 'mln', 'canadian', 'dlrs', 'to', 'expand', 'on', '-', 'site', 'treatment', 'facilities', 'to', 'process', '100', ',', '000', 'tons', 'of', 'gold', '-', 'bearing', 'deposits', 'this', 'year', 'and', '200', ',', '000', 'tons', 'in', '1988', '.', 'prior', 'to', 'the', 'completion', 'of', 'the', 'recent', 'exploration', 'program', ',', 'gordex', 'estimated', 'the', 'cape', 'spencer', 'deposit', 'had', '200', ',', '000', 'tons', '.', 'gordex', 'said', 'the', 'expansion', 'of', 'the', 'cape', 'spencer', 'facilities', 'is', 'intented', 'to', 'enable', 'it', 'to', 'operate', '24', 'hours', 'a', 'day', 'throughout', 'the', 'year', '.', '<END>'], ['<START>', 'gordex', 'minerals', 'locates', 'canada', 'gold', 'deposits', 'gordex', 'mineral', 'ltd', 'said', 'geologists', 'located', 'more', 'than', 'one', 'mln', 'short', 'tons', 'of', 'gold', '-', 'bearing', 'deposits', ',', '0', '.', '057', 'ounces', 'per', 'ton', ',', 'at', 'cape', 'spencer', '.', 'the', 'company', 'said', 'it', 'plans', 'to', 'invest', '2', '.', '5', 'mln', 'canadian', 'dlrs', 'to', 'expand', 'on', '-', 'site', 'treatment', 'facilities', 'to', 'process', '100', ',', '000', 'tons', 'of', 'gold', '-', 'bearing', 'deposits', 'this', 'year', 'and', '200', ',', '000', 'tons', 'in', '1988', '.', 'prior', 'to', 'the', 'completion', 'of', 'the', 'recent', 'exploration', 'program', ',', 'gordex', 'estimated', 'the', 'cape', 'spencer', 'deposit', 'had', '200', ',', '000', 'tons', '.', 'gordex', 'said', 'the', 'expansion', 'of', 'the', 'cape', 'spencer', 'facilities', 'is', 'intended', 'to', 'enable', 'operation', '24', 'hours', 'a', 'day', 'throughout', 'the', 'year', '.', '<END>'], ['<START>', 'u', '.', 's', '.', 'dollar', 'losses', 'propel', 'broad', 'commodity', 'gains', 'commodities', 'from', 'gold', 'to', 'grains', 'to', 'cotton', 'posted', 'solid', 'gains', 'in', 'a', 'flurry', 'of', 'buying', 'today', 'as', 'losses', 'in', 'the', 'u', '.', 's', '.', 'dollar', 'and', 'rising', 'interest', 'rates', 'kindled', 'fears', 'of', 'inflation', 'and', 'economic', 'instability', '.', 'gains', 'were', 'most', 'pronounced', 'on', 'the', 'commodity', 'exchange', 'in', 'new', 'york', ',', 'where', 'gold', 'jumped', '12', '.', '40', 'dlrs', 'and', 'closed', 'at', '436', '.', '50', 'dlrs', 'a', 'troy', 'ounce', ',', 'and', 'silver', '22', '.', '5', 'cents', 'to', '6', '.', '86', 'dlrs', 'a', 'troy', 'ounce', '.', 'a', 'key', 'factor', 'behind', 'the', 'advance', 'was', 'anticipation', 'that', 'inflation', 'will', 'be', 'the', 'only', 'way', 'for', 'the', 'major', 'industrial', 'nations', 'to', 'halt', 'the', 'slide', 'in', 'the', 'value', 'of', 'the', 'u', '.', 's', '.', 'dollar', ',', 'said', 'steve', 'chronowitz', ',', 'director', 'of', 'commodity', 'research', 'with', 'smith', 'barney', ',', 'harris', 'upham', 'and', 'co', '.,', 'in', 'new', 'york', '.', 'the', 'dollar', 'tumbled', 'one', 'day', 'after', 'top', 'finance', 'officials', 'from', 'the', 'seven', 'largest', 'industrial', 'nations', 'reaffirmed', 'their', 'commitment', 'to', 'support', 'its', 'value', ',', 'and', 'despite', 'reports', 'of', 'intervention', 'by', 'the', 'u', '.', 's', '.', 'federal', 'reserve', 'bank', ',', 'traders', 'said', '.', 'traders', 'said', 'it', 'appears', 'that', 'the', 'industrial', 'nations', ',', 'known', 'as', 'the', 'group', 'of', 'seven', ',', 'lack', 'the', 'ability', 'to', 'change', 'the', 'long', '-', 'term', 'direction', 'of', 'the', 'currency', 'markets', '.', '\"', 'maybe', 'they', 'have', 'some', 'ideas', 'or', 'plans', ',\"', 'said', 'chronowitz', '.', '\"', 'if', 'they', 'do', ',', 'it', \"'\", 's', 'not', 'evident', '.\"', '\"', 'it', 'looks', 'like', 'there', \"'\", 's', 'no', 'cure', 'but', 'to', 'let', 'the', 'free', 'market', 'take', 'values', 'to', 'where', 'they', 'should', 'be', '.', '\"', 'one', 'way', 'or', 'another', ',', 'we', 'will', 'force', 'our', 'major', 'trading', 'partners', 'to', 'stimulate', 'their', 'economies', ',\"', 'as', 'a', 'measure', 'to', 'correct', 'the', 'mounting', 'u', '.', 's', '.', 'trade', 'deficit', ',', 'chronowitz', 'said', '.', '\"', 'i', 'think', 'the', 'markets', 'believe', ',', 'and', 'have', 'believed', 'for', 'a', 'long', 'time', ',', 'that', 'the', 'only', 'recourse', 'is', 'to', 'reflate', 'at', 'some', 'point', '.', 'it', \"'\", 's', 'going', 'to', 'be', 'a', 'long', 'and', 'tedious', 'process', ',', 'but', 'that', \"'\", 's', 'what', \"'\", 's', 'happening', ',\"', 'he', 'said', '.', 'the', 'falling', 'value', 'of', 'the', 'dollar', 'makes', 'u', '.', 's', '.', 'commodities', 'cheaper', 'for', 'foreign', 'buyers', ',', 'stimulating', 'demand', '.', 'at', 'the', 'same', 'time', ',', 'traders', 'who', 'are', 'holding', 'stocks', 'and', 'bonds', 'saw', 'the', 'value', 'of', 'their', 'investments', 'falling', 'and', 'many', 'are', 'turning', 'to', 'commodities', 'such', 'as', 'precious', 'metals', 'as', 'a', 'hedge', ',', 'said', 'marty', 'mcneill', ',', 'a', 'metals', 'analyst', 'in', 'new', 'york', 'with', 'the', 'trading', 'house', 'of', 'dominick', 'and', 'dominick', '.', 'the', 'reaction', 'in', 'the', 'metal', 'markets', 'reverberated', 'throughout', 'the', 'commodities', 'markets', ',', 'as', 'grains', ',', 'livestock', ',', 'and', 'cotton', 'posted', 'broad', 'gains', '.', 'traders', 'at', 'the', 'chicago', 'board', 'of', 'trade', 'said', 'attention', 'in', 'the', 'grain', 'markets', 'has', 'shifted', 'from', 'concern', 'about', 'burdensome', 'supplies', 'to', 'the', 'outlook', 'that', 'a', 'lower', 'dollar', 'will', 'stimulate', 'export', 'demand', '.', 'after', 'the', 'close', 'of', 'trading', ',', 'the', 'agriculture', 'department', 'raised', 'its', 'estimate', 'for', 'grain', 'imports', 'by', 'the', 'soviet', 'union', 'by', 'two', 'mln', 'tonnes', 'from', 'the', 'month', '-', 'earlier', 'report', '.', 'live', 'hogs', 'and', 'frozen', 'pork', 'bellies', 'posted', 'sharp', 'gains', 'on', 'the', 'chicago', 'mercantile', 'exchange', ',', 'while', 'live', 'cattle', 'were', 'moderately', 'higher', '.', 'analysts', 'said', 'several', 'factors', 'boosted', 'hog', 'prices', '.', 'they', 'said', 'hogs', 'haven', \"'\", 't', 'been', 'making', 'the', 'weight', 'gains', 'that', 'are', 'normal', 'at', 'this', 'time', 'of', 'year', ',', 'and', 'farmers', 'have', 'been', 'too', 'busy', 'with', 'field', 'work', 'to', 'market', 'animals', '.', '<END>'], ['<START>', 'st', '.', 'gobain', 'unit', 'issues', 'ecu', 'bond', 'with', 'gold', 'warrants', 'st', '.', 'gobain', 'netherlands', ',', 'guaranteed', 'by', 'cie', 'de', 'st', '.', 'gobain', ',', 'is', 'issuing', 'a', '75', 'mln', 'ecu', 'bond', 'with', 'gold', 'warrants', 'attached', ',', 'due', 'may', '6', ',', '1992', 'carrying', 'a', '4', '-', '1', '/', '2', 'pct', 'coupon', 'and', 'priced', 'at', 'par', ',', 'lead', 'manager', 'salomon', 'brothers', 'international', 'ltd', 'said', '.', 'fees', 'comprise', '1', '-', '1', '/', '4', 'pct', 'selling', 'concession', 'with', '5', '/', '8', 'pct', 'for', 'management', 'and', 'underwriting', 'combined', '.', 'listing', 'is', 'in', 'luxembourg', '.', 'each', '1', ',', '000', 'ecu', 'bond', 'carries', 'one', 'gold', 'warrant', 'exercisable', 'from', 'may', '6', ',', '1987', 'until', 'may', '6', ',', '1990', 'entitling', 'the', 'holder', 'to', 'purchase', 'one', 'ounce', 'at', 'an', 'exercise', 'price', 'of', '490', 'dlrs', '.', '<END>'], ['<START>', 'london', 'gold', 'morning', 'fix', 'highest', 'since', 'october', 'gold', 'bullion', 'continued', 'to', 'move', 'higher', 'supported', 'by', 'good', 'general', 'buying', 'and', 'was', 'fixed', 'this', 'morning', 'at', '436', '.', '50', 'dlrs', ',', '268', '.', '368', 'stg', ',', 'an', 'ounce', ',', 'up', 'from', 'friday', \"'\", 's', 'close', 'of', '432', '.', '00', '/', '50', ',', 'dealers', 'said', '.', 'the', 'setting', 'was', 'the', 'highest', 'since', 'october', '8', 'as', 'gold', 'built', 'on', 'friday', \"'\", 's', 'gains', ',', 'which', 'had', 'been', 'based', 'on', 'the', 'weakness', 'of', 'the', 'dollar', 'and', 'fears', 'of', 'a', 'trade', 'war', 'between', 'the', 'united', 'states', 'and', 'japan', '.', 'it', 'opened', 'slightly', 'firmer', 'at', '433', '.', '50', '/', '434', '.', '00', 'and', 'moved', 'up', 'steadily', 'during', 'the', 'morning', 'supported', 'by', 'commission', 'house', 'and', 'trade', 'buying', ',', 'dealers', 'said', '.', 'dealers', 'said', 'there', 'was', 'resistance', 'around', '440', '.', '00', 'but', 'with', 'sentiment', 'still', 'firm', 'some', 'traders', 'believe', 'the', 'rally', 'may', 'even', 'take', 'gold', 'as', 'high', 'as', '500', 'dlrs', '.', 'platinum', 'was', 'fixed', 'this', 'morning', 'at', '583', '.', '50', 'dlrs', 'an', 'ounce', ',', 'up', 'from', 'friday', \"'\", 's', 'close', 'of', '578', '.', '50', '/', '580', '.', '50', ',', 'and', 'also', 'the', 'highest', 'setting', 'since', 'october', '.', '<END>'], ['<START>', 'six', 'killed', 'in', 'south', 'african', 'mine', 'six', 'workers', 'were', 'killed', 'and', 'four', 'injured', 'in', 'an', 'undeground', 'rock', 'fall', 'at', 'south', 'africa', \"'\", 's', 'second', 'largest', 'gold', 'mine', 'today', ',', 'the', 'mine', 'owners', 'said', '.', 'it', 'was', 'the', 'third', 'major', 'mine', 'accident', 'in', 'the', 'country', 'in', 'less', 'than', 'a', 'week', '.', 'thirty', 'four', 'workers', 'died', 'in', 'methane', 'gas', 'explosion', 'at', 'a', 'coal', 'mine', 'last', 'thursday', '.', '<END>'], ['<START>', 'more', 'british', 'gold', 'articles', 'hallmarked', 'the', 'number', 'of', 'british', 'gold', 'articles', 'hallmarked', 'during', 'the', 'first', 'quarter', 'of', 'this', 'year', 'rose', 'by', 'more', 'than', '11', 'pct', 'on', 'the', 'corresponding', 'period', 'last', 'year', ',', 'figures', 'released', 'by', 'the', 'assay', 'offices', 'of', 'great', 'britain', 'show', '.', 'more', 'than', '2', '.', '5', 'mln', 'british', 'items', 'were', 'hallmarked', 'during', 'the', 'quarter', ',', 'up', '11', '.', '1', 'pct', 'on', 'the', 'same', 'year', 'ago', 'period', '.', 'the', 'four', 'assay', 'offices', 'also', 'marked', '832', ',', '222', 'foreign', 'gold', 'articles', ',', 'up', '2', '.', '5', 'pct', 'on', 'last', 'year', '.', 'in', 'weight', 'terms', 'the', '7', '.', '19', 'mln', 'grams', 'of', 'british', 'gold', 'assayed', 'was', 'a', '15', '.', '3', 'pct', 'increase', ',', 'while', 'the', '2', '.', '95', 'mln', 'grams', 'of', 'foreign', 'gold', 'represented', 'a', 'rise', 'of', '3', '.', '1', 'pct', '.', 'british', 'silver', 'goods', 'assayed', 'totalled', '698', ',', '132', ',', 'an', 'increase', 'of', '6', '.', '2', 'pct', 'but', 'only', '78', ',', '457', 'foreign', 'items', 'were', 'marked', ',', 'a', 'fall', 'of', '11', '.', '1', 'pct', '.', 'a', 'total', 'of', '10', ',', '968', 'kilos', 'of', 'silver', 'were', 'assayed', ',', 'an', '11', '.', '1', 'pct', 'rise', '.', 'the', 'number', 'of', 'platinum', 'items', 'marked', 'fell', '12', '.', '5', 'pct', 'to', '1', ',', '785', ',', 'while', 'in', 'weight', 'terms', 'the', 'total', 'slipped', '8', '.', '1', 'pct', 'to', '9', ',', '849', 'grams', '.', 'a', 'spokesman', 'for', 'the', 'assay', 'offices', 'of', 'great', 'britain', 'said', 'he', 'was', 'particularly', 'encouraged', 'to', 'see', 'the', 'percentage', 'increase', 'for', 'british', 'manufactured', 'goods', '.', '<END>'], ['<START>', 'giant', 'bay', '&', 'lt', ';', 'gbylf', '>', 'in', 'idaho', 'gold', 'venture', 'giant', 'bay', 'resources', 'ltd', 'said', 'it', 'signed', 'an', 'agreement', 'in', 'principle', 'with', 'hecla', 'mining', 'co', 'for', 'an', 'operating', 'joint', 'venture', 'on', 'hecla', \"'\", 's', 'stibnite', ',', 'idaho', ',', 'gold', 'deposit', '.', 'giant', 'bay', 'said', 'if', 'its', 'bioleaching', 'technology', 'is', 'used', 'for', 'ore', 'processing', ',', 'it', 'will', 'have', 'the', 'right', 'to', 'acquire', 'a', 'working', 'interest', 'in', 'the', 'property', '.', 'it', 'said', 'it', 'may', 'spend', 'as', 'much', 'as', 'three', 'mln', 'u', '.', 's', '.', 'dlrs', ',', 'excluding', 'capital', 'costs', 'to', 'bring', 'the', 'mine', 'into', 'production', '.', 'it', 'said', 'drilling', 'has', 'indicated', 'substantial', 'sulphide', 'reserves', 'with', 'a', 'gold', 'grade', 'of', 'about', '0', '.', '1', 'ounce', 'a', 'ton', ',', 'and', 'early', 'tests', 'show', 'the', 'gold', 'ore', 'responds', 'to', 'bioleaching', '.', '<END>'], ['<START>', 'homestake', '&', 'lt', ';', 'hm', '>', 'mulls', 'buying', 'ore', 'reserves', 'homestake', 'mining', 'co', 'is', 'considering', 'acquiring', 'more', 'gold', 'ore', 'reserves', 'in', 'addition', 'to', 'the', 'company', \"'\", 's', 'exploration', 'efforts', ',', 'chief', 'executive', 'harry', 'conger', 'told', 'reuters', 'in', 'an', 'interview', '.', '\"', 'we', 'are', 'looking', 'at', 'more', 'options', 'to', 'acquire', 'more', 'reserves', 'rather', 'than', 'just', 'exploration', ',\"', 'conger', 'said', 'adding', ',', '\"', 'the', 'move', 'to', 'consider', 'acquisitions', 'represents', 'a', 'change', 'in', 'the', 'company', \"'\", 's', 'acquisitions', 'policy', '.\"', 'conger', 'said', 'all', 'of', 'homestake', \"'\", 's', 'current', 'cash', 'position', 'of', '120', 'mln', 'dlrs', 'would', 'be', 'available', 'to', 'acquire', 'reserves', '.', 'in', 'addition', ',', 'homestake', 'has', 'two', 'lines', 'of', 'credit', 'totaling', '150', 'mln', 'dlrs', 'which', 'have', 'not', 'been', 'drawn', 'on', 'today', 'and', 'could', 'be', 'used', 'to', 'finance', 'an', 'acquisition', ',', 'he', 'said', '.', 'conger', 'said', 'he', 'anticipates', '1987', 'exploration', 'budget', 'will', 'be', 'about', 'the', 'same', 'as', '1986', 'spending', 'of', '27', '.', '3', 'mln', 'dlrs', '.', 'conger', 'said', 'exploration', 'for', 'precious', 'metals', 'may', 'be', 'slightly', 'higher', 'than', 'last', 'year', \"'\", 's', 'spending', 'of', '17', '.', '7', 'mln', 'dlrs', 'while', 'oil', 'and', 'gas', 'exploration', 'spending', 'will', 'be', 'slightly', 'less', 'than', 'last', 'year', \"'\", 's', '9', '.', '6', 'pct', '.', 'conger', 'said', 'he', 'sees', 'homestake', \"'\", 's', '1987', 'gold', 'production', 'about', 'the', 'same', 'as', '1986', 'gold', 'production', 'of', '669', ',', '594', 'ounces', '.', 'however', ',', '1987', 'first', 'quarter', 'production', 'from', 'its', 'mclaughlin', 'reserve', 'will', 'be', 'about', '10', 'pct', 'lower', 'than', 'last', 'year', \"'\", 's', '45', ',', '400', 'ounces', 'due', 'to', 'start', '-', 'up', 'production', 'problems', '.', 'he', 'said', 'he', 'believes', 'gold', 'prices', 'will', 'hold', 'above', 'the', '400', 'u', '.', 's', '.', 'dlr', 'an', 'ounce', 'level', 'for', 'the', 'rest', 'of', '1987', '.', 'in', '1986', ',', 'company', 'earnings', 'were', 'based', 'an', 'average', 'market', 'price', 'for', 'gold', 'of', '368', 'dlrs', 'an', 'ounce', '.', 'conger', 'said', 'a', 'three', 'pct', 'change', 'in', 'gold', 'prices', 'represents', 'a', '12', 'cts', 'a', 'share', 'impact', 'on', 'earnings', 'but', 'he', 'declined', 'to', 'give', 'a', 'specific', 'forecast', 'for', '1987', \"'\", 's', 'first', 'quarter', ',', 'due', 'to', 'be', 'released', 'in', '10', 'days', ',', 'or', 'for', 'full', 'year', '1987', 'results', '.', '<END>'], ['<START>', 'homestake', 'mulls', 'buying', 'ore', 'reserves', 'homestake', 'mining', 'co', 'is', 'considering', 'acquiring', 'more', 'gold', 'ore', 'reserves', 'in', 'addition', 'to', 'the', 'company', \"'\", 's', 'exploration', 'efforts', ',', 'chief', 'executive', 'harry', 'conger', 'told', 'reuters', 'in', 'an', 'interview', '.', 'conger', 'said', ',', '\"', 'the', 'move', 'to', 'consider', 'acquisitions', 'represents', 'a', 'change', 'in', 'the', 'company', \"'\", 's', 'acquistions', 'policy', '.\"', 'conger', 'said', 'all', 'of', 'homestake', \"'\", 's', 'current', 'cash', 'position', 'of', '120', 'mln', 'dlrs', 'would', 'be', 'available', 'to', 'acquire', 'reserves', '.', 'in', 'addition', ',', 'homestake', 'has', 'two', 'lines', 'of', 'credit', 'totaling', '150', 'mln', 'dlrs', 'which', 'have', 'not', 'been', 'drawn', 'on', 'and', 'could', 'be', 'used', 'to', 'finance', 'an', 'acquisition', ',', 'he', 'said', '.', 'conger', 'said', 'he', 'anticipates', '1987', 'exploration', 'budget', 'will', 'be', 'about', 'the', 'same', 'as', '1986', 'spending', 'of', '27', '.', '3', 'mln', 'dlrs', '.', 'conger', 'said', 'exploration', 'for', 'precious', 'metals', 'may', 'be', 'slightly', 'higher', 'than', 'last', 'year', \"'\", 's', 'spending', 'of', '17', '.', '7', 'mln', 'dlrs', 'while', 'oil', 'and', 'gas', 'exploration', 'spending', 'will', 'be', 'slightly', 'less', 'than', 'last', 'year', \"'\", 's', '9', '.', '6', 'pct', '.', 'conger', 'said', 'he', 'sees', 'homestake', \"'\", 's', '1987', 'gold', 'production', 'about', 'the', 'same', 'as', '1986', 'gold', 'production', 'of', '669', ',', '594', 'ounces', '.', 'however', ',', '1987', 'first', 'quarter', 'production', 'from', 'its', 'mclaughlin', 'reserve', 'will', 'be', 'about', '10', 'pct', 'lower', 'than', 'last', 'year', \"'\", 's', '45', ',', '400', 'ounces', 'due', 'to', 'start', '-', 'up', 'production', 'problems', '.', 'he', 'said', 'he', 'believes', 'gold', 'prices', 'will', 'hold', 'above', 'the', '400', 'u', '.', 's', '.', 'dlr', 'an', 'ounce', 'level', 'for', 'the', 'rest', 'of', '1987', '.', '<END>'], ['<START>', 'renison', 'gc', 'and', 'city', 'resources', 'set', 'png', 'gold', 'venture', 'renison', 'goldfields', 'consolidated', 'ltd', '&', 'lt', ';', 'rgfj', '.', 's', '>', '(', 'rgc', ')', 'and', 'explorer', '&', 'lt', ';', 'city', 'resources', 'ltd', '>', 'have', 'agreed', 'in', 'principle', 'on', 'a', 'joint', 'venture', 'to', 're', '-', 'examine', 'the', 'bulolo', 'alluvial', 'gold', 'field', 'in', 'papua', 'new', 'guinea', ',', 'city', 'resources', 'said', '.', 'city', 'resources', 'would', 'progressively', 'earn', 'up', 'to', '66', '.', '66', 'pct', 'of', 'rgc', \"'\", 's', 'prospecting', 'authority', '585', ',', 'which', 'covers', 'all', 'the', 'field', ',', 'by', 'spending', 'a', 'total', 'of', '6', '.', '5', 'mln', 'kina', ',', 'it', 'said', 'in', 'a', 'statement', '.', 'it', 'said', 'it', 'believed', 'bulolo', 'was', 'not', 'fully', 'exploited', 'in', 'the', 'past', ',', 'noting', 'the', 'literature', 'refers', 'to', 'heavy', 'gold', 'losses', 'in', 'tailings', 'during', 'dredging', 'from', '1931', 'to', '1967', 'which', 'produced', 'a', 'total', 'of', '2', '.', '1', 'mln', 'ounces', '.', 'city', 'resources', 'also', 'said', 'previous', 'dredging', 'was', 'only', 'carried', 'out', 'to', 'a', 'depth', 'of', '36', 'metres', 'and', 'high', 'grade', 'gold', 'values', 'are', 'reported', 'to', 'at', 'least', '60', 'metres', 'in', 'the', 'central', 'part', 'of', 'the', 'bulolo', 'valley', 'and', 'possibly', 'as', 'deep', 'as', '90', 'metres', '.', 'in', 'its', 'productive', 'life', ',', 'recovered', 'average', 'grade', 'at', 'bulolo', 'was', '0', '.', '3', 'rpt', '0', '.', '3', 'grams', 'a', 'tonne', 'from', 'some', '207', 'mln', 'cubic', 'metres', 'of', 'gravel', ',', 'it', 'said', '.', 'city', 'resources', 'will', 'act', 'as', 'operator', '.', 'the', 'bulolo', 'field', ',', 'in', 'morobe', 'province', ',', 'was', 'the', 'first', 'successful', 'gold', 'mining', 'operation', 'of', '&', 'lt', ';', 'placer', 'development', 'ltd', '>', 'after', 'it', 'was', 'floated', 'in', 'canada', 'in', '1926', '.', 'it', 'operated', 'the', 'field', 'until', 'dredging', 'ceased', 'in', '1967', '.', '<END>'], ['<START>', 'northgate', 'quebec', 'gold', 'workers', 'end', 'strike', 'northgate', 'exploration', 'ltd', 'said', 'hourly', '-', 'paid', 'workers', 'at', 'its', 'two', 'chibougamau', ',', 'quebec', 'mines', 'voted', 'on', 'the', 'weekend', 'to', 'accept', 'a', 'new', 'three', '-', 'year', 'contract', 'offer', 'and', 'returned', 'to', 'work', 'today', 'after', 'a', 'one', '-', 'month', 'strike', '.', 'it', 'said', 'the', 'workers', ',', 'represented', 'by', 'united', 'steelworkers', 'of', 'america', ',', 'would', 'receive', 'a', '1', '.', '21', 'dlr', 'an', 'hour', 'pay', 'raise', 'over', 'the', 'life', 'of', 'the', 'new', 'contract', 'and', 'improved', 'benefits', '.', 'northgate', ',', 'which', 'produced', '23', ',', '400', 'ounces', 'of', 'gold', 'in', 'first', 'quarter', ',', 'said', 'that', 'while', 'the', 'strike', 'slowed', 'production', ',', '\"', 'we', 'are', 'still', 'looking', 'forward', 'to', 'a', 'very', 'satisfactory', 'performance', '.\"', 'the', 'chibougamau', 'mines', 'produced', '81', ',', '500', 'ounces', 'of', 'gold', 'last', 'year', '.', '<END>'], ['<START>', 'northgate', '&', 'lt', ';', 'ngx', '>', 'quebec', 'workers', 'end', 'strike', 'northgate', 'exploration', 'ltd', 'said', 'hourly', '-', 'paid', 'workers', 'at', 'its', 'two', 'chibougamau', ',', 'quebec', ',', 'mines', 'voted', 'on', 'the', 'weekend', 'to', 'accept', 'a', 'three', '-', 'year', 'contract', 'offer', 'and', 'returned', 'to', 'work', 'today', 'after', 'a', 'one', '-', 'month', 'strike', '.', 'it', 'said', 'the', 'workers', ',', 'represented', 'by', 'united', 'steelworkers', 'of', 'america', ',', 'would', 'receive', 'a', '1', '.', '21', '-', 'dlr', '-', 'an', '-', 'hour', 'pay', 'raise', 'over', 'the', 'life', 'of', 'the', 'new', 'contract', 'and', 'improved', 'benefits', '.', 'northgate', ',', 'which', 'produced', '23', ',', '400', 'ounces', 'of', 'gold', 'in', 'first', 'quarter', ',', 'said', 'that', 'while', 'the', 'strike', 'slowed', 'production', ',', '\"', 'we', 'are', 'still', 'looking', 'forward', 'to', 'a', 'very', 'satisfactory', 'performance', '.\"', 'the', 'chibougamau', 'mines', 'produced', '81', ',', '500', 'ounces', 'of', 'gold', 'last', 'year', '.', '<END>'], ['<START>', 'little', 'reaction', 'to', 'comex', 'price', 'limit', 'removal', 'the', 'elimination', 'of', 'price', 'limits', 'on', 'precious', 'metals', 'contracts', 'trading', 'at', 'the', 'commodity', 'exchange', 'in', 'new', 'york', 'appears', 'to', 'be', 'having', 'little', 'effect', 'on', 'the', 'market', ',', 'analysts', 'said', '.', '\"', 'there', 'is', 'nothing', 'apparent', 'from', 'the', 'change', ',\"', 'said', 'william', 'o', \"'\", 'neill', ',', 'director', 'of', 'futures', 'research', 'at', 'elders', 'futures', 'inc', '.', '\"', 'the', 'market', 'has', 'not', 'approached', 'the', 'old', 'price', 'limits', 'and', 'trading', 'is', 'relative', 'quiet', ',', 'in', 'narrow', 'ranges', ',\"', 'he', 'added', '.', 'gold', 'futures', ',', 'which', 'previously', 'had', 'a', 'limit', 'of', '25', 'dlrs', 'on', 'market', 'moves', 'in', 'most', 'back', 'months', ',', 'were', 'about', '7', '.', '00', 'dlrs', 'weaker', 'in', 'the', 'nearby', 'contracts', 'amid', 'thin', 'conditions', ',', 'traders', 'said', '.', 'on', 'may', '5', ',', 'comex', 'did', 'away', 'with', 'price', 'limits', 'on', 'the', 'two', 'contracts', 'following', 'spot', 'after', 'a', 'volatile', 'market', 'in', 'silver', 'futures', 'at', 'the', 'end', 'of', 'april', 'caused', 'severe', 'disruptions', '.', 'during', 'the', 'last', 'week', 'of', 'april', ',', 'silver', 'futures', 'traded', 'up', 'and', 'down', 'the', 'price', 'limit', 'in', 'the', 'back', 'months', ',', 'causing', 'traders', 'to', 'rush', 'into', 'the', 'spot', 'contract', 'to', 'offset', 'those', 'moves', ',', 'analysts', 'said', '.', 'as', 'a', 'result', ',', 'elders', \"'\", 'o', \"'\", 'neill', 'said', ',', 'there', 'was', 'much', 'confusion', ',', 'many', 'unmatched', 'trades', ',', 'and', 'large', 'losses', '.', 'the', 'comex', 'fined', 'elders', 'futures', 'and', 'three', 'other', 'large', 'firms', 'a', 'total', 'of', '100', ',', '000', 'dlrs', 'for', 'failure', 'to', 'resolve', 'unmatched', 'trades', 'in', 'a', 'timely', 'manner', '.', 'silver', 'futures', 'were', 'trading', 'about', '30', '-', '40', 'cts', 'weaker', 'in', 'the', 'nearby', 'contracts', 'amid', 'quiet', 'trading', 'today', '.', 'o', \"'\", 'neill', 'said', 'the', 'elimination', 'of', 'price', 'limits', 'on', 'all', 'comex', 'metals', 'futures', 'would', 'add', 'caution', 'to', 'trading', 'since', 'all', 'contracts', 'could', 'move', 'any', 'distance', '.', '\"', 'this', 'is', 'amore', 'realistic', 'approach', 'because', 'the', 'metals', 'market', 'is', 'a', '24', 'hours', 'market', 'and', 'prices', 'can', 'move', 'without', 'limit', ',\"', 'o', \"'\", 'neill', 'said', '.', 'paul', 'cain', ',', 'a', 'vice', 'president', 'at', 'shearson', 'lehman', 'brothers', ',', 'said', 'the', 'elimination', 'of', 'price', 'limits', 'will', 'cut', 'back', 'on', 'panic', 'buying', 'or', 'selling', 'and', 'contribute', 'to', 'more', 'orderly', 'markets', '.', '<END>'], ['<START>', 'little', 'reaction', 'to', 'removal', 'comex', 'daily', 'limits', 'the', 'elimination', 'of', 'limits', 'on', 'daily', 'price', 'fluctuations', 'for', 'metals', 'futures', 'contracts', 'traded', 'on', 'the', 'commodity', 'exchange', ',', 'comex', ',', 'appears', 'to', 'be', 'having', 'little', 'effect', 'on', 'the', 'market', ',', 'analysts', 'said', '.', '\"', 'there', 'is', 'nothing', 'apparent', 'from', 'the', 'change', ',\"', 'said', 'william', 'o', \"'\", 'neill', ',', 'director', 'of', 'futures', 'research', 'at', 'elders', 'futures', 'inc', '.', '\"', 'the', 'market', 'has', 'not', 'approached', 'the', 'old', 'price', 'limits', 'and', 'trading', 'is', 'relative', 'quiet', ',', 'in', 'narrow', 'ranges', ',\"', 'he', 'said', '.', 'on', 'may', '5', ',', 'comex', 'eliminated', 'price', 'limits', 'on', 'the', 'two', 'contracts', 'following', 'each', 'spot', 'delivery', 'in', 'gold', ',', 'silver', ',', 'copper', 'and', 'aluminum', 'futures', 'after', 'a', 'review', 'of', 'its', 'clearing', 'operations', ',', 'which', 'were', 'severely', 'tested', 'by', 'a', 'volatile', 'market', 'in', 'silver', 'futures', 'at', 'the', 'end', 'of', 'april', '.', 'comex', 'announced', 'friday', 'the', 'lifting', 'of', 'all', 'daily', 'limits', ',', 'effective', 'today', '.', 'gold', 'futures', ',', 'which', 'previously', 'had', 'a', 'limit', 'of', '25', 'dlrs', 'per', 'ounce', 'in', 'most', 'back', 'months', ',', 'were', 'about', '7', '.', '00', 'dlrs', 'weaker', 'in', 'the', 'nearby', 'contracts', 'amid', 'thin', 'volume', 'conditions', ',', 'traders', 'said', '.', 'silver', 'futures', ',', 'previously', 'limited', 'at', '50', 'cents', 'in', 'most', 'back', 'months', ',', 'were', 'trading', 'about', '30', '-', '40', 'cts', 'weaker', 'in', 'the', 'nearby', 'contracts', 'amid', 'quiet', 'trading', 'today', '.', 'during', 'the', 'last', 'week', 'of', 'april', ',', 'silver', 'futures', 'often', 'traded', 'at', 'the', 'daily', 'allowable', 'limit', 'amid', 'concerns', 'about', 'inflation', ',', 'the', 'dollar', ',', 'and', 'other', 'factors', '.', 'traders', 'rushed', 'into', 'the', 'spot', ',', 'or', 'unlimited', ',', 'contract', 'to', 'offset', 'those', 'moves', ',', 'analysts', 'said', '.', 'as', 'a', 'result', ',', 'o', \"'\", 'neill', 'said', ',', 'there', 'was', 'much', 'confusion', ',', 'many', 'unmatched', 'trades', ',', 'and', 'large', 'losses', 'for', 'some', 'traders', '.', 'the', 'comex', 'fined', 'four', 'large', 'firms', 'a', 'total', 'of', '100', ',', '000', 'dlrs', 'for', 'failure', 'to', 'resolve', 'unmatched', 'trades', 'in', 'a', 'timely', 'manner', '.', 'paul', 'cain', ',', 'a', 'vice', 'president', 'at', 'shearson', 'lehman', 'brothers', ',', 'said', 'the', 'elimination', 'of', 'price', 'limits', 'will', 'cut', 'back', 'on', 'panic', 'buying', 'or', 'selling', 'and', 'contribute', 'to', 'more', 'orderly', 'markets', '.', 'o', \"'\", 'neill', 'added', 'that', 'the', 'elimination', 'of', 'daily', 'limits', 'would', 'add', 'caution', 'to', 'trading', '.', '\"', 'this', 'is', 'a', 'more', 'realistic', 'approach', 'because', 'the', 'metals', 'market', 'is', 'a', '24', 'hours', 'market', 'and', 'prices', 'can', 'move', 'without', 'limit', ',\"', 'o', \"'\", 'neill', 'said', '.', '<END>'], ['<START>', 'u', '.', 's', '.', 'gold', ',', 'silver', ',', 'platinum', 'soar', 'on', 'volcker', 'rejection', 'of', '3rd', 'term', 'u', '.', 's', '.', 'gold', ',', 'silver', ',', 'platinum', 'soar', 'on', 'volcker', 'rejection', 'of', '3rd', 'term', '<END>'], ['<START>', 'skyline', '&', 'lt', ';', 'skx', '.', 'v', '>', 'expects', 'to', 'begin', 'mine', 'in', 'july', 'skyline', 'explorations', 'ltd', 'said', 'expects', 'construction', 'can', 'begin', 'next', 'month', 'on', 'a', 'gold', 'mine', 'at', 'johnny', 'mountain', 'camp', ',', 'located', '600', 'miles', 'north', 'of', 'vancouver', '.', 'the', 'company', 'said', 'a', 'contract', 'has', 'been', 'let', 'for', 'a', '200', 'to', '400', 'tons', 'per', 'day', 'mill', 'and', 'the', 'company', 'is', 'receiving', 'cooperation', 'from', 'provincial', 'and', 'federal', 'agencies', 'on', 'its', 'stage', 'one', 'report', ',', '\"', 'approval', 'in', 'principal', ',\"', 'which', 'is', 'required', 'before', 'actual', 'construction', 'can', 'begin', '.', 'skyline', 'said', 'it', 'is', 'optimistic', 'the', 'approval', 'in', 'principal', 'will', 'be', 'received', 'in', 'late', 'june', ',', 'by', 'which', 'time', 'it', 'expects', 'to', 'have', 'confirmed', 'threshold', 'tonnage', 'and', 'grade', 'targets', 'so', 'construction', 'can', 'begin', 'in', 'july', '.', 'skyline', 'said', 'the', '1987', 'exploration', 'drift', 'on', '16', 'vien', 'east', 'at', 'johnny', 'mountain', 'has', 'advanced', '320', 'feet', '.', 'the', 'vein', 'is', 'continuous', ',', 'averaging', 'four', 'feet', 'thick', 'plus', 'an', 'altered', 'mineralized', 'hanging', 'wall', '.', 'it', 'said', 'periodic', 'face', 'samples', 'indicate', 'an', 'average', 'grade', 'of', '1', '.', '05', 'ounces', 'per', 'ton', 'of', 'ore', 'ranging', 'from', 'a', 'low', 'of', '0', '.', '78', 'ounce', 'per', 'ton', 'to', 'a', 'high', 'of', '55', '.', '8', 'ounces', 'per', 'ton', '.', '<END>'], ['<START>', 'total', 'erickson', '&', 'lt', ';', 'tle', '.', 't', '>', 'buys', 'mining', 'property', 'total', 'erickson', 'resources', 'ltd', 'and', 'consolidated', 'silver', 'standard', 'mines', 'ltd', '&', 'lt', ';', 'cds', '.', 'v', '>', 'said', 'that', 'total', 'erickson', 'has', 'purchased', 'all', 'consolidated', \"'\", 's', 'interests', 'in', 'its', 'dome', 'mountain', 'property', 'for', '60', ',', '000', 'total', 'erickson', 'shares', 'and', '70', ',', '000', 'dlrs', 'in', 'cash', '.', 'the', 'companies', 'said', 'the', 'property', 'has', 'several', 'gold', '-', 'bearing', 'veins', 'and', 'has', 'considerable', 'exploration', 'potential', '.', '<END>'], ['<START>', 'u', '.', 's', '.', 'minerals', '&', 'lt', ';', 'usmx', '.', 'o', '>', 'commissions', 'new', 'gold', 'mine', 'u', '.', 's', '.', 'minerals', 'exploration', 'co', 'said', 'it', 'and', 'pegasus', 'gold', 'inc', '&', 'lt', ';', 'pgul', '.', 'o', '>', 'of', 'spokane', ',', 'wash', ',', 'officially', 'commissioned', 'a', 'new', 'gold', ',', 'zinc', 'and', 'lead', 'producing', 'mine', '.', 'u', '.', 's', '.', 'minerals', 'said', 'the', 'new', 'montana', 'tunnels', 'mine', 'near', 'helena', ',', 'mont', ',', 'is', 'expected', 'to', 'reach', 'full', 'production', 'in', 'august', '1987', '.', 'u', '.', 's', '.', 'minerals', 'said', 'the', 'mine', 'is', 'designed', 'to', 'operate', 'at', 'an', 'average', 'of', '12', ',', '500', 'tons', 'or', 'ore', 'per', 'day', 'and', 'is', 'projected', 'to', 'produce', '95', ',', '000', 'ounces', 'of', 'gold', 'in', '1988', ',', 'plus', 'significant', 'quantities', 'of', 'silver', ',', 'lead', 'and', 'zinc', '.', 'u', '.', 's', '.', 'minerals', 'said', 'it', 'has', 'a', '50', 'pct', 'net', 'profit', 'royalty', 'interest', 'in', 'the', 'mine', 'after', 'payback', 'of', 'development', 'costs', '.', '<END>'], ['<START>', 'gunnar', 'gold', '(', 'ggg', '.', 'to', ')', 'in', 'venture', 'agreement', 'gunnar', 'gold', 'inc', 'said', 'it', 'and', 'mill', 'city', 'gold', 'inc', 'signed', 'an', 'option', 'and', 'joint', 'venture', 'agreement', 'with', 'tyranex', 'gold', 'inc', 'on', 'the', 'tyranite', 'gold', 'property', 'in', 'ontario', '.', 'gunnar', 'said', 'it', 'and', 'mill', 'city', 'can', 'earn', 'a', '50', 'pct', 'interest', 'in', 'tyranex', \"'\", 's', 'option', 'to', 'buy', 'the', 'tyranite', 'gold', 'mine', 'by', 'spending', 'up', 'to', 'five', 'mln', 'dlrs', 'on', 'exploration', ',', 'development', ',', 'and', 'feasibility', 'studies', 'by', '1990', '.', 'it', 'said', 'the', 'companies', 'may', 'form', 'a', 'joint', 'venture', 'partnership', 'to', 'bring', 'the', 'mine', 'to', 'full', 'commercial', 'production', '.', '<END>'], ['<START>', 'gunnar', 'gold', 'in', 'venture', 'agreement', 'gunnar', 'gold', 'inc', 'said', 'it', 'and', 'mill', 'city', 'gold', 'inc', 'signed', 'an', 'option', 'and', 'joint', 'venture', 'agreement', 'with', 'tyranex', 'gold', 'inc', 'on', 'the', 'tyranite', 'gold', 'property', 'in', 'ontario', '.', 'gunnar', 'said', 'it', 'and', 'mill', 'city', 'can', 'earn', 'a', '50', 'pct', 'interest', 'in', 'tyranex', \"'\", 's', 'option', 'to', 'buy', 'the', 'tyranite', 'gold', 'mine', 'by', 'spending', 'up', 'to', 'five', 'mln', 'dlrs', 'on', 'exploration', ',', 'development', ',', 'and', 'feasibility', 'studies', 'by', '1990', '.', 'it', 'said', 'the', 'companies', 'may', 'form', 'a', 'joint', 'venture', 'partnership', 'to', 'bring', 'the', 'mine', 'to', 'full', 'commercial', 'production', '.', '<END>'], ['<START>', 'comex', 'raising', 'margins', 'for', 'gold', 'and', 'copper', 'futures', 'effective', 'at', 'today', \"'\", 's', 'opening', '-', 'official', 'comex', 'raising', 'margins', 'for', 'gold', 'and', 'copper', 'futures', 'effective', 'at', 'today', \"'\", 's', 'opening', '-', 'official', '<END>'], ['<START>', 'sphinx', 'mining', '&', 'lt', ';', 'spnxf', '.', 'o', '>', 'finds', 'gold', 'sphinx', 'mining', 'inc', 'said', 'leased', 'mining', 'claims', 'in', 'alaska', 'could', 'produce', 'revenues', 'between', '322', 'mln', 'dlrs', 'and', '966', 'mln', 'dlrs', 'from', 'gold', 'reserves', '.', 'the', 'range', 'of', 'the', 'value', 'of', 'the', 'reserves', 'is', 'attributed', 'to', 'the', 'wide', 'range', 'of', 'grade', 'estimates', 'of', 'the', 'ore', ',', 'the', 'company', 'said', '.', 'a', '1984', 'feasibility', 'study', 'put', 'the', 'grade', 'at', '0', '.', '008', 'ounces', 'per', 'cubic', 'yard', ',', 'while', 'subsequent', 'exploration', 'work', 'proved', 'that', 'areas', 'of', 'higher', '-', 'grade', 'gravel', 'of', 'up', 'to', '0', '.', '027', 'ounces', '/', 'yard', 'do', 'exist', ',', 'sphinx', 'said', '.', 'the', 'claims', 'are', 'located', '80', 'miles', 'northwest', 'of', 'fairbanks', '.', '<END>'], ['<START>', 'sweden', \"'\", 's', 'boliden', 'to', 'open', 'saudi', 'arabian', 'gold', 'mine', 'mining', 'group', 'boliden', 'ab', 'said', 'it', 'had', 'agreed', 'with', 'saudi', 'state', 'agency', 'general', 'petroleum', 'and', 'mineral', 'organisation', '(', 'petromin', ')', 'to', 'open', 'a', 'gold', 'mine', 'in', 'saudi', 'arabia', 'to', 'exploit', 'one', 'of', 'the', 'world', \"'\", 's', 'richest', 'deposits', 'of', 'the', 'metal', '.', 'boliden', 'spokesman', 'goran', 'paulson', 'told', 'reuters', 'the', 'swedish', 'group', 'would', 'be', 'responsible', 'for', 'the', 'technical', 'side', 'of', 'the', 'operation', 'and', 'would', 'have', 'no', 'control', 'over', 'the', 'product', 'itself', '.', 'he', 'said', 'one', 'option', 'under', 'discussion', 'for', 'refining', 'the', 'gold', 'ore', 'would', 'be', 'to', 'ship', 'it', 'to', 'boliden', \"'\", 's', 'ronnskar', 'copper', 'smelter', 'in', 'northern', 'sweden', '.', 'paulson', 'declined', 'to', 'give', 'a', 'figure', 'for', 'the', 'deal', 'but', 'said', 'it', 'was', 'strategically', 'important', 'since', 'it', 'increased', 'boliden', \"'\", 's', 'presence', 'in', 'saudi', 'arabia', '.', '\"', 'representatives', 'from', 'petromin', 'have', 'visited', 'ronnskar', 'already', '...', 'we', 'see', 'saudi', 'arabia', 'as', 'the', 'expansion', 'area', 'of', 'the', 'future', ',\"', 'he', 'said', '.', 'the', 'new', 'mine', ',', 'which', 'is', 'being', 'developed', 'at', 'mahd', 'adh', 'dhahab', 'in', 'the', 'west', 'of', 'the', 'country', 'and', 'should', 'open', 'in', 'the', 'first', 'half', 'of', '1988', ',', 'would', 'have', 'an', 'annual', 'output', 'of', 'about', '3', ',', '000', 'kilos', 'of', 'gold', 'smelted', 'from', 'around', '120', ',', '000', 'tons', 'of', 'ore', ',', 'he', 'said', '.', 'boliden', 'already', 'owns', '50', 'pct', 'of', 'a', 'gold', 'ore', 'deposit', 'in', 'saudi', 'arabia', ',', 'but', 'the', 'new', 'venture', 'will', 'be', 'the', 'first', 'saudi', 'mine', 'to', 'open', 'in', 'modern', 'times', '.', '\"', 'this', 'is', 'a', 'breakthrough', 'for', 'boliden', \"'\", 's', 'sales', 'of', 'mining', 'technology', 'and', 'knowhow', ',\"', 'said', 'the', 'group', \"'\", 's', 'chief', 'executive', ',', 'kjell', 'nilsson', '.', '<END>'], ['<START>', 'arizona', 'silver', '&', 'lt', ';', 'asc', '>', 'reports', 'on', 'burro', 'creek', 'arizona', 'silver', 'corp', 'said', 'diamond', 'drilling', 'on', 'its', 'burro', 'creek', 'mine', 'property', ',', 'located', '65', 'miles', 'southeast', 'of', 'kingman', ',', 'ariz', '.,', 'has', 'begun', '.', 'the', 'company', 'said', 'a', 'report', 'indicated', 'that', 'the', 'burro', 'creek', 'project', 'area', 'which', 'covers', '800', 'acres', ',', 'could', 'have', 'potential', 'reserves', 'of', 'three', 'to', 'four', 'mln', 'tons', 'of', 'gold', 'and', 'silver', 'mineralization', '.', 'drill', 'sites', 'have', 'been', 'established', 'and', 'a', 'diamond', 'drilling', 'program', 'consisting', 'of', 'an', 'initial', '5', ',', '000', 'feet', 'of', 'drilling', 'began', 'october', '13', ',', 'the', 'company', 'said', '.', '<END>'], ['<START>', 'six', 'killed', 'in', 'south', 'african', 'gold', 'mine', 'accident', 'six', 'black', 'miners', 'have', 'been', 'killed', 'and', 'two', 'injured', 'in', 'a', 'rock', 'fall', 'three', 'km', 'underground', 'at', 'a', 'south', 'african', 'gold', 'mine', ',', 'the', 'owners', 'said', 'on', 'sunday', '.', '&', 'lt', ';', 'rand', 'mines', 'properties', 'ltd', '>,', 'one', 'of', 'south', 'africa', \"'\", 's', 'big', 'six', 'mining', 'companies', ',', 'said', 'in', 'a', 'statement', 'that', 'the', 'accident', 'occurred', 'on', 'saturday', 'morning', 'at', 'the', '&', 'lt', ';', 'east', 'rand', 'proprietary', 'mines', 'ltd', '>', 'mine', 'at', 'boksburg', ',', '25', 'km', 'east', 'of', 'johannesburg', '.', 'a', 'company', 'spokesman', 'could', 'not', 'elaborate', 'on', 'the', 'short', 'statement', '.', '<END>'], ['<START>', 'canamax', ',', 'pacific', 'trans', '-', 'ocean', 'approve', 'production', '&', 'lt', ';', 'canamax', 'resources', 'inc', '>', 'and', '&', 'lt', ';', 'pacific', 'trans', '-', 'ocean', 'resources', 'ltd', '>', 'said', 'they', 'conditionally', 'approved', 'starting', 'production', 'at', 'their', 'jointly', 'owned', 'ketza', 'river', 'gold', 'deposit', 'in', 'the', 'yukon', 'after', 'a', 'study', 'recommended', 'the', 'move', '.', 'they', 'said', 'production', 'was', 'conditional', 'on', 'approval', 'of', 'a', 'water', 'license', 'and', 'arrangement', 'of', 'appropriate', 'financing', '.', 'they', 'estimated', 'development', 'costs', 'for', 'the', 'mine', 'and', 'mill', 'would', 'total', '21', '.', '1', 'mln', 'dlrs', ',', 'including', 'three', 'mln', 'dlrs', 'of', 'working', 'capital', '.', 'the', 'feasibility', 'study', 'anticipated', 'gold', 'production', 'of', '49', ',', '600', 'ounces', 'a', 'year', 'at', 'a', 'cost', 'of', '129', 'canadian', 'dlrs', 'a', 'short', 'ton', ',', 'they', 'said', '.', 'canamax', 'and', 'pacific', 'trans', '-', 'ocean', 'said', 'the', 'project', 'would', 'yield', 'a', '40', 'pct', 'after', '-', 'tax', 'real', 'rate', 'of', 'return', 'at', 'a', 'gold', 'price', 'of', '400', 'u', '.', 's', '.', 'dlrs', 'an', 'ounce', '.', 'they', 'said', 'they', 'would', 'mine', '460', ',', '000', 'tonnes', 'of', 'proven', 'and', 'probable', 'mineable', 'reserves', 'of', 'oxide', 'ore', 'grading', '0', '.', '45', 'ounce', 'gold', 'ton', 'at', 'a', 'yearly', 'rate', 'of', '112', ',', '000', 'tonnes', 'for', 'a', 'mine', 'life', 'of', '4', '.', '25', 'years', '.', 'possible', 'reserves', 'of', '75', ',', '000', 'tonnes', 'grading', '0', '.', '38', 'ounce', 'gold', 'ton', 'at', 'the', 'break', 'zone', 'would', 'extend', 'mine', 'life', 'by', 'a', 'year', ',', 'with', 'considerable', 'potential', 'for', 'development', 'of', 'further', 'oxide', 'ore', 'reserves', 'at', 'the', 'deposit', ',', 'they', 'said', '.', '<END>'], ['<START>', 'gold', 'production', 'to', 'start', 'at', 'ketza', 'river', 'canamax', 'resources', 'inc', 'and', 'pacific', 'trans', '-', 'ocean', 'resources', 'ltd', 'said', 'they', 'conditionally', 'approved', 'starting', 'production', 'at', 'their', 'jointly', 'owned', 'ketza', 'river', 'gold', 'deposit', 'in', 'the', 'yukon', 'after', 'a', 'study', 'recommended', 'the', 'move', '.', 'they', 'said', 'production', 'was', 'conditional', 'on', 'approval', 'of', 'a', 'water', 'license', 'and', 'arrangement', 'of', 'appropriate', 'financing', '.', 'they', 'estimated', 'development', 'costs', 'for', 'the', 'mine', 'and', 'mill', 'would', 'total', '21', '.', '1', 'mln', 'dlrs', ',', 'including', 'three', 'mln', 'dlrs', 'of', 'working', 'capital', '.', 'the', 'feasibility', 'study', 'anticipated', 'gold', 'production', 'of', '49', ',', '600', 'ounces', 'a', 'year', 'at', 'a', 'cost', 'of', '129', 'canadian', 'dlrs', 'a', 'short', 'ton', ',', 'they', 'said', '.', 'canamax', 'and', 'pacific', 'trans', '-', 'ocean', 'said', 'the', 'project', 'would', 'yield', 'a', '40', 'pct', 'after', '-', 'tax', 'real', 'rate', 'of', 'return', 'at', 'a', 'gold', 'price', 'of', '400', 'u', '.', 's', '.', 'dlrs', 'an', 'ounce', '.', 'they', 'said', 'they', 'would', 'mine', '460', ',', '000', 'tonnes', 'of', 'proven', 'and', 'probable', 'mineable', 'reserves', 'of', 'oxide', 'ore', 'grading', '0', '.', '45', 'ounce', 'gold', 'per', 'ton', 'at', 'a', 'yearly', 'rate', 'of', '112', ',', '000', 'tonnes', 'for', 'a', 'mine', 'life', 'of', '4', '.', '25', 'years', '.', 'possible', 'reserves', 'of', '75', ',', '000', 'tonnes', 'grading', '0', '.', '38', 'ounce', 'gold', 'per', 'ton', 'at', 'the', 'break', 'zone', 'would', 'extend', 'mine', 'life', 'by', 'a', 'year', ',', 'with', 'considerable', 'potential', 'for', 'development', 'of', 'further', 'oxide', 'ore', 'reserves', 'at', 'the', 'deposit', ',', 'they', 'said', '.', '<END>'], ['<START>', 'pegasus', 'gold', '&', 'lt', ';', 'pgulf', '>', 'starts', 'milling', 'in', 'montana', 'pegasus', 'gold', 'inc', 'said', 'milling', 'operations', 'have', 'started', 'at', 'its', 'montana', 'tunnels', 'open', '-', 'pit', 'gold', ',', 'silver', ',', 'zinc', 'and', 'lead', 'mine', 'near', 'helena', '.', 'the', 'start', '-', 'up', 'is', 'three', 'months', 'ahead', 'of', 'schedule', 'and', 'six', 'mln', 'dlrs', 'under', 'budget', ',', 'the', 'company', 'said', '.', 'original', 'capital', 'cost', 'of', 'the', 'mine', 'was', '57', '.', '5', 'mln', 'dlrs', ',', 'but', 'came', 'in', 'at', '51', '.', '5', 'mln', 'dlrs', ',', 'the', 'company', 'said', '.', 'after', 'a', 'start', '-', 'up', 'period', ',', 'the', 'mill', 'is', 'expected', 'to', 'produce', '106', ',', '000', 'ounces', 'of', 'gold', ',', '1', ',', '700', ',', '000', 'ounces', 'of', 'silver', ',', '26', ',', '000', 'tons', 'of', 'zinc', 'and', '5', ',', '700', 'tons', 'of', 'lead', 'on', 'an', 'annual', 'basis', 'from', '4', ',', '300', ',', '000', 'tons', 'of', 'ore', ',', 'the', 'company', 'said', '.', '<END>'], ['<START>', 'talking', 'point', '/', 'gold', 'the', 'price', 'of', 'gold', 'bullion', 'and', 'share', 'prices', 'of', 'north', 'american', 'gold', 'stocks', 'are', 'benefiting', 'from', 'continued', 'weakness', 'in', 'the', 'u', '.', 's', '.', 'dollar', ',', 'analysts', 'said', '.', '\"', 'there', \"'\", 's', 'been', 'a', 'tug', 'of', 'war', 'between', 'the', '(', 'currency', ')', 'speculators', 'and', 'the', 'central', 'banks', 'over', 'the', 'u', '.', 's', '.', 'dollar', 'and', 'it', 'looks', 'like', 'the', 'game', 'has', 'gone', 'to', 'the', 'speculators', ',\"', 'said', 'john', 'ing', 'at', 'maison', 'placements', 'canada', 'inc', '.', 'the', 'dollar', 'remained', 'close', 'to', 'post', '-', 'world', 'war', 'ii', 'lows', 'today', 'against', 'the', 'japanese', 'yen', 'despite', 'buying', 'by', 'several', 'central', 'banks', ',', 'including', 'the', 'federal', 'reserve', ',', 'dealers', 'said', '.', 'a', 'drop', 'in', 'the', 'dollar', 'means', 'uncertainty', 'and', 'gold', 'is', 'the', 'traditional', 'hedge', 'against', 'uncertainty', ',', 'ing', 'noted', '.', 'another', 'analyst', ',', 'richard', 'cohen', 'at', 'brown', 'baldwin', 'nisker', 'ltd', ',', 'noted', 'that', '\"', 'a', 'lot', 'of', 'foreign', 'investors', 'are', 'holding', 'u', '.', 's', '.', 'dollars', '.', 'if', 'they', 'see', 'they', 'are', 'losing', 'money', ',', 'they', 'move', 'back', 'into', 'gold', '.\"', 'a', 'dollar', 'decline', 'also', 'has', 'inflationary', 'implications', ',', 'ing', 'said', ',', 'adding', 'that', 'maison', 'placements', 'sees', 'inflation', 'rising', 'to', 'a', 'four', 'pct', 'annual', 'rate', 'from', 'the', 'current', 'level', 'of', 'about', 'three', 'pct', '.', 'ing', 'predicts', 'gold', 'will', 'peak', 'at', '510', 'dlrs', 'this', 'year', 'from', 'its', 'current', 'level', 'of', 'about', '416', 'dlrs', 'per', 'ounce', '.', 'cohen', 'sees', 'an', 'average', 'price', 'of', '425', 'dlrs', ',', 'and', 'another', 'analyst', ',', 'michael', 'pickens', ',', 'at', 'yorkton', 'securities', ',', 'puts', 'the', 'average', 'at', '450', 'dlrs', ',', 'with', 'a', 'possible', 'spike', 'above', '500', 'dlrs', '.', 'however', ',', 'gold', 'stocks', 'in', 'the', 'u', '.', 's', '.', 'and', 'canada', 'have', 'risen', 'far', 'faster', 'in', 'recent', 'months', 'than', 'the', 'price', 'of', 'the', 'metal', 'itself', ',', 'causing', 'concern', 'among', 'analysts', 'that', 'a', 'correction', 'lies', 'somewhere', 'in', 'the', 'future', '.', 'but', 'for', 'now', ',', 'all', 'analysts', 'say', 'there', 'is', 'no', 'sign', 'the', 'buying', 'pressure', 'is', 'slowing', 'down', '.', '\"', 'the', 'stocks', 'have', 'run', 'an', 'incredible', 'way', ',\"', 'cohen', 'said', '.', 'on', 'u', '.', 's', '.', 'markets', 'today', ',', 'asa', 'ltd', '&', 'lt', ';', 'asa', '>', 'rose', '4', '-', '1', '/', '8', 'to', '61', '-', '1', '/', '2', ',', 'campbell', 'red', 'lake', 'mines', '&', 'lt', ';', 'crk', '>', 'was', 'up', '1', '-', '3', '/', '8', 'and', 'newmont', 'gold', '&', 'lt', ';', 'ngc', '>', 'increased', '1', '-', '1', '/', '2', 'to', '31', '-', '1', '/', '4', '.', 'the', 'toronto', 'stock', 'exchange', 'gold', 'index', 'today', 'was', 'up', '268', 'points', 'at', '8067', '.', '90', '.', 'hemlo', 'gold', 'gained', '1', '-', '1', '/', '4', 'at', '26', '-', '3', '/', '4', ',', 'lac', 'minerals', 'was', 'up', '1', '-', '5', '/', '8', 'at', '41', ',', 'placer', 'development', 'rose', '1', '-', '1', '/', '4', 'at', '43', '-', '3', '/', '8', 'and', 'lacana', 'mining', 'gained', '1', 'at', '18', '.', 'ing', 'pointed', 'out', 'that', 'the', 'tse', 'gold', 'index', 'has', 'gained', '51', 'pct', 'since', 'december', '31', ',', '1986', ',', 'while', 'the', 'price', 'of', 'bullion', 'has', 'increased', 'six', 'pct', '.', '\"', 'canadian', 'golds', 'have', 'been', 'the', 'top', 'performing', 'index', 'this', 'year', ',\"', 'he', 'noted', '.', 'in', 'the', 'u', '.', 's', '.,', 'there', 'is', '\"', 'too', 'much', 'money', 'chasing', 'too', 'few', 'stocks', ',\"', 'pickens', 'said', '.', 'and', 'many', 'investing', 'institutions', 'such', 'as', 'pension', 'funds', 'and', 'insurance', 'companies', 'still', 'have', 'excess', 'cash', ',', 'he', 'added', '.', 'cohen', 'also', 'noted', 'that', 'today', \"'\", 's', 'silver', 'price', 'break', 'through', 'six', 'dlrs', 'an', 'ounce', 'indicates', 'small', 'investors', 'are', 'entering', 'the', 'precious', 'metals', 'market', 'and', 'he', 'expects', 'the', 'ratio', 'between', 'gold', 'and', 'silver', 'prices', 'to', 'narrow', '.', '<END>'], ['<START>', 'peru', 'says', 'new', 'gold', 'deposits', 'worth', '1', '.', '3', 'billion', 'dlrs', 'president', 'alan', 'garcia', 'said', 'peru', 'has', 'found', 'gold', 'deposits', 'worth', 'an', 'estimated', '1', '.', '3', 'billion', 'dlrs', 'in', 'a', 'jungle', 'region', 'near', 'the', 'ecuadorean', 'border', 'about', '1', ',', '000', 'km', 'north', 'of', 'here', '.', 'he', 'told', 'reporters', 'the', 'deposits', ',', 'located', 'at', 'four', 'sites', 'near', 'the', 'town', 'of', 'san', 'ignasio', ',', 'contained', 'the', 'equivalent', 'of', '100', 'tonnes', 'of', 'gold', '.', 'garcia', 'said', 'the', 'government', 'would', 'soon', 'install', 'a', 'two', 'mln', 'dlr', 'treatment', 'plant', 'at', 'tomaque', '.', 'it', 'will', 'extract', 'enough', 'ore', 'to', 'provide', 'an', 'estimated', '25', 'mln', 'dlr', 'profit', 'by', 'the', 'end', 'of', 'this', 'year', ',', 'he', 'added', '.', 'garcia', 'said', 'the', 'other', 'gold', '-', 'bearing', 'deposits', 'are', 'located', 'at', 'tamborapa', ',', 'pachapidiana', 'and', 'a', 'zone', 'between', 'the', 'cenepa', 'and', 'santiago', 'rivers', '.', '<END>'], ['<START>', 'lac', '&', 'lt', ';', 'lac', '>', 'intersects', 'more', 'gold', 'at', 'doyon', 'mine', 'lac', 'minerals', 'ltd', 'and', '&', 'lt', ';', 'cambior', 'inc', '>', 'said', 'they', 'completed', 'a', 'second', 'hole', 'at', 'their', 'jointly', 'owned', 'doyon', 'mine', 'in', 'quebec', ',', 'which', 'showed', 'two', 'significant', 'gold', 'intersections', '.', 'one', 'intersection', 'graded', '0', '.', '33', 'ounce', 'gold', 'a', 'short', 'ton', 'over', '44', 'feet', 'at', 'depth', 'of', '1', ',', '411', 'feet', ',', 'while', 'the', 'other', 'graded', '0', '.', '22', 'ounce', 'gold', 'a', 'ton', 'over', '23', 'feet', 'at', '2', ',', '064', 'feet', ',', 'the', 'companies', 'said', '.', 'the', 'hole', 'is', '460', 'feet', 'east', 'of', 'the', 'previously', 'reported', 'first', 'hole', '.', 'they', 'said', 'they', 'were', 'now', 'drilling', 'another', 'hole', '460', 'feet', 'to', 'the', 'west', 'of', 'the', 'first', 'drill', 'hole', 'and', 'expected', 'to', 'report', 'results', 'in', 'late', 'march', 'or', 'early', 'april', '.', '<END>'], ['<START>', 'peru', 'announces', 'large', 'new', 'gold', 'find', 'president', 'alan', 'garcia', 'said', 'peru', 'has', 'found', 'gold', 'deposits', 'worth', 'an', 'estimated', '1', '.', '3', 'billion', 'dlrs', 'in', 'a', 'jungle', 'region', 'near', 'the', 'ecuadorean', 'border', 'about', '1', ',', '000', 'km', 'north', 'of', 'here', '.', 'he', 'told', 'reporters', 'yesterday', 'the', 'deposits', ',', 'located', 'at', 'four', 'sites', 'near', 'the', 'town', 'of', 'san', 'ignasio', ',', 'contained', 'the', 'equivalent', 'of', '100', 'tonnes', 'of', 'gold', '.', 'garcia', 'said', 'the', 'government', 'would', 'soon', 'install', 'a', 'two', 'mln', 'dlr', 'treatment', 'plant', 'at', 'tomaque', '.', 'it', 'will', 'extract', 'enough', 'ore', 'to', 'provide', 'an', 'estimated', '25', 'mln', 'dlr', 'profit', 'by', 'the', 'end', 'of', 'this', 'year', ',', 'he', 'added', '.', 'garcia', 'said', 'the', 'other', 'gold', '-', 'bearing', 'deposits', 'are', 'located', 'at', 'tamborapa', ',', 'pachapidiana', ',', 'and', 'a', 'zone', 'between', 'the', 'cenepa', 'and', 'santiago', 'rivers', '.', '<END>'], ['<START>', 'more', 'gold', 'detected', 'at', 'doyon', 'mine', 'lac', 'minerals', 'ltd', 'and', 'cambior', 'inc', 'said', 'they', 'completed', 'a', 'second', 'hole', 'at', 'their', 'jointly', 'owned', 'doyon', 'mine', 'in', 'quebec', ',', 'which', 'showed', 'two', 'significant', 'gold', 'intersections', '.', 'one', 'intersection', 'graded', '0', '.', '33', 'ounce', 'gold', 'per', 'short', 'ton', 'over', '44', 'feet', 'at', 'depth', 'of', '1', ',', '411', 'feet', ',', 'while', 'the', 'other', 'graded', '0', '.', '22', 'ounce', 'gold', 'per', 'ton', 'over', '23', 'feet', 'at', '2', ',', '064', 'feet', ',', 'the', 'companies', 'said', '.', 'the', 'hole', 'is', '460', 'feet', 'east', 'of', 'the', 'previously', 'reported', 'first', 'hole', '.', 'another', 'hole', 'is', 'being', 'drilled', '460', 'feet', 'to', 'the', 'west', 'of', 'the', 'first', 'drill', 'hole', 'and', 'results', 'are', 'expected', 'in', 'late', 'march', 'or', 'early', 'april', '.', '<END>'], ['<START>', '&', 'lt', ';', 'cornucopia', 'resources', 'ltd', '>', 'in', 'drilling', 'program', 'cornucopia', 'resources', 'ltd', 'said', 'an', 'extensive', 'drill', 'and', 'sampling', 'program', 'will', 'begin', 'in', 'mid', '-', 'april', 'at', 'its', 'ivanhoe', 'gold', 'property', 'in', 'north', 'central', 'nevada', '.', 'it', 'said', 'it', 'will', 'seek', 'to', 'increase', 'the', 'present', 'reserves', 'of', 'eight', 'mln', 'short', 'tons', 'grading', '0', '.', '045', 'ounce', 'of', 'gold', 'per', 'ton', 'that', 'had', 'been', 'found', 'by', 'usx', 'corp', '&', 'lt', ';', 'x', '>', 'on', 'a', 'small', 'portion', 'of', 'the', '13', ',.', '000', 'acre', 'property', ',', 'determine', 'the', 'location', 'of', 'possible', 'high', '-', 'grade', 'ore', 'zones', 'at', 'depth', 'and', 'test', 'other', 'targets', '.', '<END>'], ['<START>', 'city', 'resources', '&', 'lt', ';', 'ccimf', '>', 'to', 'sell', 'property', 'stake', 'city', 'resources', 'ltd', 'said', 'it', 'has', 'agreed', 'in', 'principle', 'to', 'sell', 'a', '50', 'pct', 'interest', 'in', 'a', 'group', 'of', 'mineral', 'properties', 'in', 'the', 'southwest', 'pacific', 'to', 'a', 'buyer', 'it', 'did', 'not', 'name', 'for', '30', 'mln', 'canadian', 'dlrs', '.', 'the', 'company', 'said', 'a', 'preliminary', 'estimate', 'of', 'the', 'geological', 'resources', 'of', 'one', 'of', 'the', 'properties', 'to', 'a', 'depth', 'of', '200', 'meters', 'indicates', 'a', 'potential', 'of', '1', '.', '2', 'mln', 'ounces', 'of', 'gold', ',', 'and', 'by', 'the', 'middle', 'of', '1987', 'it', 'expects', 'to', 'establish', 'proven', 'ore', 'reserves', 'containing', 'at', 'least', '500', ',', '000', 'ounces', 'of', 'gold', '.', 'it', 'said', 'mining', 'could', 'start', 'in', '1988', ',', 'subject', 'to', 'a', 'satisfactory', 'prefeasibility', 'study', '.', 'the', 'company', 'said', 'completion', 'of', 'the', 'transaction', 'is', 'subject', 'to', 'regulatory', 'and', 'shareholder', 'approvals', '.', 'city', 'resources', 'is', 'controlled', 'by', 'city', 'resources', 'ltd', 'of', 'australia', '.', '<END>'], ['<START>', 'city', 'resources', 'to', 'sell', 'gold', 'property', 'stake', 'city', 'resources', 'ltd', 'said', 'it', 'has', 'agreed', 'in', 'principle', 'to', 'sell', 'a', '50', 'pct', 'interest', 'in', 'a', 'group', 'of', 'mineral', 'properties', 'in', 'the', 'southwest', 'pacific', 'to', 'a', 'buyer', 'it', 'did', 'not', 'name', 'for', '30', 'mln', 'canadian', 'dlrs', '.', 'the', 'company', 'said', 'a', 'preliminary', 'estimate', 'of', 'the', 'geological', 'resources', 'of', 'one', 'of', 'the', 'properties', 'to', 'a', 'depth', 'of', '200', 'meters', 'indicates', 'a', 'potential', 'of', '1', '.', '2', 'mln', 'ounces', 'of', 'gold', ',', 'and', 'by', 'the', 'middle', 'of', '1987', 'it', 'expects', 'to', 'establish', 'proven', 'ore', 'reserves', 'containing', 'at', 'least', '500', ',', '000', 'ounces', 'of', 'gold', '.', 'mining', 'could', 'start', 'in', '1988', ',', 'subject', 'to', 'a', 'satisfactory', 'feasibility', 'study', '.', 'the', 'company', 'said', 'completion', 'of', 'the', 'transaction', 'is', 'subject', 'to', 'regulatory', 'and', 'shareholder', 'approvals', '.', 'city', 'resources', 'is', 'controlled', 'by', 'city', 'resources', 'ltd', 'of', 'australia', '.', '<END>'], ['<START>', 'echo', 'bay', 'has', 'nevada', 'gold', 'discovery', 'echo', 'bay', 'mines', 'ltd', 'said', 'it', 'discovered', 'a', 'gold', 'deposit', 'in', 'the', 'cove', 'area', 'near', 'its', 'mccoy', 'gold', 'mine', 'in', 'nevada', '.', 'echo', 'bay', 'said', 'it', 'encountered', 'gold', 'in', '39', 'of', '42', 'drill', 'holes', 'at', 'cove', '.', 'it', 'said', 'seven', 'holes', 'averaged', '0', '.', '185', 'ounce', 'gold', 'a', 'short', 'ton', 'and', '1', '.', '8', 'ounces', 'of', 'silver', ',', 'with', 'the', 'seven', 'intersections', 'averaging', '118', 'feet', 'in', 'thickness', 'beneath', '25', 'feet', 'of', 'overburden', '.', 'the', 'discovery', 'is', 'on', 'the', 'mccoy', 'property', ',', 'one', 'mile', 'northeast', 'of', 'the', 'mccoy', 'open', 'pit', ',', 'heap', 'leach', 'gold', 'mine', ',', 'which', 'is', 'expected', 'to', 'produce', 'about', '85', ',', '000', 'ounces', 'of', 'gold', 'this', 'year', ',', 'echo', 'bay', 'said', '.', '<END>'], ['<START>', 'echo', 'bay', '&', 'lt', ';', 'eco', '>', 'has', 'nevada', 'gold', 'discovery', 'echo', 'bay', 'mines', 'ltd', 'said', 'it', 'discovered', 'a', 'gold', 'deposit', 'in', 'the', 'cove', 'area', 'near', 'its', 'mccoy', 'gold', 'mine', 'in', 'nevada', '.', 'echo', 'bay', 'said', 'it', 'encountered', 'gold', 'in', '39', 'of', '42', 'drill', 'holes', 'at', 'cove', '.', 'it', 'said', 'seven', 'holes', 'averaged', '0', '.', '185', 'ounce', 'gold', 'a', 'short', 'ton', 'and', '1', '.', '8', 'ounces', 'of', 'silver', ',', 'with', 'the', 'seven', 'intersections', 'averaging', '118', 'feet', 'in', 'thickness', 'beneath', '25', 'feet', 'of', 'overburden', '.', 'the', 'discovery', 'is', 'on', 'the', 'mccoy', 'property', ',', 'one', 'mile', 'northeast', 'of', 'the', 'mccoy', 'open', 'pit', ',', 'heap', 'leach', 'gold', 'mine', ',', 'which', 'is', 'expected', 'to', 'produce', 'about', '85', ',', '000', 'ounces', 'of', 'gold', 'this', 'year', ',', 'echo', 'bay', 'said', '.', '<END>'], ['<START>', 'proposed', 'japan', 'tax', 'may', 'dampen', 'tokyo', 'gold', 'trading', 'a', 'proposed', 'sales', 'tax', 'on', 'gold', 'transactions', 'could', 'put', 'a', 'damper', 'on', 'the', 'tokyo', 'market', 'and', 'encourage', 'a', 'shift', 'of', 'trading', 'to', 'hong', 'kong', 'and', 'singapore', ',', 'senior', 'vice', 'president', 'and', 'tokyo', 'branch', 'manager', 'of', 'credit', 'suisse', 'paul', 'hofer', 'told', 'a', 'press', 'conference', '.', '\"', 'if', 'you', 'impose', 'five', 'pct', 'on', 'both', 'buy', 'and', 'sell', 'transactions', ',', 'tokyo', 'participants', 'in', 'the', 'gold', 'market', 'could', 'be', 'out', 'of', 'business', ',\"', 'he', 'said', '.', 'the', 'tax', 'would', 'create', 'such', 'a', 'spread', 'that', 'japanese', 'would', 'be', 'unable', 'to', 'compete', 'in', 'the', 'international', 'market', ',', 'he', 'added', '.', '\"', 'how', 'can', 'the', 'government', 'really', 'raise', 'taxes', 'if', 'the', 'system', 'they', 'impose', 'is', 'prohibitive', 'of', 'generating', 'business', '?\"', 'he', 'said', '.', 'the', 'government', 'now', 'imposes', 'a', '15', 'pct', 'tax', 'on', 'physical', 'trades', 'exceeding', '37', ',', '500', 'yen', 'for', 'gold', 'jewellery', 'and', 'coins', 'and', 'a', '2', '.', '5', 'yen', 'tax', 'per', '10', ',', '000', 'yen', 'on', 'futures', 'transactions', ',', 'gold', 'dealers', 'said', '.', 'the', 'new', 'five', 'pct', 'tax', 'would', 'be', 'imposed', 'on', 'companies', 'trading', 'more', 'than', '100', 'mln', 'yen', 'a', 'year', 'and', 'apply', 'to', 'paper', 'gold', 'trades', ',', 'gold', 'deposits', 'with', 'banks', 'and', 'trading', 'of', 'gold', 'bars', 'as', 'well', 'as', 'that', 'of', 'jewellery', 'and', 'coins', ',', 'dealers', 'said', '.', 'however', ',', 'the', 'tax', 'would', 'lower', 'the', 'rate', 'on', 'jewellery', 'and', 'coins', 'to', 'only', 'five', 'pct', 'from', 'the', 'current', '15', 'pct', ',', 'they', 'said', '.', 'hofer', 'said', 'in', '1982', 'switzerland', 'had', 'imposed', 'a', '5', '.', '6', 'pct', 'gold', 'turnover', 'tax', 'on', 'jan', '1', ',', '1980', ',', 'but', 'abolished', 'it', 'on', 'oct', '1', ',', '1986', '.', 'a', 'study', 'by', 'one', 'of', 'the', 'swiss', 'banks', 'showed', 'that', 'in', 'early', '1980', ',', 'the', 'first', 'year', 'of', 'the', 'tax', ',', 'the', 'volume', 'for', 'all', 'swiss', 'banks', 'fell', 'by', 'up', 'to', '25', 'pct', 'compared', 'with', '1978', 'and', '1979', ',', 'hofer', 'said', '.', 'transactions', 'of', 'paper', 'gold', 'also', 'fell', 'up', 'to', '75', 'pct', 'of', 'the', 'volume', 'prior', 'to', 'imposition', 'of', 'the', 'tax', ',', 'he', 'said', '.', 'while', 'gold', 'transactions', 'in', 'switzerland', 'decreased', ',', 'the', 'volume', 'of', 'trades', 'outside', 'the', 'country', ',', 'particularly', 'in', 'london', 'and', 'luxembourg', ',', 'increased', 'between', '10', '-', '25', 'pct', ',', 'hofer', 'said', '.', 'japan', 'is', 'a', 'major', 'importer', 'of', 'gold', ',', 'buying', 'a', 'yearly', 'average', 'just', 'under', '200', 'tonnes', ',', 'gold', 'dealers', 'said', '.', 'last', 'year', 'japan', 'imported', 'about', '600', 'tonnes', 'of', 'gold', ',', 'but', 'the', 'government', 'had', 'bought', 'about', '300', 'tonnes', 'for', 'minting', 'coins', 'to', 'commemorate', 'the', '60th', 'year', 'of', 'emperor', 'hirohito', \"'\", 's', 'reign', ',', 'dealers', 'said', '.', 'gold', 'trading', 'in', 'tokyo', 'is', 'dominated', 'mainly', 'by', 'japanese', 'trading', 'companies', ',', 'while', 'credit', 'suisse', 'is', 'the', 'major', 'foreign', 'participant', '.', 'daily', 'turnover', 'in', 'the', 'tokyo', 'spot', 'market', 'ranges', 'between', 'one', 'and', '10', 'tonnes', 'with', 'the', 'average', 'around', 'three', 'tonnes', ',', 'while', 'futures', 'turnover', 'amounts', 'to', 'about', 'four', 'tonnes', ',', 'gold', 'dealers', 'said', '.', '\"', 'all', 'of', 'us', 'are', 'concerned', 'daily', 'with', 'the', 'fact', 'that', 'the', 'tokyo', 'market', 'is', 'growing', ',', 'that', 'japan', 'is', 'becoming', 'one', 'of', 'the', 'three', 'major', 'financial', 'markets', 'in', 'the', 'world', '...', 'and', 'in', 'my', 'personal', 'opinion', 'i', 'think', 'it', 'would', 'be', 'a', 'very', 'big', 'mistake', 'to', 'put', 'a', 'damper', 'on', 'this', 'positive', 'growth', 'or', 'developments', 'by', 'imposing', 'such', 'a', 'tax', ',\"', 'hofer', 'said', '.', '\"', 'i', 'don', \"'\", 't', 'think', 'it', 'fits', 'the', 'philosophy', 'of', 'an', 'internationalising', 'market', ',\"', 'he', 'added', '.', 'officials', 'of', 'several', 'major', 'japanese', 'trading', 'houses', ',', 'attending', 'the', 'press', 'conference', ',', 'said', 'they', 'supported', 'credit', 'suisse', \"'\", 's', 'call', 'for', 'the', 'government', 'not', 'to', 'impose', 'the', 'gold', 'tax', '.', '<END>'], ['<START>', 'precious', 'metals', 'climate', 'improving', ',', 'says', 'montagu', 'the', 'climate', 'for', 'precious', 'metals', 'is', 'improving', 'with', 'prices', 'benefiting', 'from', 'renewed', 'inflation', 'fears', 'and', 'the', 'switching', 'of', 'funds', 'from', 'dollar', 'and', 'stock', 'markets', ',', 'brokers', 'samuel', 'montagu', 'and', 'co', 'ltd', 'said', '.', 'silver', 'prices', 'in', 'march', 'gained', 'some', '15', 'pct', 'in', 'dlr', 'terms', 'due', 'to', 'a', 'weak', 'dollar', 'and', 'silver', 'is', 'felt', 'to', 'be', 'fairly', 'cheap', 'relative', 'to', 'gold', ',', 'montagu', 'said', 'in', 'its', 'monthly', 'silver', 'newsletter', '.', 'in', 'march', 'the', 'gold', '/', 'silver', 'ratio', 'narrowed', 'from', '74', 'to', 'less', 'than', '67', '.', 'the', 'supply', '/', 'demand', 'position', 'has', 'improved', 'in', 'the', 'past', 'year', ',', 'and', 'despite', 'a', 'silver', 'market', 'surplus', ',', 'the', 'quantity', 'of', 'silver', 'is', 'modest', 'enough', 'to', 'be', 'absorbed', 'by', 'investors', ',', 'it', 'added', '.', 'the', 'report', 'said', 'the', 'firmness', 'in', 'oil', 'prices', 'was', 'likely', 'to', 'continue', 'in', 'the', 'short', 'term', '.', 'a', 'period', 'of', 'consolidation', 'might', 'be', 'necessary', 'before', 'prices', 'attempted', 'to', 'move', 'significantly', 'higher', ',', 'it', 'said', ',', 'but', 'so', 'long', 'as', 'the', 'dollar', 'remains', 'under', 'pressure', 'then', 'the', 'outlook', 'for', 'silver', 'was', 'positive', '.', 'however', 'silver', 'was', 'less', 'likely', 'to', 'continue', 'to', 'outpace', 'the', 'other', 'metals', 'by', 'such', 'a', 'margin', ',', 'montagu', 'said', '.', '<END>'], ['<START>', 'precious', 'metals', 'climate', 'improving', ',', 'says', 'montagu', 'the', 'climate', 'for', 'precious', 'metals', 'is', 'improving', 'with', 'prices', 'benefiting', 'from', 'renewed', 'inflation', 'fears', 'and', 'the', 'switching', 'of', 'funds', 'from', 'dollar', 'and', 'stock', 'markets', ',', 'brokers', 'samuel', 'montagu', 'and', 'co', 'ltd', 'said', '.', 'silver', 'prices', 'in', 'march', 'gained', 'some', '15', 'pct', 'in', 'dlr', 'terms', 'due', 'to', 'a', 'weak', 'dollar', 'and', 'silver', 'is', 'felt', 'to', 'be', 'fairly', 'cheap', 'relative', 'to', 'gold', ',', 'montagu', 'said', 'in', 'its', 'monthly', 'silver', 'newsletter', '.', 'in', 'march', 'the', 'gold', '/', 'silver', 'ratio', 'narrowed', 'from', '74', 'to', 'less', 'than', '67', '.', 'the', 'supply', '/', 'demand', 'position', 'has', 'improved', 'in', 'the', 'past', 'year', ',', 'and', 'despite', 'a', 'silver', 'market', 'surplus', ',', 'the', 'quantity', 'of', 'silver', 'is', 'modest', 'enough', 'to', 'be', 'absorbed', 'by', 'investors', ',', 'it', 'added', '.', 'the', 'report', 'said', 'the', 'firmness', 'in', 'oil', 'prices', 'was', 'likely', 'to', 'continue', 'in', 'the', 'short', 'term', '.', 'a', 'period', 'of', 'consolidation', 'might', 'be', 'necessary', 'before', 'prices', 'attempted', 'to', 'move', 'significantly', 'higher', ',', 'it', 'said', ',', 'but', 'so', 'long', 'as', 'the', 'dollar', 'remains', 'under', 'pressure', 'then', 'the', 'outlook', 'for', 'silver', 'was', 'positive', '.', 'however', 'silver', 'was', 'less', 'likely', 'to', 'continue', 'to', 'outpace', 'the', 'other', 'metals', 'by', 'such', 'a', 'margin', ',', 'montagu', 'said', '.', '<END>'], ['<START>', 'industrial', 'action', 'ends', 'at', 'south', 'african', 'mine', 'about', '8', ',', '000', 'black', 'miners', 'returned', 'to', 'work', 'after', 'a', 'week', '-', 'long', 'industrial', 'action', 'at', 'south', 'africa', \"'\", 's', 'largest', 'gold', 'mine', ',', 'mine', 'owner', 'anglo', 'american', 'corp', 'of', 'south', 'africa', 'ltd', '&', 'lt', ';', 'angl', '.', 'j', '>', 'said', '.', 'a', 'spokesman', 'for', 'the', 'mining', 'house', 'said', 'the', 'action', 'started', 'on', 'wednesday', 'last', 'week', 'when', 'thousands', 'of', 'miners', 'staged', 'a', 'go', '-', 'slow', 'at', 'one', 'underground', 'shaft', 'of', 'the', 'free', 'state', 'geduld', 'division', 'of', 'free', 'state', 'consolidated', 'gold', 'mines', 'ltd', '&', 'lt', ';', 'fscn', '.', 'j', '>.', 'the', 'action', 'later', 'escalated', 'into', 'an', 'underground', 'sit', '-', 'in', 'at', 'the', 'mine', 'over', 'the', 'weekend', ',', 'prompting', 'management', 'to', 'close', 'the', 'affected', 'shaft', 'because', 'of', 'what', 'the', 'company', 'described', 'as', '\"', 'the', 'creation', 'of', 'unsafe', 'working', 'conditions', '.\"', 'anglo', 'american', 'spokesman', 'john', 'kingsley', '-', 'jones', 'said', 'the', 'company', 'held', 'talks', 'with', 'the', 'national', 'union', 'of', 'mineworkers', '(', 'num', '),', 'south', 'africa', \"'\", 's', 'biggest', 'trade', 'union', 'which', 'claims', 'a', 'membership', 'of', '360', ',', '000', 'black', 'workers', ',', 'but', 'failed', 'to', 'establish', 'the', 'cause', 'of', 'worker', 'dissatisfaction', '.', 'he', 'acknowledged', 'that', 'the', 'mine', 'suffered', 'a', 'loss', 'of', 'production', ',', 'but', 'declined', 'to', 'give', 'estimates', '.', 'free', 'state', 'consolidated', 'last', 'year', 'produced', '104', 'tonnes', 'of', 'gold', 'from', '28', 'underground', 'shafts', '.', 'the', 'num', 'was', 'not', 'immediately', 'available', 'for', 'comment', 'on', 'the', 'action', '.', 'but', 'a', 'spokesman', 'for', 'the', 'union', 'earlier', 'told', 'the', 'south', 'african', 'press', 'association', 'that', 'miners', 'had', 'been', 'locked', 'out', 'of', 'the', 'mine', 'at', 'the', 'weekend', 'after', 'staging', 'a', 'strike', 'in', 'protest', 'against', 'being', 'ordered', 'to', 'carry', 'bags', 'containing', 'explosives', 'as', 'well', 'as', 'food', 'for', 'white', 'miners', '.', '<END>'], ['<START>', 'cbt', 'metals', '/', 'financials', 'delivery', 'locations', 'the', 'following', 'deliveries', 'are', 'scheduled', 'for', 'april', '6', 'against', 'chicago', 'baord', 'of', 'trade', 'futures', '-', 'silver', '-', '392', 'lots', 'at', 'chicago', ',', 'illinois', '.', 'kilo', 'gold', '-', '21', 'lots', '.', '16', 'at', 'chicago', ',', 'illinois', ',', '5', 'at', 'new', 'york', ',', 'new', 'york', '.', '<END>'], ['<START>', 'campbell', \"'\", 's', '&', 'lt', ';', 'cch', '>', 'meston', 'lake', 'sets', 'gold', 'targets', '&', 'lt', ';', 'meston', 'lake', 'resources', 'inc', '>,', '65', '.', '3', 'pct', 'owned', 'by', 'campbell', 'resources', 'inc', ',', 'said', 'it', 'will', 'begin', 'commercial', 'output', 'at', 'its', 'joe', 'mann', 'mine', 'in', 'the', 'chibougamu', 'area', 'of', 'quebec', 'at', 'an', 'initial', 'daily', 'rate', 'of', '500', 'short', 'tons', 'of', 'ore', 'grading', '0', '.', '15', 'ounce', 'of', 'gold', 'per', 'ton', '.', 'it', 'said', 'it', 'will', 'improve', 'throughput', 'to', '700', 'tons', 'a', 'day', 'at', '0', '.', '221', 'ounce', 'of', 'gold', 'per', 'ton', '.', 'meston', 'said', 'current', 'ore', 'reserves', 'at', 'the', 'property', 'total', '910', ',', '000', 'tons', 'grading', '0', '.', '211', 'ounces', 'of', 'gold', 'per', 'ton', 'and', '0', '.', '3', 'pct', 'copper', ',', 'but', 'it', 'may', 'be', 'able', 'to', 'develop', '\"', 'substantially', 'greater', 'tonnage', '.\"', 'meston', 'said', 'underground', 'drilling', 'below', 'current', 'developed', 'reserves', 'has', 'intersected', 'the', 'main', 'zone', '200', 'feet', 'below', 'the', 'bottom', 'level', ',', 'with', 'the', 'average', 'grade', 'assayed', 'at', '0', '.', '530', 'ounce', 'of', 'gold', 'per', 'ton', 'over', 'true', 'width', 'of', '17', 'feet', '.', 'a', 'recent', 'drillhole', ',', 'east', 'of', 'the', 'current', 'shaft', 'and', '600', 'feet', 'from', 'the', 'reserve', 'boundary', ',', 'intersected', 'three', 'zones', 'grading', ',', 'respectively', ',', '0', '.', '708', 'ounce', 'per', 'ton', 'over', '5', '.', '4', 'feet', 'at', 'depth', 'of', '650', 'feet', ',', '0', '.', '706', 'ounce', 'over', 'seven', 'feet', 'at', 'depth', 'of', '765', 'feet', 'and', '0', '.', '418', 'ounce', 'over', 'one', 'foot', 'at', 'depth', 'of', '1', ',', '000', 'feet', '.', 'a', 'second', 'surface', 'hole', ',', '500', 'feet', 'farther', 'east', ',', 'intersected', '1', '.', '068', 'ounce', 'per', 'ton', 'over', '5', '.', '3', 'feet', '.', '<END>'], ['<START>', 'asamera', '&', 'lt', ';', 'asm', '>', 'to', 'form', 'new', 'mining', 'unit', 'asamera', 'inc', 'said', 'it', 'will', 'transfer', 'all', 'its', 'mineral', 'interests', 'into', 'a', 'new', 'wholly', 'owned', 'subsidiary', ',', 'asamera', 'minerals', 'inc', ',', 'which', 'will', 'later', 'issue', 'up', 'to', '15', 'pct', 'of', 'its', 'shares', 'to', 'the', 'public', '.', 'the', 'mineral', 'interests', 'will', 'include', 'asamera', \"'\", 's', '51', 'pct', 'interest', 'in', 'the', 'cannon', 'gold', 'mine', 'in', 'wenatchee', ',', 'wash', '.', 'asamera', 'said', 'the', 'mine', 'produced', '116', ',', '514', 'ounces', 'of', 'gold', 'in', '1986', 'and', 'is', 'expected', 'to', 'produce', '130', ',', '000', 'to', '140', ',', '000', 'ounces', 'this', 'year', '.', 'asamera', 'said', 'its', 'talks', 'with', 'breakwater', 'resources', 'ltd', '&', 'lt', ';', 'bwrlf', '>', 'on', 'a', 'possible', 'merger', 'of', 'mining', 'interests', ',', 'including', 'the', 'cannon', 'mine', ',', 'have', 'been', 'terminated', '.', 'it', 'did', 'not', 'elaborate', '.', 'asamera', 'said', 'holding', 'all', 'its', 'mineral', 'properties', 'in', 'a', 'separate', 'company', 'will', 'give', 'better', 'and', 'more', 'direct', 'recognition', 'to', 'the', 'value', 'of', 'the', 'assets', '.', 'its', 'other', 'mining', 'interests', 'include', 'gold', 'exploration', 'prospects', 'on', '13', ',', '000', 'acres', 'in', 'inyo', 'county', ',', 'calif', '.,', 'and', '500', ',', '000', 'acres', 'in', 'canada', \"'\", 's', 'northwest', 'territories', ',', 'the', 'gooseberry', 'gold', 'and', 'silver', 'mine', 'in', 'nevada', ',', 'chromite', 'properties', 'in', 'northern', 'california', 'and', 'newfoundland', ',', 'and', 'a', 'platinum', 'prospect', 'in', 'the', 'rankin', 'inlet', ',', 'northwest', 'territories', '.', '<END>'], ['<START>', 'u', '.', 's', '.', 'gold', 'production', 'rose', 'in', 'december', 'u', '.', 's', '.', 'mine', 'production', 'of', 'gold', 'rose', 'to', '244', ',', '900', 'troy', 'ounces', 'in', 'december', 'from', '244', ',', '749', 'ounces', 'in', 'november', ',', 'the', 'u', '.', 's', '.', 'interior', 'department', \"'\", 's', 'bureau', 'of', 'mines', 'said', '.', 'u', '.', 's', '.', 'imports', 'of', 'gold', 'in', 'december', 'were', '692', ',', '700', 'ounces', ',', 'vs', '2', ',', '011', ',', '754', 'ounces', 'in', 'november', 'and', '611', ',', '811', 'ounces', 'in', 'december', ',', '1985', '.', 'gold', 'exports', 'totaled', '243', ',', '191', 'ounces', 'in', 'december', ',', 'vs', 'november', \"'\", 's', '374', ',', '468', 'ounces', 'and', '350', ',', '078', 'ounces', 'in', 'december', 'a', 'year', 'earlier', '.', 'mine', 'production', 'of', 'gold', 'in', 'the', '12', '-', 'month', 'period', 'jan', '-', 'dec', ',', '1986', ',', 'totaled', '2', ',', '951', ',', '151', 'ounces', ',', 'vs', '2', ',', '475', ',', '436', 'ounces', 'over', 'the', 'same', 'period', 'in', '1985', '.', 'gold', 'imports', 'in', 'jan', '-', 'dec', ',', '1986', ',', 'totaled', '15', ',', '749', ',', '447', 'ounces', ',', 'vs', '8', ',', '225', ',', '999', 'ounces', 'for', 'the', 'same', 'period', 'in', '1985', ',', 'while', 'exports', 'stood', 'at', '4', ',', '612', ',', '919', 'ounces', 'and', '3', ',', '966', ',', '678', 'ounces', 'over', 'the', 'respective', 'periods', ',', 'the', 'bureau', 'said', '.', '<END>'], ['<START>', 'south', 'african', 'gold', 'holdings', 'rise', 'in', 'march', 'south', 'african', 'gold', 'holdings', 'rose', '172', '.', '56', 'mln', 'rand', 'to', '4', '.', '17', 'billion', 'rand', 'in', 'march', 'after', 'rising', '39', 'mln', 'rand', 'to', '4', '.', '0', 'billion', 'rand', 'in', 'february', ',', 'reserve', 'bank', 'figures', 'show', '.', 'in', 'volume', 'terms', 'gold', 'holdings', 'rose', 'to', '5', '.', '51', 'mln', 'ounces', 'in', 'march', 'from', '5', '.', '26', 'mln', 'ounces', 'in', 'february', ',', 'valued', 'at', '757', '.', '24', 'rand', 'an', 'ounce', 'for', 'march', 'versus', '754', '.', '59', 'rand', 'an', 'ounce', 'for', 'february', '.', 'total', 'gold', 'and', 'foreign', 'assets', 'rose', 'to', '6', '.', '30', 'billion', 'rand', 'from', '6', '.', '22', 'billion', ',', 'of', 'which', 'the', 'gold', 'content', 'increased', 'to', '66', '.', '22', 'pct', 'from', '64', '.', '3', 'pct', '.', 'foreign', 'bills', 'remained', 'at', 'zero', 'in', 'march', 'while', 'investments', 'fell', 'slightly', 'to', '105', '.', '69', 'mln', 'rand', 'from', 'february', \"'\", 's', '106', '.', '56', 'mln', 'rand', 'and', 'other', 'assets', 'to', '2', '.', '02', 'billion', 'rand', 'from', '2', '.', '11', 'billion', ',', 'the', 'figures', 'showed', '.', 'total', 'liabilities', 'fell', 'to', '12', '.', '21', 'billion', 'rand', 'in', 'march', 'after', 'rising', 'to', '13', '.', '62', 'billion', 'in', 'february', '.', '<END>'], ['<START>', 'syngold', 'defines', 'reserves', 'on', 'deka', 'property', '&', 'lt', ';', 'syngold', 'exploration', 'inc', '>', 'and', '&', 'lt', ';', 'corp', 'falconbridge', 'copper', '>', 'said', 'they', 'defined', 'undiluted', 'reserves', 'of', '911', ',', '000', 'tons', 'of', 'ore', 'with', 'an', 'average', 'grade', 'of', '0', '.', '43', 'ounces', 'of', 'gold', 'per', 'ton', 'in', 'two', 'separate', 'deposits', 'on', 'the', 'deka', 'property', 'located', 'at', 'noranda', ',', 'quebec', '.', 'assay', 'results', 'from', '20', 'suface', 'holes', 'drilled', 'on', '250', 'foot', 'centers', 'indicate', 'that', 'the', 'donalda', 'number', 'one', 'deposit', 'contains', 'possible', 'reserves', 'of', '611', ',', '000', 'tons', 'at', 'an', 'average', 'grade', 'of', '0', '.', '48', 'ounces', 'of', 'gold', 'per', 'ton', '.', 'the', 'number', 'one', 'deposit', \"'\", 's', 'reserves', 'are', 'contained', 'between', 'a', 'vertical', 'depth', 'of', '750', 'and', '1200', 'feet', 'at', 'a', 'strike', 'length', 'of', '900', 'feet', '.', 'reserves', 'of', 'the', 'donalda', 'number', '-', 'two', 'deposit', ',', 'located', '1', ',', '000', 'feet', 'below', 'the', 'number', '-', 'one', 'deposit', ',', 'were', 'recalculated', 'at', '300', ',', '000', 'tons', 'with', 'an', 'average', 'grade', 'of', '0', '.', '33', 'ounces', 'of', 'gold', 'per', 'ton', '.', 'syngold', 'has', 'earned', 'a', '20', 'pct', 'interest', 'in', 'the', 'deka', 'property', 'from', 'the', 'operator', ',', 'corp', 'falconbridge', 'copper', '.', '<END>'], ['<START>', 'south', 'african', 'gold', 'holdings', 'rise', 'in', 'march', 'south', 'africa', 'gold', 'holdings', 'rose', '172', '.', '56', 'mln', 'rand', 'to', '4', '.', '17', 'billion', 'rand', 'in', 'march', 'after', 'rising', '39', 'mln', 'rand', 'to', '4', '.', '0', 'billion', 'in', 'february', ',', 'reserve', 'bank', 'figures', 'show', '.', 'in', 'volume', 'terms', 'gold', 'holdings', 'rose', 'to', '5', '.', '51', 'mln', 'ounces', 'in', 'march', 'from', '5', '.', '26', 'mln', 'ounces', 'in', 'february', ',', 'valued', 'at', '757', '.', '24', 'rand', 'an', 'ounce', 'for', 'march', 'versus', '754', '.', '59', 'rand', 'an', 'ounce', 'for', 'february', '.', 'total', 'gold', 'and', 'foreign', 'assets', 'rose', 'to', '6', '.', '30', 'billion', 'rand', 'from', '6', '.', '22', 'billion', ',', 'of', 'which', 'the', 'gold', 'content', 'increased', 'to', '66', '.', '22', 'pct', 'from', '64', '.', '3', 'pct', '.', 'foreign', 'bills', 'remained', 'at', 'zero', 'in', 'march', 'while', 'investments', 'fell', 'slightly', 'to', '105', '.', '69', 'mln', 'rand', 'from', 'february', \"'\", 's', '106', '.', '56', 'mln', 'rand', 'and', 'other', 'assets', 'to', '2', '.', '02', 'billion', 'rand', 'from', '2', '.', '11', 'billion', ',', 'the', 'figures', 'showed', '.', 'total', 'liabilities', 'fell', 'to', '12', '.', '21', 'billion', 'rand', 'in', 'march', 'after', 'rising', 'to', '13', '.', '62', 'billion', 'in', 'february', '.', '<END>'], ['<START>', 'westmin', 'to', 'raise', 'myra', 'falls', 'capacity', 'by', '33', 'pct', 'westmin', 'resources', 'ltd', 'said', 'it', 'plans', 'to', 'increase', 'capacity', 'at', 'its', 'myra', 'falls', ',', 'british', 'columbia', ',', 'base', 'and', 'precious', 'metal', 'mine', 'and', 'mill', 'complex', 'by', '33', 'pct', 'to', '4', ',', '400', 'short', 'tons', 'of', 'ore', 'a', 'day', ',', 'subject', 'to', 'regulatory', 'approvals', '.', 'the', 'company', 'said', 'the', 'expansion', 'will', 'cost', 'about', '24', 'mln', 'dlrs', 'and', 'could', 'be', 'in', 'operation', 'by', '1988', '.', 'economies', 'of', 'scale', 'from', 'the', 'expansion', 'should', 'pay', 'back', 'net', 'expansion', 'cost', 'in', 'less', 'than', 'one', 'year', ',', 'westmin', 'said', '.', 'the', 'myra', 'falls', 'complex', 'processed', '3', ',', '257', 'tons', 'of', 'ore', 'a', 'day', 'during', '1986', '.', 'myra', 'falls', '1986', 'production', 'was', '44', ',', '000', 'ounces', 'of', 'gold', ',', '966', ',', '266', 'ounces', 'of', 'silver', ',', '45', '.', '5', 'mln', 'lbs', 'of', 'copper', ',', '96', '.', '2', 'mln', 'lbs', 'of', 'zinc', 'and', '777', ',', '000', 'lbs', 'of', 'lead', ',', 'a', 'company', 'spokesman', 'said', '.', 'myra', 'falls', '1986', 'production', 'was', '44', ',', '000', 'ounces', 'of', 'gold', ',', '966', ',', '266', 'ounces', 'of', 'silver', ',', '45', '.', '5', 'mln', 'pounds', 'of', 'copper', ',', '96', '.', '2', 'mln', 'pounds', 'of', 'zinc', 'and', '777', ',', '000', 'pounds', 'of', 'lead', ',', 'a', 'company', 'spokesman', 'said', '.', '<END>'], ['<START>', 'northgate', '&', 'lt', ';', 'ngx', '>', 'quebec', 'ore', 'reserves', 'decline', 'northgate', 'exploration', 'ltd', 'said', 'year', '-', 'end', '1986', 'ore', 'reserves', 'at', 'its', 'two', 'chibougamau', 'mines', 'in', 'quebec', 'fell', 'to', '8', ',', '141', ',', '150', 'short', 'tons', 'grading', '0', '.', '077', 'ounce', 'gold', 'a', 'ton', 'and', '1', '.', '63', 'pct', 'copper', 'from', 'year', '-', 'earlier', '8', ',', '462', ',', '000', 'tons', 'grading', '0', '.', '077', 'ounce', 'gold', 'ton', 'and', '1', '.', '67', 'pct', 'copper', '.', 'the', 'company', 'said', 'it', 'launched', 'a', '700', ',', '000', 'dlr', 'exploration', 'program', 'at', 'the', 'mines', 'to', 'increase', 'production', 'and', 'ensure', 'the', 'operations', \"'\", 'continued', 'long', 'life', '.', 'ore', 'production', 'totaled', '650', ',', '653', 'tons', 'last', 'year', ',', 'it', 'said', ',', 'estimating', 'year', '-', 'end', 'reserves', 'contained', 'about', '627', ',', '000', 'ounces', 'of', 'gold', 'and', '265', 'mln', 'pounds', 'of', 'copper', '.', '<END>'], ['<START>', 'reagan', \"'\", 's', 'remarks', 'help', 'gold', 'to', 'recover', 'in', 'hong', 'kong', 'gold', 'rose', 'by', 'about', '50', 'u', '.', 's', '.', 'cents', 'an', 'ounce', ',', 'following', 'a', 'statement', 'by', 'president', 'ronald', 'reagan', 'that', 'the', 'arms', '-', 'for', '-', 'hostages', 'deal', 'with', 'iran', '\"', 'was', 'a', 'mistake', ',\"', 'dealers', 'said', '.', 'bullion', 'rose', 'to', '409', '.', '40', '/', '90', 'dlrs', 'from', 'an', 'initial', 'low', 'of', '408', '.', '90', '/', '409', '.', '40', '.', 'this', 'compares', 'with', 'the', 'opening', 'of', '409', '.', '00', '/', '50', 'and', 'new', 'york', \"'\", 's', 'close', 'of', '410', '.', '00', '/', '50', '.', 'dealers', 'noted', 'mild', 'short', '-', 'covering', 'in', 'the', 'metal', 'after', 'some', 'initial', 'selling', 'by', 'local', 'investors', '.', 'trading', 'was', 'fairly', 'quiet', 'this', 'morning', 'partly', 'owed', 'to', 'the', 'slow', 'u', '.', 's', '.', 'dollar', 'activities', ',', 'they', 'added', '.', 'however', ',', 'reagan', \"'\", 's', 'remarks', 'had', 'only', 'a', 'short', '-', 'lived', 'bullish', 'impact', 'on', 'the', 'gold', 'price', ',', 'which', 'is', 'now', 'stabilising', 'at', '409', '.', '10', '/', '60', 'dlrs', ',', 'dealers', 'said', '.', 'on', 'the', 'local', 'market', ',', 'the', 'metal', 'traded', 'in', 'a', 'narrow', 'range', 'of', '3', ',', '800', 'and', '3', ',', '805', 'h', '.', 'k', '.', 'dlrs', 'a', 'tael', 'against', 'yesterday', \"'\", 's', '3', ',', '778', 'close', '.', '<END>'], ['<START>', 'bhp', 'to', 'float', 'gold', 'unit', 'with', 'one', '-', 'for', '-', 'three', 'issue', 'the', 'broken', 'hill', 'pty', 'co', 'ltd', '&', 'lt', ';', 'brkn', '.', 's', '>', '(', 'bhp', ')', 'said', 'it', 'plans', 'a', 'renounceable', 'one', '-', 'for', '-', 'three', 'issue', 'of', 'rights', 'to', 'float', 'a', 'new', 'company', ',', '&', 'lt', ';', 'bhp', 'gold', 'mines', 'ltd', '>', '(', 'bhpgm', '),', 'which', 'will', 'hold', 'most', 'of', 'bhp', \"'\", 's', 'gold', 'interests', '.', 'in', 'a', 'statement', 'bhp', 'said', 'the', '25', '-', 'cent', 'par', 'rights', 'would', 'be', 'priced', 'at', '50', 'cents', 'for', '430', 'mln', 'of', 'the', 'bhpgm', 'shares', 'on', 'offer', '.', 'bhp', 'will', 'subscribe', 'for', 'the', 'remaining', '540', 'mln', 'shares', ',', 'or', '56', 'pct', 'of', 'issued', 'capital', ',', 'on', 'the', 'same', 'terms', '.', 'bhpgm', 'will', 'pay', '440', 'mln', 'dlrs', 'for', 'bhp', \"'\", 's', 'gold', 'interests', ',', 'excluding', 'its', 'stake', 'in', 'papua', 'new', 'guinea', \"'\", 's', '&', 'lt', ';', 'ok', 'tedi', 'mining', 'ltd', '>', 'and', 'those', 'interests', 'held', 'by', 'bhp', \"'\", 's', '&', 'lt', ';', 'utah', 'international', 'inc', '>.', 'the', 'bhp', 'statement', 'said', 'the', 'issue', 'will', 'be', 'made', 'to', 'shareholders', 'registered', 'on', 'march', '27', '.', 'it', 'opens', 'april', '4', 'and', 'closes', 'april', '29', ',', 'and', 'is', 'underwritten', 'by', '&', 'lt', ';', 'j', '.', 'b', '.', 'were', 'and', 'son', '>.', 'rights', 'will', 'be', 'traded', 'on', 'australian', 'stock', 'exchanges', 'from', 'march', '23', 'to', 'april', '22', ',', 'and', 'the', 'new', 'shares', 'will', 'be', 'quoted', 'from', 'june', '4', '.', 'bhp', 'said', 'the', 'new', 'company', 'will', 'be', 'one', 'of', 'australia', \"'\", 's', 'larger', 'gold', 'producers', ',', 'with', 'annual', 'output', 'exceeding', '170', ',', '000', 'ounces', '.', 'it', 'said', 'there', 'are', 'plans', 'to', 'boost', 'production', 'to', '300', ',', '000', 'ounces', 'by', 'the', 'early', '1990s', '.', 'bhpgm', \"'\", 's', 'portfolio', 'will', 'include', 'several', 'australian', 'mines', '--', '30', 'pct', 'of', 'telfer', ',', '100', 'pct', 'of', 'ora', 'banda', 'and', 'browns', 'creek', 'and', '20', 'pct', 'of', 'the', 'new', 'boddington', 'development', '.', 'the', 'statement', 'said', 'bhpgm', 'would', 'also', 'hold', 'bhp', \"'\", 's', '45', 'pct', 'stake', 'in', 'the', 'coronation', 'hill', 'property', 'in', 'the', 'northern', 'territory', ',', 'and', 'its', '55', 'pct', 'stake', 'in', 'a', 'new', 'venture', 'near', 'gympie', ',', 'queensland', '.', 'bhpgm', 'chairman', '-', 'designate', 'john', 'gough', 'said', 'it', 'was', 'a', 'quality', 'gold', 'stock', '.', '\"', 'the', 'diversity', 'and', 'depth', 'of', 'bhp', 'gold', \"'\", 's', 'portfolio', '...', 'give', 'the', 'company', 'a', 'sound', 'foundation', 'in', 'current', 'gold', 'production', 'and', 'an', 'exciting', 'potential', 'for', 'growth', ',\"', 'he', 'said', '.', '<END>'], ['<START>', 'belgian', 'ecu', 'coin', 'issue', 'priced', ',', 'sale', 'date', 'set', 'a', 'limited', 'belgian', 'issue', 'of', 'silver', 'ecu', 'coins', 'with', 'a', 'face', 'value', 'of', 'five', 'ecus', 'will', 'go', 'on', 'sale', 'from', 'march', '23', 'at', 'a', 'price', 'of', '500', 'belgian', 'francs', 'each', ',', 'a', 'finance', 'ministry', 'spokesman', 'said', '.', 'gold', 'ecu', 'coins', 'with', 'a', 'face', 'value', 'of', '50', 'ecus', 'will', 'be', 'sold', 'from', 'the', 'same', 'day', '.', 'the', 'spokesman', 'told', 'reuters', 'the', 'price', 'for', 'these', 'would', 'be', 'fixed', 'just', 'before', 'they', 'go', 'on', 'sale', 'but', 'was', 'likely', 'to', 'be', 'between', '8', ',', '500', 'and', '9', ',', '000', 'francs', '.', 'at', 'least', 'two', 'mln', 'silver', 'coins', 'and', 'several', 'hundreds', 'of', 'thousands', 'of', 'the', 'gold', 'coins', 'will', 'be', 'minted', ',', 'he', 'said', '.', 'they', 'will', 'be', 'sold', 'both', 'in', 'belgium', 'and', 'abroad', '.', 'the', 'coins', 'will', 'be', 'the', 'first', 'ever', 'denominated', 'in', 'the', 'ecu', ',', 'the', '\"', 'basket', '\"', 'comprised', 'of', 'the', '12', '-', 'nation', 'european', 'community', \"'\", 's', 'currencies', 'except', 'the', 'spanish', 'peseta', 'and', 'the', 'portuguese', 'escudo', '.', 'the', 'issue', 'is', 'being', 'made', 'to', 'mark', 'the', '30th', 'anniversary', 'of', 'the', 'ec', \"'\", 's', 'founding', 'treaty', 'of', 'rome', 'this', 'month', '.', 'finance', 'minister', 'mark', 'eyskens', ',', 'who', 'currently', 'presides', 'over', 'the', 'ec', \"'\", 's', 'council', 'of', 'economic', 'and', 'finance', 'ministers', ',', 'has', 'called', 'the', 'issue', 'a', 'political', 'act', 'of', 'symbolic', 'value', 'which', 'aimed', 'to', 'make', 'the', 'community', \"'\", 's', 'goal', 'of', 'monetary', 'integration', 'more', 'concrete', '.', 'the', 'coins', 'will', 'be', 'legal', 'tender', 'in', 'belgium', 'but', 'most', 'demand', 'is', 'expected', 'to', 'come', 'from', 'coin', 'collectors', '.', '<END>'], ['<START>', 's', 'africa', 'mine', 'managers', 'face', 'charges', 'in', 'disaster', 'seven', 'managers', 'and', 'employees', 'at', 'general', 'mining', 'union', 'corp', 'ltd', \"'\", 's', 'kinross', 'mines', 'ltd', 'will', 'face', 'charges', 'of', 'culpable', 'homicide', 'following', 'last', 'year', \"'\", 's', 'disaster', 'when', '177', 'gold', 'miners', 'died', ',', 'the', 'attorney', 'general', \"'\", 's', 'office', 'said', '.', 'the', 'mineworkers', 'were', 'killed', 'last', 'september', 'at', 'kinross', 'when', 'a', 'fire', 'set', 'off', 'toxic', 'fumes', 'which', 'suffocated', 'miners', 'underground', '.', 'three', 'of', 'the', 'accused', 'face', 'alternative', 'charges', 'of', 'breaking', 'safety', 'regulations', 'set', 'out', 'in', 'the', 'mines', 'and', 'works', 'act', '.', 'the', 'spokesman', 'said', 'the', 'case', 'would', 'probably', 'be', 'heard', 'in', 'witbank', 'regional', 'court', ',', 'near', 'kinross', ',', 'in', 'mid', '-', 'may', '.', '<END>'], ['<START>', 'giant', 'bay', '&', 'lt', ';', 'gbylf', '>', 'details', 'gordon', 'lake', 'deposit', 'giant', 'bay', 'resources', 'ltd', 'said', 'a', 'metallurgical', 'study', 'of', 'its', 'gordon', 'lake', 'gold', 'deposit', 'indicated', 'an', 'overall', 'recovery', 'of', '95', 'pct', 'to', '96', 'pct', 'of', 'the', 'gold', 'can', 'be', 'achieved', 'by', 'either', 'direct', 'cyanidation', 'of', 'ore', 'or', 'flotation', 'followed', 'by', 'cyanidation', 'of', 'concentrate', '.', 'continuation', 'of', 'an', 'underground', 'program', 'on', 'the', 'property', 'will', 'begin', 'in', 'june', ',', 'extending', 'an', 'existing', 'drift', 'along', 'the', '200', '-', 'foot', '-', 'level', 'where', 'the', 'main', 'ore', 'zone', 'was', 'encountered', ',', 'giant', 'bay', 'said', '.', 'the', 'company', 'did', 'not', 'elaborate', 'on', 'production', 'figures', 'for', 'the', 'property', '.', '<END>'], ['<START>', 'silver', 'state', 'mining', '&', 'lt', ';', 'ssmc', '>', 'sees', 'production', 'rise', 'silver', 'state', 'mining', 'corp', 'said', 'it', 'expects', 'gold', 'production', 'this', 'year', 'to', 'be', 'more', 'than', 'double', '1986', \"'\", 's', '17', ',', '458', 'ounces', '.', 'the', 'company', \"'\", 's', '1985', 'production', 'was', '2', ',', '050', 'ounces', '.', '<END>'], ['<START>', 'pioneer', 'group', '&', 'lt', ';', 'piog', '>', 'unit', 'gets', 'more', 'land', 'the', 'pioneer', 'group', 'inc', 'said', 'its', '70', 'pct', '-', 'owned', 'teberebie', 'goldfields', 'ltd', 'venture', 'has', 'been', 'granted', 'an', 'additional', 'concession', 'of', 'land', 'in', 'ghana', 'to', 'look', 'for', 'and', 'mine', 'gold', '.', 'the', 'state', 'gold', 'mining', 'corp', 'of', 'ghana', 'granted', 'the', 'venture', 'an', 'additional', '14', '.', '5', 'square', 'kilometers', 'in', 'teberebie', ',', 'ghana', ',', 'contiguous', 'to', '11', '.', '5', 'square', 'kilometers', 'granted', 'earlier', ',', 'the', 'company', 'said', '.', 'the', 'original', 'concession', 'appears', 'to', 'have', 'a', 'substantial', 'amount', 'of', 'gold', 'bearing', 'material', 'containing', 'about', '2', 'grams', ',', 'or', '6', '/', '100', 'ounces', ',', 'of', 'gold', 'per', 'metric', 'ton', '.', 'but', 'the', 'venture', 'has', 'no', 'firm', 'estimates', 'on', 'the', 'costs', 'of', 'extracting', 'the', 'gold', 'and', 'no', 'assurances', 'can', 'be', 'given', 'that', 'the', 'reserves', 'can', 'be', 'mined', 'profitably', ',', 'the', 'company', 'said', '.', 'it', 'said', 'teberebie', 'goldfields', 'has', 'not', 'conducted', 'tests', 'on', 'the', 'newly', 'granted', 'land', 'but', 'added', 'the', 'land', 'seems', 'to', 'be', 'similar', 'in', 'geological', 'characteristics', 'to', 'the', 'original', 'land', '.', '<END>'], ['<START>', '&', 'lt', ';', 'technigen', 'platinum', 'corp', '>', 'in', 'metals', 'find', 'technigen', 'platinum', 'corp', 'said', 'it', 'initial', 'results', 'of', 'a', '13', '-', 'hole', 'drilling', 'program', 'on', 'its', 'r', '.', 'm', '.', 'nicel', 'platinum', 'property', 'in', 'rouyn', '-', 'noranda', ',', 'quebec', ',', 'indicate', '\"', 'extensive', '\"', 'near', '-', 'surface', 'zones', '\"', 'highly', '\"', 'enriched', 'in', 'gold', ',', 'platinum', 'and', 'palladium', 'were', 'found', 'in', 'rocks', 'on', 'the', 'periphery', 'of', 'a', 'sulphide', 'deposit', '.', 'it', 'said', 'values', 'of', 'up', 'to', '0', '.', '073', 'ounce', 'of', 'platinum', ',', '0', '.', '206', 'ounce', 'palladium', ',', 'three', 'pct', 'copper', 'and', '4', '.', '5', 'pct', 'nickel', 'were', 'found', 'over', 'a', 'drill', 'section', 'of', '13', 'feet', '.', 'more', '<END>'], ['<START>', 'pioneer', 'group', 'unit', 'gets', 'more', 'ghana', 'gold', 'land', 'the', 'pioneer', 'group', 'inc', 'said', 'its', '70', 'pct', '-', 'owned', 'teberebie', 'goldfields', 'ltd', 'venture', 'was', 'granted', 'an', 'additional', 'concession', 'of', 'land', 'in', 'ghana', 'to', 'seek', 'and', 'mine', 'gold', '.', 'the', 'state', 'gold', 'mining', 'corp', 'of', 'ghana', 'granted', 'the', 'venture', 'an', 'additional', '14', '.', '5', 'square', 'kilometers', 'in', 'teberebie', ',', 'ghana', ',', 'contiguous', 'to', '11', '.', '5', 'square', 'kilometers', 'granted', 'earlier', '.', 'the', 'original', 'concession', 'appears', 'to', 'have', 'a', 'substantial', 'amount', 'of', 'gold', 'bearing', 'material', 'containing', 'about', '2', 'grams', ',', 'or', '6', '/', '100', 'ounces', ',', 'of', 'gold', 'per', 'tonne', '.', 'but', 'the', 'venture', 'has', 'no', 'firm', 'estimate', 'on', 'the', 'costs', 'of', 'extracting', 'the', 'gold', 'and', 'no', 'assurances', 'can', 'be', 'given', 'that', 'the', 'reserves', 'can', 'be', 'mined', 'profitably', ',', 'the', 'company', 'said', '.', 'it', 'said', 'teberebie', 'goldfields', 'has', 'not', 'conducted', 'tests', 'on', 'the', 'newly', 'granted', 'land', 'but', 'added', 'the', 'land', 'seems', 'to', 'be', 'similar', 'in', 'geological', 'characteristics', 'to', 'the', 'original', 'land', '.', '<END>'], ['<START>', 'technigen', 'platinum', 'corp', 'in', 'metals', 'find', 'technigen', 'platinum', 'corp', 'said', 'initial', 'results', 'of', 'a', '13', '-', 'hole', 'drilling', 'program', 'on', 'its', 'r', '.', 'm', '.', 'nicel', 'platinum', 'property', 'in', 'rouyn', '-', 'noranda', ',', 'quebec', ',', 'indicate', 'extensive', 'near', '-', 'surface', 'zones', 'highly', 'enriched', 'in', 'gold', ',', 'platinum', 'and', 'palladium', '.', 'the', 'metals', 'were', 'found', 'in', 'rocks', 'on', 'the', 'periphery', 'of', 'a', 'sulphide', 'deposit', '.', 'it', 'said', 'values', 'of', 'up', 'to', '0', '.', '073', 'ounce', 'of', 'platinum', ',', '0', '.', '206', 'ounce', 'palladium', ',', 'three', 'pct', 'copper', 'and', '4', '.', '5', 'pct', 'nickel', 'were', 'found', 'over', 'a', 'drill', 'section', 'of', '13', 'feet', '.', '<END>'], ['<START>', 'placer', 'pacific', 'hopes', 'for', 'misima', 'gold', 'approval', 'soon', '&', 'lt', ';', 'placer', 'pacific', 'ltd', '>', 'said', 'it', 'hopes', 'the', 'papua', 'new', 'guinea', 'government', 'will', 'approve', 'development', 'of', 'the', 'misima', 'gold', 'project', 'next', 'month', ',', 'following', 'the', 'submission', 'of', 'its', 'final', 'environmental', 'plan', 'in', 'port', 'moresby', 'today', '.', 'this', 'completes', 'the', 'major', 'documentation', 'required', 'to', 'gain', 'official', 'approval', 'to', 'proceed', ',', 'placer', 'said', 'in', 'a', 'statement', '.', 'placer', 'has', 'estimated', 'the', 'epithermal', 'deposit', ',', 'located', 'on', 'the', 'eastern', 'half', 'of', 'misima', 'island', 'off', 'the', 'southeastern', 'coast', 'of', 'papua', 'new', 'guinea', ',', 'contains', 'proven', 'and', 'probable', 'reserves', 'of', '62', '.', '1', 'mln', 'tonnes', 'grading', '1', '.', '35', 'grams', '/', 'tonne', 'gold', 'and', '20', 'grams', '/', 'tonne', 'silver', ',', 'and', 'exploration', 'is', 'continuing', '.', '<END>'], ['<START>', 'black', 'miners', 'support', 's', '.', 'african', 'mines', 'takeover', 'thousands', 'of', 'black', 'mineworkers', 'roared', 'support', 'for', 'a', 'union', 'proposal', 'to', 'seize', 'control', 'of', 'south', 'africa', \"'\", 's', 'gold', ',', 'uranium', ',', 'platinum', 'and', 'coal', 'mines', 'if', 'the', 'owners', 'refuse', 'to', 'improve', 'conditions', 'for', 'migrant', 'black', 'workers', '.', 'about', '15', ',', '000', 'miners', 'attended', 'a', 'rally', 'here', 'to', 'endorse', 'moves', 'proposed', 'by', 'last', 'week', \"'\", 's', 'annual', 'meeting', 'of', 'the', '200', ',', '000', 'strong', 'national', 'union', 'of', 'mineworkers', '(', 'num', ').', 'they', 'also', 'supported', 'a', 'proposal', 'for', 'a', 'national', 'strike', 'at', 'the', 'end', 'of', 'this', 'month', 'if', 'the', 'owners', 'refused', 'to', 'begin', 'negotiations', '.', 'migrant', 'workers', 'from', 'surrounding', 'countries', 'make', 'up', 'more', 'than', 'half', 'of', 'the', 'labour', 'force', 'in', 'the', 'mines', '.', 'it', 'was', 'not', 'stated', 'how', 'the', 'union', 'would', '\"', 'seize', 'control', '.\"', 'the', 'miners', \"'\", 'leaders', 'also', 'demanded', 'an', 'end', 'to', 'the', 'system', 'of', 'single', 'sex', 'hostels', 'for', 'migrant', 'workers', ',', 'to', 'be', 'replaced', 'by', 'housing', 'schemes', 'so', 'that', 'workers', 'could', 'live', 'with', 'their', 'families', '.', 'the', 'crowd', ',', 'one', 'of', 'the', 'largest', 'to', 'attend', 'a', 'meeting', 'since', 'south', 'africa', 'declared', 'a', 'state', 'of', 'emergency', 'last', 'june', ',', 'also', 'shouted', 'approval', 'of', 'a', 'proposal', 'to', 'work', 'closely', 'with', 'anti', '-', 'apartheid', 'movements', 'such', 'as', 'the', 'united', 'democratic', 'front', '(', 'udf', ')', 'which', 'claims', 'two', 'mln', 'members', '.', 'they', 'also', 'shouted', 'their', 'support', 'for', 'a', 'demand', 'that', 'jailed', 'black', 'nationalist', 'leader', 'nelson', 'mandela', 'be', 'released', '.', '<END>'], ['<START>', 'china', \"'\", 's', 'heilongjiang', 'province', 'boosts', 'gold', 'output', 'gold', 'output', 'in', 'the', 'northeast', 'china', 'province', 'of', 'heilongjiang', 'rose', '22', '.', '7', 'pct', 'in', '1986', 'from', '1985', \"'\", 's', 'level', ',', 'the', 'new', 'china', 'news', 'agency', 'said', '.', 'it', 'gave', 'no', 'figures', '.', 'it', 'said', 'the', 'province', ',', 'china', \"'\", 's', 'second', 'largest', 'gold', 'producer', 'after', 'shandong', ',', 'plans', 'to', 'double', 'gold', 'output', 'by', '1990', 'from', 'the', '1986', 'level', '.', 'china', 'does', 'not', 'publish', 'gold', 'production', 'figures', '.', 'however', ',', 'industry', 'sources', 'estimate', 'output', 'at', 'about', '65', 'tonnes', 'a', 'year', ',', 'with', 'exports', 'put', 'between', '11', 'and', '31', 'tonnes', '.', 'china', 'is', 'selling', 'more', 'gold', 'abroad', 'to', 'offset', 'large', 'trade', 'deficits', 'in', 'recent', 'years', ',', 'western', 'diplomats', 'said', '.', '<END>'], ['<START>', 'carolin', 'mines', 'has', 'new', 'gold', 'assay', 'results', 'carolin', 'mines', 'ltd', 'said', 'recent', 'assays', 'of', 'tailings', 'at', 'its', 'hope', ',', 'british', 'columbia', 'mine', 'ranged', 'from', '0', '.', '50', 'to', '0', '.', '64', 'ounces', 'of', 'gold', 'per', 'ton', '.', 'there', 'were', 'only', 'trace', 'amounts', 'of', 'platinum', 'and', 'palladium', ',', 'the', 'company', 'said', '.', 'carolin', 'said', 'the', 'results', 'sharply', 'disagreed', 'with', 'an', 'earlier', 'assay', 'performed', 'by', 'intergold', 'u', '.', 's', '.', 'a', '.', 'inc', 'which', 'showed', '1', '.', '0', 'ounce', 'of', 'gold', 'per', 'ton', 'and', '0', '.', '50', 'ounce', 'of', 'platinum', 'per', 'ton', '.', 'carolin', 'also', 'said', 'it', 'expects', 'to', 'receive', 'results', 'of', 'further', 'tests', 'and', 'assays', 'of', 'the', 'tailings', 'within', 'two', 'to', 'three', 'weeks', '.', '<END>'], ['<START>', 'carolin', 'mines', '&', 'lt', ';', 'crlnf', '>', 'has', 'new', 'assay', 'results', 'carolin', 'mines', 'ltd', 'said', 'recent', 'assays', 'of', 'tailings', 'at', 'its', 'hope', ',', 'british', 'columbia', 'mine', 'indicated', 'that', 'ounces', 'of', 'gold', 'per', 'ton', 'ranged', 'from', '0', '.', '64', 'to', '0', '.', '50', '.', 'there', 'were', 'only', 'trace', 'amounts', 'of', 'platinum', 'and', 'palladium', ',', 'the', 'company', 'said', '.', 'carolin', 'said', 'the', 'results', 'sharply', 'disagreed', 'with', 'an', 'earlier', 'assay', 'performed', 'by', 'intergold', 'u', '.', 's', '.', 'a', '.', 'inc', 'which', 'showed', 'one', 'ounce', 'of', 'gold', 'per', 'ton', 'and', '1', '/', '2', 'ounce', 'of', 'platinum', 'per', 'ton', '.', 'carolin', 'also', 'said', 'it', 'expects', 'to', 'receive', 'results', 'of', 'further', 'tests', 'and', 'assays', 'of', 'the', 'tailings', 'within', 'two', 'to', 'three', 'weeks', '.', '<END>'], ['<START>', 'st', '.', 'joe', 'gold', '&', 'lt', ';', 'sjg', '>', 'to', 'develop', 'mine', 'st', '.', 'joe', 'gold', 'corp', 'said', 'it', 'plans', 'to', 'proceed', 'with', 'development', 'of', 'its', 'golden', 'patricia', 'gold', 'property', 'in', 'northwestern', 'ontario', '.', 'it', 'said', 'about', 'five', 'mln', 'dlrs', 'will', 'be', 'spent', 'to', 'continue', 'underground', 'development', 'and', 'obtain', 'operating', 'permits', 'and', 'another', '10', '.', '2', 'mln', 'dlrs', 'is', 'expected', 'to', 'be', 'required', 'to', 'complete', 'underground', 'development', ',', 'construct', 'a', 'mill', 'and', 'provide', 'the', 'infrastructure', 'needed', 'to', 'put', 'the', 'mine', 'into', 'commercial', 'production', '.', 'st', '.', 'joe', 'gold', 'said', 'if', 'the', 'necessary', 'operating', 'permits', 'were', 'granted', 'in', 'time', ',', 'it', 'would', 'start', 'gold', 'production', 'in', 'the', 'second', 'half', 'of', 'the', 'year', 'ending', 'october', '31', ',', '1988', 'at', 'an', 'annual', 'rate', 'of', 'about', '40', ',', '000', 'troy', 'ounces', '.', 'the', 'company', 'said', 'the', 'property', 'is', 'estimated', 'to', 'contain', 'over', '500', ',', '000', 'troy', 'ounces', 'of', 'gold', ',', 'and', 'the', 'initial', 'mining', 'project', 'covers', 'only', 'seven', 'of', '192', 'claims', ',', 'with', 'drill', '-', 'indicated', 'reserves', 'of', '293', ',', '000', 'short', 'tons', 'grading', '0', '.', '88', 'troy', 'ounce', 'of', 'gold', 'per', 'ton', '.', 'it', 'said', 'initial', 'mine', 'output', 'is', 'expected', 'to', 'be', 'about', '150', 'tons', 'of', 'ore', 'daily', '.', 'st', '.', 'joe', 'gold', 'said', 'the', 'golden', 'patricia', 'vein', 'has', 'not', 'been', 'tested', 'at', 'depth', 'or', 'along', 'strike', 'to', 'the', 'east', 'and', 'west', 'and', 'exploration', 'is', 'continuing', 'on', 'the', 'golden', 'patricia', 'property', 'and', 'the', 'adjacent', 'wholly', '-', 'owned', 'muskeg', 'lake', 'property', '.', 'the', 'company', 'also', 'said', 'its', 'richmond', 'hill', 'gold', 'and', 'silver', 'deposit', 'in', 'the', 'carbonate', 'district', 'of', 'western', 'south', 'dakota', 'has', 'been', 'shown', 'by', 'drilling', 'to', 'contain', 'about', '3', ',', '900', ',', '000', 'tons', 'grading', '0', '.', '055', 'troy', 'ounce', 'of', 'gold', 'and', '0', '.', '23', 'troy', 'ounce', 'of', 'silver', 'per', 'ton', '.', 'it', 'said', 'preliminary', 'results', 'are', 'encouraging', 'and', 'a', 'feasibility', 'study', 'is', 'nearing', 'completion', '.', '<END>'], ['<START>', 'sigma', 'mines', 'details', 'gold', 'ore', 'reserves', '&', 'lt', ';', 'sigma', 'mines', '(', 'quebec', ')', 'ltd', '>,', '65', 'pct', 'owned', 'by', 'dome', 'mines', 'ltd', '&', 'lt', ';', 'dm', '>,', 'said', 'its', 'sigma', 'mine', 'had', 'proven', 'and', 'probable', 'reserves', 'at', 'the', 'end', 'of', '1986', 'of', '4', ',', '902', ',', '940', 'tons', ',', 'with', 'an', 'average', 'grade', 'of', '0', '.', '139', 'ounces', 'of', 'gold', 'a', 'ton', '.', 'sigma', 'said', 'the', 'reserves', 'are', 'equivalent', 'to', '10', 'years', 'future', 'production', 'at', 'current', 'milling', 'rates', '.', 'the', 'reserves', 'comprise', '1', ',', '640', ',', '779', 'tons', 'proven', 'reserves', 'grading', 'an', 'average', 'of', '0', '.', '163', 'ounces', 'of', 'gold', 'a', 'ton', 'and', '3', ',', '262', ',', '161', 'tons', 'probable', 'reserves', 'grading', 'an', 'average', 'of', '0', '.', '127', 'ounces', 'of', 'gold', 'a', 'ton', '.', 'sigma', 'said', 'it', 'changed', 'its', '1986', 'reserve', 'reporting', 'method', 'following', 'dome', 'mines', 'previously', 'reported', 'move', 'to', 'adopt', 'general', 'industry', 'practice', 'of', 'reporting', 'proven', 'and', 'probable', 'ore', 'reserves', '.', 'prior', 'to', '1986', ',', 'sigma', 'conservatively', 'reported', 'only', 'proven', 'reserves', 'that', 'could', 'be', 'mined', 'without', 'future', 'development', 'costs', '.', 'proven', 'reserves', 'as', 'of', 'december', '31', ',', '1985', 'were', '978', ',', '000', 'tons', 'grading', 'an', 'average', 'of', '0', '.', '194', 'ounces', 'of', 'gold', 'a', 'ton', ',', 'equivalent', 'to', 'about', 'two', 'years', 'future', 'production', '.', '<END>'], ['<START>', 'st', '.', 'joe', 'gold', 'to', 'develop', 'ontario', 'mine', 'st', '.', 'joe', 'gold', 'corp', 'said', 'it', 'plans', 'to', 'proceed', 'with', 'development', 'of', 'its', 'golden', 'patricia', 'gold', 'property', 'in', 'northwestern', 'ontario', '.', 'it', 'said', 'about', 'five', 'mln', 'dlrs', 'will', 'be', 'spent', 'to', 'continue', 'underground', 'development', 'and', 'obtain', 'operating', 'permits', 'and', 'another', '10', '.', '2', 'mln', 'dlrs', 'is', 'expected', 'to', 'be', 'required', 'to', 'complete', 'underground', 'development', ',', 'construct', 'a', 'mill', 'and', 'provide', 'the', 'infrastructure', 'needed', 'to', 'put', 'the', 'mine', 'into', 'commercial', 'production', '.', 'st', '.', 'joe', 'gold', 'said', 'if', 'the', 'necessary', 'operating', 'permits', 'were', 'granted', 'in', 'time', ',', 'it', 'would', 'start', 'gold', 'production', 'in', 'the', 'second', 'half', 'of', 'the', 'year', 'ending', 'october', '31', ',', '1988', 'at', 'an', 'annual', 'rate', 'of', 'about', '40', ',', '000', 'troy', 'ounces', '.', 'the', 'company', 'said', 'the', 'property', 'is', 'estimated', 'to', 'contain', 'over', '500', ',', '000', 'troy', 'ounces', 'of', 'gold', ',', 'and', 'the', 'initial', 'mining', 'project', 'covers', 'only', 'seven', 'of', '192', 'claims', ',', 'with', 'drill', '-', 'indicated', 'reserves', 'of', '293', ',', '000', 'short', 'tons', 'grading', '0', '.', '88', 'troy', 'ounce', 'of', 'gold', 'per', 'ton', '.', 'it', 'said', 'initial', 'mine', 'output', 'is', 'expected', 'to', 'be', 'about', '150', 'tons', 'of', 'ore', 'daily', '.', 'st', '.', 'joe', 'gold', 'said', 'the', 'golden', 'patricia', 'vein', 'has', 'not', 'been', 'tested', 'at', 'depth', 'or', 'along', 'strike', 'to', 'the', 'east', 'and', 'west', 'and', 'exploration', 'is', 'continuing', 'on', 'the', 'golden', 'patricia', 'property', 'and', 'the', 'adjacent', 'wholly', '-', 'owned', 'muskeg', 'lake', 'property', '.', 'the', 'company', 'also', 'said', 'its', 'richmond', 'hill', 'gold', 'and', 'silver', 'deposit', 'in', 'the', 'carbonate', 'district', 'of', 'western', 'south', 'dakota', 'has', 'been', 'shown', 'by', 'drilling', 'to', 'contain', 'about', '3', ',', '900', ',', '000', 'tons', 'grading', '0', '.', '055', 'troy', 'ounce', 'of', 'gold', 'and', '0', '.', '23', 'troy', 'ounce', 'of', 'silver', 'per', 'ton', '.', 'it', 'said', 'preliminary', 'results', 'are', 'encouraging', 'and', 'a', 'feasibility', 'study', 'is', 'nearing', 'completion', '.', '<END>'], ['<START>', 'sigma', 'mines', 'details', 'gold', 'ore', 'reserves', '&', 'lt', ';', 'sigma', 'mines', '(', 'quebec', ')', 'ltd', '>,', '65', 'pct', 'owned', 'by', 'dome', 'mines', 'ltd', ',', 'said', 'its', 'sigma', 'mine', 'had', 'proven', 'and', 'probable', 'reserves', 'at', 'the', 'end', 'of', '1986', 'of', '4', ',', '902', ',', '940', 'tons', ',', 'with', 'an', 'average', 'grade', 'of', '0', '.', '139', 'ounces', 'of', 'gold', 'a', 'ton', '.', 'sigma', 'said', 'the', 'reserves', 'are', 'equivalent', 'to', '10', 'years', 'future', 'production', 'at', 'current', 'milling', 'rates', '.', 'the', 'reserves', 'comprise', '1', ',', '640', ',', '779', 'tons', 'proven', 'reserves', 'grading', 'an', 'average', 'of', '0', '.', '163', 'ounces', 'of', 'gold', 'a', 'ton', 'and', '3', ',', '262', ',', '161', 'tons', 'probable', 'reserves', 'grading', 'an', 'average', 'of', '0', '.', '127', 'ounces', 'of', 'gold', 'a', 'ton', '.', 'sigma', 'said', 'it', 'changed', 'its', '1986', 'reserve', 'reporting', 'method', 'following', 'dome', 'mines', \"'\", 'previously', 'reported', 'move', 'to', 'adopt', 'general', 'industry', 'practice', 'of', 'reporting', 'proven', 'and', 'probable', 'ore', 'reserves', '.', 'prior', 'to', '1986', ',', 'sigma', 'conservatively', 'reported', 'only', 'proven', 'reserves', 'that', 'could', 'be', 'mined', 'without', 'future', 'development', 'costs', '.', 'proven', 'reserves', 'as', 'of', 'december', '31', ',', '1985', 'were', '978', ',', '000', 'tons', 'grading', 'an', 'average', 'of', '0', '.', '194', 'ounces', 'of', 'gold', 'a', 'ton', ',', 'equivalent', 'to', 'about', 'two', 'years', 'future', 'production', '.', '<END>'], ['<START>', 'britain', 'to', 'mint', 'new', '\"', 'britannia', '\"', 'gold', 'coin', 'britain', 'will', 'from', 'next', 'autumn', 'mint', 'and', 'market', 'a', 'new', 'bullion', 'coin', 'called', 'the', '\"', 'britannia', '\"', 'containing', 'one', 'ounce', 'of', '24', 'carat', 'gold', ',', 'together', 'with', 'bullion', 'coins', 'of', 'smaller', 'denominations', ',', 'a', 'treasury', 'official', 'said', '.', 'the', 'new', 'investment', 'coin', ',', 'to', 'be', 'sold', 'worldwide', ',', 'will', 'fluctuate', 'in', 'price', 'according', 'to', 'the', 'international', 'price', 'of', 'gold', '.', 'the', 'smaller', 'coins', 'will', 'be', 'in', 'denominations', 'of', 'a', 'half', 'ounce', ',', 'a', 'quarter', 'ounce', 'and', 'a', 'tenth', 'of', 'an', 'ounce', '.', 'reuter', '<END>'], ['<START>', 'franco', 'nevada', 'says', 'stock', 'rise', 'due', 'to', 'drilling', 'franco', 'nevada', 'mining', 'corp', 'ltd', 'said', 'the', 'gain', 'in', 'its', 'stock', 'price', 'today', 'is', 'related', 'to', 'deep', 'drilling', 'being', 'conducted', 'by', 'american', 'barrick', 'resources', 'corp', 'at', 'the', 'goldstrike', 'claims', 'in', 'the', 'carlin', 'camp', 'in', 'northern', 'nevada', '.', 'franco', 'nevada', 'stock', 'is', 'up', 'two', 'at', 'seven', 'dlrs', 'per', 'share', 'on', 'the', 'toronto', 'stock', 'exchange', '.', 'franco', 'nevada', 'said', 'american', 'barrick', 'announced', 'on', 'march', 'nine', 'that', 'the', 'drilling', 'indicated', 'a', 'number', 'of', 'significant', 'intersections', 'of', 'sulfide', 'gold', 'mineralization', 'below', 'a', 'depth', 'of', 'about', '1', ',', '000', 'feet', '.', 'one', 'vertical', 'drill', 'hole', 'intersected', 'gold', 'continuously', 'from', '1', ',', '100', 'feet', 'to', '1', ',', '730', 'feet', 'averaging', '0', '.', '30', 'ounces', 'per', 'short', 'ton', ',', 'the', 'announcement', 'said', '.', '<END>'], ['<START>', 'north', 'bh', 'sets', 'one', '-', 'for', '-', 'five', 'offer', 'for', 'norgold', 'float', 'north', 'broken', 'hill', 'holdings', 'ltd', '&', 'lt', ';', 'nbha', '.', 'me', '>', '(', 'nbh', ')', 'said', 'it', 'will', 'offer', 'one', '&', 'lt', ';', 'norgold', 'ltd', '>', 'share', 'for', 'every', 'five', 'nbh', 'shares', 'in', 'the', 'float', 'of', 'its', 'newly', 'created', 'gold', 'offshoot', '.', 'the', '20', 'cent', 'par', '-', 'value', 'shares', 'will', 'be', 'offered', 'at', '22', 'cents', 'to', 'shareholders', 'registered', 'april', '3', ',', 'nbh', 'said', 'in', 'a', 'statement', '.', 'norgold', \"'\", 's', 'issued', 'capital', 'will', 'be', '240', '.', '5', 'mln', 'shares', ',', 'of', 'which', '63', 'pct', 'will', 'be', 'held', 'by', 'nbh', 'after', '89', 'mln', 'are', 'issued', 'to', 'shareholders', 'to', 'raise', '19', '.', '6', 'mln', 'dlrs', ',', 'it', 'said', '.', 'norgold', 'will', 'take', 'control', 'of', 'a', 'portfolio', 'of', 'precious', 'metal', 'exploration', 'and', 'pre', '-', 'development', 'interests', 'held', 'by', 'nbh', '.', 'the', 'major', 'gold', 'deposit', 'to', 'be', 'acquired', 'by', 'norgold', 'is', '100', 'pct', 'of', 'the', 'bottle', 'creek', 'deposit', ',', 'west', 'of', 'leonora', 'in', 'western', 'australia', ',', 'nbh', 'said', '.', 'production', 'of', 'gold', 'from', 'the', 'project', ',', 'at', 'an', 'annual', 'rate', 'of', '35', ',', '000', 'ounces', ',', 'is', 'scheduled', 'to', 'begin', 'early', 'in', '1988', '.', 'norgold', 'will', 'also', 'have', 'a', '10', 'pct', 'stake', 'in', 'the', 'coronation', 'hill', 'gold', '/', 'platinum', 'project', 'in', 'the', 'northern', 'territory', 'and', '43', 'pct', 'of', 'the', 'poona', 'copper', '/', 'gold', 'project', 'in', 'south', 'australia', '.', 'other', 'gold', 'exploration', 'interests', 'to', 'be', 'acquired', 'by', 'norgold', 'are', 'in', 'western', 'australia', ',', 'queensland', ',', 'new', 'south', 'wales', 'and', 'tasmania', ',', 'nbh', 'said', '.', '<END>'], ['<START>', 'britain', 'to', 'mint', 'new', '\"', 'britannia', '\"', 'gold', 'coin', 'britain', 'will', 'from', 'next', 'autumn', 'mint', 'and', 'market', 'a', 'new', 'bullion', 'coin', 'called', 'the', '\"', 'britannia', '\"', 'containing', 'one', 'ounce', 'of', '24', 'carat', 'gold', ',', 'together', 'with', 'bullion', 'coins', 'of', 'smaller', 'denominations', ',', 'a', 'treasury', 'official', 'said', '.', 'the', 'new', 'investment', 'coin', ',', 'to', 'be', 'sold', 'worldwide', ',', 'will', 'fluctuate', 'in', 'price', 'according', 'to', 'the', 'international', 'price', 'of', 'gold', '.', 'the', 'smaller', 'coins', 'will', 'be', 'in', 'denominations', 'of', 'a', 'half', 'ounce', ',', 'a', 'quarter', 'ounce', 'and', 'a', 'tenth', 'of', 'an', 'ounce', '.', 'reuter', '<END>'], ['<START>', '\"', 'britannia', '\"', 'coin', 'to', 'sell', 'at', 'premium', 'the', 'new', 'british', 'one', 'ounce', 'gold', 'coin', ',', 'the', '\"', 'britannia', ',\"', 'will', 'be', 'priced', 'on', 'the', 'basis', 'of', 'the', 'gold', 'price', 'on', 'the', 'day', 'of', 'purchase', 'plus', 'a', '\"', 'competitive', 'premium', ',\"', 'treasury', 'officials', 'said', '.', 'value', 'added', 'tax', 'will', 'be', 'levied', 'on', 'all', 'purchases', 'by', 'members', 'of', 'the', 'u', '.', 'k', '.', 'public', ',', 'as', 'is', 'currently', 'the', 'case', 'with', 'foreign', 'coins', ',', 'although', 'transactions', 'between', 'members', 'of', 'the', 'london', 'gold', 'market', 'and', 'all', 'exports', 'of', 'the', 'coins', 'will', 'be', 'zero', '-', 'rated', '.', 'no', 'decision', 'has', 'yet', 'been', 'taken', 'on', 'the', 'face', 'value', 'of', 'the', 'coins', '.', 'although', 'a', 'number', 'of', 'gold', 'coins', ',', 'especially', 'the', 'canadian', 'maple', ',', 'have', 'been', 'issued', 'elsewhere', 'in', 'an', 'attempt', 'to', 'take', 'the', 'place', 'of', 'the', 'south', 'african', 'krugerrand', ',', 'the', 'british', 'government', 'still', 'feels', 'that', 'there', 'is', 'a', 'gap', 'in', 'the', 'market', 'for', 'a', 'british', 'one', 'ounce', 'gold', 'coin', '.', 'the', 'only', 'british', 'gold', 'coin', 'available', 'at', 'present', 'is', 'the', 'sovereign', ',', 'which', 'contains', '0', '.', '2354', 'ounces', 'of', 'gold', '.', 'gold', 'from', 'south', 'africa', 'or', 'the', 'soviet', 'union', 'will', 'not', 'be', 'used', 'in', 'the', 'coin', ',', 'officials', 'said', ',', 'adding', 'that', 'bullion', 'would', 'be', 'bought', 'on', 'the', 'world', 'gold', 'market', '.', 'but', 'analysts', 'said', 'it', 'would', 'be', 'difficult', 'to', 'ascertain', 'the', 'origins', 'of', 'such', 'purchases', '.', 'no', 'details', 'are', 'yet', 'available', 'on', 'how', 'many', 'coins', 'will', 'be', 'issued', 'or', 'how', 'much', 'gold', 'will', 'be', 'bought', ',', 'but', 'traders', 'said', 'that', 'the', 'amounts', 'involved', 'would', 'be', 'unlikely', 'to', 'move', 'the', 'gold', 'price', '.', 'there', 'were', 'some', 'enquiries', 'on', 'the', '\"', 'britannia', '\"', 'from', 'coin', 'dealers', 'today', ',', 'but', 'value', 'added', 'tax', 'would', 'prove', 'a', 'major', 'factor', 'in', 'the', 'success', 'of', 'the', 'coin', ',', 'with', 'the', '15', 'pct', 'tax', 'likely', 'to', 'put', 'off', 'many', 'investors', ',', 'traders', 'said', '.', 'some', 'said', 'that', 'the', '\"', 'britannia', '\"', 'had', 'come', 'too', 'late', ',', 'with', 'the', 'canadian', 'maple', 'leaf', ',', 'the', 'american', 'eagle', 'and', 'other', 'gold', 'coins', 'already', 'well', 'established', '.', '<END>'], ['<START>', 'consolidated', 'tvx', 'to', 'buy', 'brazil', 'gold', 'mine', 'stakes', '&', 'lt', ';', 'consolidated', 'tvx', 'mining', 'corp', '>', 'said', 'it', 'agreed', 'to', 'issue', '7', '.', '8', 'mln', 'treasury', 'shares', 'to', 'acquire', 'interests', 'in', 'three', 'gold', 'mining', 'companies', 'in', 'brazil', 'and', 'an', 'option', 'to', 'increase', 'the', 'company', \"'\", 's', 'interest', 'in', 'a', 'platinum', 'property', '.', 'the', 'company', 'said', 'the', 'transactions', 'will', 'bring', 'immediate', 'production', 'and', 'earnings', 'to', 'consolidated', 'tvx', ',', 'enhance', 'its', 'precious', 'metal', 'potential', 'and', 'is', 'expected', 'to', 'improve', 'cash', 'flow', 'and', 'earnings', 'on', 'a', 'per', 'share', 'basis', '.', 'the', 'company', 'did', 'not', 'give', 'specific', 'figures', '.', 'consolidated', 'tvx', 'said', 'it', 'will', 'acquire', '29', 'pct', 'of', 'cmp', ',', 'a', 'public', 'gold', 'mining', 'company', 'in', 'which', 'tvx', 'already', 'holds', 'a', '15', 'pct', 'interest', ',', 'making', 'tvx', 'the', 'largest', 'single', 'shareholder', '.', 'the', 'company', 'also', 'agreed', 'to', 'acquire', 'a', '19', 'pct', 'stake', 'in', 'novo', 'astro', ',', 'a', 'private', 'company', ',', 'and', 'a', '16', 'pct', 'interest', 'in', 'teles', 'pires', 'mining', ',', 'increasing', 'the', 'tvx', \"'\", 's', 'ownership', 'to', '51', 'pct', '.', 'in', 'addition', ',', 'consolidated', 'tvx', 'said', 'it', 'will', 'acquire', 'the', 'right', 'to', 'add', 'a', '10', 'pct', 'interest', 'to', 'a', 'platinum', 'property', 'in', 'which', 'it', 'already', 'owns', 'a', '29', '.', '4', 'pct', 'stake', '.', 'cmp', 'earned', '11', 'mln', 'canadian', 'dlrs', 'in', '1986', 'and', 'expects', 'to', 'produce', '42', ',', '000', 'ounces', 'of', 'gold', 'in', '1987', 'at', 'a', 'cost', 'of', '160', 'u', '.', 's', '.', 'dlrs', 'an', 'ounce', ',', 'consolidated', 'tvx', 'said', '.', 'novo', 'astro', 'operates', 'brazil', \"'\", 's', 'richest', 'gold', 'mine', 'located', 'in', 'amapa', 'state', ',', 'with', 'an', 'average', 'grade', 'of', '0', '.', '8', 'ounces', 'of', 'gold', 'a', 'ton', 'in', 'a', 'hardrock', 'quartz', 'vein', ',', 'consolidated', 'tvx', 'said', '.', 'mining', 'of', 'eluvial', 'surface', 'material', 'produced', '25', ',', '000', 'ounces', 'in', '1986', 'and', 'is', 'expected', 'to', 'produce', '60', ',', '000', 'ounces', 'in', '1987', '.', 'it', 'also', 'said', 'teles', 'pires', 'mining', 'controls', 'rights', 'to', 'a', '350', 'kilometer', 'section', 'of', 'the', 'teles', 'pires', 'river', ',', 'where', 'one', 'dredge', 'is', 'expected', 'to', 'produce', '10', ',', '000', 'ounces', 'of', 'gold', 'in', '1987', '.', '<END>'], ['<START>', 'japan', 'cabinet', 'approves', 'bill', 'on', 'gold', 'coin', 'issues', 'the', 'cabinet', 'has', 'approved', 'a', 'bill', 'making', 'it', 'easier', 'for', 'the', 'government', 'to', 'issue', 'commemorative', 'coins', ',', 'a', 'finance', 'ministry', 'official', 'said', '.', 'the', 'bill', ',', 'which', 'must', 'still', 'be', 'approved', 'by', 'parliament', ',', 'would', 'take', 'effect', 'in', 'april', '1988', '.', 'it', 'would', 'allow', 'the', 'government', 'to', 'issue', '1', ',', '000', ',', '5', ',', '000', 'and', '10', ',', '000', 'yen', 'coins', 'without', 'special', 'legislation', ',', 'although', 'higher', '-', 'valued', 'coins', 'would', 'still', 'need', 'a', 'special', 'law', ',', 'the', 'official', 'said', '.', 'at', 'present', 'it', 'can', 'only', 'issue', 'coins', 'of', '500', 'yen', 'or', 'less', '.', '<END>'], ['<START>', 'japan', 'cabinet', 'approves', 'bill', 'on', 'gold', 'coin', 'issues', 'the', 'cabinet', 'has', 'approved', 'a', 'bill', 'making', 'it', 'easier', 'for', 'the', 'government', 'to', 'issue', 'commemorative', 'coins', ',', 'a', 'finance', 'ministry', 'official', 'said', '.', 'the', 'bill', ',', 'which', 'must', 'still', 'be', 'approved', 'by', 'parliament', ',', 'would', 'take', 'effect', 'in', 'april', '1988', '.', 'it', 'would', 'allow', 'the', 'government', 'to', 'issue', '1', ',', '000', ',', '5', ',', '000', 'and', '10', ',', '000', 'yen', 'coins', 'without', 'special', 'legislation', ',', 'although', 'higher', '-', 'valued', 'coins', 'would', 'still', 'need', 'a', 'special', 'law', ',', 'the', 'official', 'said', '.', 'at', 'present', 'it', 'can', 'only', 'issue', 'coins', 'of', '500', 'yen', 'or', 'less', '.', '<END>'], ['<START>', 'haiti', 'announces', 'find', 'of', 'ore', '-', 'rich', 'gold', 'field', 'the', 'ministry', 'of', 'mines', 'has', 'announced', 'the', 'discovery', 'of', 'a', 'major', 'gold', 'field', 'in', 'grand', 'bois', 'in', 'haiti', \"'\", 's', 'mineral', '-', 'rich', 'north', '.', 'at', 'a', 'press', 'conference', 'yesterday', ',', 'a', 'ministry', 'spokesman', 'reported', 'the', 'deposit', 'contained', 'an', 'estimated', '44', 'mln', 'tons', 'of', 'ore', ',', 'with', 'each', 'ton', 'capable', 'of', 'containing', '7', ',', '666', 'grams', 'of', 'gold', '.', 'the', 'spokesman', 'gave', 'no', 'estimate', 'of', 'what', 'he', 'thought', 'the', 'find', ',', 'discovered', 'on', 'wednesday', ',', 'was', 'worth', '.', 'however', ',', 'mining', 'could', 'only', 'begin', 'after', 'foreign', 'partners', 'invest', 'eight', 'mln', 'dlrs', 'needed', 'for', 'technical', 'equipment', ',', 'the', 'spokesman', 'said', '.', 'the', 'haitian', 'government', 'has', 'never', 'before', 'operated', 'a', 'gold', 'mine', ',', 'but', 'the', 'united', 'nations', 'has', 'recently', 'completed', 'a', 'three', 'year', 'feasibility', 'study', 'which', 'lists', 'grand', 'bois', 'and', 'morne', 'bossa', 'as', 'sites', 'of', 'important', 'gold', 'deposits', '.', 'in', '1971', ',', 'the', 'sedren', 'copper', 'mine', 'in', 'gonaives', ',', 'operated', 'by', 'a', 'canadian', 'firm', ',', 'closed', 'down', 'after', 'years', 'of', 'mining', 'a', 'concentrate', 'containing', 'gold', 'as', 'well', 'as', 'copper', '.', '\"', 'the', 'new', 'grand', 'bois', 'mine', 'represents', 'large', 'amounts', 'of', 'money', ',\"', 'said', 'a', 'former', 'official', 'of', 'sedren', 'mine', '.', '\"', 'but', 'like', 'everything', 'else', 'there', \"'\", 's', 'a', 'catch', '.', 'the', 'gold', 'has', 'to', 'be', 'extracted', ',', 'and', 'first', 'someone', 'has', 'to', 'come', 'up', 'with', 'the', 'money', 'to', 'finance', 'the', 'operation', ',\"', 'the', 'official', ',', 'who', 'asked', 'not', 'to', 'be', 'named', ',', 'told', 'reuters', '.', '<END>'], ['<START>', 'amax', '&', 'lt', ';', 'amx', '>', 'in', 'gold', ',', 'silver', 'find', 'amax', 'incx', 'said', 'it', 'has', 'identified', 'additional', 'gold', 'and', 'silver', 'ore', 'reserves', 'at', 'its', 'amax', 'sleeper', 'mine', 'near', 'winnemucca', ',', 'nev', '..', 'it', 'said', 'as', 'a', 'result', 'of', 'recent', 'drilling', ',', 'reserves', 'at', 'thhe', 'mine', 'are', 'now', 'estimated', 'at', '2', ',', '470', ',', '000', 'short', 'tons', 'of', 'ore', 'grading', '0', '.', '24', 'ounce', 'of', 'gold', 'and', '0', '.', '50', 'ounce', 'of', 'silver', 'per', 'ton', 'that', 'is', 'treatable', 'by', 'conventional', 'milling', 'techniques', '.', 'amax', 'said', 'additional', 'reserves', 'amenable', 'to', 'heap', 'leaching', 'are', 'estimated', 'at', '38', '.', '3', 'mln', 'tons', 'averaging', '0', '.', '025', 'ounce', 'gold', 'and', '0', '.', '24', 'ounce', 'silver', 'per', 'ton', '.', 'further', 'drilling', 'is', 'being', 'conducted', ',', 'it', 'said', '.', '<END>'], ['<START>', 'japan', \"'\", 's', 'dowa', 'mining', 'to', 'produce', 'gold', 'from', 'april', '&', 'lt', ';', 'dowa', 'mining', 'co', 'ltd', '>', 'said', 'it', 'will', 'start', 'commercial', 'production', 'of', 'gold', ',', 'copper', ',', 'lead', 'and', 'zinc', 'from', 'its', 'nurukawa', 'mine', 'in', 'northern', 'japan', 'in', 'april', '.', 'a', 'company', 'spokesman', 'said', 'the', 'mine', \"'\", 's', 'monthly', 'output', 'is', 'expected', 'to', 'consist', 'of', '1', ',', '300', 'tonnes', 'of', 'gold', 'ore', 'and', '3', ',', '700', 'of', 'black', 'ore', ',', 'which', 'consists', 'of', 'copper', ',', 'lead', 'and', 'zinc', 'ores', '.', 'a', 'company', 'survey', 'shows', 'the', 'gold', 'ore', 'contains', 'up', 'to', '13', '.', '3', 'grams', 'of', 'gold', 'per', 'tonne', ',', 'he', 'said', '.', 'proven', 'gold', 'ore', 'reserves', 'amount', 'to', '50', ',', '000', 'tonnes', 'while', 'estimated', 'reserves', 'of', 'gold', 'and', 'black', 'ores', 'total', 'one', 'mln', 'tonnes', ',', 'he', 'added', '.', '<END>'], ['<START>', 'german', 'bank', 'sees', 'higher', 'gold', 'price', 'for', '1987', 'gold', 'is', 'expected', 'to', 'continue', 'its', 'rise', 'this', 'year', 'due', 'to', 'renewed', 'inflationary', 'pressures', ',', 'especially', 'in', 'the', 'u', '.', 's', '.,', 'hamburg', '-', 'based', 'vereins', '-', 'und', 'westbank', 'ag', 'said', '.', 'it', 'said', 'in', 'a', 'statement', 'the', 'stabilisation', 'of', 'crude', 'oil', 'prices', 'and', 'the', 'organisation', 'of', 'petroleum', 'exporting', 'countries', \"'\", 'efforts', 'to', 'achieve', 'further', 'firming', 'of', 'the', 'price', 'led', 'to', 'growing', 'inflationary', 'pressures', 'in', 'the', 'u', '.', 's', '.,', 'the', 'world', \"'\", 's', 'biggest', 'crude', 'oil', 'producer', '.', 'money', 'supplies', 'in', 'the', 'u', '.', 's', '.,', 'japan', 'and', 'west', 'germany', 'exceed', 'the', 'central', 'banks', \"'\", 'limits', 'and', 'real', 'growth', 'of', 'their', 'gross', 'national', 'products', ',', 'it', 'said', '.', 'use', 'of', 'physical', 'gold', 'should', 'rise', 'this', 'year', 'due', 'to', 'increased', 'industrial', 'demand', 'and', 'higher', 'expected', 'coin', 'production', ',', 'the', 'bank', 'said', '.', 'speculative', 'demand', ',', 'which', 'influences', 'the', 'gold', 'price', 'on', 'futures', 'markets', ',', 'has', 'also', 'risen', '.', 'these', 'factors', 'and', 'south', 'africa', \"'\", 's', 'unstable', 'political', 'situation', ',', 'which', 'may', 'lead', 'to', 'a', 'temporary', 'reduction', 'in', 'gold', 'supplies', 'from', 'that', 'country', ',', 'underline', 'the', 'firmer', 'sentiment', ',', 'it', 'said', '.', 'however', ',', 'australia', \"'\", 's', 'output', 'is', 'estimated', 'to', 'rise', 'to', '90', 'tonnes', 'this', 'year', 'from', '73', '.', '5', 'tonnes', 'in', '1986', '.', '<END>'], ['<START>', 'german', 'bank', 'sees', 'higher', 'gold', 'price', 'for', '1987', 'gold', 'is', 'expected', 'to', 'continue', 'its', 'rise', 'this', 'year', 'due', 'to', 'renewed', 'inflationary', 'pressures', ',', 'especially', 'in', 'the', 'u', '.', 's', '.,', 'hamburg', '-', 'based', 'vereins', '-', 'und', 'westbank', 'ag', 'said', '.', 'it', 'said', 'in', 'a', 'statement', 'the', 'stabilisation', 'of', 'crude', 'oil', 'prices', 'and', 'the', 'organisation', 'of', 'petroleum', 'exporting', 'countries', \"'\", 'efforts', 'to', 'achieve', 'further', 'firming', 'of', 'the', 'price', 'has', 'led', 'to', 'growing', 'inflationary', 'pressures', 'in', 'the', 'u', '.', 's', '.', 'money', 'supplies', 'in', 'the', 'u', '.', 's', '.,', 'japan', 'and', 'west', 'germany', 'exceed', 'central', 'bank', 'limits', 'and', 'real', 'growth', 'of', 'their', 'gross', 'national', 'products', ',', 'it', 'added', '.', 'use', 'of', 'physical', 'gold', 'should', 'rise', 'this', 'year', 'due', 'to', 'increased', 'industrial', 'demand', 'and', 'higher', 'expected', 'coin', 'production', ',', 'the', 'bank', 'said', '.', 'speculative', 'demand', ',', 'which', 'influences', 'the', 'gold', 'price', 'on', 'futures', 'markets', ',', 'has', 'also', 'risen', ',', 'the', 'bank', 'said', '.', 'these', 'factors', 'and', 'south', 'africa', \"'\", 's', 'unstable', 'political', 'situation', ',', 'which', 'may', 'lead', 'to', 'a', 'temporary', 'reduction', 'in', 'gold', 'supplies', 'from', 'that', 'country', ',', 'underscore', 'the', 'firmer', 'sentiment', ',', 'it', 'said', '.', 'however', ',', 'australia', \"'\", 's', 'output', 'is', 'estimated', 'to', 'rise', 'to', '90', 'tonnes', 'this', 'year', 'from', '73', '.', '5', 'tonnes', 'in', '1986', '.', '<END>'], ['<START>', 'some', '7', ',', '000', 'miners', 'go', 'on', 'strike', 'in', 'south', 'africa', 'some', '7', ',', '000', 'black', 'miners', 'went', 'on', 'strike', 'at', 'south', 'african', 'gold', 'and', 'coal', 'mines', ',', 'the', 'national', 'union', 'of', 'mineworkers', '(', 'num', ')', 'said', '.', 'a', 'num', 'spokesman', 'said', '6', ',', '000', 'workers', 'began', 'an', 'underground', 'sit', '-', 'in', 'at', 'the', 'grootvlei', 'gold', 'mine', ',', 'owned', 'by', 'general', 'union', 'mining', 'corp', ',', 'to', 'protest', 'the', 'transfer', 'of', 'colleagues', 'to', 'different', 'jobs', '.', 'he', 'said', 'about', '1', ',', '000', 'employees', 'of', 'anglo', 'american', 'corp', \"'\", 's', 'new', 'vaal', 'colliery', 'also', 'downed', 'tools', 'but', 'the', 'reason', 'for', 'the', 'stoppage', 'was', 'not', 'immediately', 'clear', '.', 'officials', 'of', 'the', 'two', 'companies', 'were', 'not', 'available', 'for', 'comment', 'and', 'the', 'num', 'said', 'it', 'was', 'trying', 'to', 'start', 'negotiations', 'with', 'management', '.', '<END>'], ['<START>', 'levon', 'resources', '&', 'lt', ';', 'lvnvf', '>', 'gold', 'assays', 'improved', 'levon', 'resources', 'ltd', 'said', 're', '-', 'checked', 'gold', 'assays', 'from', 'the', 'howard', 'tunnel', 'on', 'its', 'congress', ',', 'british', 'columbia', 'property', 'yielded', 'higher', 'gold', 'grades', 'than', 'those', 'reported', 'in', 'january', 'and', 'february', '.', 'it', 'said', 'assays', 'from', 'zone', 'one', 'averaged', '0', '.', '809', 'ounces', 'of', 'gold', 'a', 'ton', 'over', 'a', '40', 'foot', 'section', 'with', 'an', 'average', 'width', 'of', '6', '.', '26', 'feet', '.', 'levon', 'previously', 'reported', 'the', 'zone', 'averaged', '0', '.', '226', 'ounces', 'of', 'gold', 'a', 'ton', 'over', 'a', '40', 'foot', 'section', 'with', 'average', 'width', 'of', '5', '.', '16', 'feet', '.', 'levon', 'said', 're', '-', 'checked', 'assays', 'from', 'zone', 'two', 'averaged', '0', '.', '693', 'ounces', 'of', 'gold', 'a', 'ton', 'over', 'a', '123', 'foot', 'section', 'with', 'average', 'width', 'of', '4', '.', '66', 'feet', '.', 'levon', 'resources', 'said', 'the', 'revised', 'zone', 'two', 'assays', 'compared', 'to', 'previously', 'reported', 'averages', 'of', '0', '.', '545', 'ounces', 'of', 'gold', 'a', 'ton', 'over', 'a', '103', 'foot', 'section', 'with', 'average', 'width', 'of', '4', '.', '302', 'feet', '.', 'the', 'company', 'also', 'said', 'it', 'intersected', 'another', 'vein', '90', 'feet', 'west', 'of', 'zone', 'two', ',', 'which', 'assayed', '0', '.', '531', 'ounces', 'of', 'gold', 'a', 'ton', 'across', 'a', 'width', 'of', '3', '.', '87', 'feet', '.', '<END>'], ['<START>', 'bp', '&', 'lt', ';', 'bp', '>', 'unit', 'sees', 'mine', 'proceeding', 'british', 'petroleum', 'co', 'plc', 'said', 'based', 'on', 'a', 'feasibility', 'report', 'from', '&', 'lt', ';', 'ridgeway', 'mining', 'co', '>,', 'its', 'joint', 'venture', 'ridgeway', 'project', 'in', 'south', 'carolina', 'could', 'start', 'commercial', 'gold', 'production', 'by', 'mid', '-', '1988', '.', 'the', 'company', 'said', 'the', 'mine', 'would', 'produce', 'at', 'an', 'approximate', 'rate', 'of', '158', ',', '000', 'ounces', 'of', 'gold', 'per', 'year', 'over', 'the', 'first', 'four', 'full', 'years', 'of', 'operation', 'from', '1989', 'through', '1992', 'and', 'at', 'an', 'average', 'of', '133', ',', '000', 'ounces', 'a', 'year', 'over', 'the', 'full', 'projected', '11', '-', 'year', 'life', 'of', 'the', 'mine', '.', 'bp', \"'\", 's', 'partner', 'in', 'the', 'venture', 'is', 'galactic', 'resources', 'ltd', '&', 'lt', ';', 'galcf', '>', 'of', 'toronto', '.', 'the', 'company', 'said', 'subject', 'to', 'receipt', 'of', 'all', 'statutory', 'permits', ',', 'finalization', 'of', 'financing', 'arrangements', 'and', 'management', 'and', 'joint', 'venture', 'review', ',', 'construction', 'of', 'a', '15', ',', '000', 'short', 'ton', 'per', 'day', 'processing', 'facility', 'can', 'start', '.', 'capital', 'costs', 'to', 'bring', 'the', 'mine', 'into', 'production', 'are', 'estimated', 'at', '76', 'mln', 'dlrs', '.', '<END>'], ['<START>', 'bp', 'unit', 'sees', 'u', '.', 's', '.', 'gold', 'mine', 'proceeding', 'british', 'petroleum', 'co', 'plc', 'said', 'based', 'on', 'a', 'feasibility', 'report', 'from', 'ridgeway', 'mining', 'co', ',', 'its', 'joint', 'venture', 'ridgeway', 'project', 'in', 'south', 'carolina', 'could', 'start', 'commercial', 'gold', 'production', 'by', 'mid', '-', '1988', '.', 'the', 'company', 'said', 'the', 'mine', 'would', 'produce', 'approximately', '158', ',', '000', 'ounces', 'of', 'gold', 'per', 'year', 'over', 'the', 'first', 'four', 'full', 'years', 'of', 'operation', 'from', '1989', 'through', '1992', 'and', 'at', 'an', 'average', '133', ',', '000', 'ounces', 'a', 'year', 'over', 'the', 'full', 'projected', '11', 'year', 'life', 'of', 'the', 'mine', '.', 'bp', \"'\", 's', 'partner', 'is', 'galactic', 'resources', 'ltd', 'of', 'toronto', '.', 'bp', 'said', 'subject', 'to', 'receipt', 'of', 'all', 'statutory', 'permits', ',', 'finalization', 'of', 'financing', 'arrangements', 'and', 'management', 'and', 'joint', 'venture', 'review', ',', 'construction', 'of', 'a', '15', ',', '000', 'short', 'ton', 'per', 'day', 'processing', 'facility', 'can', 'start', '.', 'capital', 'costs', 'to', 'bring', 'the', 'mine', 'into', 'production', 'are', 'estimated', 'at', '76', 'mln', 'dlrs', '.', '<END>'], ['<START>', 'levon', 'resources', 'reports', 'improved', 'gold', 'assays', 'levon', 'resources', 'ltd', 'said', 're', '-', 'checked', 'gold', 'assays', 'from', 'the', 'howard', 'tunnel', 'on', 'its', 'congress', ',', 'british', 'columbia', 'property', 'yielded', 'higher', 'gold', 'grades', 'than', 'those', 'reported', 'in', 'january', 'and', 'february', '.', 'it', 'said', 'assays', 'from', 'zone', 'one', 'averaged', '0', '.', '809', 'ounces', 'of', 'gold', 'a', 'ton', '.', 'levon', 'previously', 'reported', 'the', 'zone', 'averaged', '0', '.', '226', 'ounces', 'of', 'gold', 'a', 'ton', '.', 'levon', 'said', 're', '-', 'checked', 'assays', 'from', 'zone', 'two', 'averaged', '0', '.', '693', 'ounces', 'of', 'gold', 'a', 'ton', '.', 'levon', 'resources', 'said', 'the', 'revised', 'zone', 'two', 'assays', 'compared', 'to', 'previously', 'reported', 'averages', 'of', '0', '.', '545', 'ounces', 'of', 'gold', 'a', 'ton', '.', 'the', 'company', 'also', 'said', 'it', 'intersected', 'another', 'vein', '90', 'feet', 'west', 'of', 'zone', 'two', ',', 'which', 'assayed', '0', '.', '531', 'ounces', 'of', 'gold', 'a', 'ton', '.', '<END>'], ['<START>', 'starrex', 'links', 'share', 'price', 'to', 'assay', 'speculation', '&', 'lt', ';', 'starrex', 'mining', 'corp', 'ltd', '>', 'said', 'a', 'sharp', 'rise', 'in', 'its', 'share', 'price', 'is', 'based', 'on', 'speculation', 'for', 'favorable', 'results', 'from', 'its', 'current', 'underground', 'diamond', 'drilling', 'program', 'at', 'its', '35', 'pct', 'owned', 'star', 'lake', 'gold', 'mine', 'in', 'northern', 'saskatchewan', '.', 'starrex', 'mining', 'shares', 'rose', '40', 'cts', 'to', '4', '.', '75', 'dlrs', 'in', 'trading', 'on', 'the', 'toronto', 'stock', 'exchange', '.', 'the', 'company', 'said', 'drilling', 'results', 'from', 'the', 'program', 'which', 'started', 'in', 'late', 'february', 'are', 'encouraging', ',', '\"', 'but', 'it', 'is', 'too', 'soon', 'for', 'conclusions', '.\"', 'starrex', 'did', 'not', 'disclose', 'check', 'assay', 'results', 'from', 'the', 'exploration', 'program', '.', '<END>'], ['<START>', '&', 'lt', ';', 'viceroy', 'resource', 'corp', '>', 'details', 'gold', 'assays', 'viceroy', 'resource', 'corp', 'said', 'recent', 'drilling', 'on', 'the', 'lesley', 'ann', 'deposit', 'extended', 'the', 'high', '-', 'grade', 'mineralization', 'over', 'a', 'width', 'of', '600', 'feet', '.', 'assays', 'ranged', 'from', '0', '.', '35', 'ounces', 'of', 'gold', 'per', 'ton', 'over', 'a', '150', '-', 'foot', 'interval', 'at', 'a', 'depth', 'of', '350', 'to', '500', 'feet', 'to', '1', '.', '1', 'ounces', 'of', 'gold', 'per', 'ton', 'over', 'a', '65', '-', 'foot', 'interval', 'at', 'a', 'depth', 'of', '200', 'to', '410', 'feet', '.', '<END>'], ['<START>', 'viceroy', 'resource', 'corp', 'details', 'gold', 'assays', 'viceroy', 'resource', 'corp', 'said', 'recent', 'drilling', 'on', 'the', 'lesley', 'ann', 'deposit', 'extended', 'the', 'high', '-', 'grade', 'mineralization', 'over', 'a', 'width', 'of', '600', 'feet', '.', 'assays', 'ranged', 'from', 'about', '0', '.', '35', 'ounces', 'of', 'gold', 'per', 'short', 'ton', 'over', 'a', '150', '-', 'foot', 'interval', 'at', 'a', 'depth', 'of', '350', 'to', '500', 'feet', 'to', 'about', '1', '.', '1', 'ounces', 'of', 'gold', 'per', 'ton', 'over', 'a', '65', '-', 'foot', 'interval', 'at', 'a', 'depth', 'of', '200', 'to', '410', 'feet', '.', '<END>'], ['<START>', 'inspiration', '&', 'lt', ';', 'irc', '>', 'in', 'canadian', 'gold', 'find', 'inspiration', 'resources', 'corp', 'said', 'a', 'gold', 'project', 'in', 'northern', 'manitoba', 'in', 'which', 'it', 'has', 'a', '44', '.', '8', 'pct', 'interest', 'has', 'yielded', 'estimated', 'total', 'reserves', 'of', '1', ',', '580', ',', '000', 'short', 'tons', 'grading', 'an', 'average', '0', '.', '185', 'ounce', 'of', 'gold', 'per', 'ton', '.', 'the', 'company', 'said', '&', 'lt', ';', 'manitoba', 'mineral', 'resources', 'ltd', '>', 'owns', 'the', 'remaining', 'interest', 'in', 'the', 'project', ',', 'which', 'is', 'located', 'about', '25', 'miles', 'east', 'of', 'lynn', 'lake', '.', 'inspiration', 'said', 'the', 'project', 'has', 'proven', 'reserves', 'of', '538', ',', '000', 'tons', 'assayed', 'at', '0', '.', '212', 'ounce', 'of', 'gold', 'per', 'ton', ',', 'probable', 'reserves', 'of', '686', ',', '000', 'tons', 'at', '0', '.', '166', 'ounce', 'and', 'possible', 'reserves', 'of', '355', ',', '000', 'tons', 'at', '0', '.', '183', 'ounce', '.', 'inspiration', 'said', 'a', 'production', 'decision', 'is', 'expected', 'to', 'be', 'made', 'in', '1988', '.', '<END>'], ['<START>', 'morgan', 'bank', 'plans', 'warrants', 'for', 'gold', 'at', '425', 'dlrs', 'morgan', 'guaranty', 'trust', 'co', 'of', 'new', 'york', 'plans', 'an', 'issue', 'of', '12', ',', '000', 'warrants', 'for', 'gold', 'bullion', 'at', '425', 'dlrs', 'an', 'ounce', ',', 'lead', 'manager', 'morgan', 'guaranty', '(', 'switzerland', ')', 'ag', 'said', '.', 'each', 'warrant', ',', 'priced', 'at', '955', 'swiss', 'francs', ',', 'entitled', 'holders', 'to', 'acquire', 'five', '-', 'ounce', 'bars', 'of', '.', '999', 'gold', 'in', 'the', 'period', 'from', 'april', '30', ',', '1987', ',', 'to', 'july', '31', ',', '1991', ',', 'exercisable', 'on', 'wednesdays', '.', 'the', 'warrants', 'represented', 'unsecured', ',', 'unsubordinated', 'liabilities', 'of', 'the', 'borrower', '.', 'payment', 'was', 'due', 'april', '16', ',', 'and', 'a', 'quotation', 'on', 'the', 'luxembourg', 'bourse', 'was', 'planned', '.', 'the', 'warrants', ',', 'when', 'exercised', ',', 'would', 'be', 'repaid', 'in', 'current', 'dollars', 'based', 'on', 'the', 'value', 'of', 'gold', 'on', 'the', 'exercise', 'date', '.', 'the', 'conditions', 'represent', 'a', 'premium', 'of', 'about', '145', 'dlrs', 'an', 'ounce', 'to', 'the', 'current', 'gold', 'price', '.', 'a', 'morgan', '(', 'switzerland', ')', 'official', 'said', 'that', 'on', 'the', 'basis', 'of', 'the', 'maturity', 'of', 'four', 'years', 'and', 'three', 'months', ',', 'the', 'pricing', 'involved', 'an', 'implicit', 'volatility', 'of', 'gold', 'of', '24', '.', '5', 'pct', 'before', 'the', 'warrants', 'were', 'in', 'the', 'money', ',', 'compared', 'with', 'implicit', 'volatility', 'of', '30', 'pct', 'for', 'the', 'indosuez', 'gold', 'warrants', 'and', '26', 'pct', 'for', 'the', 'citibank', 'gold', 'warrants', 'recent', 'issued', 'with', 'maturities', 'of', '18', 'and', '24', 'months', '.', '<END>'], ['<START>', 'east', 'rand', 'mines', 'expect', 'higher', 'gold', 'production', 'east', 'rand', 'proprietary', 'mines', 'ltd', 'said', 'that', 'barring', 'any', 'major', 'disruption', 'in', 'production', ',', 'it', 'expects', '1987', 'gold', 'output', 'to', 'top', '10', 'tonnes', 'after', 'dropping', 'to', '9', '.', '223', 'tonnes', 'last', 'year', 'from', '10', '.', '251', 'in', '1985', '.', 'chairman', 'clive', 'knobbs', 'said', 'in', 'the', 'annual', 'report', 'the', 'mine', 'was', 'expected', 'to', 'mill', 'a', 'higher', 'tonnage', 'while', 'capital', 'expenditure', 'during', '1987', 'will', 'be', 'around', '118', '.', '5', 'mln', 'rand', '.', 'the', 'decline', 'in', 'gold', 'production', 'last', 'year', 'was', 'due', 'to', 'a', 'four', 'pct', 'drop', 'in', 'tonnage', 'milled', 'and', 'a', 'seven', 'pct', 'decline', 'in', 'grade', '.', '<END>'], ['<START>', 'some', '7', ',', '000', 'south', 'african', 'miners', 'return', 'to', 'work', 'some', '7', ',', '000', 'black', 'workers', 'returned', 'to', 'work', 'after', 'staging', 'one', '-', 'day', 'strikes', 'at', 'two', 'mines', 'on', 'monday', ',', 'the', 'national', 'union', 'of', 'mineworkers', 'and', 'the', 'companies', 'that', 'own', 'the', 'mines', 'said', '.', 'about', '6', ',', '000', 'miners', 'resumed', 'work', 'at', 'the', 'grootvlei', 'gold', 'mine', 'east', 'of', 'johannesburg', 'after', 'protesting', 'the', 'transfer', 'of', 'colleagues', 'to', 'other', 'jobs', 'at', 'the', 'same', 'mine', ',', 'owners', 'general', 'mining', 'union', 'corp', 'ltd', '&', 'lt', ';', 'genm', '.', 'j', '>', 'said', '.', 'the', 'union', 'said', 'about', '1', ',', '000', 'mineworkers', 'at', 'a', 'new', 'coal', 'facility', 'owned', 'by', 'anglo', 'american', 'corp', 'of', 'south', 'africa', 'ltd', '&', 'lt', ';', 'angl', '.', 'j', '>', 'also', 'returned', 'to', 'their', 'jobs', 'on', 'tuesday', '.', 'the', 'workers', 'at', 'anglo', \"'\", 's', 'vaal', 'colliery', 'south', 'of', 'johannesburg', 'had', 'struck', 'to', 'protest', 'the', 'alleged', 'refusal', 'of', 'officials', 'of', 'the', 'south', 'african', 'homeland', 'of', 'transkei', 'to', 'allow', 'miners', 'to', 'attend', 'a', 'funeral', 'in', 'the', 'homeland', ',', 'a', 'union', 'spokesman', 'said', '.', '<END>'], ['<START>', 'currencies', 'could', 'influence', 'bullion', 'again', '-', 'montagu', 'currency', 'fluctuations', 'may', 'reassert', 'their', 'influence', 'on', 'the', 'bullion', 'market', 'in', 'the', 'near', 'future', ',', 'bullion', 'bankers', 'samuel', 'montagu', 'and', 'co', 'ltd', 'said', 'in', 'a', 'market', 'report', '.', 'but', 'the', 'firm', 'said', 'silver', 'may', 'lag', 'behind', 'gold', 'in', 'any', 'reactions', 'to', 'movements', 'on', 'foreign', 'exchanges', '.', '\"', 'opec', \"'\", 's', 'failure', 'to', 'address', 'the', 'recent', 'decline', 'in', 'oil', 'prices', 'remains', 'a', 'worrying', 'factor', 'however', ',', 'and', 'on', 'balance', 'it', 'appears', 'that', 'the', 'market', 'should', 'be', 'approached', 'cautiously', ',\"', 'montagu', 'said', '.', 'the', 'bank', 'said', 'the', 'us', 'economy', 'has', 'shown', 'no', 'noticeable', 'long', '-', 'term', 'improvement', 'and', 'that', 'both', 'latin', 'american', 'debt', 'and', 'the', 'iranian', 'arms', 'affair', 'could', 'undermine', 'confidence', 'in', 'the', 'dollar', '.', '<END>'], ['<START>', 'north', 'korea', 'to', 'resurrect', 'gold', 'mine', 'to', 'repay', 'debt', 'pyongyang', 'and', 'a', 'group', 'of', 'tokyo', '-', 'based', 'north', 'korean', 'businessmen', 'plan', 'to', 'resurrect', 'a', 'north', 'korean', 'goldmine', 'and', 'boost', 'annual', 'output', 'to', 'almost', 'one', 'tonne', 'within', 'two', 'years', 'from', '600', 'pounds', 'at', 'present', ',', 'said', 'li', 'sangsu', ',', 'a', 'spokesman', 'for', '&', 'lt', ';', 'unzan', 'mine', 'development', 'co', '>,', 'the', 'venture', 'partner', '.', 'work', 'will', 'begin', 'on', 'april', '3', 'and', 'the', 'company', 'aims', 'to', 'increase', 'output', 'to', '10', 'tonnes', 'within', 'a', 'decade', 'to', 'pay', 'off', 'pyongyang', \"'\", 's', '70', 'billion', 'yen', 'debt', 'to', '30', 'japanese', 'companies', ',', 'li', 'added', '.', '\"', 'we', 'expect', 'this', 'mine', 'to', 'be', 'worth', 'about', '2', ',', '000', 'billion', 'yen', 'in', 'gold', 'deposits', ',\"', 'he', 'said', '.', 'the', 'mine', ',', 'started', 'in', '1896', 'by', 'a', 'u', '.', 's', '.', 'company', ',', 'is', 'one', 'of', 'six', 'or', 'seven', 'virtually', 'untapped', 'mines', 'in', 'the', 'unzan', 'area', ',', '94', 'miles', 'north', 'of', 'pyongyang', ',', 'li', 'said', '.', 'li', 'said', 'modern', 'equipment', 'and', 'advanced', 'technology', 'would', 'increase', 'yields', '.', '\"', 'up', 'to', 'now', ',', 'the', 'mining', 'was', 'done', 'with', 'antiquated', 'methods', 'and', 'basic', 'equipment', '.\"', 'the', 'gold', 'mine', 'scheme', 'is', 'the', 'latest', 'in', 'a', 'series', 'of', 'moves', 'by', 'north', 'korea', 'to', 'clear', 'its', 'debts', 'to', 'japanese', 'creditors', '.', 'earlier', 'this', 'year', ',', 'pyongyang', 'tried', 'and', 'failed', 'to', 'pay', 'off', 'part', 'of', 'its', 'debt', 'with', 'several', 'tonnes', 'of', 'fish', '.', '<END>'], ['<START>', 'some', '7', ',', '000', 'south', 'african', 'miners', 'return', 'to', 'work', 'some', '7', ',', '000', 'black', 'workers', 'returned', 'to', 'work', 'after', 'staging', 'one', '-', 'day', 'strikes', 'at', 'two', 'mines', 'on', 'monday', ',', 'the', 'national', 'union', 'of', 'mineworkers', 'and', 'the', 'companies', 'that', 'own', 'the', 'mines', 'said', '.', 'about', '6', ',', '000', 'miners', 'resumed', 'work', 'at', 'the', 'grootvlei', 'gold', 'mine', 'east', 'of', 'johannesburg', 'after', 'protesting', 'the', 'transfer', 'of', 'colleagues', 'to', 'other', 'jobs', 'at', 'the', 'same', 'mine', ',', 'owners', 'general', 'mining', 'union', 'corp', 'ltd', '&', 'lt', ';', 'genm', '.', 'j', '>', 'said', '.', 'the', 'union', 'said', 'about', '1', ',', '000', 'mineworkers', 'at', 'a', 'new', 'coal', 'facility', 'owned', 'by', 'anglo', 'american', 'corp', 'of', 'south', 'africa', 'ltd', '&', 'lt', ';', 'angl', '.', 'j', '>', 'also', 'returned', 'to', 'their', 'jobs', 'on', 'tuesday', '.', 'the', 'workers', 'at', 'anglo', \"'\", 's', 'vaal', 'colliery', 'south', 'of', 'johannesburg', 'had', 'struck', 'to', 'protest', 'the', 'alleged', 'refusal', 'of', 'officials', 'of', 'the', 'south', 'african', 'homeland', 'of', 'transkei', 'to', 'allow', 'miners', 'to', 'attend', 'a', 'funeral', 'in', 'the', 'homeland', ',', 'a', 'union', 'spokesman', 'said', '.', '<END>'], ['<START>', 'new', 'market', 'emerges', 'in', 'warrants', 'for', 'gold', 'a', 'new', 'market', 'has', 'emerged', 'in', 'warrants', 'to', 'buy', 'gold', ',', 'a', 'vehicle', 'which', 'bankers', 'say', 'brings', 'some', 'of', 'the', 'play', 'of', 'commodity', 'options', 'into', 'the', 'field', 'of', 'securities', '.', 'over', 'the', 'past', 'three', 'weeks', ',', 'swiss', 'offices', 'of', 'american', 'banks', 'have', 'launched', 'a', 'total', 'of', 'four', 'issues', 'of', 'warrants', 'with', 'varying', 'conditions', ',', 'drawing', 'on', 'renewed', 'inflationary', 'worries', 'and', 'the', 'recovery', 'of', 'the', 'gold', 'price', 'last', 'year', '.', 'and', 'credit', 'suisse', 'and', 'credit', 'suisse', '-', 'first', 'boston', 'each', 'issued', 'swiss', 'franc', 'bonds', 'with', 'warrants', 'for', 'gold', 'which', 'have', 'a', 'similar', 'character', ',', 'though', 'they', 'are', 'aimed', 'at', 'a', 'less', 'professional', 'market', '.', 'the', 'market', 'is', 'still', 'small', '.', 'taken', 'together', ',', 'the', 'four', 'american', '-', 'led', 'warrant', 'issues', 'raised', 'only', 'about', '50', 'mln', 'swiss', 'francs', '.', 'but', 'banks', 'believe', 'the', 'vehicle', 'meets', 'a', 'need', 'of', 'investors', 'and', 'predicted', 'a', 'lively', 'future', '.', 'andrew', 'barrett', 'of', 'citicorp', 'investment', 'bank', '(', 'switzerland', ')', 'ag', 'said', ':', '\"', 'the', 'warrants', 'give', 'smaller', 'investors', 'a', 'chance', 'to', 'have', 'a', 'long', '-', 'term', 'investment', 'in', 'gold', 'with', 'limited', 'risk', '.\"', 'citicorp', 'in', 'zurich', 'launched', 'the', 'first', 'of', 'these', 'warrants', 'on', 'february', '27', ',', 'following', 'it', 'up', 'with', 'a', 'second', 'issue', 'less', 'than', 'a', 'week', 'later', '.', 'the', 'issuer', 'in', 'both', 'cases', 'was', 'citibank', 'na', '.', 'the', 'idea', 'found', 'some', 'quick', 'copies', '.', 'goldman', 'sachs', 'in', 'zurich', 'organized', 'and', 'co', '-', 'led', 'an', 'issue', 'for', 'the', 'swiss', 'branch', 'of', 'banque', 'indosuez', 'on', 'march', '9', 'and', 'last', 'night', 'morgan', 'guaranty', '(', 'switzerland', ')', 'ag', 'did', 'another', 'for', 'morgan', 'guaranty', 'trust', 'co', 'of', 'new', 'york', '.', 'the', 'four', 'issues', 'now', 'offer', 'investors', 'striking', 'prices', 'for', 'gold', 'ranging', 'from', 'the', 'indosuez', 'issue', 'at', '410', 'dlrs', 'an', 'ounce', ',', 'the', 'same', 'price', 'as', 'the', 'underlying', 'commodity', ',', 'to', 'a', '430', 'dlr', 'level', 'on', 'the', 'first', 'one', 'for', 'citibank', '.', 'the', 'premiums', 'range', 'from', '22', 'pct', 'to', '36', 'pct', 'and', 'maturities', 'from', '18', 'months', 'to', 'four', 'years', 'and', 'three', 'months', ',', 'in', 'all', 'cases', 'longer', 'than', 'gold', 'futures', 'and', 'options', 'on', 'u', '.', 's', '.', 'markets', '.', 'the', 'bankers', 'traced', 'the', 'inspiration', 'for', 'the', 'market', 'back', 'to', 'the', 'february', 'report', 'of', 'u', '.', 's', '.', 'consumer', 'prices', 'for', 'january', ',', 'when', 'a', 'jump', 'of', '0', '.', '7', 'pct', 'raised', 'again', 'the', 'threat', 'of', 'inflation', '.', '\"', 'many', 'people', 'are', 'worried', 'about', 'inflation', 'again', ',\"', 'said', 'mats', 'joensson', 'of', 'goldman', 'sachs', '.', '\"', 'money', 'supply', 'in', 'germany', 'and', 'the', 'united', 'states', 'has', 'grown', 'very', 'strongly', 'in', 'the', 'last', 'year', 'and', 'people', 'want', 'to', 'take', 'a', 'ride', 'on', 'gold', '.\"', 'the', 'gold', 'market', ',', 'having', 'seen', 'strong', 'gains', 'in', '1986', ',', 'has', 'languished', 'just', 'above', '400', 'dlrs', 'an', 'ounce', 'over', 'the', 'past', 'few', 'weeks', '.', 'but', 'the', 'banks', 'saw', 'in', 'warrants', 'the', 'vehicle', 'for', 'a', 'more', 'highly', 'leveraged', 'play', 'where', 'the', 'downside', 'risk', 'was', 'limited', '.', 'barrett', 'said', 'it', 'was', 'natural', 'that', 'the', 'market', 'developed', 'in', 'switzerland', '.', '\"', 'people', 'here', 'understand', 'gold', ',', 'and', 'they', 'understand', 'warrants', ',\"', 'he', 'said', '.', 'citicorp', '(', 'switzerland', ')', 'pioneered', 'warrants', 'with', 'a', 'series', 'of', 'equity', '-', 'linked', 'covered', 'issues', 'based', 'on', 'japanese', 'company', 'shares', 'over', 'the', 'past', 'two', 'years', ',', 'and', 'last', 'autumn', ',', 'swiss', 'banks', 'launched', 'covered', 'warrants', 'in', 'swiss', 'registered', 'shares', 'in', 'a', 'bid', 'to', 'give', 'foreign', 'investors', 'a', 'chance', 'to', 'play', 'in', 'a', 'market', 'otherwise', 'closed', 'to', 'all', 'but', 'swiss', 'citizens', ',', 'and', 'to', 'play', 'it', 'with', 'higher', 'leverage', '.', 'but', 'after', 'a', 'quick', 'flurry', 'of', 'issues', ',', 'that', 'market', 'dried', 'up', 'when', 'swiss', 'shares', 'prices', 'fell', 'from', 'their', 'january', 'peaks', '.', 'the', 'issues', 'are', 'being', 'marketed', 'not', 'on', 'the', 'basis', 'of', 'simple', 'premiums', ',', 'but', 'on', 'implicit', 'volatility', 'models', 'devised', 'to', 'provide', 'scientific', 'comparisons', 'between', 'titles', 'in', 'the', 'options', 'market', '.', 'martin', 'bachem', 'of', 'morgan', 'guaranty', 'said', 'his', 'bank', \"'\", 's', 'issue', 'was', 'competitive', 'despite', 'its', 'relatively', 'high', 'premium', '.', 'the', 'issue', ',', 'for', 'five', 'ounces', 'at', '425', 'dlrs', ',', 'was', 'priced', 'at', '955', 'swiss', 'francs', ',', 'making', 'a', 'premium', 'over', 'the', 'spot', 'gold', 'price', 'of', 'nearly', '36', 'pct', '.', 'using', 'a', 'black', 'sholes', 'options', 'model', ',', 'he', 'said', 'the', 'issue', \"'\", 's', 'long', ',', '4', '.', '3', '-', 'year', 'maturity', 'meant', 'the', 'warrants', 'needed', 'an', 'implicit', 'volatility', 'of', 'gold', 'of', 'only', '24', '.', '5', 'pct', 'for', 'the', 'option', 'to', 'pay', 'off', ',', 'which', 'he', 'claimed', 'was', 'lower', 'than', 'the', 'other', 'issues', '.', 'but', 'barrett', 'said', 'the', 'black', 'sholes', 'variant', 'citicorp', 'used', 'pointed', 'to', 'a', 'higher', 'volatily', 'for', 'the', 'morgan', 'issue', 'and', 'emphasized', 'that', 'the', 'models', 'were', 'at', 'best', 'an', 'inexact', 'science', '.', 'and', 'each', 'bank', ',', 'using', 'its', 'own', 'model', ',', 'put', 'the', 'implicit', 'volatility', 'needed', 'for', 'its', 'own', 'issue', 'at', 'close', 'to', '25', 'pct', '.', 'whatever', 'the', 'calculation', ',', 'the', 'issues', 'have', 'received', 'a', 'warm', 'welcome', 'from', 'investors', '.', 'joensson', 'of', 'goldman', 'sachs', 'said', 'there', 'was', 'a', 'lot', 'of', 'demand', ',', 'even', 'among', 'small', 'investors', ',', 'who', 'were', 'buying', '15', 'or', '20', 'warrants', 'apiece', '.', '\"', 'the', 'most', 'sophisticated', 'ones', 'wouldn', \"'\", 't', 'buy', 'these', 'because', 'the', 'premiums', 'are', 'too', 'high', ',\"', 'he', 'said', '.', '<END>'], ['<START>', 'murgold', 'resources', '&', 'lt', ';', 'mgdvf', '>', 'details', 'assays', 'murgold', 'resources', 'inc', 'said', 'assays', 'received', 'from', '320', 'feet', 'of', 'drifting', 'on', 'the', 'number', '-', 'three', 'vein', 'at', 'the', 'chester', 'township', 'property', 'south', 'of', 'timmins', ',', 'ontario', ',', 'indicate', 'an', 'average', 'of', '0', '.', '528', 'ounce', 'of', 'gold', 'per', 'ton', 'across', 'an', 'average', 'width', 'of', 'five', 'feet', 'for', 'the', '320', '-', 'foot', 'length', '.', 'the', 'last', 'working', 'face', 'assayed', '0', '.', '422', 'ounce', 'of', 'gold', 'per', 'ton', 'across', '8', '.', '5', 'feet', 'and', 'the', 'drift', 'will', 'be', 'continued', 'eastward', 'from', 'that', 'point', ',', 'the', 'company', 'said', '.', '<END>'], ['<START>', 'geodome', '&', 'lt', ';', 'goedf', '>', 'to', 'start', 'mine', 'construction', 'geodome', 'resources', 'ltd', 'said', 'following', 'receipt', 'of', 'a', 'feasibility', 'study', 'from', 'raytheon', 'co', \"'\", 's', '&', 'lt', ';', 'rtn', '>', 'stearns', 'catalytic', 'unit', ',', 'it', 'will', 'proceed', 'with', 'construction', 'and', 'pre', '-', 'production', 'stripping', 'at', 'its', 'sunbeam', 'mine', 'in', 'custer', 'county', ',', 'idaho', ',', 'as', 'quickly', 'as', 'possible', '.', 'the', 'company', 'said', 'the', 'study', 'found', 'proven', 'ore', 'reserves', 'of', '3', ',', '302', ',', '000', 'short', 'tons', 'grading', '0', '.', '077', 'ounce', 'of', 'gold', 'per', 'ton', '.', 'it', 'said', 'the', 'mine', 'will', 'operate', 'at', 'a', 'rate', 'of', '626', ',', '000', 'tons', 'of', 'ore', 'per', 'year', ',', 'with', 'higher', '-', 'grade', 'ore', 'being', 'mined', 'in', 'the', 'first', 'three', 'years', 'for', 'a', 'rapid', 'payback', 'of', 'capital', 'costs', '.', 'the', 'company', 'said', 'the', 'feasibility', 'study', 'calls', 'for', 'gold', 'production', 'averaging', '41', ',', '000', 'ounces', 'a', 'year', 'for', 'the', 'life', 'of', 'the', 'mine', 'and', '50', ',', '000', 'ounces', 'a', 'year', 'over', 'the', 'first', 'three', 'years', ',', 'with', '99', ',', '000', 'ounces', 'of', 'silver', 'per', 'year', 'being', 'produced', 'over', 'the', 'miune', 'life', '.', 'capital', 'costs', 'would', 'be', '22', '.', '3', 'mln', 'dlrs', 'with', 'all', '-', 'new', 'equipment', 'and', '500', ',', '000', 'to', 'one', 'mln', 'dlrs', 'less', 'with', 'used', 'equipment', ',', 'it', 'said', '.', 'it', 'said', 'the', 'mine', 'would', 'be', 'operated', 'by', 'a', 'contract', 'miner', 'but', 'the', 'associated', 'mill', 'by', 'geodome', '.', 'geodome', 'said', 'a', 'new', 'ore', 'zone', 'discovered', 'last', 'summer', 'is', 'not', 'included', 'in', 'reserve', 'calculations', '.', 'it', 'said', 'eight', 'of', 'the', 'nine', 'holes', 'drilled', 'there', 'have', 'an', 'average', 'grade', 'of', '0', '.', '046', 'ounce', 'of', 'gold', 'and', '2', '.', '1', 'ounces', 'of', 'silver', 'per', 'ton', '.', 'also', 'excluded', 'are', 'reserves', 'of', '1', ',', '400', ',', '000', 'tons', 'of', 'low', '-', 'grade', 'material', 'that', 'could', 'be', 'milled', 'profitably', 'at', '425', 'dlrs', 'a', 'ton', 'for', 'gold', '.', 'the', 'feasibility', 'study', 'used', 'a', '350', 'dlr', 'gold', 'price', '.', 'geodome', 'said', 'operating', 'costs', 'of', 'the', 'mine', 'will', 'average', '201', 'dlr', 'per', 'ounce', 'of', 'gold', 'for', 'the', 'mine', 'life', 'and', '171', 'dlrs', 'for', 'the', 'first', 'three', 'years', ',', 'in', 'constant', 'dollars', '.', '<END>'], ['<START>', 'geodome', 'sets', 'idaho', 'gold', '/', 'silver', 'mine', 'construction', 'geodome', 'resources', 'ltd', 'said', 'following', 'receipt', 'of', 'a', 'feasibility', 'study', 'from', 'raytheon', 'co', \"'\", 's', 'stearns', 'catalytic', 'unit', 'it', 'will', 'proceed', 'with', 'construction', 'and', 'pre', '-', 'production', 'stripping', 'at', 'its', 'sunbeam', 'mine', 'in', 'custer', 'county', ',', 'idaho', ',', 'as', 'quickly', 'as', 'possible', '.', 'the', 'company', 'said', 'the', 'study', 'found', 'proven', 'ore', 'reserves', 'of', '3', ',', '302', ',', '000', 'short', 'tons', 'grading', '0', '.', '077', 'ounce', 'of', 'gold', 'per', 'ton', '.', 'it', 'said', 'the', 'mine', 'will', 'operate', 'at', 'a', 'rate', 'of', '626', ',', '000', 'tons', 'of', 'ore', 'per', 'year', ',', 'with', 'higher', '-', 'grade', 'ore', 'being', 'mined', 'in', 'the', 'first', 'three', 'years', 'for', 'a', 'rapid', 'payback', 'of', 'capital', 'costs', '.', 'it', 'said', 'the', 'feasibility', 'study', 'calls', 'for', 'gold', 'production', 'averaging', '41', ',', '000', 'ounces', 'a', 'year', 'for', 'the', 'life', 'of', 'the', 'mine', 'and', '50', ',', '000', 'ounces', 'a', 'year', 'over', 'the', 'first', 'three', 'years', ',', 'with', '99', ',', '000', 'ounces', 'of', 'silver', 'per', 'year', 'being', 'produced', 'over', 'the', 'mine', 'life', '.', 'capital', 'costs', 'would', 'be', '22', '.', '3', 'mln', 'dlrs', 'with', 'all', '-', 'new', 'equipment', 'and', '500', ',', '000', 'to', 'one', 'mln', 'dlrs', 'less', 'with', 'used', 'equipment', ',', 'the', 'firm', 'said', '.', 'it', 'said', 'the', 'mine', 'would', 'be', 'operated', 'by', 'a', 'contract', 'miner', 'but', 'the', 'associated', 'mill', 'by', 'geodome', '.', 'geodome', 'said', 'a', 'new', 'ore', 'zone', 'discovered', 'last', 'summer', 'is', 'not', 'included', 'in', 'reserve', 'calculations', '.', 'it', 'said', 'eight', 'of', 'the', 'nine', 'holes', 'drilled', 'there', 'have', 'an', 'average', 'grade', 'of', '0', '.', '046', 'ounce', 'of', 'gold', 'and', '2', '.', '1', 'ounces', 'of', 'silver', 'per', 'ton', '.', 'also', 'excluded', 'are', 'reserves', 'of', '1', ',', '400', ',', '000', 'tons', 'of', 'low', '-', 'grade', 'material', 'that', 'could', 'be', 'milled', 'profitably', 'at', '425', 'dlrs', 'a', 'ton', 'for', 'gold', '.', 'the', 'feasibility', 'study', 'used', 'a', '350', 'dlr', 'gold', 'price', '.', 'geodome', 'said', 'operating', 'costs', 'of', 'the', 'mine', 'will', 'average', '201', 'dlr', 'per', 'ounce', 'of', 'gold', 'for', 'the', 'mine', 'life', 'and', '171', 'dlrs', 'for', 'the', 'first', 'three', 'years', ',', 'in', 'constant', 'dollars', '.', '<END>'], ['<START>', 'houston', 'metals', \"'\", 'mine', 'yields', 'positive', 'results', '&', 'lt', ';', 'houston', 'metals', 'corp', '>', 'said', 'the', 'the', 'first', 'phase', 'of', 'the', 'underground', 'rehabilitation', ',', 'extensive', 'drilling', 'and', 'bulk', 'sampling', 'program', 'at', 'its', 'silver', 'queen', 'mine', 'has', 'yielded', 'positive', 'results', '.', 'houston', 'said', 'representative', 'assays', 'from', 'the', '2', ',', '750', 'ft', 'and', '2', ',', '600', 'ft', 'levels', 'at', 'the', 'south', 'end', 'of', 'the', 'mine', 'established', 'ore', 'deposits', 'in', 'the', 'following', 'ranges', ':', 'copper', ',', '3', '.', '7', 'pct', 'to', '5', '.', '08', 'pct', ',', 'lead', '.', '99', 'pct', 'to', '1', '.', '5', 'pct', ',', 'zinc', 'six', 'pct', 'to', '9', '.', '6', 'pct', ',', 'silver', '15', '.', '63', 'pct', 'to', '79', '.', '92', 'oz', 'per', 'ton', ',', 'gold', '.', '062', 'to', '.', '19', 'oz', 'per', 'ton', ',', 'germanium', '93', 'to', '103', 'grams', 'per', 'ton', ',', 'gallium', 'five', 'to', '18', 'grams', 'per', 'ton', '.', 'in', 'addition', ',', 'houston', 'metals', 'said', 'the', 'weighted', 'average', 'of', '25', 'diamond', '-', 'drilled', 'holes', '375', 'ft', 'below', 'the', '2', ',', '600', 'foot', 'level', 'and', '800', 'ft', 'along', 'the', 'strike', 'assayed', 'gold', 'at', '.', '237', 'oz', 'per', 'ton', ',', 'silver', 'at', '10', '.', '91', 'oz', 'per', 'ton', 'and', 'zinc', 'at', '8', '.', '99', 'pct', '.', 'an', 'apparent', 'parallel', 'vein', 'structure', 'at', 'the', '2', ',', '600', 'ft', 'level', 'returned', 'similar', 'values', ',', 'the', 'company', 'said', '.', 'it', 'added', 'that', 'preliminary', 'metallurgical', 'tests', 'from', 'representative', 'bulk', 'ore', 'samples', 'indicate', 'the', 'commercial', 'feasability', 'of', 'producing', 'a', 'zinc', 'and', 'a', 'copper', '-', 'lead', 'concentrate', '.', 'houston', 'metals', 'said', 'gold', ',', 'silver', 'and', 'the', 'base', 'metals', 'have', 'recoveries', 'of', '90', 'pct', 'to', '95', 'pct', ',', 'with', '95', 'pct', 'of', 'gold', 'recovered', 'from', 'better', 'gold', 'ores', ',', 'while', 'gallium', ',', 'germanium', 'and', 'indium', 'have', 'recoveries', 'of', 'between', '66', 'pct', 'to', '82', 'pct', 'and', 'are', 'included', 'in', 'the', 'zinc', 'concentrate', '.', 'the', 'company', \"'\", 's', '1987', 'program', 'of', 'diamond', 'drilling', ',', 'underground', 'drifting', 'and', 'metallurgical', 'evaluation', 'is', 'scheduled', 'to', 'start', 'on', 'april', '.', 'houston', 'metals', 'said', 'it', 'has', 'a', '60', 'pct', 'interest', 'in', 'the', 'silver', 'queen', 'mines', '.', 'it', 'added', 'that', 'funds', 'for', 'the', 'program', 'have', 'been', 'provided', 'by', 'first', 'exploration', 'fund', ',', 'a', 'canadian', 'limited', 'partnership', 'sponsored', 'by', 'merrill', 'lynch', 'canada', 'inc', 'and', 'dominion', 'securities', 'inc', '.', '<END>'], ['<START>', 'geodome', 'resources', '&', 'lt', ';', 'goedf', '>', 'to', 'proceed', 'with', 'mine', 'geodome', 'resources', 'ltd', 'said', 'based', 'on', 'a', 'feasibility', 'study', 'of', 'its', 'sunbeam', 'mine', 'it', 'will', 'proceed', 'with', 'contruction', 'and', 'pre', '-', 'production', 'stripping', 'as', 'rapidly', 'as', 'possible', '.', 'the', 'company', 'said', 'eight', 'of', 'nine', 'holes', 'drilled', 'on', 'the', 'new', 'ore', 'zone', 'have', 'an', 'average', 'grade', 'of', '0', '.', '046', 'ounces', 'of', 'gold', 'per', 'ton', 'and', '2', '.', '1', 'ounces', 'of', 'silver', 'per', 'ton', '.', 'the', 'deposit', 'is', '400', 'to', '500', 'yards', 'from', 'the', 'newly', 'designed', 'sunbeam', 'pits', ',', 'has', 'large', 'tonnage', 'and', 'will', 'be', 'drilled', 'off', 'this', 'summer', ',', 'the', 'company', 'said', '.', 'the', 'study', 'said', 'ore', 'reserves', 'including', 'dillution', 'were', '3', ',', '302', ',', '000', 'tons', 'at', '0', '.', '77', 'ounces', 'of', 'gold', 'per', 'ton', 'at', 'a', 'cut', 'off', 'grade', 'of', '0', '.', '026', 'ounces', 'per', 'ton', 'and', 'stripping', 'ratio', 'of', '4', '.', '24', 'to', 'one', '.', 'it', 'said', 'gold', 'production', 'will', 'average', '41', ',', '000', 'ounces', 'per', 'year', 'for', 'the', 'mine', 'life', 'and', '99', ',', '000', 'ounces', 'of', 'silver', 'per', 'year', '.', 'it', 'said', 'gold', 'production', 'in', 'the', 'first', 'three', 'years', 'should', 'average', '50', ',', '000', 'ounces', 'per', 'year', '.', 'operating', 'costs', 'are', 'expected', 'to', 'average', '201', 'dlrs', 'per', 'ounce', 'of', 'gold', 'for', 'the', 'mine', 'life', 'and', '171', 'dlrs', 'per', 'ounce', 'in', 'the', 'first', 'three', 'years', '.', '<END>'], ['<START>', 'lac', 'minerals', '&', 'lt', ';', 'lac', '>', 'to', 'close', 'lake', 'shore', 'mine', 'lac', 'minerals', 'ltd', 'said', 'it', 'will', 'suspend', 'underground', 'mining', 'and', 'exploration', 'at', 'its', 'lake', 'shore', 'mine', 'at', 'kirkland', 'lake', ',', 'ontario', ',', 'on', 'april', '30', ',', 'pending', 'results', 'of', 'a', 'surface', 'exploration', 'drilling', 'program', '.', 'lac', 'said', 'it', 'does', 'not', 'expect', 'the', 'decision', 'to', 'affect', 'earnings', ',', 'but', '44', 'employees', 'will', 'be', 'affected', '.', 'the', 'company', 'said', 'it', 'has', 'completed', 'mining', 'the', 'crown', 'pillar', 'which', 'has', 'produced', '71', ',', '000', 'ounces', 'of', 'gold', 'since', '1983', '.', 'in', '1986', ',', 'the', 'mine', 'produced', '10', ',', '600', 'ounces', '.', 'lac', 'said', 'it', 'will', 'continue', 'surface', 'drilling', 'in', '1987', 'to', 'determine', 'if', 'further', 'underground', 'exploration', 'work', 'is', 'warranted', '.', '<END>'], ['<START>', 'former', 'gold', 'firm', 'executives', 'arrested', 'in', 'japan', 'the', 'public', 'prosecutors', 'and', 'police', 'here', 'arrested', 'five', 'former', 'senior', 'executives', 'of', 'a', 'bankrupt', 'gold', 'deposit', 'business', 'group', 'for', 'defrauding', 'about', '450', 'clients', 'of', 'about', '1', '.', '5', 'billion', 'yen', 'for', 'gold', 'bars', 'which', 'were', 'never', 'delivered', ',', 'police', 'said', '.', 'the', 'case', 'involving', 'the', 'toyota', 'shoji', 'company', 'was', 'highlighted', 'when', 'its', '32', '-', 'year', '-', 'old', 'chairman', 'kazuo', 'nagano', 'was', 'stabbed', 'to', 'death', 'here', 'in', 'public', 'view', 'in', 'june', ',', '1985', '.', 'television', 'crews', 'which', 'had', 'been', 'waiting', 'outside', 'nagano', \"'\", 's', 'home', 'filmed', 'two', 'men', 'smashing', 'their', 'way', 'into', 'the', 'home', 'and', 'later', 'emerging', 'with', 'a', 'bloodstained', 'bayonet', '.', 'the', 'company', ',', 'established', 'here', 'in', '1981', ',', 'undertook', 'to', 'hold', 'gold', 'on', 'deposit', 'for', 'investors', '.', 'it', 'grew', 'into', 'a', 'nationwide', 'business', 'operation', 'with', '87', 'branch', 'offices', 'and', '7', ',', '000', 'employees', 'at', 'its', 'peak', 'in', 'early', '1985', '.', 'toyota', 'shoji', \"'\", 's', 'business', 'group', 'collected', 'an', 'estimated', '200', 'billion', 'yen', 'from', 'about', '30', ',', '000', 'clients', ',', 'many', 'of', 'them', 'pensioners', 'and', 'housewives', ',', 'before', 'the', 'firm', 'went', 'bankrupt', 'in', 'july', ',', '1985', ',', 'according', 'to', 'lawyers', '.', 'of', 'them', ',', 'some', '18', ',', '000', 'clients', 'claimed', 'they', 'could', 'get', 'back', 'neither', 'gold', 'or', 'money', ',', 'suffering', 'an', 'aggregate', 'loss', 'of', '150', 'billion', 'yen', ',', 'local', 'press', 'reports', 'said', '.', 'police', 'said', 'the', 'five', 'arrested', 'on', 'charge', 'of', 'fraud', 'today', 'included', 'hiroshi', 'ishikawa', ',', '47', ',', 'former', 'toyota', 'shoji', 'president', ',', 'and', 'a', 'sixth', 'former', 'executive', 'was', 'placed', 'on', 'a', 'wanted', 'list', '.', 'they', 'were', 'suspected', 'of', 'having', 'collaborated', 'with', 'the', 'late', 'nagano', 'in', 'swindling', 'about', '1', '.', '5', 'billion', 'yen', 'from', 'about', '450', 'people', 'in', 'osaka', 'and', 'nearby', 'kobe', 'during', 'a', 'six', 'month', 'period', 'just', 'before', 'the', 'firm', \"'\", 's', 'bankruptcy', ',', 'they', 'said', '.', 'today', \"'\", 's', 'arrest', 'came', 'after', 'narly', 'two', 'years', 'of', 'joint', 'investigation', 'by', 'the', 'public', 'prosecutors', 'and', 'police', ',', 'who', 'had', 'questioned', 'about', '3', ',', '000', 'of', 'the', 'firm', \"'\", 's', 'former', 'employees', ',', 'police', 'sources', 'said', '.', '<END>'], ['<START>', 'bp', '&', 'lt', ';', 'bp', '>', 'unit', 'to', 'build', 'gold', 'extraction', 'plant', 'amselco', 'minerals', 'inc', ',', 'a', 'unit', 'of', 'british', 'petroleum', 'co', 'plc', ',', 'said', 'it', 'approved', 'construction', 'of', 'a', 'new', 'plant', 'with', 'nerco', 'minerals', 'co', 'to', 'process', 'carbon', 'ore', 'to', 'recover', 'microscopic', 'gold', 'reserves', '.', 'the', 'plant', ',', 'to', 'be', 'located', 'at', 'the', 'alligator', 'ridge', 'mine', 'near', 'ely', ',', 'nev', '.,', 'will', 'process', '1', ',', '000', 'tons', 'a', 'day', 'of', 'carbon', '-', 'bearing', 'ore', 'to', 'recover', '70', ',', '000', 'ounces', 'of', 'gold', 'over', 'three', 'years', ',', 'it', 'said', '.', 'the', 'plant', 'will', 'use', 'a', 'chemical', 'process', 'called', 'leaching', 'to', 'extract', 'the', 'residual', 'gold', ',', 'which', 'could', 'not', 'otherwise', 'be', 'economically', 'recovered', '.', 'operation', 'of', 'the', 'plant', ',', 'to', 'be', 'jointly', 'owned', 'by', 'amselco', 'and', 'nerco', ',', 'is', 'set', 'to', 'start', 'in', 'october', '.', 'the', 'alligator', 'ridge', 'mine', 'is', 'jointly', 'owned', 'by', 'amselco', 'and', 'nerco', ',', 'a', 'unit', 'of', 'nerco', 'inc', '&', 'lt', ';', 'ner', '>,', 'which', 'is', '90', '.', '5', 'pct', 'owned', 'by', 'pacificorp', '&', 'lt', ';', 'ppw', '>,', 'a', 'portland', ',', 'ore', '.,', 'holding', 'company', '.', 'the', 'mine', 'has', 'produced', 'about', '60', ',', '000', 'ounces', 'of', 'gold', 'a', 'year', 'since', '1981', 'using', 'another', 'leaching', 'process', ',', 'a', 'bp', 'spokesman', 'said', '.', 'the', 'open', 'pit', 'oxide', 'ore', 'reserves', 'of', 'alligator', 'ridge', 'will', 'be', 'exhausted', 'by', 'august', '1987', ',', 'as', 'expected', ',', 'when', 'the', 'work', 'force', 'will', 'be', 'reduced', 'to', 'about', '72', 'from', '127', ',', 'the', 'company', 'said', '.', 'the', 'employees', 'remaining', 'after', 'that', 'will', 'operate', 'the', 'new', 'plant', ',', 'it', 'said', '.', '<END>'], ['<START>', 's', '.', 'africa', 'gold', 'mining', 'industry', 'had', 'record', 'year', 'the', 'gold', 'mining', 'industry', 'had', 'another', '\"', 'exceptional', 'year', '\"', 'in', '1986', 'with', 'tonnage', 'milled', ',', 'revenues', 'and', 'profits', 'reaching', 'high', 'levels', ',', 'the', 'chamber', 'of', 'mines', 'said', '.', 'nearly', '108', 'mln', 'tons', 'of', 'ore', 'was', 'milled', ',', 'three', 'pct', 'higher', 'than', 'the', 'prior', 'year', ',', 'while', 'revenues', 'rose', '17', 'pct', 'to', '16', '.', '5', 'billion', 'rand', 'and', 'profits', 'increased', '6', '.', '5', 'pct', 'to', '8', '.', '31', 'billion', 'rand', ',', 'the', 'chamber', 'reported', '.', 'the', 'profit', 'rise', 'was', 'achieved', 'despite', 'substantial', 'cost', 'increases', 'and', 'a', '26', '.', '1', 'pct', 'rise', 'in', 'capital', 'expenditures', 'to', '2', '.', '42', 'billion', 'rand', ',', 'it', 'said', '.', 'the', 'chamber', 'said', 'that', 'a', '\"', 'comparatively', 'buoyant', 'gold', 'price', 'allowed', 'mines', 'to', 'continue', 'the', 'practise', 'of', 'mining', 'lower', 'grade', 'ores', 'which', 'has', 'characterised', 'recent', 'years', '.\"', 'it', 'said', 'the', 'industry', 'now', 'mines', 'to', 'an', 'average', 'grade', 'of', '5', '.', '63', 'grams', 'per', 'ton', 'compared', 'with', '6', '.', '09', 'grams', 'per', 'ton', 'in', '1985', '.', 'gold', 'output', 'for', 'the', 'year', 'declined', 'five', 'pct', 'to', '638', 'tons', 'compared', 'with', 'the', 'previous', 'year', \"'\", 's', '671', 'tons', '.', '<END>'], ['<START>', 'hecla', '&', 'lt', ';', 'hl', '>', 'to', 'buy', 'mine', 'stake', 'from', 'bp', '&', 'lt', ';', 'bp', '>', 'unit', 'hecla', 'mining', 'co', 'said', 'it', 'has', 'agreed', 'to', 'purchase', 'a', '28', 'pct', 'interest', 'in', 'the', 'greens', 'creek', 'joint', 'venture', 'from', 'british', 'petroleum', 'co', 'plc', \"'\", 's', 'amselco', 'minerals', 'inc', 'unit', '.', 'the', 'venture', 'expects', 'to', 'bring', 'into', 'production', 'a', 'gold', '-', 'silver', '-', 'lead', '-', 'zinc', 'ore', 'body', 'on', 'admiralty', 'island', ',', 'alaska', ',', 'containing', 'about', '3', ',', '500', ',', '000', 'short', 'tons', 'of', 'ore', 'assaying', 'about', '0', '.', '18', 'ounce', 'of', 'gold', ',', '24', '.', '0', 'ounces', 'of', 'silver', ',', '9', '.', '7', 'pct', 'zinc', 'and', '3', '.', '9', 'pct', 'zinc', 'per', 'short', 'ton', ',', 'hecla', 'said', '.', 'it', 'said', 'there', 'is', 'significant', 'potential', 'for', 'the', 'discovery', 'of', 'additional', 'ore', '.', 'hecla', 'said', 'initial', 'production', 'from', 'a', 'trackless', 'underground', 'mine', 'is', 'scheduled', 'for', 'late', '1988', 'at', 'a', 'rate', 'of', 'about', '1', ',', '000', 'tons', 'or', 'ore', 'per', 'day', '.', '\"', 'at', 'this', 'rate', ',', 'the', 'greens', 'creek', 'mine', 'will', 'be', 'the', 'largest', 'domestic', 'silver', 'mine', 'and', 'is', 'expected', 'to', 'be', 'one', 'of', 'the', 'lowest', 'cost', 'producers', '.\"', 'the', 'company', 'said', 'it', 'estimates', 'its', 'total', 'investment', 'in', 'the', 'project', ',', 'including', 'its', 'share', 'of', 'preproduction', 'costs', ',', 'at', 'about', '45', 'mln', 'dlrs', ',', 'to', 'be', 'funded', 'through', 'internally', 'generated', 'cash', 'and', 'existing', 'lines', 'of', 'credit', '.', 'it', 'said', 'amselco', 'will', 'retain', 'a', 'majority', 'interest', 'in', 'the', 'project', '.', 'other', 'interest', 'holders', 'are', 'csx', 'corp', '&', 'lt', ';', 'csx', '>', 'and', '&', 'lt', ';', 'exaias', 'resources', 'corp', '>.', '<END>'], ['<START>', 'belgium', 'details', 'pricing', 'plan', 'for', 'ecu', 'gold', 'coin', 'the', '50', 'european', 'currency', 'unit', 'gold', 'coins', 'which', 'go', 'on', 'sale', 'tomorrow', 'in', 'belgium', 'will', 'be', 'priced', 'at', 'a', 'premium', 'of', 'seven', 'pct', 'to', 'the', 'value', 'of', 'the', 'gold', 'they', 'contain', ',', 'a', 'finance', 'ministry', 'spokesman', 'said', '.', 'the', 'price', 'will', 'be', 'calculated', 'daily', ',', 'based', 'on', 'the', 'daily', 'gold', 'fixing', 'in', 'london', '.', 'belgium', 'is', 'minting', 'an', 'initial', '50', ',', '000', 'gold', 'coins', 'to', 'celebrate', 'the', '30th', 'anniversary', 'of', 'the', 'european', 'community', \"'\", 's', 'founding', 'treaty', 'of', 'rome', ',', 'but', 'final', 'production', 'is', 'expected', 'to', 'be', 'around', '200', ',', '000', '.', 'each', '17', '.', '27', 'gram', 'coin', 'will', 'contain', '55', 'grams', 'of', 'fine', 'metal', '.', 'two', 'mln', 'silver', 'coins', ',', 'face', 'value', 'five', 'ecus', ',', 'will', 'be', 'sold', 'at', '500', 'francs', 'each', '.', '<END>'], ['<START>', 'corrected', '-', 'hecla', '&', 'lt', ';', 'hl', '>', 'to', 'buy', 'mine', 'stake', 'from', 'bp', 'hecla', 'minging', 'co', 'said', 'it', 'has', 'agreed', 'to', 'purchase', 'a', '28', 'pct', 'interest', 'in', 'the', 'greens', 'creek', 'joint', 'venture', 'from', 'british', 'petroleum', 'co', 'plc', \"'\", 's', '&', 'lt', ';', 'bp', '>', 'amselco', 'minerals', 'inc', 'unit', '.', 'the', 'venture', 'expects', 'to', 'bring', 'into', 'production', 'a', 'gold', '-', 'silver', '-', 'lead', '-', 'zinc', 'ore', 'body', 'on', 'admiralty', 'island', ',', 'alaska', ',', 'containing', 'about', '3', ',', '500', ',', '000', 'short', 'tons', 'of', 'ore', 'assaying', 'about', '0', '.', '18', 'ounce', 'of', 'gold', ',', '24', '.', '0', 'ounces', 'of', 'silver', ',', '9', '.', '7', 'pct', 'zinc', 'and', '3', '.', '9', 'pct', 'lead', 'per', 'short', 'ton', ',', 'hecla', 'said', '.', 'it', 'said', 'there', 'is', 'significant', 'potential', 'for', 'the', 'discovery', 'of', 'additional', 'ore', '.', 'corrects', 'last', 'assay', 'result', 'to', 'lead', 'from', 'zinc', '.', '<END>'], ['<START>', '&', 'lt', ';', 'd', \"'\", 'or', 'val', 'mines', 'ltd', '>', 'finds', 'high', '-', 'grade', 'order', 'd', \"'\", 'or', 'val', 'mines', 'ltd', 'said', 'a', 'recent', 'drill', 'hole', 'from', 'the', 'surfrace', 'has', 'intersected', 'high', '-', 'grade', 'ore', 'in', 'a', 'downdip', 'extension', 'of', 'the', 'discovery', 'vein', 'in', 'its', 'd', \"'\", 'or', 'val', 'mine', 'in', 'northern', 'quebec', '.', 'the', 'company', 'said', '42', '.', '3', 'feet', 'of', 'the', 'hole', 'graded', '0', '.', '92', 'ounce', 'per', 'short', 'ton', 'of', 'gold', ',', 'including', 'a', '17', '.', '5', 'foot', 'section', 'grading', '2', '.', '17', 'ounces', '.', 'it', 'said', 'the', 'zone', 'is', 'just', 'below', 'the', 'projection', 'of', 'the', 'seventh', 'level', 'of', 'the', 'mine', 'about', '1', ',', '450', 'feet', 'below', 'the', 'surface', 'and', '820', 'feet', 'west', 'of', 'the', 'shaft', '.', 'd', \"'\", 'or', 'val', 'said', 'this', 'find', 'and', 'other', 'recent', 'ones', 'will', 'make', 'substantial', 'contributions', 'to', 'the', 'mine', \"'\", 's', 'ore', 'reserves', 'and', 'grade', '.', '<END>'], ['<START>', 'golden', 'north', 'has', 'encouraging', 'drill', 'results', 'golden', 'north', 'resource', 'corp', 'said', 'said', 'surface', 'and', 'underground', 'drilling', 'on', 'the', 'canty', 'project', 'and', 'mascot', 'fraction', 'at', 'its', 'nickel', 'plate', 'mountain', 'property', 'in', 'british', 'columbia', 'returned', 'encouraging', 'gold', 'assays', '.', 'it', 'said', 'one', 'canty', 'hole', 'encountered', 'several', 'mineralized', 'intervals', 'including', '11', 'feet', 'grading', '0', '.', '342', 'ounce', 'gold', 'a', 'short', 'ton', 'from', '86', 'to', '97', 'feet', 'and', '17', 'feet', 'grading', '0', '.', '756', 'ounce', 'gold', 'ton', 'from', '170', '.', '5', 'feet', 'to', '187', '.', '5', 'feet', '.', 'a', 'mascot', 'fraction', 'hole', 'returned', 'assays', 'including', '0', '.', '190', 'ounce', 'gold', 'ton', 'over', 'seven', 'feet', 'between', '57', 'and', '64', 'feet', ',', 'it', 'said', '.', '<END>'], ['<START>', 'placer', 'pacific', 'says', 'big', 'bell', 'gold', 'study', 'expanding', '&', 'lt', ';', 'placer', 'pacific', 'ltd', '>', 'said', 'it', 'will', 'undertake', 'a', 'full', 'feasibility', 'study', 'of', 'western', 'australia', \"'\", 's', 'big', 'bell', 'gold', 'prospect', '.', 'results', 'of', 'an', 'economic', 'evaluation', 'of', 'the', 'find', ',', 'in', 'which', 'placer', 'has', 'an', 'option', 'with', '&', 'lt', ';', 'australian', 'consolidated', 'minerals', 'ltd', '>', '(', 'acm', ')', 'to', 'earn', 'a', '50', 'pct', 'interest', ',', 'were', 'encouraging', 'enough', 'to', 'warrant', 'a', 'full', 'study', ',', 'placer', 'said', 'in', 'a', 'statement', '.', 'big', 'bell', ',', 'in', 'the', 'murchison', 'goldfield', '540', 'km', 'north', 'east', 'of', 'perth', ',', 'was', 'founded', 'in', '1904', '.', 'between', '1937', 'and', '1955', 'it', 'yielded', '22', '.', '8', 'tonnes', 'of', 'gold', 'and', '7', '.', '8', 'tonnes', 'of', 'silver', 'while', 'milling', 'about', '30', ',', '000', 'tonnes', 'of', 'ore', 'a', 'month', '.', 'placer', 'has', 'said', 'the', 'prospect', 'has', 'an', 'estimated', '14', 'mln', 'tonnes', 'of', 'ore', 'with', 'a', 'three', '-', 'gram', '-', 'per', '-', 'tonne', 'concentration', 'accessible', 'by', 'open', '-', 'pit', 'mining', 'and', 'a', 'further', '4', '.', '5', 'mln', 'tonnes', 'with', 'a', '4', '.', '4', '-', 'gram', '-', 'a', '-', 'tonne', 'concentration', 'between', '300', 'and', '600', 'meters', 'underground', '.', 'it', 'said', 'it', 'was', 'obliged', 'to', 'produce', 'the', 'feasibility', 'study', 'no', 'later', 'than', 'december', '31', 'this', 'year', 'by', 'which', 'time', 'it', 'would', 'have', 'spent', 'three', 'mln', 'dlrs', 'on', 'big', 'bell', '.', 'if', 'the', 'results', 'are', 'positive', 'and', 'a', 'commitment', 'to', 'develop', 'made', 'then', 'construction', 'would', 'take', 'about', '12', 'months', ',', 'placer', 'said', '.', '<END>'], ['<START>', 'newmont', 'gold', '&', 'lt', ';', 'ngc', '>', 'sees', 'gold', 'sales', 'rising', 'newmont', 'gold', 'corp', 'expects', 'gold', 'sales', 'in', '1987', 'to', 'rise', 'about', '22', 'pct', 'to', '577', ',', '000', 'ounces', 'from', '1986', \"'\", 's', '474', ',', '000', 'ounces', ',', 'the', 'company', 'said', 'in', 'its', 'annual', 'report', '.', 'newmont', 'gold', ',', '95', 'pct', 'owned', 'by', 'newmont', 'mining', 'corp', '&', 'lt', ';', 'nem', '>,', 'said', 'it', 'expects', 'significant', 'increases', 'in', 'gold', 'sales', 'in', '1988', 'and', '1989', 'as', 'well', '.', '<END>'], ['<START>', 'newmont', 'gold', 'sees', 'its', 'sales', 'rising', '22', 'pct', 'newmont', 'gold', 'corp', 'expects', 'gold', 'sales', 'in', '1987', 'to', 'rise', 'about', '22', 'pct', 'to', '577', ',', '000', 'ounces', 'from', '1986', \"'\", 's', '474', ',', '000', 'ounces', ',', 'the', 'company', 'said', 'in', 'its', 'annual', 'report', '.', 'newmont', 'gold', ',', '95', 'pct', 'owned', 'by', 'newmont', 'mining', 'corp', ',', 'said', 'it', 'expects', 'significant', 'increases', 'in', 'gold', 'sales', 'in', '1988', 'and', '1989', 'as', 'well', '.', '<END>'], ['<START>', 'german', 'analysts', 'see', 'gold', 'rising', 'in', '2nd', 'half', '1987', 'the', 'price', 'of', 'gold', 'bullion', 'is', 'likely', 'to', 'rise', 'in', 'the', 'second', 'half', 'of', 'the', 'year', 'on', 'increased', 'private', 'investor', 'demand', ',', 'west', 'german', 'analysts', 'said', '.', 'gold', 'could', 'rise', 'as', 'high', 'as', '500', 'dlrs', 'per', 'ounce', 'later', 'this', 'year', ',', 'said', 'peter', 'witte', ',', 'director', 'of', 'westdeutsche', 'landesbank', 'girozentrale', \"'\", 's', 'trading', 'division', ',', 'after', 'a', 'presentation', 'by', 'the', 'u', '.', 's', '.', 'mint', 'to', 'promote', 'its', 'gold', 'and', 'silver', 'eagle', 'series', 'coins', '.', '\"', 'a', 'lot', 'will', 'depend', 'on', 'oil', 'prices', 'and', 'developments', 'on', 'stock', 'exchanges', ',\"', 'witte', 'said', ',', 'adding', 'he', 'saw', 'gold', 'positioned', 'for', 'further', 'rises', 'once', 'it', 'breaks', 'out', 'above', '450', 'dlrs', '.', 'gold', 'was', 'fixed', 'this', 'morning', 'in', 'london', 'at', '411', '.', '30', 'dlrs', '.', 'despite', 'current', 'strong', 'interest', 'in', 'gold', 'mine', 'stocks', ',', 'many', 'investors', 'still', 'want', 'to', 'buy', 'physical', 'gold', ',', 'witte', 'said', '.', 'interest', 'in', 'gold', 'mine', 'stocks', 'may', 'also', 'wane', 'if', 'stock', 'exchange', 'rallies', 'under', 'way', 'in', 'many', 'countries', 'start', 'to', 'waver', '.', 'hermann', 'strohmeyer', ',', 'vice', 'president', 'of', 'commerzbank', 'ag', \"'\", 's', 'foreign', 'exchange', 'trading', 'and', 'treasury', 'department', ',', 'said', 'gold', 'is', 'poised', 'to', 'rise', 'to', '460', 'to', '470', 'dlrs', 'an', 'ounce', 'in', 'the', 'second', 'half', 'of', 'this', 'year', '.', 'the', 'price', 'is', 'unlikely', 'to', 'fall', 'much', 'below', '380', 'or', '390', 'dlrs', 'an', 'ounce', ',', 'and', 'probably', 'will', 'continue', 'in', 'a', 'range', 'between', '380', 'and', '430', 'dlrs', 'in', 'the', 'first', 'half', 'of', 'this', 'year', ',', 'he', 'said', '.', '<END>'], ['<START>', 'german', 'analysts', 'see', 'gold', 'firming', 'later', 'this', 'year', 'the', 'price', 'of', 'gold', 'bullion', 'is', 'likely', 'to', 'rise', 'in', 'the', 'second', 'half', 'of', 'the', 'year', 'on', 'increased', 'private', 'investor', 'demand', ',', 'west', 'german', 'analysts', 'said', '.', 'gold', 'could', 'rise', 'as', 'high', 'as', '500', 'dlrs', 'per', 'ounce', 'later', 'this', 'year', ',', 'said', 'peter', 'witte', ',', 'director', 'of', 'westdeutsche', 'landesbank', 'girozentrale', \"'\", 's', 'trading', 'division', ',', 'after', 'a', 'presentation', 'by', 'the', 'u', '.', 's', '.', 'mint', 'to', 'promote', 'its', 'gold', 'and', 'silver', 'eagle', 'series', 'coins', '.', '\"', 'a', 'lot', 'will', 'depend', 'on', 'oil', 'prices', 'and', 'developments', 'on', 'stock', 'exchanges', ',\"', 'witte', 'said', ',', 'adding', 'he', 'saw', 'gold', 'positioned', 'for', 'further', 'rises', 'once', 'it', 'breaks', 'out', 'above', '450', 'dlrs', '.', 'gold', 'was', 'fixed', 'this', 'morning', 'in', 'london', 'at', '411', '.', '30', 'dlrs', '.', 'despite', 'current', 'strong', 'interest', 'in', 'gold', 'mine', 'stocks', ',', 'many', 'investors', 'still', 'want', 'to', 'buy', 'physical', 'gold', ',', 'witte', 'said', '.', 'interest', 'in', 'gold', 'mine', 'stocks', 'may', 'also', 'wane', 'if', 'stock', 'exchange', 'rallies', 'under', 'way', 'in', 'many', 'countries', 'start', 'to', 'waver', '.', 'hermann', 'strohmeyer', ',', 'vice', 'president', 'of', 'commerzbank', 'ag', \"'\", 's', 'foreign', 'exchange', 'trading', 'and', 'treasury', 'department', ',', 'said', 'gold', 'is', 'poised', 'to', 'rise', 'to', '460', 'to', '470', 'dlrs', 'an', 'ounce', 'in', 'the', 'second', 'half', 'of', 'this', 'year', '.', 'the', 'price', 'is', 'unlikely', 'to', 'fall', 'much', 'below', '380', 'or', '390', 'dlrs', 'an', 'ounce', ',', 'and', 'probably', 'will', 'continue', 'in', 'a', 'range', 'between', '380', 'and', '430', 'dlrs', 'in', 'the', 'first', 'half', 'of', 'this', 'year', ',', 'he', 'said', '.', '<END>'], ['<START>', 'u', '.', 's', '.', 'gold', 'eagle', 'sales', 'projected', 'at', '3', '.', '1', 'mln', 'ounces', 'american', 'eagle', 'gold', 'bullion', 'coin', 'sales', 'are', 'projected', 'at', '3', '.', '1', 'mln', 'troy', 'ounces', 'in', 'their', 'first', 'year', 'on', 'the', 'market', ',', 'well', 'above', 'the', 'target', 'of', '2', '.', '2', 'mln', ',', 'donna', 'pope', ',', 'director', 'of', 'the', 'u', '.', 's', '.', 'mint', ',', 'told', 'journalists', '.', 'world', 'sales', ',', 'which', 'began', 'on', 'october', '20', ',', '1986', ',', 'reached', '2', '.', '193', 'mln', 'ounces', 'in', 'less', 'than', 'six', 'months', 'of', 'sales', '.', 'this', 'made', 'it', 'world', 'market', 'leader', 'with', 'a', 'share', 'of', '37', 'pct', 'in', '1986', ',', 'pope', 'said', '.', 'pope', 'said', 'that', 'in', 'volume', 'terms', ',', 'nearly', 'half', 'of', 'all', 'gold', 'eagle', 'sales', 'were', 'within', 'north', 'america', ',', 'roughly', '40', 'pct', 'were', 'in', 'europe', 'and', 'about', 'eight', 'pct', 'in', 'asia', '.', 'she', 'said', 'despite', 'introduction', 'of', 'several', 'new', 'gold', 'bullion', 'coins', 'on', 'the', 'market', 'recently', ',', 'the', 'mint', 'is', 'aiming', 'to', 'preserve', 'the', 'eagle', \"'\", 's', 'strong', 'market', 'share', 'with', 'extensive', 'publicity', '.', 'the', 'mint', 'uses', 'mainly', 'newly', 'mined', 'u', '.', 's', '.', 'gold', 'for', 'the', 'coins', ',', 'as', 'long', 'as', 'this', 'is', 'available', 'at', 'market', 'prices', '.', 'the', 'remaining', 'gold', 'is', 'taken', 'either', 'from', 'u', '.', 's', '.', 'treasury', 'stocks', ',', 'or', 'from', 'the', 'open', 'market', ',', 'pope', 'said', '.', 'gold', 'analysts', 'said', 'the', 'eagle', 'is', 'facing', 'competition', 'here', 'from', 'the', 'canadian', 'maple', 'leaf', ',', 'and', 'also', 'to', 'a', 'lesser', 'extent', 'from', 'the', 'south', 'african', 'krugerrand', '.', 'some', 'estimated', 'the', 'maple', 'leaf', \"'\", 's', 'west', 'german', 'market', 'share', 'at', '60', 'pct', '.', 'the', 'figures', 'may', 'be', 'distorted', ',', 'as', 'many', 'german', 'investors', 'buy', 'gold', 'bullion', 'in', 'switzerland', 'or', 'luxembourg', 'to', 'escape', 'the', '14', 'pct', 'value', '-', 'added', 'tax', 'imposed', 'here', '.', 'including', 'the', 'tax', ',', 'the', 'one', '-', 'ounce', 'coins', 'traded', 'today', 'at', '906', 'marks', ',', 'they', 'said', '.', 'competition', 'may', 'also', 'come', 'from', 'new', 'gold', 'coins', ',', 'including', 'belgium', \"'\", 's', 'ecu', ',', 'which', 'began', 'sales', 'today', '.', 'britain', 'and', 'australia', 'also', 'have', 'plans', 'to', 'mint', 'gold', 'bullion', 'coins', ',', 'the', 'analysts', 'said', '.', '<END>']]\n",
            "['\"', '&', \"'\", '(', ')', '),', ').', ',', ',\"', ',.', '-', '--', '.', '.\"', '.,', '..', '...', '/', '0', '00', '000', '008', '011', '02', '025', '026', '027', '045', '046', '05', '050', '055', '057', '062', '064', '068', '070', '073', '077', '078', '08', '09', '1', '10', '100', '103', '104', '105', '106', '108', '11', '112', '116', '118', '12', '120', '1200', '123', '127', '129', '13', '130', '132', '133', '139', '14', '140', '141', '145', '15', '150', '151', '158', '16', '160', '161', '163', '166', '17', '170', '171', '172', '177', '18', '183', '185', '187', '1896', '19', '190', '1904', '191', '192', '1926', '193', '1931', '1937', '194', '1955', '1967', '1971', '1978', '1979', '1980', '1981', '1982', '1983', '1984', '1985', '1986', '1987', '1988', '1989', '1990', '1990s', '1991', '1992', '1994', '2', '20', '200', '201', '206', '207', '21', '211', '212', '22', '221', '222', '223', '225', '226', '23', '2354', '237', '24', '240', '243', '244', '25', '250', '251', '257', '26', '262', '265', '266', '268', '27', '28', '29', '293', '2nd', '3', '30', '300', '302', '30th', '31', '32', '320', '322', '33', '342', '35', '350', '355', '36', '360', '368', '37', '374', '375', '38', '380', '39', '390', '392', '3rd', '4', '40', '400', '408', '409', '41', '410', '411', '416', '418', '42', '422', '425', '43', '430', '432', '433', '434', '436', '44', '440', '447', '45', '450', '457', '458', '460', '462', '468', '47', '470', '474', '475', '48', '49', '490', '5', '50', '500', '51', '510', '514', '528', '530', '531', '538', '540', '545', '55', '56', '57', '577', '578', '580', '583', '585', '59', '594', '6', '60', '600', '60th', '61', '611', '612', '62', '626', '627', '63', '638', '64', '640', '65', '650', '653', '66', '666', '669', '67', '671', '678', '686', '69', '692', '693', '698', '7', '70', '700', '706', '708', '71', '72', '73', '730', '74', '749', '75', '750', '754', '756', '757', '76', '765', '77', '777', '778', '779', '78', '785', '79', '8', '80', '800', '805', '8067', '809', '81', '811', '82', '820', '832', '849', '85', '86', '87', '88', '89', '9', '90', '900', '902', '906', '91', '910', '911', '919', '92', '93', '94', '940', '95', '951', '955', '96', '966', '968', '97', '978', '99', '999', ':', ';', '<END>', '<START>', '>', '>,', '>.', '?\"', 'a', 'ab', 'ability', 'able', 'abolished', 'about', 'above', 'abroad', 'absorbed', 'accept', 'accessible', 'accident', 'according', 'accused', 'achieve', 'achieved', 'acknowledged', 'acm', 'acquire', 'acquired', 'acquiring', 'acquisition', 'acquisitions', 'acquistions', 'acre', 'acres', 'across', 'act', 'action', 'activities', 'actual', 'add', 'added', 'adding', 'addition', 'additional', 'address', 'adelaide', 'adh', 'adjacent', 'admiralty', 'adopt', 'advance', 'advanced', 'affair', 'affect', 'affected', 'africa', 'african', 'after', 'ag', 'again', 'against', 'agencies', 'agency', 'aggregate', 'ago', 'agreed', 'agreement', 'agriculture', 'ahead', 'aimed', 'aiming', 'aims', 'alan', 'alaska', 'all', 'alleged', 'alligator', 'allow', 'allowable', 'allowed', 'alluvial', 'almost', 'along', 'already', 'also', 'altered', 'alternative', 'although', 'aluminum', 'amapa', 'amax', 'amenable', 'america', 'american', 'amid', 'among', 'amore', 'amount', 'amounts', 'amselco', 'amx', 'an', 'analyst', 'analysts', 'and', 'andrew', 'angl', 'anglo', 'animals', 'ann', 'anniversary', 'announced', 'announcement', 'announces', 'annual', 'another', 'anti', 'anticipated', 'anticipates', 'anticipation', 'antiquated', 'any', 'apartheid', 'apiece', 'apparent', 'appears', 'apply', 'approach', 'approached', 'appropriate', 'approval', 'approvals', 'approve', 'approved', 'approves', 'approximate', 'approximately', 'april', 'arabia', 'arabian', 'are', 'area', 'areas', 'ariz', 'arizona', 'arms', 'around', 'arrangement', 'arrangements', 'arrest', 'arrested', 'articles', 'as', 'asa', 'asamera', 'asc', 'ascertain', 'asia', 'asked', 'asm', 'assay', 'assayed', 'assaying', 'assays', 'assets', 'associated', 'association', 'assurances', 'astro', 'at', 'attached', 'attempt', 'attempted', 'attend', 'attended', 'attending', 'attention', 'attorney', 'attributed', 'august', 'australia', 'australian', 'authority', 'autumn', 'available', 'average', 'averaged', 'averages', 'averaging', 'away', 'b', 'bachem', 'back', 'bags', 'balance', 'baldwin', 'banda', 'bank', 'bankers', 'bankrupt', 'bankruptcy', 'banks', 'banque', 'baord', 'barney', 'barrett', 'barrick', 'barring', 'bars', 'base', 'based', 'basic', 'basis', 'basket', 'bay', 'bayonet', 'be', 'bearing', 'because', 'becoming', 'been', 'before', 'began', 'begin', 'begun', 'behind', 'being', 'belgian', 'belgium', 'believe', 'believed', 'believes', 'bell', 'bellies', 'below', 'beneath', 'benefiting', 'benefits', 'best', 'better', 'between', 'bh', 'bhp', 'bhpgm', 'bid', 'big', 'biggest', 'bill', 'billion', 'bills', 'bioleaching', 'black', 'bloodstained', 'board', 'boddington', 'body', 'bois', 'boksburg', 'boliden', 'bond', 'bonds', 'boost', 'boosted', 'boosts', 'border', 'borrower', 'bossa', 'boston', 'both', 'bottle', 'bottom', 'bought', 'boundary', 'bourse', 'bp', 'branch', 'brazil', 'break', 'breaking', 'breaks', 'breakthrough', 'breakwater', 'bring', 'brings', 'britain', 'britannia', 'british', 'brkn', 'broad', 'broken', 'brokers', 'brothers', 'brown', 'browns', 'budget', 'build', 'built', 'bulk', 'bullion', 'bullish', 'bulolo', 'bundey', 'buoyant', 'burdensome', 'bureau', 'burro', 'business', 'businessmen', 'busy', 'but', 'buy', 'buyer', 'buyers', 'buying', 'buys', 'bwrlf', 'by', 'cabinet', 'cain', 'calculated', 'calculation', 'calculations', 'calif', 'california', 'call', 'called', 'calls', 'cambior', 'came', 'camp', 'campbell', 'can', 'canada', 'canadian', 'canamax', 'cannon', 'canty', 'capable', 'capacity', 'cape', 'capital', 'carat', 'carbon', 'carbonate', 'carlin', 'carolin', 'carolina', 'carried', 'carries', 'carry', 'carrying', 'case', 'cases', 'cash', 'catalytic', 'catch', 'cattle', 'cause', 'caused', 'causing', 'caution', 'cautiously', 'cbt', 'cch', 'ccimf', 'cds', 'ceased', 'celebrate', 'cenepa', 'cent', 'centers', 'central', 'cents', 'chairman', 'chamber', 'chance', 'change', 'changed', 'character', 'characterised', 'characteristics', 'charge', 'charges', 'chasing', 'cheap', 'cheaper', 'check', 'checked', 'chemical', 'chester', 'chibougamau', 'chibougamu', 'chicago', 'chief', 'china', 'chromite', 'chronowitz', 'cie', 'citibank', 'citicorp', 'citizens', 'city', 'claimed', 'claims', 'clear', 'clearing', 'clients', 'climate', 'clive', 'close', 'closed', 'closely', 'closes', 'cmp', 'co', 'coal', 'coast', 'cohen', 'coin', 'coins', 'collaborated', 'colleagues', 'collected', 'collectors', 'colliery', 'columbia', 'combined', 'come', 'comex', 'commemorate', 'commemorative', 'comment', 'commercial', 'commerzbank', 'commission', 'commissioned', 'commissions', 'commitment', 'commodities', 'commodity', 'community', 'companies', 'company', 'comparatively', 'compared', 'compares', 'comparisons', 'compete', 'competition', 'competitive', 'complete', 'completed', 'completes', 'completion', 'complex', 'comprise', 'comprised', 'concentrate', 'concentration', 'concern', 'concerned', 'concerns', 'concession', 'conclusions', 'concrete', 'conditional', 'conditionally', 'conditions', 'conducted', 'conference', 'confidence', 'confirmation', 'confirmed', 'confusion', 'conger', 'congress', 'conservatively', 'consider', 'considerable', 'considering', 'consist', 'consisting', 'consists', 'consolidated', 'consolidation', 'constant', 'construct', 'construction', 'consumer', 'contain', 'contained', 'containing', 'contains', 'content', 'contiguous', 'continuation', 'continue', 'continued', 'continuing', 'continuous', 'continuously', 'contract', 'contracts', 'contribute', 'contributions', 'control', 'controlled', 'controls', 'contruction', 'conventional', 'cooperation', 'copies', 'copper', 'cornucopia', 'coronation', 'corp', 'correct', 'corrected', 'correction', 'corrects', 'corresponding', 'cost', 'costs', 'cotton', 'could', 'council', 'countries', 'country', 'county', 'coupon', 'court', 'cove', 'covered', 'covering', 'covers', 'create', 'created', 'creation', 'credit', 'creditors', 'creek', 'crews', 'crk', 'crlnf', 'crowd', 'crown', 'crude', 'csx', 'cts', 'cubic', 'culpable', 'cure', 'currencies', 'currency', 'current', 'currently', 'custer', 'cut', 'cyanidation', 'd', 'daily', 'dakota', 'dampen', 'damper', 'date', 'day', 'days', 'de', 'deal', 'dealers', 'death', 'debt', 'debts', 'dec', 'decade', 'december', 'decision', 'declared', 'decline', 'declined', 'decreased', 'deep', 'deficit', 'deficits', 'defined', 'defines', 'defrauding', 'deka', 'delivered', 'deliveries', 'delivery', 'demand', 'demanded', 'democratic', 'denominated', 'denominations', 'department', 'depend', 'deposit', 'deposits', 'depth', 'described', 'designate', 'designed', 'despite', 'details', 'detected', 'determine', 'develop', 'developed', 'development', 'developments', 'devised', 'dhahab', 'diamond', 'did', 'died', 'different', 'difficult', 'dillution', 'diplomats', 'direct', 'direction', 'director', 'disagreed', 'disaster', 'disclose', 'discovered', 'discovery', 'discussion', 'disruption', 'disruptions', 'dissatisfaction', 'distance', 'distorted', 'district', 'diversity', 'division', 'dlr', 'dlrs', 'dm', 'do', 'documentation', 'does', 'dollar', 'dollars', 'dome', 'domestic', 'dominated', 'dominick', 'dominion', 'don', 'donalda', 'done', 'donna', 'double', 'dowa', 'down', 'downdip', 'downed', 'downside', 'doyon', 'drawing', 'drawn', 'dredge', 'dredging', 'dried', 'drift', 'drifting', 'drill', 'drilled', 'drillhole', 'drilling', 'drop', 'dropping', 'due', 'during', 'each', 'eagle', 'earlier', 'early', 'earn', 'earned', 'earnings', 'easier', 'east', 'eastern', 'eastward', 'ec', 'echo', 'eco', 'economic', 'economically', 'economies', 'economy', 'ecu', 'ecuadorean', 'ecus', 'effect', 'effective', 'efforts', 'eight', 'either', 'elaborate', 'elders', 'eliminated', 'elimination', 'else', 'elsewhere', 'eluvial', 'ely', 'emerged', 'emergency', 'emerges', 'emerging', 'emperor', 'emphasized', 'employees', 'enable', 'encountered', 'encourage', 'encouraged', 'encouraging', 'end', 'ending', 'endorse', 'ends', 'enhance', 'enough', 'enquiries', 'enriched', 'ensure', 'entering', 'entire', 'entitled', 'entitling', 'environmental', 'epithermal', 'equipment', 'equity', 'equivalent', 'erickson', 'escalated', 'escape', 'escudo', 'especially', 'establish', 'established', 'estimate', 'estimated', 'estimates', 'estimating', 'europe', 'european', 'evaluation', 'even', 'ever', 'every', 'everything', 'evident', 'exaias', 'examine', 'exceed', 'exceeding', 'except', 'exceptional', 'excess', 'exchange', 'exchanges', 'exciting', 'excluded', 'excluding', 'executive', 'executives', 'exercisable', 'exercise', 'exercised', 'exhausted', 'exist', 'existing', 'expand', 'expanding', 'expansion', 'expect', 'expected', 'expects', 'expenditure', 'expenditures', 'exploit', 'exploited', 'exploration', 'explorations', 'explorer', 'explosion', 'explosives', 'export', 'exporting', 'exports', 'extend', 'extended', 'extending', 'extension', 'extensive', 'extent', 'extract', 'extracted', 'extracting', 'extraction', 'eyskens', 'face', 'facilities', 'facility', 'facing', 'fact', 'factor', 'factors', 'failed', 'failure', 'fairbanks', 'fairly', 'falconbridge', 'fall', 'falling', 'falls', 'families', 'far', 'farmers', 'farther', 'faster', 'favorable', 'fears', 'feasability', 'feasibility', 'february', 'federal', 'feels', 'fees', 'feet', 'fell', 'felt', 'few', 'field', 'figure', 'figures', 'filmed', 'final', 'finalization', 'finance', 'financial', 'financials', 'financing', 'find', 'finds', 'fine', 'fined', 'fire', 'firm', 'firmer', 'firming', 'firmness', 'firms', 'first', 'fish', 'fits', 'five', 'fix', 'fixed', 'fixing', 'float', 'floated', 'flotation', 'flow', 'fluctuate', 'fluctuations', 'flurry', 'followed', 'following', 'food', 'foot', 'for', 'force', 'forecast', 'foreign', 'form', 'former', 'forward', 'found', 'foundation', 'founded', 'founding', 'four', 'fraction', 'franc', 'franco', 'francs', 'fraud', 'free', 'friday', 'from', 'front', 'frozen', 'fscn', 'ft', 'full', 'fully', 'fumes', 'fund', 'funded', 'funds', 'funeral', 'further', 'future', 'futures', 'gain', 'gained', 'gains', 'galactic', 'galcf', 'gallium', 'game', 'gap', 'garcia', 'gas', 'gave', 'gbylf', 'gc', 'geduld', 'general', 'generated', 'generating', 'genm', 'geodome', 'geological', 'geologists', 'german', 'germanium', 'germany', 'get', 'gets', 'ggg', 'ghana', 'giant', 'girozentrale', 'give', 'given', 'go', 'goal', 'gobain', 'goedf', 'going', 'gold', 'golden', 'goldfield', 'goldfields', 'goldman', 'goldmine', 'golds', 'goldstrike', 'gonaives', 'gone', 'good', 'goodall', 'goods', 'gooseberry', 'goran', 'gordex', 'gordon', 'gough', 'government', 'gra', 'grace', 'grade', 'graded', 'grades', 'grading', 'grain', 'grains', 'gram', 'grammes', 'grams', 'grand', 'granted', 'gravel', 'great', 'greater', 'greens', 'grew', 'grootvlei', 'gross', 'group', 'growing', 'grown', 'growth', 'guaranteed', 'guaranty', 'guinea', 'gunnar', 'gympie', 'h', 'had', 'haiti', 'haitian', 'half', 'hallmarked', 'halt', 'hamburg', 'hanging', 'happening', 'hardrock', 'harris', 'harry', 'has', 'have', 'haven', 'having', 'he', 'heap', 'heard', 'heavy', 'hecla', 'hedge', 'heilongjiang', 'held', 'helena', 'help', 'hemlo', 'here', 'hermann', 'high', 'higher', 'highest', 'highlighted', 'highly', 'hill', 'hirohito', 'hiroshi', 'his', 'hl', 'hm', 'hofer', 'hog', 'hogs', 'hold', 'holder', 'holders', 'holding', 'holdings', 'holds', 'hole', 'holes', 'home', 'homeland', 'homestake', 'homicide', 'hong', 'hope', 'hopes', 'hostages', 'hostels', 'hour', 'hourly', 'hours', 'house', 'houses', 'housewives', 'housing', 'houston', 'how', 'howard', 'however', 'hundreds', 'i', 'idaho', 'idea', 'ideas', 'identified', 'if', 'ignasio', 'ii', 'illinois', 'immediate', 'immediately', 'impact', 'implications', 'implicit', 'important', 'imported', 'importer', 'imports', 'impose', 'imposed', 'imposes', 'imposing', 'imposition', 'improve', 'improved', 'improvement', 'improving', 'in', 'inc', 'include', 'included', 'including', 'increase', 'increased', 'increases', 'increasing', 'incredible', 'incx', 'index', 'indicate', 'indicated', 'indicates', 'indium', 'indosuez', 'industrial', 'industry', 'inexact', 'inflation', 'inflationary', 'influence', 'influences', 'infrastructure', 'ing', 'initial', 'injured', 'inlet', 'inspiration', 'instability', 'install', 'institutions', 'insurance', 'integration', 'intended', 'intented', 'interest', 'interests', 'intergold', 'interior', 'internally', 'international', 'internationalising', 'intersected', 'intersection', 'intersections', 'intersects', 'interval', 'intervals', 'intervention', 'interview', 'into', 'introduction', 'invest', 'investigation', 'investing', 'investment', 'investments', 'investor', 'investors', 'involved', 'involving', 'inyo', 'iran', 'iranian', 'irc', 'is', 'ishikawa', 'island', 'issue', 'issued', 'issuer', 'issues', 'issuing', 'it', 'items', 'its', 'itself', 'ivanhoe', 'j', 'jailed', 'jan', 'january', 'japan', 'japanese', 'jewellery', 'jobs', 'joe', 'joensson', 'johannesburg', 'john', 'johnny', 'joint', 'jointly', 'jones', 'journalists', 'july', 'jump', 'jumped', 'june', 'jungle', 'just', 'k', 'kazuo', 'ketza', 'key', 'killed', 'kilo', 'kilometer', 'kilometers', 'kilos', 'kina', 'kindled', 'kingdom', 'kingman', 'kingsley', 'kinross', 'kirkland', 'kjell', 'km', 'kms', 'knobbs', 'knowhow', 'known', 'kobe', 'kong', 'korea', 'korean', 'krugerrand', 'labour', 'lac', 'lacana', 'lack', 'lag', 'lake', 'land', 'landesbank', 'languished', 'large', 'larger', 'largest', 'last', 'late', 'later', 'latest', 'latin', 'launched', 'launches', 'launching', 'law', 'lawyers', 'lbs', 'leach', 'leaching', 'lead', 'leader', 'leaders', 'leaf', 'leased', 'least', 'led', 'legal', 'legislation', 'lehman', 'length', 'leonora', 'lesley', 'less', 'lesser', 'let', 'level', 'levels', 'leverage', 'leveraged', 'levied', 'levon', 'li', 'liabilities', 'license', 'lies', 'life', 'lifting', 'like', 'likely', 'limit', 'limited', 'limits', 'lines', 'linked', 'links', 'list', 'listing', 'lists', 'literature', 'little', 'live', 'lived', 'lively', 'livestock', 'local', 'located', 'locates', 'location', 'locations', 'locked', 'london', 'long', 'longer', 'look', 'looking', 'looks', 'losing', 'loss', 'losses', 'lot', 'lots', 'low', 'lower', 'lowest', 'lows', 'lt', 'ltd', 'luxembourg', 'lvnvf', 'lynch', 'lynn', 'm', 'made', 'mahd', 'main', 'mainly', 'maison', 'major', 'majority', 'make', 'makes', 'making', 'management', 'manager', 'managers', 'mananger', 'mandela', 'manitoba', 'mann', 'manner', 'manufactured', 'many', 'maple', 'march', 'margin', 'margins', 'mark', 'marked', 'market', 'marketed', 'markets', 'marks', 'martin', 'marty', 'mascot', 'material', 'mats', 'maturities', 'maturity', 'may', 'maybe', 'mccoy', 'mclaughlin', 'mcneill', 'me', 'means', 'meant', 'measure', 'meeting', 'meets', 'members', 'membership', 'men', 'mercantile', 'merger', 'merrill', 'meston', 'metal', 'metallurgical', 'metals', 'meters', 'methane', 'method', 'methods', 'metres', 'metric', 'mgdvf', 'michael', 'microscopic', 'mid', 'middle', 'might', 'migrant', 'mild', 'mile', 'miles', 'mill', 'milled', 'milling', 'mine', 'mineable', 'mined', 'miner', 'mineral', 'mineralization', 'mineralized', 'minerals', 'miners', 'mines', 'mineworkers', 'minging', 'mining', 'minister', 'ministers', 'ministry', 'mint', 'minted', 'minting', 'misima', 'mistake', 'miune', 'mln', 'model', 'models', 'moderately', 'modern', 'modest', 'monday', 'monetary', 'money', 'mont', 'montagu', 'montana', 'month', 'monthly', 'months', 'more', 'moresby', 'morgan', 'morne', 'morning', 'morobe', 'most', 'mountain', 'mounting', 'move', 'moved', 'movements', 'moves', 'mt', 'much', 'mulls', 'murchison', 'murgold', 'muskeg', 'must', 'my', 'myra', 'na', 'nagano', 'name', 'named', 'narly', 'narrow', 'narrowed', 'nation', 'national', 'nationalist', 'nations', 'nationwide', 'natural', 'nbh', 'nbha', 'near', 'nearby', 'nearing', 'nearly', 'necessary', 'need', 'needed', 'negotiations', 'neill', 'neither', 'nelson', 'nem', 'ner', 'nerco', 'net', 'netherlands', 'nev', 'nevada', 'never', 'new', 'newfoundland', 'newly', 'newmont', 'news', 'newsletter', 'next', 'ngc', 'ngx', 'nicel', 'nickel', 'night', 'nilsson', 'nine', 'nisker', 'no', 'noranda', 'norgold', 'normal', 'north', 'northeast', 'northern', 'northgate', 'northwest', 'northwestern', 'not', 'note', 'noted', 'notes', 'nothing', 'noticeable', 'noting', 'november', 'novo', 'now', 'num', 'number', 'nurukawa', 'o', 'obliged', 'obtain', 'occurred', 'ocean', 'oct', 'october', 'of', 'off', 'offer', 'offered', 'office', 'offices', 'official', 'officially', 'officials', 'offset', 'offshoot', 'often', 'oil', 'ok', 'old', 'on', 'once', 'one', 'ones', 'only', 'ontario', 'opec', 'open', 'opened', 'opening', 'opens', 'operate', 'operated', 'operates', 'operating', 'operation', 'operations', 'operator', 'opinion', 'optimistic', 'option', 'options', 'or', 'ora', 'order', 'ordered', 'orderly', 'ore', 'ores', 'organisation', 'organized', 'original', 'origins', 'osaka', 'other', 'otherwise', 'ounce', 'ounces', 'our', 'out', 'outlook', 'outpace', 'output', 'outside', 'over', 'overall', 'overburden', 'owed', 'own', 'owned', 'owner', 'owners', 'ownership', 'owns', 'oxide', 'oz', 'pachapidiana', 'pacific', 'pacificorp', 'paid', 'palladium', 'panic', 'paper', 'papua', 'par', 'parallel', 'parliament', 'part', 'participant', 'participants', 'particularly', 'partly', 'partner', 'partners', 'partnership', 'past', 'patricia', 'paul', 'paulson', 'pay', 'payback', 'payment', 'pct', 'peak', 'peaks', 'pegasus', 'pending', 'pension', 'pensioners', 'people', 'per', 'percentage', 'performance', 'performed', 'performing', 'period', 'periodic', 'periods', 'periphery', 'permits', 'personal', 'perth', 'peru', 'peseta', 'peter', 'petroleum', 'petromin', 'pgul', 'pgulf', 'phase', 'philosophy', 'physical', 'pickens', 'pillar', 'piog', 'pioneer', 'pioneered', 'pires', 'pit', 'pits', 'place', 'placed', 'placements', 'placer', 'plan', 'planned', 'plans', 'plant', 'plate', 'platinum', 'play', 'plc', 'plus', 'png', 'point', 'pointed', 'points', 'poised', 'police', 'policy', 'political', 'poona', 'pope', 'pork', 'port', 'portfolio', 'portion', 'portland', 'portuguese', 'position', 'positioned', 'positive', 'possible', 'possibly', 'post', 'posted', 'potential', 'pounds', 'ppw', 'practice', 'practise', 'pre', 'precious', 'predicted', 'predicts', 'prefeasibility', 'preliminary', 'premium', 'premiums', 'preproduction', 'presence', 'present', 'presentation', 'preserve', 'president', 'presides', 'press', 'pressure', 'pressures', 'previous', 'previously', 'price', 'priced', 'prices', 'pricing', 'principal', 'principle', 'prior', 'private', 'probable', 'probably', 'problems', 'proceed', 'proceeding', 'process', 'processed', 'processing', 'produce', 'produced', 'producer', 'producers', 'producing', 'product', 'production', 'productive', 'products', 'professional', 'profit', 'profitably', 'profits', 'program', 'progressively', 'prohibitive', 'project', 'projected', 'projection', 'promote', 'prompting', 'pronounced', 'propel', 'properties', 'property', 'proposal', 'proposed', 'proprietary', 'prosecutors', 'prospect', 'prospecting', 'prospects', 'protest', 'protesting', 'prove', 'proved', 'proven', 'provide', 'provided', 'province', 'provincial', 'pty', 'public', 'publicity', 'publish', 'purchase', 'purchased', 'purchases', 'put', 'puts', 'pyongyang', 'quality', 'quantities', 'quantity', 'quarter', 'quartz', 'quebec', 'queen', 'queensland', 'questioned', 'quick', 'quickly', 'quiet', 'quotation', 'quoted', 'r', 'raise', 'raised', 'raising', 'rallies', 'rally', 'rand', 'range', 'ranged', 'ranges', 'ranging', 'rankin', 'rapid', 'rapidly', 'rate', 'rated', 'rates', 'rather', 'ratio', 'raytheon', 're', 'reach', 'reached', 'reaching', 'reaction', 'reactions', 'reaffirmed', 'reagan', 'real', 'realistic', 'really', 'reason', 'reassert', 'recalculated', 'receipt', 'receive', 'received', 'receiving', 'recent', 'recently', 'recognition', 'recommended', 'record', 'recourse', 'recover', 'recovered', 'recoveries', 'recovery', 'red', 'reduced', 'reduction', 'refers', 'refining', 'reflate', 'refusal', 'refuse', 'refused', 'region', 'regional', 'registered', 'regulations', 'regulatory', 'rehabilitation', 'reign', 'rejection', 'related', 'relative', 'relatively', 'released', 'remained', 'remaining', 'remains', 'remarks', 'removal', 'renewed', 'renison', 'renounceable', 'repaid', 'repay', 'replaced', 'report', 'reported', 'reporters', 'reporting', 'reports', 'represent', 'representative', 'representatives', 'represented', 'represents', 'required', 'research', 'reserve', 'reserves', 'residual', 'resistance', 'resolve', 'resource', 'resources', 'respective', 'respectively', 'responds', 'responsible', 'rest', 'result', 'results', 'resumed', 'resurrect', 'retain', 'return', 'returned', 'reuter', 'reuters', 'revenues', 'reverberated', 'review', 'revised', 'rgc', 'rgfj', 'rich', 'richard', 'richest', 'richmond', 'ride', 'ridge', 'ridgeway', 'right', 'rights', 'rise', 'risen', 'rises', 'rising', 'risk', 'river', 'rivers', 'roared', 'rock', 'rocks', 'rome', 'ronald', 'ronnskar', 'rose', 'roughly', 'rouyn', 'royalty', 'rpt', 'rtn', 'run', 'rush', 'rushed', 's', 'sachs', 'safety', 'said', 'sale', 'sales', 'salomon', 'same', 'samples', 'sampling', 'samuel', 'san', 'sangsu', 'santiago', 'saskatchewan', 'satisfactory', 'saturday', 'saudi', 'saw', 'say', 'says', 'scale', 'schedule', 'scheduled', 'scheme', 'schemes', 'science', 'scientific', 'second', 'section', 'securities', 'sedren', 'see', 'seek', 'seems', 'seen', 'sees', 'seize', 'sell', 'selling', 'senior', 'sentiment', 'separate', 'september', 'series', 'set', 'sets', 'setting', 'seven', 'seventh', 'several', 'severe', 'severely', 'sex', 'shaft', 'shafts', 'shandong', 'share', 'shareholder', 'shareholders', 'shares', 'sharp', 'sharply', 'she', 'shearson', 'shift', 'shifted', 'ship', 'shoji', 'sholes', 'shore', 'short', 'should', 'shouted', 'show', 'showed', 'shown', 'shows', 'side', 'sigma', 'sign', 'signed', 'significant', 'significantly', 'silver', 'similar', 'simple', 'since', 'singapore', 'single', 'sit', 'site', 'sites', 'situation', 'six', 'sixth', 'sjg', 'skx', 'skyline', 'sleeper', 'slide', 'slightly', 'slipped', 'slow', 'slowed', 'slowing', 'small', 'smaller', 'smashing', 'smelted', 'smelter', 'smith', 'so', 'soar', 'sold', 'solid', 'some', 'someone', 'somewhere', 'son', 'soon', 'sophisticated', 'sound', 'sources', 'south', 'southeast', 'southeastern', 'southwest', 'sovereign', 'soviet', 'spanish', 'special', 'specific', 'speculation', 'speculative', 'speculators', 'spencer', 'spend', 'spending', 'spent', 'sphinx', 'spike', 'spnxf', 'spokane', 'spokesman', 'sponsored', 'spot', 'spread', 'square', 'ssmc', 'st', 'stabbed', 'stabilisation', 'stabilising', 'stage', 'staged', 'staging', 'stake', 'stakes', 'standard', 'star', 'starrex', 'start', 'started', 'starting', 'starts', 'state', 'stated', 'statement', 'states', 'statutory', 'steadily', 'stearns', 'steelworkers', 'steve', 'stg', 'stibnite', 'still', 'stimulate', 'stimulating', 'stock', 'stocks', 'stood', 'stoppage', 'strategically', 'strike', 'strikes', 'striking', 'stripping', 'strohmeyer', 'strong', 'strongly', 'struck', 'structure', 'studies', 'study', 'subject', 'submission', 'subscribe', 'subsequent', 'subsidiary', 'substantial', 'substantially', 'success', 'successful', 'such', 'suface', 'suffered', 'suffering', 'suffocated', 'suisse', 'sulfide', 'sulphide', 'summer', 'sunbeam', 'sunday', 'supplies', 'supply', 'support', 'supported', 'surface', 'surfrace', 'surplus', 'surrounding', 'survey', 'suspected', 'suspend', 'sweden', 'swedish', 'swindling', 'swiss', 'switching', 'switzerland', 'symbolic', 'syngold', 'system', 't', 'tael', 'tailings', 'take', 'taken', 'takeover', 'talking', 'talks', 'tamborapa', 'target', 'targets', 'tasmania', 'tax', 'taxes', 'teberebie', 'technical', 'technigen', 'techniques', 'technology', 'tedi', 'tedious', 'teles', 'television', 'telfer', 'temporary', 'tender', 'tenth', 'term', 'terminated', 'terms', 'territories', 'territory', 'test', 'tested', 'tests', 'than', 'that', 'the', 'their', 'them', 'themselves', 'then', 'there', 'these', 'they', 'thhe', 'thick', 'thickness', 'thin', 'think', 'third', 'thirty', 'this', 'those', 'though', 'thought', 'thousands', 'threat', 'three', 'threshold', 'through', 'throughout', 'throughput', 'thursday', 'time', 'timely', 'times', 'timmins', 'titles', 'tle', 'to', 'today', 'together', 'tokyo', 'told', 'tomaque', 'tomorrow', 'ton', 'tonnage', 'tonne', 'tonnes', 'tons', 'too', 'tools', 'top', 'toronto', 'total', 'totaled', 'totaling', 'totalled', 'town', 'township', 'toxic', 'toyota', 'trace', 'traced', 'trackless', 'trade', 'traded', 'traders', 'trades', 'trading', 'traditional', 'trans', 'transaction', 'transactions', 'transfer', 'transkei', 'treasury', 'treatable', 'treatment', 'treaty', 'tried', 'troy', 'true', 'trust', 'trying', 'tse', 'tuesday', 'tug', 'tumbled', 'tunnel', 'tunnels', 'turning', 'turnover', 'tvx', 'two', 'tyranex', 'tyranite', 'u', 'udf', 'unable', 'uncertainty', 'und', 'undeground', 'under', 'underground', 'underline', 'underlying', 'undermine', 'underscore', 'understand', 'undertake', 'undertook', 'underwriting', 'underwritten', 'undiluted', 'union', 'unit', 'united', 'unlikely', 'unlimited', 'unmatched', 'unsafe', 'unsecured', 'unstable', 'unsubordinated', 'untapped', 'until', 'unzan', 'up', 'upham', 'uranium', 'us', 'use', 'used', 'uses', 'using', 'usmx', 'usx', 'utah', 'v', 'vaal', 'val', 'valley', 'value', 'valued', 'values', 'vancouver', 'variant', 'varying', 'vehicle', 'vein', 'veins', 'venture', 'vereins', 'versus', 'vertical', 'very', 'vice', 'viceroy', 'vien', 'view', 'virtually', 'visited', 'volatile', 'volatility', 'volatily', 'volcker', 'volume', 'voted', 'vs', 'w', 'waiting', 'wales', 'wall', 'wane', 'want', 'wanted', 'war', 'warm', 'warrant', 'warranted', 'warrants', 'was', 'wash', 'water', 'waver', 'way', 'we', 'weak', 'weaker', 'weakness', 'wednesday', 'wednesdays', 'week', 'weekend', 'weeks', 'weight', 'weighted', 'welcome', 'well', 'wenatchee', 'went', 'were', 'west', 'westbank', 'westdeutsche', 'western', 'westmin', 'what', 'whatever', 'when', 'where', 'which', 'while', 'white', 'who', 'wholly', 'wide', 'width', 'will', 'william', 'winnemucca', 'witbank', 'with', 'within', 'without', 'witte', 'wmc', 'wmng', 'work', 'worker', 'workers', 'working', 'works', 'world', 'worldwide', 'worried', 'worries', 'worrying', 'worth', 'would', 'wouldn', 'x', 'yard', 'yards', 'year', 'yearly', 'years', 'yen', 'yesterday', 'yet', 'yield', 'yielded', 'yields', 'york', 'yorkton', 'you', 'yukon', 'zero', 'zinc', 'zone', 'zones', 'zurich']\n",
            "Running Truncated SVD over 2830 words...\n",
            "Done.\n"
          ]
        },
        {
          "output_type": "display_data",
          "data": {
            "text/plain": [
              "<Figure size 720x360 with 1 Axes>"
            ],
            "image/png": "[encoded data removed]"
          },
          "metadata": {
            "needs_background": "light"
          }
        }
      ],
      "source": [
        "# -----------------------------\n",
        "# Run This Cell to Produce Your Plot\n",
        "# ------------------------------\n",
        "reuters_corpus = read_corpus()\n",
        "M_co_occurrence, word2ind_co_occurrence = compute_co_occurrence_matrix(reuters_corpus)\n",
        "M_reduced_co_occurrence = reduce_to_k_dim(M_co_occurrence, k=2)\n",
        "\n",
        "# Rescale (normalize) the rows to make them each of unit-length\n",
        "M_lengths = np.linalg.norm(M_reduced_co_occurrence, axis=1)\n",
        "M_normalized = M_reduced_co_occurrence / M_lengths[:, np.newaxis] # broadcasting\n",
        "\n",
        "words = ['value', 'gold', 'platinum', 'reserves', 'silver', 'metals', 'copper', 'belgium', 'australia', 'china', 'grammes', \"mine\"]\n",
        "\n",
        "plot_embeddings(M_normalized, word2ind_co_occurrence, words)"
      ]
    },
    {
      "cell_type": "markdown",
      "metadata": {
        "id": "RtOd40JTSSuE"
      },
      "source": [
        "**Verify that your figure matches \"question_1.5.png\" in the assignment zip. If not, use that figure to answer the next two questions.**"
      ]
    },
    {
      "cell_type": "markdown",
      "metadata": {
        "id": "ciXWGMvRSSuE"
      },
      "source": [
        "a. Find at least two groups of words that cluster together in 2-dimensional embedding space. Give an explanation for each cluster you observe."
      ]
    },
    {
      "cell_type": "markdown",
      "metadata": {
        "id": "fLU7o3HESSuF"
      },
      "source": [
        "### SOLUTION BEGIN\n",
        "australia and belgium cluster together also platinum and cooper are clustered together.\n",
        "the first group are both countries and the second group are both mine.\n",
        "### SOLUTION END\n"
      ]
    },
    {
      "cell_type": "markdown",
      "metadata": {
        "id": "3H-tyA9RSSuF"
      },
      "source": [
        "b. What doesn't cluster together that you might think should have? Describe at least two examples."
      ]
    },
    {
      "cell_type": "markdown",
      "metadata": {
        "id": "3NG2j9J4SSuG"
      },
      "source": [
        "### SOLUTION BEGIN\n",
        "china has to cluster with ausralia and belgium wich are all countries. \n",
        "also grammes and value can be clustered together which show an amount or size.\n",
        "\n",
        "### SOLUTION END"
      ]
    },
    {
      "cell_type": "markdown",
      "metadata": {
        "id": "_h0OzAaRSSuI"
      },
      "source": [
        "## Part 2: Prediction-Based Word Vectors (15 points)\n",
        "\n",
        "As discussed in class, more recently prediction-based word vectors have demonstrated better performance, such as word2vec and GloVe (which also utilizes the benefit of counts). Here, we shall explore the embeddings produced by GloVe. Please revisit the class notes and lecture slides for more details on the word2vec and GloVe algorithms. If you're feeling adventurous, challenge yourself and try reading [GloVe's original paper](https://nlp.stanford.edu/pubs/glove.pdf).\n",
        "\n",
        "Then run the following cells to load the GloVe vectors into memory. **Note**: If this is your first time to run these cells, i.e. download the embedding model, it will take a couple minutes to run. If you've run these cells before, rerunning them will load the model without redownloading it, which will take about 1 to 2 minutes."
      ]
    },
    {
      "cell_type": "code",
      "execution_count": 13,
      "metadata": {
        "id": "l3kwvdksSSuI"
      },
      "outputs": [],
      "source": [
        "def load_embedding_model():\n",
        "    \"\"\" Load GloVe Vectors\n",
        "        Return:\n",
        "            wv_from_bin: All 400000 embeddings, each lengh 200\n",
        "    \"\"\"\n",
        "    import gensim.downloader as api\n",
        "    wv_from_bin = api.load(\"glove-wiki-gigaword-200\")\n",
        "    print(\"Loaded vocab size %i\" % len(list(wv_from_bin.index_to_key)))\n",
        "    return wv_from_bin"
      ]
    },
    {
      "cell_type": "code",
      "execution_count": 14,
      "metadata": {
        "scrolled": true,
        "id": "JCvVlSLZSSuJ",
        "colab": {
          "base_uri": "https://localhost:8080/"
        },
        "outputId": "5bd4bad9-f3f2-4c00-ef2c-5511c7a938be"
      },
      "outputs": [
        {
          "output_type": "stream",
          "name": "stdout",
          "text": [
            "Loaded vocab size 400000\n"
          ]
        }
      ],
      "source": [
        "# -----------------------------------\n",
        "# Run Cell to Load Word Vectors\n",
        "# Note: This will take a couple minutes\n",
        "# -----------------------------------\n",
        "wv_from_bin = load_embedding_model()"
      ]
    },
    {
      "cell_type": "markdown",
      "metadata": {
        "id": "egIeG1RTSSuK"
      },
      "source": [
        "#### Note: If you are receiving a \"reset by peer\" error, rerun the cell to restart the download. If you run into an \"attribute\" error, you may need to update to the most recent version of gensim and numpy. You can upgrade them inline by uncommenting and running the below cell:"
      ]
    },
    {
      "cell_type": "code",
      "source": [
        "!pip install gensim --upgrade\n",
        "!pip install numpy --upgrade"
      ],
      "metadata": {
        "id": "ZlF5fxSXcq95",
        "colab": {
          "base_uri": "https://localhost:8080/",
          "height": 1000
        },
        "outputId": "a85283f5-51e3-4fc5-9ece-452f7e5e679a"
      },
      "execution_count": 20,
      "outputs": [
        {
          "output_type": "stream",
          "name": "stdout",
          "text": [
            "Looking in indexes: https://pypi.org/simple, https://us-python.pkg.dev/colab-wheels/public/simple/\n",
            "Requirement already satisfied: gensim in /usr/local/lib/python3.8/dist-packages (3.6.0)\n",
            "Collecting gensim\n",
            "  Downloading gensim-4.3.0-cp38-cp38-manylinux_2_12_x86_64.manylinux2010_x86_64.whl (24.1 MB)\n",
            "\u001b[2K     \u001b[90m━━━━━━━━━━━━━━━━━━━━━━━━━━━━━━━━━━━━━━━━\u001b[0m \u001b[32m24.1/24.1 MB\u001b[0m \u001b[31m37.4 MB/s\u001b[0m eta \u001b[36m0:00:00\u001b[0m\n",
            "\u001b[?25hRequirement already satisfied: numpy>=1.18.5 in /usr/local/lib/python3.8/dist-packages (from gensim) (1.22.4)\n",
            "Requirement already satisfied: smart-open>=1.8.1 in /usr/local/lib/python3.8/dist-packages (from gensim) (6.3.0)\n",
            "Collecting FuzzyTM>=0.4.0\n",
            "  Downloading FuzzyTM-2.0.5-py3-none-any.whl (29 kB)\n",
            "Requirement already satisfied: scipy>=1.7.0 in /usr/local/lib/python3.8/dist-packages (from gensim) (1.7.3)\n",
            "Requirement already satisfied: pandas in /usr/local/lib/python3.8/dist-packages (from FuzzyTM>=0.4.0->gensim) (1.3.5)\n",
            "Collecting pyfume\n",
            "  Downloading pyFUME-0.2.25-py3-none-any.whl (67 kB)\n",
            "\u001b[2K     \u001b[90m━━━━━━━━━━━━━━━━━━━━━━━━━━━━━━━━━━━━━━━━\u001b[0m \u001b[32m67.1/67.1 KB\u001b[0m \u001b[31m7.3 MB/s\u001b[0m eta \u001b[36m0:00:00\u001b[0m\n",
            "\u001b[?25hRequirement already satisfied: python-dateutil>=2.7.3 in /usr/local/lib/python3.8/dist-packages (from pandas->FuzzyTM>=0.4.0->gensim) (2.8.2)\n",
            "Requirement already satisfied: pytz>=2017.3 in /usr/local/lib/python3.8/dist-packages (from pandas->FuzzyTM>=0.4.0->gensim) (2022.7.1)\n",
            "Collecting fst-pso\n",
            "  Downloading fst-pso-1.8.1.tar.gz (18 kB)\n",
            "  Preparing metadata (setup.py) ... \u001b[?25l\u001b[?25hdone\n",
            "Collecting simpful\n",
            "  Downloading simpful-2.10.0-py3-none-any.whl (31 kB)\n",
            "Requirement already satisfied: six>=1.5 in /usr/local/lib/python3.8/dist-packages (from python-dateutil>=2.7.3->pandas->FuzzyTM>=0.4.0->gensim) (1.15.0)\n",
            "Collecting miniful\n",
            "  Downloading miniful-0.0.6.tar.gz (2.8 kB)\n",
            "  Preparing metadata (setup.py) ... \u001b[?25l\u001b[?25hdone\n",
            "Requirement already satisfied: requests in /usr/local/lib/python3.8/dist-packages (from simpful->pyfume->FuzzyTM>=0.4.0->gensim) (2.25.1)\n",
            "Requirement already satisfied: certifi>=2017.4.17 in /usr/local/lib/python3.8/dist-packages (from requests->simpful->pyfume->FuzzyTM>=0.4.0->gensim) (2022.12.7)\n",
            "Requirement already satisfied: urllib3<1.27,>=1.21.1 in /usr/local/lib/python3.8/dist-packages (from requests->simpful->pyfume->FuzzyTM>=0.4.0->gensim) (1.24.3)\n",
            "Requirement already satisfied: chardet<5,>=3.0.2 in /usr/local/lib/python3.8/dist-packages (from requests->simpful->pyfume->FuzzyTM>=0.4.0->gensim) (4.0.0)\n",
            "Requirement already satisfied: idna<3,>=2.5 in /usr/local/lib/python3.8/dist-packages (from requests->simpful->pyfume->FuzzyTM>=0.4.0->gensim) (2.10)\n",
            "Building wheels for collected packages: fst-pso, miniful\n",
            "  Building wheel for fst-pso (setup.py) ... \u001b[?25l\u001b[?25hdone\n",
            "  Created wheel for fst-pso: filename=fst_pso-1.8.1-py3-none-any.whl size=20443 sha256=f3b7c934ee16927dc3bc641febe7203e50a1bd9435682280c24f3e3da0a9ba09\n",
            "  Stored in directory: /root/.cache/pip/wheels/6a/65/c4/d27eeee9ba3fc150a0dae150519591103b9e0dbffde3ae77dc\n",
            "  Building wheel for miniful (setup.py) ... \u001b[?25l\u001b[?25hdone\n",
            "  Created wheel for miniful: filename=miniful-0.0.6-py3-none-any.whl size=3530 sha256=1f9b6026008255db0351b32b04de53a7f876b807a692f15018aebf76f64406ce\n",
            "  Stored in directory: /root/.cache/pip/wheels/ba/d9/a0/ddd93af16d5855dd9bad417623e70948fdac119d1d34fb17c8\n",
            "Successfully built fst-pso miniful\n",
            "Installing collected packages: simpful, miniful, fst-pso, pyfume, FuzzyTM, gensim\n",
            "  Attempting uninstall: gensim\n",
            "    Found existing installation: gensim 3.6.0\n",
            "    Uninstalling gensim-3.6.0:\n",
            "      Successfully uninstalled gensim-3.6.0\n",
            "Successfully installed FuzzyTM-2.0.5 fst-pso-1.8.1 gensim-4.3.0 miniful-0.0.6 pyfume-0.2.25 simpful-2.10.0\n"
          ]
        },
        {
          "output_type": "display_data",
          "data": {
            "application/vnd.colab-display-data+json": {
              "pip_warning": {
                "packages": [
                  "gensim"
                ]
              }
            }
          },
          "metadata": {}
        },
        {
          "output_type": "stream",
          "name": "stdout",
          "text": [
            "Looking in indexes: https://pypi.org/simple, https://us-python.pkg.dev/colab-wheels/public/simple/\n",
            "Requirement already satisfied: numpy in /usr/local/lib/python3.8/dist-packages (1.22.4)\n",
            "Collecting numpy\n",
            "  Downloading numpy-1.24.2-cp38-cp38-manylinux_2_17_x86_64.manylinux2014_x86_64.whl (17.3 MB)\n",
            "\u001b[2K     \u001b[90m━━━━━━━━━━━━━━━━━━━━━━━━━━━━━━━━━━━━━━━━\u001b[0m \u001b[32m17.3/17.3 MB\u001b[0m \u001b[31m68.7 MB/s\u001b[0m eta \u001b[36m0:00:00\u001b[0m\n",
            "\u001b[?25hInstalling collected packages: numpy\n",
            "  Attempting uninstall: numpy\n",
            "    Found existing installation: numpy 1.22.4\n",
            "    Uninstalling numpy-1.22.4:\n",
            "      Successfully uninstalled numpy-1.22.4\n",
            "\u001b[31mERROR: pip's dependency resolver does not currently take into account all the packages that are installed. This behaviour is the source of the following dependency conflicts.\n",
            "scipy 1.7.3 requires numpy<1.23.0,>=1.16.5, but you have numpy 1.24.2 which is incompatible.\n",
            "numba 0.56.4 requires numpy<1.24,>=1.18, but you have numpy 1.24.2 which is incompatible.\u001b[0m\u001b[31m\n",
            "\u001b[0mSuccessfully installed numpy-1.24.2\n"
          ]
        }
      ]
    },
    {
      "cell_type": "markdown",
      "metadata": {
        "id": "rH9gWJWpSSuL"
      },
      "source": [
        "### Reducing dimensionality of Word Embeddings\n",
        "Let's directly compare the GloVe embeddings to those of the co-occurrence matrix. In order to avoid running out of memory, we will work with a sample of 10000 GloVe vectors instead.\n",
        "Run the following cells to:\n",
        "\n",
        "1. Put 10000 Glove vectors into a matrix M\n",
        "2. Run `reduce_to_k_dim` (your Truncated SVD function) to reduce the vectors from 200-dimensional to 2-dimensional."
      ]
    },
    {
      "cell_type": "code",
      "execution_count": 15,
      "metadata": {
        "id": "0PROUu_-SSuL"
      },
      "outputs": [],
      "source": [
        "def get_matrix_of_vectors(wv_from_bin, required_words):\n",
        "    \"\"\" Put the GloVe vectors into a matrix M.\n",
        "        Param:\n",
        "            wv_from_bin: KeyedVectors object; the 400000 GloVe vectors loaded from file\n",
        "        Return:\n",
        "            M: numpy matrix shape (num words, 200) containing the vectors\n",
        "            word2ind: dictionary mapping each word to its row number in M\n",
        "    \"\"\"\n",
        "    import random\n",
        "    words = list(wv_from_bin.index_to_key)\n",
        "    print(\"Shuffling words ...\")\n",
        "    random.seed(225)\n",
        "    random.shuffle(words)\n",
        "    words = words[:10000]\n",
        "    print(\"Putting %i words into word2ind and matrix M...\" % len(words))\n",
        "    word2ind = {}\n",
        "    M = []\n",
        "    curInd = 0\n",
        "    for w in words:\n",
        "        try:\n",
        "            M.append(wv_from_bin.get_vector(w))\n",
        "            word2ind[w] = curInd\n",
        "            curInd += 1\n",
        "        except KeyError:\n",
        "            continue\n",
        "    for w in required_words:\n",
        "        if w in words:\n",
        "            continue\n",
        "        try:\n",
        "            M.append(wv_from_bin.get_vector(w))\n",
        "            word2ind[w] = curInd\n",
        "            curInd += 1\n",
        "        except KeyError:\n",
        "            continue\n",
        "    M = np.stack(M)\n",
        "    print(\"Done.\")\n",
        "    return M, word2ind"
      ]
    },
    {
      "cell_type": "code",
      "execution_count": 16,
      "metadata": {
        "id": "cpgM0M-hSSuM",
        "colab": {
          "base_uri": "https://localhost:8080/"
        },
        "outputId": "5e29dd9c-97d6-41c5-b58c-50ebe62f6ac1"
      },
      "outputs": [
        {
          "output_type": "stream",
          "name": "stdout",
          "text": [
            "Shuffling words ...\n",
            "Putting 10000 words into word2ind and matrix M...\n",
            "Done.\n",
            "Running Truncated SVD over 10012 words...\n",
            "Done.\n"
          ]
        }
      ],
      "source": [
        "# -----------------------------------------------------------------\n",
        "# Run Cell to Reduce 200-Dimensional Word Embeddings to k Dimensions\n",
        "# Note: This should be quick to run\n",
        "# -----------------------------------------------------------------\n",
        "M, word2ind = get_matrix_of_vectors(wv_from_bin, words)\n",
        "M_reduced = reduce_to_k_dim(M, k=2)\n",
        "\n",
        "# Rescale (normalize) the rows to make them each of unit-length\n",
        "M_lengths = np.linalg.norm(M_reduced, axis=1)\n",
        "M_reduced_normalized = M_reduced / M_lengths[:, np.newaxis] # broadcasting"
      ]
    },
    {
      "cell_type": "markdown",
      "metadata": {
        "id": "8_46FYMJSSuN"
      },
      "source": [
        "**Note: If you are receiving out of memory issues on your local machine, try closing other applications to free more memory on your device. You may want to try restarting your machine so that you can free up extra memory. Then immediately run the jupyter notebook and see if you can load the word vectors properly. If you still have problems with loading the embeddings onto your local machine after this, please go to office hours or contact course staff.**"
      ]
    },
    {
      "cell_type": "markdown",
      "metadata": {
        "id": "zAFrU8ahSSuO"
      },
      "source": [
        "### Question 2.1: GloVe Plot Analysis [written] (3 points)\n",
        "\n",
        "Run the cell below to plot the 2D GloVe embeddings for `['value', 'gold', 'platinum', 'reserves', 'silver', 'metals', 'copper', 'belgium', 'australia', 'china', 'grammes', \"mine\"]`."
      ]
    },
    {
      "cell_type": "code",
      "execution_count": 17,
      "metadata": {
        "scrolled": true,
        "id": "9kHRkjz6SSuO",
        "colab": {
          "base_uri": "https://localhost:8080/",
          "height": 322
        },
        "outputId": "d175775e-15dd-4038-8f3b-11640c817c80"
      },
      "outputs": [
        {
          "output_type": "display_data",
          "data": {
            "text/plain": [
              "<Figure size 720x360 with 1 Axes>"
            ],
            "image/png": "[encoded data removed]"
          },
          "metadata": {
            "needs_background": "light"
          }
        }
      ],
      "source": [
        "words = ['value', 'gold', 'platinum', 'reserves', 'silver', 'metals', 'copper', 'belgium', 'australia', 'china', 'grammes', \"mine\"]\n",
        "\n",
        "plot_embeddings(M_reduced_normalized, word2ind, words)"
      ]
    },
    {
      "cell_type": "markdown",
      "metadata": {
        "id": "eOnrMZkzSSuP"
      },
      "source": [
        "a. What is one way the plot is different from the one generated earlier from the co-occurrence matrix? What is one way it's similar?"
      ]
    },
    {
      "cell_type": "markdown",
      "metadata": {
        "id": "5KC4PTQoSSuQ"
      },
      "source": [
        "### SOLUTION BEGIN\n",
        "it has clustered silver and platinum together but the co-occurrence matrix didn't. but they have clustered. but they have both clustered gold and mine together. in general i think the co-occurrence matrix has better separation.\n",
        "### SOLUTION END"
      ]
    },
    {
      "cell_type": "markdown",
      "metadata": {
        "id": "bNDY5puZSSuQ"
      },
      "source": [
        "b. What is a possible cause for the difference?"
      ]
    },
    {
      "cell_type": "markdown",
      "metadata": {
        "id": "o-cWAvi8SSuR"
      },
      "source": [
        "### SOLUTION BEGIN\n",
        "it is probably grouping words in different aspect of their meaning. because they have considered 2 dimensions.\n",
        "### SOLUTION END"
      ]
    },
    {
      "cell_type": "markdown",
      "metadata": {
        "id": "nA8oIbjjSSuS"
      },
      "source": [
        "### Cosine Similarity\n",
        "Now that we have word vectors, we need a way to quantify the similarity between individual words, according to these vectors. One such metric is cosine-similarity. We will be using this to find words that are \"close\" and \"far\" from one another.\n",
        "\n",
        "We can think of n-dimensional vectors as points in n-dimensional space. If we take this perspective [L1](http://mathworld.wolfram.com/L1-Norm.html) and [L2](http://mathworld.wolfram.com/L2-Norm.html) Distances help quantify the amount of space \"we must travel\" to get between these two points. Another approach is to examine the angle between two vectors. From trigonometry we know that:\n",
        "\n",
        "<img src=\"./imgs/inner_product.png\" width=20% style=\"float: center;\"></img>\n",
        "\n",
        "Instead of computing the actual angle, we can leave the similarity in terms of $similarity = cos(\\Theta)$. Formally the [Cosine Similarity](https://en.wikipedia.org/wiki/Cosine_similarity) $s$ between two vectors $p$ and $q$ is defined as:\n",
        "\n",
        "$$s = \\frac{p \\cdot q}{||p|| ||q||}, \\textrm{ where } s \\in [-1, 1] $$ "
      ]
    },
    {
      "cell_type": "markdown",
      "metadata": {
        "id": "sFfCOLUsSSuS"
      },
      "source": [
        "### Question 2.2: Words with Multiple Meanings (1.5 points) [code + written] \n",
        "Polysemes and homonyms are words that have more than one meaning (see this [wiki page](https://en.wikipedia.org/wiki/Polysemy) to learn more about the difference between polysemes and homonyms ). Find a word with *at least two different meanings* such that the top-10 most similar words (according to cosine similarity) contain related words from *both* meanings. For example, \"leaves\" has both \"go_away\" and \"a_structure_of_a_plant\" meaning in the top 10, and \"scoop\" has both \"handed_waffle_cone\" and \"lowdown\". You will probably need to try several polysemous or homonymic words before you find one. \n",
        "\n",
        "Please state the word you discover and the multiple meanings that occur in the top 10. Why do you think many of the polysemous or homonymic words you tried didn't work (i.e. the top-10 most similar words only contain **one** of the meanings of the words)?\n",
        "\n",
        "**Note**: You should use the `wv_from_bin.most_similar(word)` function to get the top 10 similar words. This function ranks all other words in the vocabulary with respect to their cosine similarity to the given word. For further assistance, please check the __[GenSim documentation](https://radimrehurek.com/gensim/models/keyedvectors.html#gensim.models.keyedvectors.FastTextKeyedVectors.most_similar)__."
      ]
    },
    {
      "cell_type": "code",
      "execution_count": 18,
      "metadata": {
        "id": "ZAr09U-xSSuT",
        "colab": {
          "base_uri": "https://localhost:8080/"
        },
        "outputId": "646b7790-7569-4f31-b5dc-6872551673ce"
      },
      "outputs": [
        {
          "output_type": "execute_result",
          "data": {
            "text/plain": [
              "[('sinks', 0.6829906702041626),\n",
              " ('sinking', 0.588735818862915),\n",
              " ('bottom', 0.5451675057411194),\n",
              " ('sunk', 0.5268896222114563),\n",
              " ('drain', 0.5154818892478943),\n",
              " ('sank', 0.502458930015564),\n",
              " ('capsize', 0.4759066104888916),\n",
              " ('tub', 0.46636176109313965),\n",
              " ('bathroom', 0.4648846685886383),\n",
              " ('water', 0.45993712544441223)]"
            ]
          },
          "metadata": {},
          "execution_count": 18
        }
      ],
      "source": [
        "### SOLUTION BEGIN\n",
        "wv_from_bin.most_similar('sink')\n",
        "### SOLUTION END"
      ]
    },
    {
      "cell_type": "markdown",
      "metadata": {
        "id": "VdQ018tjSSuT"
      },
      "source": [
        "### SOLUTION BEGIN\n",
        "some words have different meanings in deifferent situations so in order to find out the meaning we need to process many samples wich takes a lot of time and memory. so our word vector only consists of meanings used most in the samples.\n",
        "and i think this happened because of the corpus. This word2vec embedding was trained by the Google news. And the usage of the words are limited in some field. \n",
        "### SOLUTION END"
      ]
    },
    {
      "cell_type": "markdown",
      "metadata": {
        "id": "VfeW-eK9SSuU"
      },
      "source": [
        "### Question 2.3: Synonyms & Antonyms (2 points) [code + written] \n",
        "\n",
        "When considering Cosine Similarity, it's often more convenient to think of Cosine Distance, which is simply 1 - Cosine Similarity.\n",
        "\n",
        "Find three words $(w_1,w_2,w_3)$ where $w_1$ and $w_2$ are synonyms and $w_1$ and $w_3$ are antonyms, but Cosine Distance $(w_1,w_3) <$ Cosine Distance $(w_1,w_2)$. \n",
        "\n",
        "As an example, $w_1$=\"happy\" is closer to $w_3$=\"sad\" than to $w_2$=\"cheerful\". Please find a different example that satisfies the above. Once you have found your example, please give a possible explanation for why this counter-intuitive result may have happened.\n",
        "\n",
        "You should use the the `wv_from_bin.distance(w1, w2)` function here in order to compute the cosine distance between two words. Please see the __[GenSim documentation](https://radimrehurek.com/gensim/models/keyedvectors.html#gensim.models.keyedvectors.FastTextKeyedVectors.distance)__ for further assistance."
      ]
    },
    {
      "cell_type": "code",
      "execution_count": 19,
      "metadata": {
        "id": "bwlpPjpHSSuV",
        "colab": {
          "base_uri": "https://localhost:8080/"
        },
        "outputId": "cb02a61b-2f81-4827-fb1b-6e6cd392ce30"
      },
      "outputs": [
        {
          "output_type": "stream",
          "name": "stdout",
          "text": [
            "Synonyms bad, mean have cosine distance: 0.37438130378723145\n",
            "Antonyms bad, good have cosine distance: 0.28903740644454956\n"
          ]
        }
      ],
      "source": [
        "### SOLUTION BEGIN\n",
        "\n",
        "w1 = 'bad'\n",
        "w2 = 'mean'\n",
        "w3 = 'good'\n",
        "w1_w2_dist = wv_from_bin.distance(w1, w2)\n",
        "w1_w3_dist = wv_from_bin.distance(w1, w3)\n",
        "\n",
        "print(\"Synonyms {}, {} have cosine distance: {}\".format(w1, w2, w1_w2_dist))\n",
        "print(\"Antonyms {}, {} have cosine distance: {}\".format(w1, w3, w1_w3_dist))\n",
        "\n",
        "### SOLUTION END"
      ]
    },
    {
      "cell_type": "markdown",
      "metadata": {
        "id": "PeIHjTFMSSuV"
      },
      "source": [
        "### SOLUTION BEGIN\n",
        "this happens because the good and bad are used with eachother more frequently but bad and mean don't come with eachother much. and maybe synonyms have other meaning that are used in different situations.\n",
        "### SOLUTION END"
      ]
    },
    {
      "cell_type": "markdown",
      "metadata": {
        "id": "ZxIDq26zSSuW"
      },
      "source": [
        "### Question 2.4: Analogies with Word Vectors [written] (1.5 points)\n",
        "Word vectors have been shown to *sometimes* exhibit the ability to solve analogies. \n",
        "\n",
        "As an example, for the analogy \"man : grandfather :: woman : x\" (read: man is to grandfather as woman is to x), what is x?\n",
        "\n",
        "In the cell below, we show you how to use word vectors to find x using the `most_similar` function from the __[GenSim documentation](https://radimrehurek.com/gensim/models/keyedvectors.html#gensim.models.keyedvectors.KeyedVectors.most_similar)__. The function finds words that are most similar to the words in the `positive` list and most dissimilar from the words in the `negative` list (while omitting the input words, which are often the most similar; see [this paper](https://www.aclweb.org/anthology/N18-2039.pdf)). The answer to the analogy will have the highest cosine similarity (largest returned numerical value)."
      ]
    },
    {
      "cell_type": "code",
      "execution_count": 20,
      "metadata": {
        "id": "u0pC7H4VSSuY",
        "colab": {
          "base_uri": "https://localhost:8080/"
        },
        "outputId": "2e3ad068-9d2a-4793-f779-ba6b99d4a8bb"
      },
      "outputs": [
        {
          "output_type": "stream",
          "name": "stdout",
          "text": [
            "[('grandmother', 0.7608445286750793),\n",
            " ('granddaughter', 0.7200808525085449),\n",
            " ('daughter', 0.7168302536010742),\n",
            " ('mother', 0.7151536345481873),\n",
            " ('niece', 0.7005682587623596),\n",
            " ('father', 0.6659887433052063),\n",
            " ('aunt', 0.6623408794403076),\n",
            " ('grandson', 0.6618767976760864),\n",
            " ('grandparents', 0.644661009311676),\n",
            " ('wife', 0.6445354223251343)]\n"
          ]
        }
      ],
      "source": [
        "# Run this cell to answer the analogy -- man : grandfather :: woman : x\n",
        "pprint.pprint(wv_from_bin.most_similar(positive=['woman', 'grandfather'], negative=['man']))"
      ]
    },
    {
      "cell_type": "markdown",
      "metadata": {
        "id": "XVv8I9WwSSuZ"
      },
      "source": [
        "Let $m$, $g$, $w$, and $x$ denote the word vectors for `man`, `grandfather`, `woman`, and the answer, respectively. Using **only** vectors $m$, $g$, $w$, and the vector arithmetic operators $+$ and $-$ in your answer, to what expression are we maximizing $x$'s cosine similarity?\n",
        "\n",
        "Hint: Recall that word vectors are simply multi-dimensional vectors that represent a word. It might help to draw out a 2D example using arbitrary locations of each vector. Where would `man` and `woman` lie in the coordinate plane relative to `grandfather` and the answer?"
      ]
    },
    {
      "cell_type": "markdown",
      "metadata": {
        "id": "KlUKBqtHSSuZ"
      },
      "source": [
        "### SOLUTION BEGIN\n",
        "x = g - m + w\n",
        "### SOLUTION END"
      ]
    },
    {
      "cell_type": "markdown",
      "metadata": {
        "id": "2rRgMca9SSua"
      },
      "source": [
        "### Question 2.5: Finding Analogies [code + written]  (1.5 points)\n",
        "a. For the previous example, it's clear that \"grandmother\" completes the analogy. But give an intuitive explanation as to why the `most_similar` function gives us words like \"granddaughter\", \"daughter\", or \"mother?"
      ]
    },
    {
      "cell_type": "markdown",
      "metadata": {
        "id": "WgYQXazQSSua"
      },
      "source": [
        "### SOLUTION BEGIN\n",
        "words like granddaughter and daughter or mother are close to woman and grandfather but is far away from man. the difference of distance makes this happen. \n",
        "### SOLUTION END"
      ]
    },
    {
      "cell_type": "markdown",
      "metadata": {
        "id": "p9aAUXEISSub"
      },
      "source": [
        "b. Find an example of analogy that holds according to these vectors (i.e. the intended word is ranked top). In your solution please state the full analogy in the form x:y :: a:b. If you believe the analogy is complicated, explain why the analogy holds in one or two sentences.\n",
        "\n",
        "**Note**: You may have to try many analogies to find one that works!"
      ]
    },
    {
      "cell_type": "code",
      "source": [
        "### SOLUTION BEGIN\n",
        "x, y, a, b = 'country' , 'france' , 'capital' , 'paris'\n",
        "assert wv_from_bin.most_similar(positive=[a, y], negative=[x])[0][0] == b\n",
        "\n",
        "### SOLUTION END"
      ],
      "metadata": {
        "id": "dhzQJMYYVSjf"
      },
      "execution_count": 21,
      "outputs": []
    },
    {
      "cell_type": "markdown",
      "metadata": {
        "id": "K3QlPqAwSSub"
      },
      "source": [
        "### SOLUTION BEGIN\n",
        "\n",
        "### SOLUTION END"
      ]
    },
    {
      "cell_type": "markdown",
      "metadata": {
        "id": "SwgcEywwSSuc"
      },
      "source": [
        "### Question 2.6: Incorrect Analogy [code + written] (1.5 points)\n",
        "a. Below, we expect to see the intended analogy \"hand : glove :: foot : **sock**\", but we see an unexpected result instead. Give a potential reason as to why this particular analogy turned out the way it did?"
      ]
    },
    {
      "cell_type": "code",
      "execution_count": 22,
      "metadata": {
        "id": "m-ykWoJoSSuc",
        "colab": {
          "base_uri": "https://localhost:8080/"
        },
        "outputId": "295ab0c0-384b-403b-da7c-1a3156033f54"
      },
      "outputs": [
        {
          "output_type": "stream",
          "name": "stdout",
          "text": [
            "[('45,000-square', 0.4922032654285431),\n",
            " ('15,000-square', 0.4649604558944702),\n",
            " ('10,000-square', 0.4544755816459656),\n",
            " ('6,000-square', 0.44975775480270386),\n",
            " ('3,500-square', 0.444133460521698),\n",
            " ('700-square', 0.44257497787475586),\n",
            " ('50,000-square', 0.4356396794319153),\n",
            " ('3,000-square', 0.43486514687538147),\n",
            " ('30,000-square', 0.4330596923828125),\n",
            " ('footed', 0.43236875534057617)]\n",
            "[('feet', 0.7056300044059753), ('knee', 0.5514962077140808), ('walking', 0.544975757598877), ('chest', 0.5391178727149963), ('ankle', 0.5390632152557373), ('shoulder', 0.5333992838859558), ('leg', 0.5296226143836975), ('inside', 0.5282956957817078), ('back', 0.5213498473167419), ('floor', 0.5211457014083862)]\n",
            "[('gloves', 0.6362964510917664), ('ball', 0.5014818906784058), ('gloved', 0.4918959438800812), ('outstretched', 0.4834710657596588), ('bounced', 0.48112738132476807), ('grounder', 0.48069334030151367), ('shortstop', 0.47534310817718506), ('sock', 0.4747196137905121), ('bat', 0.4692434072494507), ('helmet', 0.4692055583000183)]\n",
            "[('hands', 0.7907512784004211), ('put', 0.677097499370575), ('him', 0.6716969609260559), ('right', 0.6634083390235901), ('out', 0.6623409390449524), ('finger', 0.650148868560791), ('instead', 0.6486629247665405), ('them', 0.645683228969574), ('his', 0.6360757350921631), ('back', 0.6344192028045654)]\n"
          ]
        }
      ],
      "source": [
        "pprint.pprint(wv_from_bin.most_similar(positive=['foot', 'glove'], negative=['hand']))\n",
        "print(wv_from_bin.most_similar('foot'))\n",
        "print(wv_from_bin.most_similar('glove'))\n",
        "print(wv_from_bin.most_similar('hand'))"
      ]
    },
    {
      "cell_type": "markdown",
      "metadata": {
        "id": "zn4ruS8MSSud"
      },
      "source": [
        "### SOLUTION BEGIN\n",
        "i think this happened because the cosine distance of glove and hand are big so the answer would be far away from foot so it was unexpected.\n",
        "\n",
        "### SOLUTION END"
      ]
    },
    {
      "cell_type": "markdown",
      "metadata": {
        "id": "D1gHyZt0SSud"
      },
      "source": [
        "b. Find another example of analogy that does *not* hold according to these vectors. In your solution, state the intended analogy in the form x:y :: a:b, and state the **incorrect** value of b according to the word vectors (in the previous example, this would be **'45,000-square'**)."
      ]
    },
    {
      "cell_type": "code",
      "source": [
        "### SOLUTION BEGIN\n",
        "\n",
        "x, y, a, b = 'bird' , 'nest' , 'dog' , 'kennel'\n",
        "pprint.pprint(wv_from_bin.most_similar(positive=[a, y], negative=[x]))\n",
        "\n",
        "### SOLUTION END"
      ],
      "metadata": {
        "id": "D_rlci42XQTw",
        "colab": {
          "base_uri": "https://localhost:8080/"
        },
        "outputId": "098948ff-9f75-45fc-e087-7f32af71f901"
      },
      "execution_count": 23,
      "outputs": [
        {
          "output_type": "stream",
          "name": "stdout",
          "text": [
            "[('nests', 0.49281442165374756),\n",
            " ('dogs', 0.4916255474090576),\n",
            " ('puppy', 0.4800489544868469),\n",
            " ('trap', 0.43586212396621704),\n",
            " ('puppies', 0.4102134704589844),\n",
            " ('pups', 0.40586113929748535),\n",
            " ('egg', 0.4040181338787079),\n",
            " ('litter', 0.39839890599250793),\n",
            " ('pet', 0.3979548215866089),\n",
            " ('wolf', 0.39610785245895386)]\n"
          ]
        }
      ]
    },
    {
      "cell_type": "markdown",
      "metadata": {
        "id": "c4x0EHjeSSue"
      },
      "source": [
        "### SOLUTION BEGIN\n",
        "evening\n",
        "\n",
        "### SOLUTION END"
      ]
    },
    {
      "cell_type": "markdown",
      "metadata": {
        "id": "yvlycXN-SSuf"
      },
      "source": [
        "### Question 2.7: Guided Analysis of Bias in Word Vectors [written] (1 point)\n",
        "\n",
        "It's important to be cognizant of the biases (gender, race, sexual orientation etc.) implicit in our word embeddings. Bias can be dangerous because it can reinforce stereotypes through applications that employ these models.\n",
        "\n",
        "Run the cell below, to examine (a) which terms are most similar to \"woman\" and \"profession\" and most dissimilar to \"man\", and (b) which terms are most similar to \"man\" and \"profession\" and most dissimilar to \"woman\". Point out the difference between the list of female-associated words and the list of male-associated words, and explain how it is reflecting gender bias."
      ]
    },
    {
      "cell_type": "code",
      "execution_count": 24,
      "metadata": {
        "id": "XggWA4MhSSuf",
        "colab": {
          "base_uri": "https://localhost:8080/"
        },
        "outputId": "6afdcff3-06d1-4816-ef2c-961354c5c16e"
      },
      "outputs": [
        {
          "output_type": "stream",
          "name": "stdout",
          "text": [
            "[('reputation', 0.5250176787376404),\n",
            " ('professions', 0.5178037881851196),\n",
            " ('skill', 0.49046966433525085),\n",
            " ('skills', 0.49005505442619324),\n",
            " ('ethic', 0.4897659420967102),\n",
            " ('business', 0.4875852167606354),\n",
            " ('respected', 0.485920250415802),\n",
            " ('practice', 0.482104629278183),\n",
            " ('regarded', 0.4778572618961334),\n",
            " ('life', 0.4760662019252777)]\n",
            "\n",
            "[('professions', 0.5957457423210144),\n",
            " ('practitioner', 0.49884122610092163),\n",
            " ('teaching', 0.48292139172554016),\n",
            " ('nursing', 0.48211804032325745),\n",
            " ('vocation', 0.4788965880870819),\n",
            " ('teacher', 0.47160351276397705),\n",
            " ('practicing', 0.46937814354896545),\n",
            " ('educator', 0.46524327993392944),\n",
            " ('physicians', 0.4628995358943939),\n",
            " ('professionals', 0.4601394236087799)]\n"
          ]
        }
      ],
      "source": [
        "# Run this cell\n",
        "# Here `positive` indicates the list of words to be similar to and `negative` indicates the list of words to be\n",
        "# most dissimilar from.\n",
        "\n",
        "pprint.pprint(wv_from_bin.most_similar(positive=['man', 'profession'], negative=['woman']))\n",
        "print()\n",
        "pprint.pprint(wv_from_bin.most_similar(positive=['woman', 'profession'], negative=['man']))"
      ]
    },
    {
      "cell_type": "markdown",
      "metadata": {
        "id": "x4g6KbsYSSuh"
      },
      "source": [
        "### SOLUTION BEGIN\n",
        "as you can see words shown for woman are not actually the professions. they are mostly charactristics. but for men the words are mostly professions and in reality we know that both men and weman have these professions almost equally but the answers don't show this.\n",
        "### SOLUTION END"
      ]
    },
    {
      "cell_type": "markdown",
      "metadata": {
        "id": "LxJmnS6lSSui"
      },
      "source": [
        "### Question 2.8: Independent Analysis of Bias in Word Vectors [code + written]  (1 point)\n",
        "\n",
        "Use the `most_similar` function to find another pair of analogies that demonstrates some bias is exhibited by the vectors. Please briefly explain the example of bias that you discover."
      ]
    },
    {
      "cell_type": "code",
      "execution_count": 25,
      "metadata": {
        "id": "PZoDheIfSSui",
        "colab": {
          "base_uri": "https://localhost:8080/"
        },
        "outputId": "1c416b20-777a-4956-80d4-6a42145c197c"
      },
      "outputs": [
        {
          "output_type": "stream",
          "name": "stdout",
          "text": [
            "[('suspect', 0.5978654623031616),\n",
            " ('victims', 0.5842349529266357),\n",
            " ('killer', 0.577741801738739),\n",
            " ('death', 0.576870322227478),\n",
            " ('perpetrator', 0.5524289608001709),\n",
            " ('murder', 0.5425854325294495),\n",
            " ('person', 0.542228639125824),\n",
            " ('murderer', 0.5382736921310425),\n",
            " ('dead', 0.5360323786735535),\n",
            " ('another', 0.5351508855819702)]\n",
            "\n",
            "[('victims', 0.6061028838157654),\n",
            " ('pregnant', 0.6009312868118286),\n",
            " ('mother', 0.5952815413475037),\n",
            " ('child', 0.5692954063415527),\n",
            " ('girl', 0.5580951571464539),\n",
            " ('rape', 0.5465755462646484),\n",
            " ('wife', 0.5432165265083313),\n",
            " ('her', 0.5411374568939209),\n",
            " ('daughter', 0.5390662550926208),\n",
            " ('herself', 0.5113606452941895)]\n"
          ]
        }
      ],
      "source": [
        "### SOLUTION BEGIN\n",
        "\n",
        "A = 'man'\n",
        "B = 'woman'\n",
        "word = 'victim'\n",
        "pprint.pprint(wv_from_bin.most_similar(positive=[A, word], negative=[B]))\n",
        "print()\n",
        "pprint.pprint(wv_from_bin.most_similar(positive=[B, word], negative=[A]))\n",
        "\n",
        "### SOLUTION END"
      ]
    },
    {
      "cell_type": "markdown",
      "metadata": {
        "id": "TGOlmtJoSSuj"
      },
      "source": [
        "### SOLUTION BEGIN\n",
        "as you can see words related to man are negative and shows that villins are always man but for weman the words are not negative.\n",
        "### SOLUTION END"
      ]
    },
    {
      "cell_type": "markdown",
      "metadata": {
        "id": "eK2XVWzmSSuk"
      },
      "source": [
        "### Question 2.9: Thinking About Bias [written] (2 points)\n",
        "\n",
        "a. Give one explanation of how bias gets into the word vectors. Briefly describe a real-world example that demonstrates this source of bias."
      ]
    },
    {
      "cell_type": "markdown",
      "metadata": {
        "id": "19pM85fCSSuk"
      },
      "source": [
        "### SOLUTION BEGIN\n",
        "this happens because of the context wich are present in corpus. because it the world some things are used for man more instead of weman. so hence we define the word by it's company, the definition gets closer to the thoughts in the world too. for example it is considered that man are meaner than weman.\n",
        "\n",
        "### SOLUTION END"
      ]
    },
    {
      "cell_type": "markdown",
      "metadata": {
        "id": "ILYqJZ7ASSul"
      },
      "source": [
        "b. What is one method you can use to mitigate bias exhibited by word vectors?  Briefly describe a real-world example that demonstrates this method."
      ]
    },
    {
      "cell_type": "markdown",
      "metadata": {
        "id": "dnJaAB7mSSul"
      },
      "source": [
        "\n",
        "### SOLUTION BEGIN\n",
        "neutralized the gender. we should subtract the gender from vector.\n",
        "for example when it comes to doctors the term has to be equidistant for man and weman.\n",
        "### SOLUTION END"
      ]
    },
    {
      "cell_type": "markdown",
      "metadata": {
        "id": "dzh3eEmZSSum"
      },
      "source": [
        "# <font color=\"blue\"> Submission Instructions</font>\n",
        "\n",
        "1. Click the Save button at the top of the Jupyter Notebook.\n",
        "2. Select Cell -> All Output -> Clear. This will clear all the outputs from all cells (but will keep the content of all cells). \n",
        "2. Select Cell -> Run All. This will run all the cells in order, and will take several minutes.\n",
        "3. Once you've rerun everything, select File -> Download as -> PDF via LaTeX (If you have trouble using \"PDF via LaTex\", you can also save the webpage as pdf. <font color='blue'> Make sure all your solutions especially the coding parts are displayed in the pdf</font>, it's okay if the provided codes get cut off because lines are not wrapped in code cells).\n",
        "4. Look at the PDF file and make sure all your solutions are there, displayed correctly. The PDF is the only thing your graders will see!\n",
        "5. Submit your PDF on Gradescope."
      ]
    }
  ],
  "metadata": {
    "anaconda-cloud": {},
    "kernelspec": {
      "display_name": "Python 3 (ipykernel)",
      "language": "python",
      "name": "python3"
    },
    "language_info": {
      "codemirror_mode": {
        "name": "ipython",
        "version": 3
      },
      "file_extension": ".py",
      "mimetype": "text/x-python",
      "name": "python",
      "nbconvert_exporter": "python",
      "pygments_lexer": "ipython3",
      "version": "3.9.7"
    },
    "colab": {
      "provenance": []
    }
  },
  "nbformat": 4,
  "nbformat_minor": 0
}